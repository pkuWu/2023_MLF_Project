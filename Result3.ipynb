{
 "cells": [
  {
   "cell_type": "code",
   "execution_count": 118,
   "id": "48269907",
   "metadata": {
    "ExecuteTime": {
     "end_time": "2023-04-19T13:02:08.312533Z",
     "start_time": "2023-04-19T13:02:08.301531Z"
    }
   },
   "outputs": [],
   "source": [
    "import numpy as np\n",
    "import pandas as pd\n",
    "import matplotlib.pyplot as plt\n",
    "import seaborn as sns\n",
    "import numpy as np\n",
    "import pandas as pd\n",
    "import matplotlib.pyplot as plt\n",
    "from sklearn.preprocessing import MinMaxScaler\n",
    "import seaborn as sns\n",
    "from sklearn.metrics import accuracy_score, precision_score, recall_score, f1_score, average_precision_score, roc_auc_score\n",
    "from sklearn.model_selection import KFold\n",
    "# from imblearn.over_sampling import RandomOverSampler\n",
    "import lightgbm as lgb\n",
    "import xgboost as xgb\n",
    "from collections import Counter\n",
    "from sklearn.metrics import confusion_matrix\n",
    "import warnings \n",
    "warnings.filterwarnings('ignore')\n",
    "from tqdm import tqdm"
   ]
  },
  {
   "cell_type": "markdown",
   "id": "56233215",
   "metadata": {},
   "source": [
    "**Reference**\n",
    "https://blog.csdn.net/zwqjoy/article/details/109311133"
   ]
  },
  {
   "cell_type": "markdown",
   "id": "606a6fb0",
   "metadata": {},
   "source": [
    "# load data"
   ]
  },
  {
   "cell_type": "code",
   "execution_count": 120,
   "id": "25fb0e78",
   "metadata": {
    "ExecuteTime": {
     "end_time": "2023-04-19T13:02:09.695638Z",
     "start_time": "2023-04-19T13:02:09.683558Z"
    }
   },
   "outputs": [],
   "source": [
    "def load_data():\n",
    "    df_train = pd.read_csv(f'./data/training.csv',index_col='id')\n",
    "    df_test = pd.read_csv(f'./data/test.csv',index_col='id')\n",
    "\n",
    "    return df_train, df_test"
   ]
  },
  {
   "cell_type": "code",
   "execution_count": 121,
   "id": "93619dc5",
   "metadata": {
    "ExecuteTime": {
     "end_time": "2023-04-19T13:02:10.298837Z",
     "start_time": "2023-04-19T13:02:10.114826Z"
    }
   },
   "outputs": [],
   "source": [
    "df_train, df_test = load_data()"
   ]
  },
  {
   "cell_type": "code",
   "execution_count": 122,
   "id": "305db967",
   "metadata": {
    "ExecuteTime": {
     "end_time": "2023-04-19T13:02:10.598147Z",
     "start_time": "2023-04-19T13:02:10.580146Z"
    }
   },
   "outputs": [
    {
     "data": {
      "text/html": [
       "<div>\n",
       "<style scoped>\n",
       "    .dataframe tbody tr th:only-of-type {\n",
       "        vertical-align: middle;\n",
       "    }\n",
       "\n",
       "    .dataframe tbody tr th {\n",
       "        vertical-align: top;\n",
       "    }\n",
       "\n",
       "    .dataframe thead th {\n",
       "        text-align: right;\n",
       "    }\n",
       "</style>\n",
       "<table border=\"1\" class=\"dataframe\">\n",
       "  <thead>\n",
       "    <tr style=\"text-align: right;\">\n",
       "      <th></th>\n",
       "      <th>event</th>\n",
       "      <th>var1</th>\n",
       "      <th>var2</th>\n",
       "      <th>var3</th>\n",
       "      <th>var4</th>\n",
       "      <th>var5</th>\n",
       "      <th>var6</th>\n",
       "      <th>var7</th>\n",
       "      <th>var8</th>\n",
       "      <th>split</th>\n",
       "    </tr>\n",
       "    <tr>\n",
       "      <th>id</th>\n",
       "      <th></th>\n",
       "      <th></th>\n",
       "      <th></th>\n",
       "      <th></th>\n",
       "      <th></th>\n",
       "      <th></th>\n",
       "      <th></th>\n",
       "      <th></th>\n",
       "      <th></th>\n",
       "      <th></th>\n",
       "    </tr>\n",
       "  </thead>\n",
       "  <tbody>\n",
       "    <tr>\n",
       "      <th>0</th>\n",
       "      <td>1</td>\n",
       "      <td>NaN</td>\n",
       "      <td>NaN</td>\n",
       "      <td>NaN</td>\n",
       "      <td>NaN</td>\n",
       "      <td>NaN</td>\n",
       "      <td>NaN</td>\n",
       "      <td>NaN</td>\n",
       "      <td>NaN</td>\n",
       "      <td>dev</td>\n",
       "    </tr>\n",
       "    <tr>\n",
       "      <th>1</th>\n",
       "      <td>1</td>\n",
       "      <td>NaN</td>\n",
       "      <td>NaN</td>\n",
       "      <td>NaN</td>\n",
       "      <td>NaN</td>\n",
       "      <td>NaN</td>\n",
       "      <td>NaN</td>\n",
       "      <td>NaN</td>\n",
       "      <td>NaN</td>\n",
       "      <td>dev</td>\n",
       "    </tr>\n",
       "    <tr>\n",
       "      <th>2</th>\n",
       "      <td>1</td>\n",
       "      <td>NaN</td>\n",
       "      <td>NaN</td>\n",
       "      <td>NaN</td>\n",
       "      <td>NaN</td>\n",
       "      <td>NaN</td>\n",
       "      <td>NaN</td>\n",
       "      <td>NaN</td>\n",
       "      <td>NaN</td>\n",
       "      <td>dev</td>\n",
       "    </tr>\n",
       "    <tr>\n",
       "      <th>3</th>\n",
       "      <td>1</td>\n",
       "      <td>1.0</td>\n",
       "      <td>2.096510e+07</td>\n",
       "      <td>NaN</td>\n",
       "      <td>NaN</td>\n",
       "      <td>NaN</td>\n",
       "      <td>NaN</td>\n",
       "      <td>NaN</td>\n",
       "      <td>62.750000</td>\n",
       "      <td>dev</td>\n",
       "    </tr>\n",
       "    <tr>\n",
       "      <th>4</th>\n",
       "      <td>1</td>\n",
       "      <td>NaN</td>\n",
       "      <td>NaN</td>\n",
       "      <td>NaN</td>\n",
       "      <td>NaN</td>\n",
       "      <td>NaN</td>\n",
       "      <td>NaN</td>\n",
       "      <td>NaN</td>\n",
       "      <td>NaN</td>\n",
       "      <td>dev</td>\n",
       "    </tr>\n",
       "    <tr>\n",
       "      <th>...</th>\n",
       "      <td>...</td>\n",
       "      <td>...</td>\n",
       "      <td>...</td>\n",
       "      <td>...</td>\n",
       "      <td>...</td>\n",
       "      <td>...</td>\n",
       "      <td>...</td>\n",
       "      <td>...</td>\n",
       "      <td>...</td>\n",
       "      <td>...</td>\n",
       "    </tr>\n",
       "    <tr>\n",
       "      <th>238831</th>\n",
       "      <td>1</td>\n",
       "      <td>1.0</td>\n",
       "      <td>6.523118e+04</td>\n",
       "      <td>NaN</td>\n",
       "      <td>NaN</td>\n",
       "      <td>NaN</td>\n",
       "      <td>NaN</td>\n",
       "      <td>NaN</td>\n",
       "      <td>58.916667</td>\n",
       "      <td>dev</td>\n",
       "    </tr>\n",
       "    <tr>\n",
       "      <th>238832</th>\n",
       "      <td>1</td>\n",
       "      <td>1.0</td>\n",
       "      <td>NaN</td>\n",
       "      <td>NaN</td>\n",
       "      <td>NaN</td>\n",
       "      <td>NaN</td>\n",
       "      <td>NaN</td>\n",
       "      <td>NaN</td>\n",
       "      <td>NaN</td>\n",
       "      <td>dev</td>\n",
       "    </tr>\n",
       "    <tr>\n",
       "      <th>238833</th>\n",
       "      <td>1</td>\n",
       "      <td>NaN</td>\n",
       "      <td>NaN</td>\n",
       "      <td>NaN</td>\n",
       "      <td>NaN</td>\n",
       "      <td>NaN</td>\n",
       "      <td>NaN</td>\n",
       "      <td>NaN</td>\n",
       "      <td>NaN</td>\n",
       "      <td>dev</td>\n",
       "    </tr>\n",
       "    <tr>\n",
       "      <th>238834</th>\n",
       "      <td>1</td>\n",
       "      <td>1.0</td>\n",
       "      <td>8.880325e+05</td>\n",
       "      <td>3.213</td>\n",
       "      <td>13.0</td>\n",
       "      <td>NaN</td>\n",
       "      <td>NaN</td>\n",
       "      <td>NaN</td>\n",
       "      <td>63.958333</td>\n",
       "      <td>dev</td>\n",
       "    </tr>\n",
       "    <tr>\n",
       "      <th>238835</th>\n",
       "      <td>1</td>\n",
       "      <td>NaN</td>\n",
       "      <td>NaN</td>\n",
       "      <td>NaN</td>\n",
       "      <td>NaN</td>\n",
       "      <td>NaN</td>\n",
       "      <td>NaN</td>\n",
       "      <td>NaN</td>\n",
       "      <td>NaN</td>\n",
       "      <td>dev</td>\n",
       "    </tr>\n",
       "  </tbody>\n",
       "</table>\n",
       "<p>238836 rows × 10 columns</p>\n",
       "</div>"
      ],
      "text/plain": [
       "        event  var1          var2   var3  var4  var5  var6  var7       var8  \\\n",
       "id                                                                            \n",
       "0           1   NaN           NaN    NaN   NaN   NaN   NaN   NaN        NaN   \n",
       "1           1   NaN           NaN    NaN   NaN   NaN   NaN   NaN        NaN   \n",
       "2           1   NaN           NaN    NaN   NaN   NaN   NaN   NaN        NaN   \n",
       "3           1   1.0  2.096510e+07    NaN   NaN   NaN   NaN   NaN  62.750000   \n",
       "4           1   NaN           NaN    NaN   NaN   NaN   NaN   NaN        NaN   \n",
       "...       ...   ...           ...    ...   ...   ...   ...   ...        ...   \n",
       "238831      1   1.0  6.523118e+04    NaN   NaN   NaN   NaN   NaN  58.916667   \n",
       "238832      1   1.0           NaN    NaN   NaN   NaN   NaN   NaN        NaN   \n",
       "238833      1   NaN           NaN    NaN   NaN   NaN   NaN   NaN        NaN   \n",
       "238834      1   1.0  8.880325e+05  3.213  13.0   NaN   NaN   NaN  63.958333   \n",
       "238835      1   NaN           NaN    NaN   NaN   NaN   NaN   NaN        NaN   \n",
       "\n",
       "       split  \n",
       "id            \n",
       "0        dev  \n",
       "1        dev  \n",
       "2        dev  \n",
       "3        dev  \n",
       "4        dev  \n",
       "...      ...  \n",
       "238831   dev  \n",
       "238832   dev  \n",
       "238833   dev  \n",
       "238834   dev  \n",
       "238835   dev  \n",
       "\n",
       "[238836 rows x 10 columns]"
      ]
     },
     "execution_count": 122,
     "metadata": {},
     "output_type": "execute_result"
    }
   ],
   "source": [
    "df_train"
   ]
  },
  {
   "cell_type": "code",
   "execution_count": 123,
   "id": "29d769a7",
   "metadata": {
    "ExecuteTime": {
     "end_time": "2023-04-19T13:02:11.166333Z",
     "start_time": "2023-04-19T13:02:11.139332Z"
    }
   },
   "outputs": [
    {
     "data": {
      "text/html": [
       "<div>\n",
       "<style scoped>\n",
       "    .dataframe tbody tr th:only-of-type {\n",
       "        vertical-align: middle;\n",
       "    }\n",
       "\n",
       "    .dataframe tbody tr th {\n",
       "        vertical-align: top;\n",
       "    }\n",
       "\n",
       "    .dataframe thead th {\n",
       "        text-align: right;\n",
       "    }\n",
       "</style>\n",
       "<table border=\"1\" class=\"dataframe\">\n",
       "  <thead>\n",
       "    <tr style=\"text-align: right;\">\n",
       "      <th></th>\n",
       "      <th>event</th>\n",
       "      <th>var1</th>\n",
       "      <th>var2</th>\n",
       "      <th>var3</th>\n",
       "      <th>var4</th>\n",
       "      <th>var5</th>\n",
       "      <th>var6</th>\n",
       "      <th>var7</th>\n",
       "      <th>var8</th>\n",
       "      <th>split</th>\n",
       "    </tr>\n",
       "    <tr>\n",
       "      <th>id</th>\n",
       "      <th></th>\n",
       "      <th></th>\n",
       "      <th></th>\n",
       "      <th></th>\n",
       "      <th></th>\n",
       "      <th></th>\n",
       "      <th></th>\n",
       "      <th></th>\n",
       "      <th></th>\n",
       "      <th></th>\n",
       "    </tr>\n",
       "  </thead>\n",
       "  <tbody>\n",
       "    <tr>\n",
       "      <th>0</th>\n",
       "      <td>1</td>\n",
       "      <td>1.0</td>\n",
       "      <td>9.248254e+07</td>\n",
       "      <td>0.908051</td>\n",
       "      <td>13.0</td>\n",
       "      <td>0.133592</td>\n",
       "      <td>0.027241</td>\n",
       "      <td>NaN</td>\n",
       "      <td>73.041667</td>\n",
       "      <td>test</td>\n",
       "    </tr>\n",
       "    <tr>\n",
       "      <th>1</th>\n",
       "      <td>1</td>\n",
       "      <td>NaN</td>\n",
       "      <td>NaN</td>\n",
       "      <td>NaN</td>\n",
       "      <td>4.0</td>\n",
       "      <td>NaN</td>\n",
       "      <td>NaN</td>\n",
       "      <td>NaN</td>\n",
       "      <td>NaN</td>\n",
       "      <td>test</td>\n",
       "    </tr>\n",
       "    <tr>\n",
       "      <th>2</th>\n",
       "      <td>1</td>\n",
       "      <td>1.0</td>\n",
       "      <td>6.718715e+06</td>\n",
       "      <td>7.035461</td>\n",
       "      <td>13.0</td>\n",
       "      <td>41.878073</td>\n",
       "      <td>-7.422937</td>\n",
       "      <td>NaN</td>\n",
       "      <td>76.250000</td>\n",
       "      <td>test</td>\n",
       "    </tr>\n",
       "    <tr>\n",
       "      <th>3</th>\n",
       "      <td>1</td>\n",
       "      <td>1.0</td>\n",
       "      <td>3.576348e+06</td>\n",
       "      <td>0.483255</td>\n",
       "      <td>13.0</td>\n",
       "      <td>60.801780</td>\n",
       "      <td>NaN</td>\n",
       "      <td>NaN</td>\n",
       "      <td>80.083333</td>\n",
       "      <td>test</td>\n",
       "    </tr>\n",
       "    <tr>\n",
       "      <th>4</th>\n",
       "      <td>1</td>\n",
       "      <td>1.0</td>\n",
       "      <td>8.443072e+06</td>\n",
       "      <td>NaN</td>\n",
       "      <td>NaN</td>\n",
       "      <td>0.525225</td>\n",
       "      <td>NaN</td>\n",
       "      <td>NaN</td>\n",
       "      <td>87.625000</td>\n",
       "      <td>test</td>\n",
       "    </tr>\n",
       "    <tr>\n",
       "      <th>...</th>\n",
       "      <td>...</td>\n",
       "      <td>...</td>\n",
       "      <td>...</td>\n",
       "      <td>...</td>\n",
       "      <td>...</td>\n",
       "      <td>...</td>\n",
       "      <td>...</td>\n",
       "      <td>...</td>\n",
       "      <td>...</td>\n",
       "      <td>...</td>\n",
       "    </tr>\n",
       "    <tr>\n",
       "      <th>59704</th>\n",
       "      <td>1</td>\n",
       "      <td>1.0</td>\n",
       "      <td>1.060430e+06</td>\n",
       "      <td>NaN</td>\n",
       "      <td>NaN</td>\n",
       "      <td>NaN</td>\n",
       "      <td>NaN</td>\n",
       "      <td>NaN</td>\n",
       "      <td>NaN</td>\n",
       "      <td>test</td>\n",
       "    </tr>\n",
       "    <tr>\n",
       "      <th>59705</th>\n",
       "      <td>1</td>\n",
       "      <td>NaN</td>\n",
       "      <td>NaN</td>\n",
       "      <td>NaN</td>\n",
       "      <td>NaN</td>\n",
       "      <td>NaN</td>\n",
       "      <td>NaN</td>\n",
       "      <td>NaN</td>\n",
       "      <td>NaN</td>\n",
       "      <td>test</td>\n",
       "    </tr>\n",
       "    <tr>\n",
       "      <th>59706</th>\n",
       "      <td>1</td>\n",
       "      <td>1.0</td>\n",
       "      <td>1.593264e+07</td>\n",
       "      <td>NaN</td>\n",
       "      <td>NaN</td>\n",
       "      <td>NaN</td>\n",
       "      <td>NaN</td>\n",
       "      <td>NaN</td>\n",
       "      <td>NaN</td>\n",
       "      <td>test</td>\n",
       "    </tr>\n",
       "    <tr>\n",
       "      <th>59707</th>\n",
       "      <td>1</td>\n",
       "      <td>NaN</td>\n",
       "      <td>NaN</td>\n",
       "      <td>NaN</td>\n",
       "      <td>NaN</td>\n",
       "      <td>NaN</td>\n",
       "      <td>NaN</td>\n",
       "      <td>NaN</td>\n",
       "      <td>NaN</td>\n",
       "      <td>test</td>\n",
       "    </tr>\n",
       "    <tr>\n",
       "      <th>59708</th>\n",
       "      <td>1</td>\n",
       "      <td>1.0</td>\n",
       "      <td>9.928336e+05</td>\n",
       "      <td>NaN</td>\n",
       "      <td>NaN</td>\n",
       "      <td>NaN</td>\n",
       "      <td>NaN</td>\n",
       "      <td>NaN</td>\n",
       "      <td>NaN</td>\n",
       "      <td>test</td>\n",
       "    </tr>\n",
       "  </tbody>\n",
       "</table>\n",
       "<p>59709 rows × 10 columns</p>\n",
       "</div>"
      ],
      "text/plain": [
       "       event  var1          var2      var3  var4       var5      var6  var7  \\\n",
       "id                                                                            \n",
       "0          1   1.0  9.248254e+07  0.908051  13.0   0.133592  0.027241   NaN   \n",
       "1          1   NaN           NaN       NaN   4.0        NaN       NaN   NaN   \n",
       "2          1   1.0  6.718715e+06  7.035461  13.0  41.878073 -7.422937   NaN   \n",
       "3          1   1.0  3.576348e+06  0.483255  13.0  60.801780       NaN   NaN   \n",
       "4          1   1.0  8.443072e+06       NaN   NaN   0.525225       NaN   NaN   \n",
       "...      ...   ...           ...       ...   ...        ...       ...   ...   \n",
       "59704      1   1.0  1.060430e+06       NaN   NaN        NaN       NaN   NaN   \n",
       "59705      1   NaN           NaN       NaN   NaN        NaN       NaN   NaN   \n",
       "59706      1   1.0  1.593264e+07       NaN   NaN        NaN       NaN   NaN   \n",
       "59707      1   NaN           NaN       NaN   NaN        NaN       NaN   NaN   \n",
       "59708      1   1.0  9.928336e+05       NaN   NaN        NaN       NaN   NaN   \n",
       "\n",
       "            var8 split  \n",
       "id                      \n",
       "0      73.041667  test  \n",
       "1            NaN  test  \n",
       "2      76.250000  test  \n",
       "3      80.083333  test  \n",
       "4      87.625000  test  \n",
       "...          ...   ...  \n",
       "59704        NaN  test  \n",
       "59705        NaN  test  \n",
       "59706        NaN  test  \n",
       "59707        NaN  test  \n",
       "59708        NaN  test  \n",
       "\n",
       "[59709 rows x 10 columns]"
      ]
     },
     "execution_count": 123,
     "metadata": {},
     "output_type": "execute_result"
    }
   ],
   "source": [
    "df_test"
   ]
  },
  {
   "cell_type": "code",
   "execution_count": 124,
   "id": "9b92fb96",
   "metadata": {
    "ExecuteTime": {
     "end_time": "2023-04-19T13:02:11.562928Z",
     "start_time": "2023-04-19T13:02:11.548926Z"
    }
   },
   "outputs": [
    {
     "data": {
      "text/plain": [
       "(1493, 10)"
      ]
     },
     "execution_count": 124,
     "metadata": {},
     "output_type": "execute_result"
    }
   ],
   "source": [
    "df_test[df_test['event']==0].shape"
   ]
  },
  {
   "cell_type": "code",
   "execution_count": 125,
   "id": "b4407c65",
   "metadata": {
    "ExecuteTime": {
     "end_time": "2023-04-19T13:02:11.720927Z",
     "start_time": "2023-04-19T13:02:11.711927Z"
    }
   },
   "outputs": [
    {
     "data": {
      "text/plain": [
       "(58216, 10)"
      ]
     },
     "execution_count": 125,
     "metadata": {},
     "output_type": "execute_result"
    }
   ],
   "source": [
    "df_test[df_test['event']==1].shape"
   ]
  },
  {
   "cell_type": "markdown",
   "id": "a66aca34",
   "metadata": {},
   "source": [
    "# EDA"
   ]
  },
  {
   "cell_type": "markdown",
   "id": "614d1d25",
   "metadata": {},
   "source": [
    "## Feature and label distribution"
   ]
  },
  {
   "cell_type": "code",
   "execution_count": 66,
   "id": "72caf2f3",
   "metadata": {
    "ExecuteTime": {
     "end_time": "2023-04-19T12:35:41.021869Z",
     "start_time": "2023-04-19T12:35:40.937783Z"
    }
   },
   "outputs": [
    {
     "data": {
      "text/html": [
       "<div>\n",
       "<style scoped>\n",
       "    .dataframe tbody tr th:only-of-type {\n",
       "        vertical-align: middle;\n",
       "    }\n",
       "\n",
       "    .dataframe tbody tr th {\n",
       "        vertical-align: top;\n",
       "    }\n",
       "\n",
       "    .dataframe thead th {\n",
       "        text-align: right;\n",
       "    }\n",
       "</style>\n",
       "<table border=\"1\" class=\"dataframe\">\n",
       "  <thead>\n",
       "    <tr style=\"text-align: right;\">\n",
       "      <th></th>\n",
       "      <th>event</th>\n",
       "      <th>var1</th>\n",
       "      <th>var2</th>\n",
       "      <th>var3</th>\n",
       "      <th>var4</th>\n",
       "      <th>var5</th>\n",
       "      <th>var6</th>\n",
       "      <th>var7</th>\n",
       "      <th>var8</th>\n",
       "    </tr>\n",
       "  </thead>\n",
       "  <tbody>\n",
       "    <tr>\n",
       "      <th>count</th>\n",
       "      <td>238836.000000</td>\n",
       "      <td>133036.000000</td>\n",
       "      <td>1.170360e+05</td>\n",
       "      <td>46637.000000</td>\n",
       "      <td>78187.000000</td>\n",
       "      <td>8287.000000</td>\n",
       "      <td>5939.000000</td>\n",
       "      <td>27542.000000</td>\n",
       "      <td>101147.000000</td>\n",
       "    </tr>\n",
       "    <tr>\n",
       "      <th>mean</th>\n",
       "      <td>0.974744</td>\n",
       "      <td>1.873951</td>\n",
       "      <td>5.989773e+06</td>\n",
       "      <td>16.772031</td>\n",
       "      <td>11.586977</td>\n",
       "      <td>289.199746</td>\n",
       "      <td>28.430493</td>\n",
       "      <td>20.646794</td>\n",
       "      <td>58.497153</td>\n",
       "    </tr>\n",
       "    <tr>\n",
       "      <th>std</th>\n",
       "      <td>0.156901</td>\n",
       "      <td>3.750522</td>\n",
       "      <td>3.444271e+07</td>\n",
       "      <td>125.433035</td>\n",
       "      <td>3.459597</td>\n",
       "      <td>5099.352261</td>\n",
       "      <td>2133.407579</td>\n",
       "      <td>6.460506</td>\n",
       "      <td>11.731754</td>\n",
       "    </tr>\n",
       "    <tr>\n",
       "      <th>min</th>\n",
       "      <td>0.000000</td>\n",
       "      <td>1.000000</td>\n",
       "      <td>0.000000e+00</td>\n",
       "      <td>0.000000</td>\n",
       "      <td>1.000000</td>\n",
       "      <td>0.000000</td>\n",
       "      <td>-3127.163978</td>\n",
       "      <td>2.000000</td>\n",
       "      <td>24.416667</td>\n",
       "    </tr>\n",
       "    <tr>\n",
       "      <th>25%</th>\n",
       "      <td>1.000000</td>\n",
       "      <td>1.000000</td>\n",
       "      <td>1.102558e+05</td>\n",
       "      <td>0.397341</td>\n",
       "      <td>13.000000</td>\n",
       "      <td>2.341317</td>\n",
       "      <td>0.012441</td>\n",
       "      <td>22.000000</td>\n",
       "      <td>49.833333</td>\n",
       "    </tr>\n",
       "    <tr>\n",
       "      <th>50%</th>\n",
       "      <td>1.000000</td>\n",
       "      <td>1.000000</td>\n",
       "      <td>8.042291e+05</td>\n",
       "      <td>1.509004</td>\n",
       "      <td>13.000000</td>\n",
       "      <td>8.105200</td>\n",
       "      <td>0.296218</td>\n",
       "      <td>24.000000</td>\n",
       "      <td>58.666667</td>\n",
       "    </tr>\n",
       "    <tr>\n",
       "      <th>75%</th>\n",
       "      <td>1.000000</td>\n",
       "      <td>1.000000</td>\n",
       "      <td>3.247496e+06</td>\n",
       "      <td>6.628049</td>\n",
       "      <td>13.000000</td>\n",
       "      <td>45.835062</td>\n",
       "      <td>1.378717</td>\n",
       "      <td>24.000000</td>\n",
       "      <td>66.666667</td>\n",
       "    </tr>\n",
       "    <tr>\n",
       "      <th>max</th>\n",
       "      <td>1.000000</td>\n",
       "      <td>121.000000</td>\n",
       "      <td>2.817428e+09</td>\n",
       "      <td>10175.481564</td>\n",
       "      <td>13.000000</td>\n",
       "      <td>334283.557143</td>\n",
       "      <td>164300.400000</td>\n",
       "      <td>24.000000</td>\n",
       "      <td>118.666667</td>\n",
       "    </tr>\n",
       "  </tbody>\n",
       "</table>\n",
       "</div>"
      ],
      "text/plain": [
       "               event           var1          var2          var3          var4  \\\n",
       "count  238836.000000  133036.000000  1.170360e+05  46637.000000  78187.000000   \n",
       "mean        0.974744       1.873951  5.989773e+06     16.772031     11.586977   \n",
       "std         0.156901       3.750522  3.444271e+07    125.433035      3.459597   \n",
       "min         0.000000       1.000000  0.000000e+00      0.000000      1.000000   \n",
       "25%         1.000000       1.000000  1.102558e+05      0.397341     13.000000   \n",
       "50%         1.000000       1.000000  8.042291e+05      1.509004     13.000000   \n",
       "75%         1.000000       1.000000  3.247496e+06      6.628049     13.000000   \n",
       "max         1.000000     121.000000  2.817428e+09  10175.481564     13.000000   \n",
       "\n",
       "                var5           var6          var7           var8  \n",
       "count    8287.000000    5939.000000  27542.000000  101147.000000  \n",
       "mean      289.199746      28.430493     20.646794      58.497153  \n",
       "std      5099.352261    2133.407579      6.460506      11.731754  \n",
       "min         0.000000   -3127.163978      2.000000      24.416667  \n",
       "25%         2.341317       0.012441     22.000000      49.833333  \n",
       "50%         8.105200       0.296218     24.000000      58.666667  \n",
       "75%        45.835062       1.378717     24.000000      66.666667  \n",
       "max    334283.557143  164300.400000     24.000000     118.666667  "
      ]
     },
     "execution_count": 66,
     "metadata": {},
     "output_type": "execute_result"
    }
   ],
   "source": [
    "df_train.describe()"
   ]
  },
  {
   "cell_type": "code",
   "execution_count": 67,
   "id": "be9a54c2",
   "metadata": {
    "ExecuteTime": {
     "end_time": "2023-04-19T12:35:42.008704Z",
     "start_time": "2023-04-19T12:35:41.973618Z"
    }
   },
   "outputs": [
    {
     "data": {
      "text/html": [
       "<div>\n",
       "<style scoped>\n",
       "    .dataframe tbody tr th:only-of-type {\n",
       "        vertical-align: middle;\n",
       "    }\n",
       "\n",
       "    .dataframe tbody tr th {\n",
       "        vertical-align: top;\n",
       "    }\n",
       "\n",
       "    .dataframe thead th {\n",
       "        text-align: right;\n",
       "    }\n",
       "</style>\n",
       "<table border=\"1\" class=\"dataframe\">\n",
       "  <thead>\n",
       "    <tr style=\"text-align: right;\">\n",
       "      <th></th>\n",
       "      <th>event</th>\n",
       "      <th>var1</th>\n",
       "      <th>var2</th>\n",
       "      <th>var3</th>\n",
       "      <th>var4</th>\n",
       "      <th>var5</th>\n",
       "      <th>var6</th>\n",
       "      <th>var7</th>\n",
       "      <th>var8</th>\n",
       "    </tr>\n",
       "  </thead>\n",
       "  <tbody>\n",
       "    <tr>\n",
       "      <th>count</th>\n",
       "      <td>59709.000000</td>\n",
       "      <td>33419.000000</td>\n",
       "      <td>2.939900e+04</td>\n",
       "      <td>11531.000000</td>\n",
       "      <td>19358.000000</td>\n",
       "      <td>2105.000000</td>\n",
       "      <td>1522.000000</td>\n",
       "      <td>6823.000000</td>\n",
       "      <td>25251.000000</td>\n",
       "    </tr>\n",
       "    <tr>\n",
       "      <th>mean</th>\n",
       "      <td>0.974995</td>\n",
       "      <td>1.879949</td>\n",
       "      <td>6.126271e+06</td>\n",
       "      <td>16.838853</td>\n",
       "      <td>11.602955</td>\n",
       "      <td>301.994295</td>\n",
       "      <td>16.551022</td>\n",
       "      <td>20.713762</td>\n",
       "      <td>58.518438</td>\n",
       "    </tr>\n",
       "    <tr>\n",
       "      <th>std</th>\n",
       "      <td>0.156140</td>\n",
       "      <td>3.787302</td>\n",
       "      <td>3.219775e+07</td>\n",
       "      <td>117.764273</td>\n",
       "      <td>3.445142</td>\n",
       "      <td>3461.241920</td>\n",
       "      <td>506.565248</td>\n",
       "      <td>6.391736</td>\n",
       "      <td>11.788874</td>\n",
       "    </tr>\n",
       "    <tr>\n",
       "      <th>min</th>\n",
       "      <td>0.000000</td>\n",
       "      <td>1.000000</td>\n",
       "      <td>0.000000e+00</td>\n",
       "      <td>0.000000</td>\n",
       "      <td>1.000000</td>\n",
       "      <td>0.000000</td>\n",
       "      <td>-391.786290</td>\n",
       "      <td>2.000000</td>\n",
       "      <td>24.500000</td>\n",
       "    </tr>\n",
       "    <tr>\n",
       "      <th>25%</th>\n",
       "      <td>1.000000</td>\n",
       "      <td>1.000000</td>\n",
       "      <td>1.098130e+05</td>\n",
       "      <td>0.392199</td>\n",
       "      <td>13.000000</td>\n",
       "      <td>2.195123</td>\n",
       "      <td>0.001879</td>\n",
       "      <td>22.000000</td>\n",
       "      <td>49.916667</td>\n",
       "    </tr>\n",
       "    <tr>\n",
       "      <th>50%</th>\n",
       "      <td>1.000000</td>\n",
       "      <td>1.000000</td>\n",
       "      <td>8.263664e+05</td>\n",
       "      <td>1.470276</td>\n",
       "      <td>13.000000</td>\n",
       "      <td>7.976950</td>\n",
       "      <td>0.205745</td>\n",
       "      <td>24.000000</td>\n",
       "      <td>58.750000</td>\n",
       "    </tr>\n",
       "    <tr>\n",
       "      <th>75%</th>\n",
       "      <td>1.000000</td>\n",
       "      <td>1.000000</td>\n",
       "      <td>3.384614e+06</td>\n",
       "      <td>6.404448</td>\n",
       "      <td>13.000000</td>\n",
       "      <td>50.664706</td>\n",
       "      <td>1.211077</td>\n",
       "      <td>24.000000</td>\n",
       "      <td>66.666667</td>\n",
       "    </tr>\n",
       "    <tr>\n",
       "      <th>max</th>\n",
       "      <td>1.000000</td>\n",
       "      <td>111.000000</td>\n",
       "      <td>1.590072e+09</td>\n",
       "      <td>8615.982450</td>\n",
       "      <td>13.000000</td>\n",
       "      <td>116654.450000</td>\n",
       "      <td>19484.277852</td>\n",
       "      <td>24.000000</td>\n",
       "      <td>107.416667</td>\n",
       "    </tr>\n",
       "  </tbody>\n",
       "</table>\n",
       "</div>"
      ],
      "text/plain": [
       "              event          var1          var2          var3          var4  \\\n",
       "count  59709.000000  33419.000000  2.939900e+04  11531.000000  19358.000000   \n",
       "mean       0.974995      1.879949  6.126271e+06     16.838853     11.602955   \n",
       "std        0.156140      3.787302  3.219775e+07    117.764273      3.445142   \n",
       "min        0.000000      1.000000  0.000000e+00      0.000000      1.000000   \n",
       "25%        1.000000      1.000000  1.098130e+05      0.392199     13.000000   \n",
       "50%        1.000000      1.000000  8.263664e+05      1.470276     13.000000   \n",
       "75%        1.000000      1.000000  3.384614e+06      6.404448     13.000000   \n",
       "max        1.000000    111.000000  1.590072e+09   8615.982450     13.000000   \n",
       "\n",
       "                var5          var6         var7          var8  \n",
       "count    2105.000000   1522.000000  6823.000000  25251.000000  \n",
       "mean      301.994295     16.551022    20.713762     58.518438  \n",
       "std      3461.241920    506.565248     6.391736     11.788874  \n",
       "min         0.000000   -391.786290     2.000000     24.500000  \n",
       "25%         2.195123      0.001879    22.000000     49.916667  \n",
       "50%         7.976950      0.205745    24.000000     58.750000  \n",
       "75%        50.664706      1.211077    24.000000     66.666667  \n",
       "max    116654.450000  19484.277852    24.000000    107.416667  "
      ]
     },
     "execution_count": 67,
     "metadata": {},
     "output_type": "execute_result"
    }
   ],
   "source": [
    "df_test.describe()"
   ]
  },
  {
   "cell_type": "markdown",
   "id": "d9324928",
   "metadata": {},
   "source": [
    "### label distribution"
   ]
  },
  {
   "cell_type": "code",
   "execution_count": 68,
   "id": "15e55111",
   "metadata": {
    "ExecuteTime": {
     "end_time": "2023-04-19T12:35:43.474505Z",
     "start_time": "2023-04-19T12:35:43.457505Z"
    }
   },
   "outputs": [],
   "source": [
    "def label_disb(df_train,df_test):\n",
    "    \"\"\"\n",
    "    df: df_train & df_test\n",
    "    \"\"\"\n",
    "    fig, ax = plt.subplots(1,2, figsize=(15,8))\n",
    "    train_tmp = df_train['event'].value_counts().div(len(df_train)).mul(100)\n",
    "    test_tmp = df_test['event'].value_counts().div(len(df_test)).mul(100)\n",
    "    sns.barplot(x=train_tmp.index, y=train_tmp.values, ax=ax[0])\n",
    "    sns.barplot(x=test_tmp.index, y=test_tmp.values, ax=ax[1])\n",
    "    \n",
    "#     ax = sns.barplot(x=tmp.index, y=tmp.values)\n",
    "    ax[0].bar_label(ax[0].containers[0], fmt='%.f%%')\n",
    "    ax[1].bar_label(ax[1].containers[0], fmt='%.f%%')\n",
    "    ax[0].set_title(f\"train Distribution of a target variable\")\n",
    "    ax[1].set_title(f\"test Distribution of a target variable\")\n",
    "    ax[0].set_ylabel(\"Percentage [%]\")\n",
    "    plt.show()"
   ]
  },
  {
   "cell_type": "code",
   "execution_count": 69,
   "id": "b6a6d1ad",
   "metadata": {
    "ExecuteTime": {
     "end_time": "2023-04-19T12:35:44.713191Z",
     "start_time": "2023-04-19T12:35:44.577037Z"
    }
   },
   "outputs": [
    {
     "data": {
      "image/png": "[encoded data removed]",
      "text/plain": [
       "<Figure size 1080x576 with 2 Axes>"
      ]
     },
     "metadata": {},
     "output_type": "display_data"
    }
   ],
   "source": [
    "label_disb(df_train,df_test)"
   ]
  },
  {
   "cell_type": "markdown",
   "id": "01b7a4e6",
   "metadata": {},
   "source": [
    "### feature distribution"
   ]
  },
  {
   "cell_type": "code",
   "execution_count": 70,
   "id": "3e367f0d",
   "metadata": {
    "ExecuteTime": {
     "end_time": "2023-04-19T12:35:46.800790Z",
     "start_time": "2023-04-19T12:35:46.794789Z"
    }
   },
   "outputs": [],
   "source": [
    "def plot_disb(df_train,df_test):\n",
    "    fig, ax = plt.subplots(nrows=8,ncols=2,figsize=(15,60))\n",
    "    for i in range(1,9):\n",
    "        col = df_train.columns[i]\n",
    "        sns.kdeplot(df_train[col],ax=ax[i-1][0])\n",
    "#         ax[i-1][0].hist(df_train[col])\n",
    "        ax[i-1][0].set_title(f'{col} train distribution',fontsize=16)\n",
    "        sns.kdeplot(df_test[col],ax=ax[i-1][1])\n",
    "        ax[i-1][1].set_title(f'{col} test distribution',fontsize=16)\n",
    "    plt.show()"
   ]
  },
  {
   "cell_type": "code",
   "execution_count": 71,
   "id": "e6183da0",
   "metadata": {
    "ExecuteTime": {
     "end_time": "2023-04-19T12:35:52.328254Z",
     "start_time": "2023-04-19T12:35:47.464005Z"
    },
    "scrolled": false
   },
   "outputs": [
    {
     "data": {
      "image/png": "[encoded data removed]",
      "text/plain": [
       "<Figure size 1080x4320 with 16 Axes>"
      ]
     },
     "metadata": {},
     "output_type": "display_data"
    }
   ],
   "source": [
    "plot_disb(df_train,df_test)"
   ]
  },
  {
   "cell_type": "markdown",
   "id": "13406b8f",
   "metadata": {},
   "source": [
    "We can see that the train data distribution is similar to the test data"
   ]
  },
  {
   "cell_type": "markdown",
   "id": "12d4b349",
   "metadata": {},
   "source": [
    "## Missing Data"
   ]
  },
  {
   "cell_type": "code",
   "execution_count": 72,
   "id": "00838b1c",
   "metadata": {
    "ExecuteTime": {
     "end_time": "2023-04-19T12:36:03.179883Z",
     "start_time": "2023-04-19T12:36:03.151882Z"
    }
   },
   "outputs": [],
   "source": [
    "train_tmp = df_train.isna().sum().div(len(df_train)).mul(100).sort_values(ascending=False)\n",
    "test_tmp = df_test.isna().sum().div(len(df_test)).mul(100).sort_values(ascending=False)"
   ]
  },
  {
   "cell_type": "code",
   "execution_count": 73,
   "id": "a1b87548",
   "metadata": {
    "ExecuteTime": {
     "end_time": "2023-04-19T12:36:03.894482Z",
     "start_time": "2023-04-19T12:36:03.879483Z"
    }
   },
   "outputs": [],
   "source": [
    "def Missing_count(train_tmp,test_tmp):\n",
    "    plt.style.use('Solarize_Light2')\n",
    "    fig, ax = plt.subplots(2,1, figsize=(15,12))\n",
    "    sns.barplot(x=train_tmp.index, y=train_tmp.values, ax=ax[0])\n",
    "    sns.barplot(x=test_tmp.index, y=test_tmp.values, ax=ax[1])\n",
    "    ax[0].set_ylabel(\"Percentage [%]\",fontsize=20), ax[1].set_ylabel(\"Percentage [%]\",fontsize=20)\n",
    "    ax[0].tick_params(axis='x',labelsize=20); ax[1].tick_params(axis='x',labelsize=20)\n",
    "    ax[0].tick_params(axis='y',labelsize=20); ax[1].tick_params(axis='y',labelsize=20)\n",
    "    plt.suptitle(\"Amount of missing data\",fontsize=20)\n",
    "    plt.tight_layout()\n",
    "    plt.show()"
   ]
  },
  {
   "cell_type": "code",
   "execution_count": 74,
   "id": "7d0894de",
   "metadata": {
    "ExecuteTime": {
     "end_time": "2023-04-19T12:36:04.960057Z",
     "start_time": "2023-04-19T12:36:04.763059Z"
    }
   },
   "outputs": [
    {
     "data": {
      "image/png": "[encoded data removed]",
      "text/plain": [
       "<Figure size 1080x864 with 2 Axes>"
      ]
     },
     "metadata": {},
     "output_type": "display_data"
    }
   ],
   "source": [
    "Missing_count(train_tmp,test_tmp)"
   ]
  },
  {
   "cell_type": "markdown",
   "id": "dbcddb1e",
   "metadata": {},
   "source": [
    "## Correlation"
   ]
  },
  {
   "cell_type": "code",
   "execution_count": 75,
   "id": "30cacf75",
   "metadata": {
    "ExecuteTime": {
     "end_time": "2023-04-19T12:36:08.620316Z",
     "start_time": "2023-04-19T12:36:08.608315Z"
    }
   },
   "outputs": [],
   "source": [
    "features = [f'var{i}' for i in range(1,9)]"
   ]
  },
  {
   "cell_type": "code",
   "execution_count": 76,
   "id": "d20868e7",
   "metadata": {
    "ExecuteTime": {
     "end_time": "2023-04-19T12:36:09.125757Z",
     "start_time": "2023-04-19T12:36:09.112758Z"
    }
   },
   "outputs": [],
   "source": [
    "def plot_corr(df_train,df_test):\n",
    "    train_corr = df_train.corr()\n",
    "    test_corr = df_test.corr()\n",
    "    mask_train=np.triu(np.ones_like(train_corr))\n",
    "    mask_test=np.triu(np.ones_like(test_corr))\n",
    "\n",
    "    fig, ax = plt.subplots(1,2, figsize=(16,7))\n",
    "    sns.heatmap(train_corr, ax=ax[0], mask=mask_train ,vmin=-1, vmax=1, center=0, annot=True, fmt='.2f', \n",
    "            cmap='coolwarm', annot_kws={'fontsize':10,'fontweight':'bold'}, cbar=False)\n",
    "    sns.heatmap(test_corr, ax=ax[1], mask=mask_test,vmin=-1, vmax=1, center=0, annot=True, fmt='.2f', \n",
    "            cmap='coolwarm', annot_kws={'fontsize':10,'fontweight':'bold'}, cbar=False)\n",
    "    ax[0].set_title(\"Correlation of train features\")\n",
    "    ax[1].set_title(\"Correlation of test features\")\n",
    "    plt.show()"
   ]
  },
  {
   "cell_type": "code",
   "execution_count": 77,
   "id": "6587d574",
   "metadata": {
    "ExecuteTime": {
     "end_time": "2023-04-19T12:36:10.254013Z",
     "start_time": "2023-04-19T12:36:09.841013Z"
    }
   },
   "outputs": [
    {
     "data": {
      "image/png": "[encoded data removed]",
      "text/plain": [
       "<Figure size 1152x504 with 2 Axes>"
      ]
     },
     "metadata": {},
     "output_type": "display_data"
    }
   ],
   "source": [
    "plot_corr(df_train,df_test)"
   ]
  },
  {
   "cell_type": "markdown",
   "id": "35cdb453",
   "metadata": {},
   "source": [
    "# Model Training"
   ]
  },
  {
   "cell_type": "markdown",
   "id": "291396b5",
   "metadata": {},
   "source": [
    "We use xgboost and lightgbm which has several advantages\n",
    "* It can deal with NANs\n",
    "* No need standardization\n",
    "* Deal with imbalanced sample"
   ]
  },
  {
   "cell_type": "code",
   "execution_count": 78,
   "id": "715d0657",
   "metadata": {
    "ExecuteTime": {
     "end_time": "2023-04-19T12:36:12.479813Z",
     "start_time": "2023-04-19T12:36:12.459219Z"
    }
   },
   "outputs": [],
   "source": [
    "features =[ 'var1', 'var2', 'var3', 'var4', 'var5', 'var6', 'var7', 'var8']\n",
    "label = 'event'\n",
    "train_val_x, train_val_y = df_train[features].values, df_train[label].values\n",
    "test_x, test_y = df_test[features].values, df_test[label].values"
   ]
  },
  {
   "cell_type": "code",
   "execution_count": 143,
   "id": "dcef218c",
   "metadata": {
    "ExecuteTime": {
     "end_time": "2023-04-19T13:08:24.325339Z",
     "start_time": "2023-04-19T13:08:24.318191Z"
    }
   },
   "outputs": [],
   "source": [
    "def plot_confusion_matrix(test_result):\n",
    "    # 计算混淆矩阵\n",
    "    cm = confusion_matrix(test_result['true'], test_result['pred'])\n",
    "\n",
    "    # 可视化混淆矩阵\n",
    "    fig = plt.figure(figsize=(8, 8))\n",
    "    plt.matshow(cm, cmap=plt.cm.Reds, fignum=fig.number)\n",
    "    plt.colorbar()\n",
    "    thresh = cm.max() / 2.\n",
    "    for i in range(cm.shape[0]):\n",
    "        for j in range(cm.shape[1]):\n",
    "            plt.text(j, i, format(cm[i, j], 'd'),\n",
    "                     horizontalalignment=\"center\",\n",
    "                     color=\"white\" if cm[i, j] > thresh else \"black\")\n",
    "    plt.ylabel('Predicted Label')\n",
    "    plt.xlabel('True Label')\n",
    "    plt.show()"
   ]
  },
  {
   "cell_type": "code",
   "execution_count": 133,
   "id": "3fbb5846",
   "metadata": {
    "ExecuteTime": {
     "end_time": "2023-04-19T13:03:04.313046Z",
     "start_time": "2023-04-19T13:03:04.293078Z"
    }
   },
   "outputs": [],
   "source": [
    "def test_xgb_model(model_list):\n",
    "    xgb_test_result = pd.DataFrame(columns=[['pred','true']])\n",
    "    xgb_test_result['true'] = test_y\n",
    "    res = []\n",
    "    for model in model_list:\n",
    "        d_test = xgb.DMatrix(data=test_x,label=test_y)\n",
    "        res.append(model.predict(d_test))\n",
    "\n",
    "    pred_prob = np.mean(res,axis=0)\n",
    "    xgb_test_result['prob'] = pred_prob\n",
    "    xgb_test_result['pred'] = np.array([1 if x > 0.5 else 0 for x in pred_prob])\n",
    "    \n",
    "    amex_metric = amex_metric_mod(test_y,pred_prob)\n",
    "    \n",
    "    cm = confusion_matrix(xgb_test_result['true'], xgb_test_result['pred'])\n",
    "    \n",
    "    print(\"XGBoost Accuracy: {:.4f}\".format(accuracy_score(xgb_test_result['pred'], xgb_test_result['true'])))\n",
    "    print(\"XGBoost Precision: {:.4f}\".format(precision_score(xgb_test_result['pred'], xgb_test_result['true'])))\n",
    "    print(\"XGBoost Recall: {:.4f}\".format(recall_score(xgb_test_result['pred'], xgb_test_result['true'])))\n",
    "    print(\"XGBoost F1 Score: {:.4f}\".format(f1_score(xgb_test_result['pred'], xgb_test_result['true'])))\n",
    "    print(\"XGBoost avg Precision: {:.4f}\".format(average_precision_score(xgb_test_result['pred'], xgb_test_result['true'])))\n",
    "    print(\"XGBoost AUC: {:.4f}\".format(roc_auc_score(xgb_test_result['pred'], xgb_test_result['true'])))\n",
    "    print(\"XGBoost Amex metric: {:.4f}\".format(amex_metric))\n",
    "    \n",
    "    Neg_Recall_rate = cm[0,0]/(cm[0,0]+cm[0,1])\n",
    "    Neg_Precision_rate = cm[0,0]/(cm[0,0]+cm[0,1])\n",
    "    Neg_F1_score = Neg_Recall_rate * Neg_Precision_rate / (Neg_Recall_rate+Neg_Precision_rate)\n",
    "    print(f'Recall rate for Negative sample:{round(Neg_Recall_rate,4)}')\n",
    "    return xgb_test_result"
   ]
  },
  {
   "cell_type": "markdown",
   "id": "16963244",
   "metadata": {
    "ExecuteTime": {
     "end_time": "2023-04-18T16:25:10.878669Z",
     "start_time": "2023-04-18T16:25:10.860324Z"
    }
   },
   "source": [
    "We use xgboost and lightgbm which have several advantages"
   ]
  },
  {
   "cell_type": "markdown",
   "id": "d43ebffa",
   "metadata": {},
   "source": [
    "## Version1"
   ]
  },
  {
   "cell_type": "markdown",
   "id": "7b5b093b",
   "metadata": {},
   "source": [
    "Simply using Xgboost train model in 5-folds"
   ]
  },
  {
   "cell_type": "markdown",
   "id": "798fabb3",
   "metadata": {},
   "source": [
    "### Training 5-folds"
   ]
  },
  {
   "cell_type": "code",
   "execution_count": 126,
   "id": "7e9a43f1",
   "metadata": {
    "ExecuteTime": {
     "end_time": "2023-04-19T13:02:17.675974Z",
     "start_time": "2023-04-19T13:02:17.664880Z"
    }
   },
   "outputs": [],
   "source": [
    "# XGBoost参数\n",
    "params1 = {\n",
    "#     'booster': 'gbtree',\n",
    "    'objective': 'binary:logistic',\n",
    "    'eval_metric': 'auc',\n",
    "    'eta': 0.3,\n",
    "    'max_depth': 6,\n",
    "    'subsample': 0.8,\n",
    "#     'verbose': 10,\n",
    "    'random_state': 42,\n",
    "#     'scale_pos_weight':3/97\n",
    "}"
   ]
  },
  {
   "cell_type": "code",
   "execution_count": 127,
   "id": "a9fdb524",
   "metadata": {
    "ExecuteTime": {
     "end_time": "2023-04-19T13:02:17.864428Z",
     "start_time": "2023-04-19T13:02:17.848430Z"
    }
   },
   "outputs": [],
   "source": [
    "def train_xgb_model1(params1):\n",
    "    # 五折交叉验证\n",
    "    kf = KFold(n_splits=5, shuffle=True, random_state=42)\n",
    "    acc_lgb, precision_lgb, recall_lgb, f1_lgb, ap_lgb, auc_lgb = [], [], [], [], [], []\n",
    "    acc_xgb, precision_xgb, recall_xgb, f1_xgb, ap_xgb, auc_xgb = [], [], [], [], [], []\n",
    "    lgbm_test_result = pd.DataFrame({'true':test_y})\n",
    "    xgb_test_result = pd.DataFrame({'true':test_y})\n",
    "    threshold = 0.5\n",
    "    kf_iter = 0\n",
    "    model_list = []\n",
    "    for train_idx, valid_idx in kf.split(train_val_x):\n",
    "        kf_iter += 1\n",
    "        X_train, X_valid = train_val_x[train_idx], train_val_x[valid_idx]\n",
    "        y_train, y_valid = train_val_y[train_idx], train_val_y[valid_idx]\n",
    "\n",
    "        dtrain = xgb.DMatrix(data=X_train,label=y_train)\n",
    "        dval = xgb.DMatrix(data=X_valid,label=y_valid)\n",
    "\n",
    "        watch_list = [(dtrain, 'train'), (dval, 'valid')]\n",
    "\n",
    "        xgb_model = xgb.train(params=params1, \n",
    "                              dtrain=dtrain, \n",
    "                              num_boost_round=100, \n",
    "                              early_stopping_rounds=20,\n",
    "                              verbose_eval=20,\n",
    "                              evals=watch_list\n",
    "                             )\n",
    "        \n",
    "        model_list.append(xgb_model)\n",
    "\n",
    "        prob_pred_xgb = xgb_model.predict(dval) # pred probability\n",
    "        y_pred_xgb = np.array([1 if x > 0.5 else 0 for x in prob_pred_xgb]) # pred value 0,1\n",
    "\n",
    "        acc_xgb.append(accuracy_score(y_valid, y_pred_xgb))\n",
    "        precision_xgb.append(precision_score(y_valid, y_pred_xgb))\n",
    "        recall_xgb.append(recall_score(y_valid, y_pred_xgb))\n",
    "        f1_xgb.append(f1_score(y_valid, y_pred_xgb))\n",
    "        ap_xgb.append(average_precision_score(y_valid, y_pred_xgb))\n",
    "        auc_xgb.append(roc_auc_score(y_valid, y_pred_xgb))\n",
    "\n",
    "\n",
    "    #     xgb_test_result[kf_iter] = xgb_model.predict(d_test)\n",
    "\n",
    "\n",
    "    print(\"XGBoost Accuracy: {:.4f}\".format(np.mean(acc_xgb)))\n",
    "    print(\"XGBoost Precision: {:.4f}\".format(np.mean(precision_xgb)))\n",
    "    print(\"XGBoost Recall: {:.4f}\".format(np.mean(recall_xgb)))\n",
    "    print(\"XGBoost F1 Score: {:.4f}\".format(np.mean(f1_xgb)))\n",
    "    print(\"XGBoost Avg Precision: {:.4f}\".format(np.mean(ap_xgb)))\n",
    "    print(\"XGBoost AUC: {:.4f}\".format(np.mean(auc_xgb)))\n",
    "    return model_list"
   ]
  },
  {
   "cell_type": "code",
   "execution_count": 128,
   "id": "80c06c3c",
   "metadata": {
    "ExecuteTime": {
     "end_time": "2023-04-19T13:02:48.843135Z",
     "start_time": "2023-04-19T13:02:18.064430Z"
    },
    "scrolled": false
   },
   "outputs": [
    {
     "name": "stdout",
     "output_type": "stream",
     "text": [
      "[0]\ttrain-auc:0.72087\tvalid-auc:0.70706\n",
      "[20]\ttrain-auc:0.76820\tvalid-auc:0.73626\n",
      "[40]\ttrain-auc:0.78069\tvalid-auc:0.73371\n",
      "[46]\ttrain-auc:0.78269\tvalid-auc:0.73270\n",
      "[0]\ttrain-auc:0.72019\tvalid-auc:0.70966\n",
      "[20]\ttrain-auc:0.76564\tvalid-auc:0.73954\n",
      "[40]\ttrain-auc:0.77884\tvalid-auc:0.74054\n",
      "[52]\ttrain-auc:0.78667\tvalid-auc:0.73781\n",
      "[0]\ttrain-auc:0.70868\tvalid-auc:0.70486\n",
      "[20]\ttrain-auc:0.76658\tvalid-auc:0.74236\n",
      "[36]\ttrain-auc:0.78099\tvalid-auc:0.74247\n",
      "[0]\ttrain-auc:0.71547\tvalid-auc:0.72388\n",
      "[20]\ttrain-auc:0.76433\tvalid-auc:0.74630\n",
      "[40]\ttrain-auc:0.77750\tvalid-auc:0.74744\n",
      "[56]\ttrain-auc:0.78558\tvalid-auc:0.74478\n",
      "[0]\ttrain-auc:0.71907\tvalid-auc:0.71499\n",
      "[20]\ttrain-auc:0.76580\tvalid-auc:0.74148\n",
      "[40]\ttrain-auc:0.78073\tvalid-auc:0.73688\n",
      "XGBoost Accuracy: 0.9747\n",
      "XGBoost Precision: 0.9753\n",
      "XGBoost Recall: 0.9993\n",
      "XGBoost F1 Score: 0.9872\n",
      "XGBoost Avg Precision: 0.9753\n",
      "XGBoost AUC: 0.5121\n"
     ]
    }
   ],
   "source": [
    "model_list1 = train_xgb_model1(params1)"
   ]
  },
  {
   "cell_type": "markdown",
   "id": "98fca38f",
   "metadata": {},
   "source": [
    "###  Prediction"
   ]
  },
  {
   "cell_type": "code",
   "execution_count": 129,
   "id": "9dc35a65",
   "metadata": {
    "ExecuteTime": {
     "end_time": "2023-04-19T13:02:49.409801Z",
     "start_time": "2023-04-19T13:02:48.925135Z"
    }
   },
   "outputs": [
    {
     "name": "stdout",
     "output_type": "stream",
     "text": [
      "XGBoost Accuracy: 0.9748\n",
      "XGBoost Precision: 0.9994\n",
      "XGBoost Recall: 0.9754\n",
      "XGBoost F1 Score: 0.9872\n",
      "XGBoost avg Precision: 0.9994\n",
      "XGBoost AUC: 0.6946\n",
      "XGBoost Amex metric: 0.2388\n",
      "Recall rate for Negative sample:0.0161\n"
     ]
    }
   ],
   "source": [
    "xgb_test_result1 = test_xgb_model(model_list1)"
   ]
  },
  {
   "cell_type": "code",
   "execution_count": 148,
   "id": "b1f56611",
   "metadata": {
    "ExecuteTime": {
     "end_time": "2023-04-20T11:47:13.581694Z",
     "start_time": "2023-04-20T11:47:13.356128Z"
    }
   },
   "outputs": [
    {
     "data": {
      "image/png": "[encoded data removed]",
      "text/plain": [
       "<Figure size 576x576 with 2 Axes>"
      ]
     },
     "metadata": {},
     "output_type": "display_data"
    }
   ],
   "source": [
    "plot_confusion_matrix(xgb_test_result1)"
   ]
  },
  {
   "cell_type": "markdown",
   "id": "1dd9a94b",
   "metadata": {},
   "source": [
    "## Version2"
   ]
  },
  {
   "cell_type": "markdown",
   "id": "b1538c82",
   "metadata": {},
   "source": [
    "### Self define Loss Function: Focal Loss"
   ]
  },
  {
   "attachments": {
    "image.png": {
     "image/png": "[encoded data removed]"
    }
   },
   "cell_type": "markdown",
   "id": "50f2d774",
   "metadata": {},
   "source": [
    "![image.png](attachment:image.png)"
   ]
  },
  {
   "cell_type": "code",
   "execution_count": 49,
   "id": "63955802",
   "metadata": {
    "ExecuteTime": {
     "end_time": "2023-04-19T12:30:36.501878Z",
     "start_time": "2023-04-19T12:30:36.478229Z"
    }
   },
   "outputs": [],
   "source": [
    "def focal_loss(p, dtrain, alpha=0.03, gamma=0.1):\n",
    "    y = dtrain.get_label()\n",
    "    p = 1.0 / (1.0 + np.exp(-p))\n",
    "    grad = p * (1 - p) * (alpha * gamma * y * (1 - p) ** gamma * np.log(p) / (1 - p) - alpha * y * (\n",
    "                1 - p) ** gamma / p - gamma * p ** gamma * (1 - alpha) * (1 - y) * np.log(1 - p) / p + p ** gamma * (\n",
    "                                      1 - alpha) * (1 - y) / (1 - p))\n",
    "    hess = p * (1 - p) * (p * (1 - p) * (\n",
    "                -alpha * gamma ** 2 * y * (1 - p) ** gamma * np.log(p) / (1 - p) ** 2 + alpha * gamma * y * (\n",
    "                    1 - p) ** gamma * np.log(p) / (1 - p) ** 2 + 2 * alpha * gamma * y * (1 - p) ** gamma / (\n",
    "                            p * (1 - p)) + alpha * y * (1 - p) ** gamma / p ** 2 - gamma ** 2 * p ** gamma * (\n",
    "                            1 - alpha) * (1 - y) * np.log(1 - p) / p ** 2 + 2 * gamma * p ** gamma * (1 - alpha) * (\n",
    "                            1 - y) / (p * (1 - p)) + gamma * p ** gamma * (1 - alpha) * (1 - y) * np.log(\n",
    "            1 - p) / p ** 2 + p ** gamma * (1 - alpha) * (1 - y) / (1 - p) ** 2) - p * (\n",
    "                                      alpha * gamma * y * (1 - p) ** gamma * np.log(p) / (1 - p) - alpha * y * (\n",
    "                                          1 - p) ** gamma / p - gamma * p ** gamma * (1 - alpha) * (1 - y) * np.log(\n",
    "                                  1 - p) / p + p ** gamma * (1 - alpha) * (1 - y) / (1 - p)) + (1 - p) * (\n",
    "                                      alpha * gamma * y * (1 - p) ** gamma * np.log(p) / (1 - p) - alpha * y * (\n",
    "                                          1 - p) ** gamma / p - gamma * p ** gamma * (1 - alpha) * (1 - y) * np.log(\n",
    "                                  1 - p) / p + p ** gamma * (1 - alpha) * (1 - y) / (1 - p)))\n",
    "    return grad, hess\n",
    "\n"
   ]
  },
  {
   "cell_type": "markdown",
   "id": "d5bca3c5",
   "metadata": {},
   "source": [
    "### Self define Metric Function"
   ]
  },
  {
   "cell_type": "code",
   "execution_count": 119,
   "id": "5b34594d",
   "metadata": {
    "ExecuteTime": {
     "end_time": "2023-04-19T13:02:09.012605Z",
     "start_time": "2023-04-19T13:02:08.994606Z"
    }
   },
   "outputs": [],
   "source": [
    "def amex_metric_mod(y_true, y_pred):\n",
    "\n",
    "    labels     = np.transpose(np.array([y_true, y_pred]))\n",
    "    labels     = labels[labels[:, 1].argsort()] # sort by y_pred ascending\n",
    "    weights    = np.where(labels[:,0]==0, 32, 1) # weight 20 for label 0 (upsample 20 times)\n",
    "    cut_vals   = labels[np.cumsum(weights) <= int(0.05 * np.sum(weights))]\n",
    "    top_four   = np.sum(cut_vals[:,0]) / np.sum(labels[:,0])\n",
    "\n",
    "    gini = [0,0]\n",
    "    for i in [1,0]:\n",
    "        labels         = np.transpose(np.array([y_true, y_pred]))\n",
    "        labels         = labels[labels[:, i].argsort()[::-1]]\n",
    "        weight         = np.where(labels[:,0]==0, 32, 1)\n",
    "        weight_random  = np.cumsum(weight / np.sum(weight))\n",
    "        total_pos      = np.sum(labels[:, 0] *  weight)\n",
    "        cum_pos_found  = np.cumsum(labels[:, 0] * weight)\n",
    "        lorentz        = cum_pos_found / total_pos\n",
    "        gini[i]        = np.sum((lorentz - weight_random) * weight)\n",
    "\n",
    "    return 0.5 * (gini[1]/gini[0] + top_four)\n",
    "\n",
    "\n",
    "def amex_metric(preds,dtrain):\n",
    "    y_true = dtrain.get_label()\n",
    "    y_pred = preds \n",
    "    labels     = np.transpose(np.array([y_true, y_pred]))\n",
    "    labels     = labels[labels[:, 1].argsort()] # sort by y_pred ascending\n",
    "    weights    = np.where(labels[:,0]==0, 32, 1) # weight 32 for label 0 (upsample 20 times)\n",
    "    cut_vals   = labels[np.cumsum(weights) <= int(0.05 * np.sum(weights))]\n",
    "    top_four   = np.sum(cut_vals[:,0]) / np.sum(labels[:,0])\n",
    "\n",
    "    gini = [0,0]\n",
    "    for i in [1,0]:\n",
    "        labels         = np.transpose(np.array([y_true, y_pred]))\n",
    "        labels         = labels[labels[:, i].argsort()[::-1]]\n",
    "        weight         = np.where(labels[:,0]==0, 32, 1)\n",
    "        weight_random  = np.cumsum(weight / np.sum(weight))\n",
    "        total_pos      = np.sum(labels[:, 0] *  weight)\n",
    "        cum_pos_found  = np.cumsum(labels[:, 0] * weight)\n",
    "        lorentz        = cum_pos_found / total_pos\n",
    "        gini[i]        = np.sum((lorentz - weight_random) * weight)\n",
    "\n",
    "    return 'amex_metric',0.5 * (gini[1]/gini[0] + top_four)\n"
   ]
  },
  {
   "cell_type": "markdown",
   "id": "655d369e",
   "metadata": {},
   "source": [
    "### Search Parameters in valid set: Optuna"
   ]
  },
  {
   "cell_type": "code",
   "execution_count": 331,
   "id": "b27ba90e",
   "metadata": {
    "ExecuteTime": {
     "end_time": "2023-04-18T17:14:07.250216Z",
     "start_time": "2023-04-18T17:03:23.536076Z"
    }
   },
   "outputs": [
    {
     "name": "stderr",
     "output_type": "stream",
     "text": [
      "\u001b[32m[I 2023-04-19 01:03:23,543]\u001b[0m A new study created in memory with name: no-name-bef4b377-bebf-4b07-9883-92e302af478c\u001b[0m\n",
      "0it [00:00, ?it/s]"
     ]
    },
    {
     "name": "stdout",
     "output_type": "stream",
     "text": [
      "[0]\ttrain-auc:0.55541\ttrain-amex_metric:0.07068\tvalid-auc:0.55963\tvalid-amex_metric:0.07383\n",
      "[20]\ttrain-auc:0.68733\ttrain-amex_metric:0.19497\tvalid-auc:0.67226\tvalid-amex_metric:0.18184\n"
     ]
    },
    {
     "name": "stderr",
     "output_type": "stream",
     "text": [
      "0it [00:03, ?it/s]\n",
      "\u001b[32m[I 2023-04-19 01:03:27,010]\u001b[0m Trial 0 finished with value: 0.5709273839660665 and parameters: {'max_depth': 2, 'eta': 0.049446376965971546, 'min_child_weight': 2, 'subsample': 0.8248641453073366, 'colsample_bytree': 0.20892797043024325, 'lambda': 0.026073232184600503, 'alpha': 0.0001852816581742679}. Best is trial 0 with value: 0.5709273839660665.\u001b[0m\n",
      "0it [00:00, ?it/s]"
     ]
    },
    {
     "name": "stdout",
     "output_type": "stream",
     "text": [
      "[0]\ttrain-auc:0.70163\ttrain-amex_metric:0.20614\tvalid-auc:0.67946\tvalid-amex_metric:0.18589\n",
      "[20]\ttrain-auc:0.74870\ttrain-amex_metric:0.25159\tvalid-auc:0.72815\tvalid-amex_metric:0.23375\n"
     ]
    },
    {
     "name": "stderr",
     "output_type": "stream",
     "text": [
      "0it [00:04, ?it/s]\n",
      "\u001b[32m[I 2023-04-19 01:03:31,524]\u001b[0m Trial 1 finished with value: 0.6238526210208535 and parameters: {'max_depth': 10, 'eta': 2.7242497735365986e-05, 'min_child_weight': 9, 'subsample': 0.38007082080160626, 'colsample_bytree': 0.7506543756418146, 'lambda': 8.516262759487751e-06, 'alpha': 6.97180772419201e-06}. Best is trial 1 with value: 0.6238526210208535.\u001b[0m\n",
      "0it [00:00, ?it/s]"
     ]
    },
    {
     "name": "stdout",
     "output_type": "stream",
     "text": [
      "[0]\ttrain-auc:0.70894\ttrain-amex_metric:0.21320\tvalid-auc:0.68837\tvalid-amex_metric:0.19460\n",
      "[20]\ttrain-auc:0.75272\ttrain-amex_metric:0.25587\tvalid-auc:0.73134\tvalid-amex_metric:0.23724\n"
     ]
    },
    {
     "name": "stderr",
     "output_type": "stream",
     "text": [
      "0it [00:04, ?it/s]\n",
      "\u001b[32m[I 2023-04-19 01:03:36,067]\u001b[0m Trial 2 finished with value: 0.6258447828224558 and parameters: {'max_depth': 7, 'eta': 1.5884680947146464e-05, 'min_child_weight': 6, 'subsample': 0.7479511235154203, 'colsample_bytree': 0.7067249342748282, 'lambda': 0.002977929679795028, 'alpha': 0.3544108127618948}. Best is trial 2 with value: 0.6258447828224558.\u001b[0m\n",
      "0it [00:00, ?it/s]"
     ]
    },
    {
     "name": "stdout",
     "output_type": "stream",
     "text": [
      "[0]\ttrain-auc:0.68741\ttrain-amex_metric:0.19181\tvalid-auc:0.67411\tvalid-amex_metric:0.18651\n",
      "[19]\ttrain-auc:0.74155\ttrain-amex_metric:0.24551\tvalid-auc:0.72761\tvalid-amex_metric:0.23265\n"
     ]
    },
    {
     "name": "stderr",
     "output_type": "stream",
     "text": [
      "0it [00:03, ?it/s]\n",
      "\u001b[32m[I 2023-04-19 01:03:40,084]\u001b[0m Trial 3 finished with value: 0.6051297303541417 and parameters: {'max_depth': 4, 'eta': 8.93382653202655e-07, 'min_child_weight': 5, 'subsample': 0.7303001524335848, 'colsample_bytree': 0.570405096970975, 'lambda': 4.7970819821079644e-05, 'alpha': 3.563876291843152e-08}. Best is trial 2 with value: 0.6258447828224558.\u001b[0m\n",
      "0it [00:00, ?it/s]"
     ]
    },
    {
     "name": "stdout",
     "output_type": "stream",
     "text": [
      "[0]\ttrain-auc:0.70481\ttrain-amex_metric:0.20870\tvalid-auc:0.68448\tvalid-amex_metric:0.18878\n",
      "[19]\ttrain-auc:0.75008\ttrain-amex_metric:0.25326\tvalid-auc:0.73056\tvalid-amex_metric:0.23610\n"
     ]
    },
    {
     "name": "stderr",
     "output_type": "stream",
     "text": [
      "0it [00:04, ?it/s]\n",
      "\u001b[32m[I 2023-04-19 01:03:44,489]\u001b[0m Trial 4 finished with value: 0.6273767110840633 and parameters: {'max_depth': 7, 'eta': 0.00020432502374295112, 'min_child_weight': 6, 'subsample': 0.40531050926625467, 'colsample_bytree': 0.7079005123298309, 'lambda': 2.0931312591384647e-08, 'alpha': 0.05853224980748922}. Best is trial 4 with value: 0.6273767110840633.\u001b[0m\n",
      "0it [00:00, ?it/s]"
     ]
    },
    {
     "name": "stdout",
     "output_type": "stream",
     "text": [
      "[0]\ttrain-auc:0.62623\ttrain-amex_metric:0.14203\tvalid-auc:0.60995\tvalid-amex_metric:0.12667\n",
      "[20]\ttrain-auc:0.73859\ttrain-amex_metric:0.24320\tvalid-auc:0.71190\tvalid-amex_metric:0.21988\n"
     ]
    },
    {
     "name": "stderr",
     "output_type": "stream",
     "text": [
      "0it [00:04, ?it/s]\n",
      "\u001b[32m[I 2023-04-19 01:03:48,728]\u001b[0m Trial 5 finished with value: 0.5949879341895622 and parameters: {'max_depth': 8, 'eta': 7.707248985910583e-05, 'min_child_weight': 4, 'subsample': 0.2561513954704816, 'colsample_bytree': 0.3052952099196976, 'lambda': 2.7604077832997004e-07, 'alpha': 6.114612179101757e-08}. Best is trial 4 with value: 0.6273767110840633.\u001b[0m\n",
      "0it [00:00, ?it/s]"
     ]
    },
    {
     "name": "stdout",
     "output_type": "stream",
     "text": [
      "[0]\ttrain-auc:0.63697\ttrain-amex_metric:0.14302\tvalid-auc:0.62336\tvalid-amex_metric:0.13503\n",
      "[19]\ttrain-auc:0.73764\ttrain-amex_metric:0.24156\tvalid-auc:0.72314\tvalid-amex_metric:0.22874\n"
     ]
    },
    {
     "name": "stderr",
     "output_type": "stream",
     "text": [
      "0it [00:03, ?it/s]\n",
      "\u001b[32m[I 2023-04-19 01:03:52,413]\u001b[0m Trial 6 finished with value: 0.6233171962803776 and parameters: {'max_depth': 2, 'eta': 0.18511346722948424, 'min_child_weight': 5, 'subsample': 0.334525454980145, 'colsample_bytree': 0.6331196427546745, 'lambda': 0.0005091272471525123, 'alpha': 3.3189199736537866e-05}. Best is trial 4 with value: 0.6273767110840633.\u001b[0m\n",
      "0it [00:00, ?it/s]"
     ]
    },
    {
     "name": "stdout",
     "output_type": "stream",
     "text": [
      "[0]\ttrain-auc:0.69709\ttrain-amex_metric:0.20157\tvalid-auc:0.67788\tvalid-amex_metric:0.18214\n",
      "[20]\ttrain-auc:0.75058\ttrain-amex_metric:0.25526\tvalid-auc:0.71565\tvalid-amex_metric:0.22201\n"
     ]
    },
    {
     "name": "stderr",
     "output_type": "stream",
     "text": [
      "0it [00:04, ?it/s]\n",
      "\u001b[32m[I 2023-04-19 01:03:56,663]\u001b[0m Trial 7 finished with value: 0.6182430757180671 and parameters: {'max_depth': 6, 'eta': 0.9228563735495992, 'min_child_weight': 8, 'subsample': 0.32854160216577555, 'colsample_bytree': 0.6793890538815407, 'lambda': 0.0003885859351679574, 'alpha': 0.06730194353372287}. Best is trial 4 with value: 0.6273767110840633.\u001b[0m\n",
      "0it [00:00, ?it/s]"
     ]
    },
    {
     "name": "stdout",
     "output_type": "stream",
     "text": [
      "[0]\ttrain-auc:0.69602\ttrain-amex_metric:0.20077\tvalid-auc:0.67582\tvalid-amex_metric:0.18134\n",
      "[20]\ttrain-auc:0.72549\ttrain-amex_metric:0.22953\tvalid-auc:0.71683\tvalid-amex_metric:0.22186\n",
      "[21]\ttrain-auc:0.72506\ttrain-amex_metric:0.22928\tvalid-auc:0.71559\tvalid-amex_metric:0.22109\n"
     ]
    },
    {
     "name": "stderr",
     "output_type": "stream",
     "text": [
      "0it [00:03, ?it/s]\n",
      "\u001b[32m[I 2023-04-19 01:04:00,603]\u001b[0m Trial 8 finished with value: 0.6039109637574892 and parameters: {'max_depth': 4, 'eta': 7.181048079054065e-05, 'min_child_weight': 8, 'subsample': 0.1356218994123926, 'colsample_bytree': 0.44103388340698657, 'lambda': 6.046329785284099e-06, 'alpha': 0.0062989971163976465}. Best is trial 4 with value: 0.6273767110840633.\u001b[0m\n",
      "0it [00:00, ?it/s]"
     ]
    },
    {
     "name": "stdout",
     "output_type": "stream",
     "text": [
      "[0]\ttrain-auc:0.55749\ttrain-amex_metric:0.07231\tvalid-auc:0.56205\tvalid-amex_metric:0.07669\n",
      "[19]\ttrain-auc:0.69913\ttrain-amex_metric:0.20604\tvalid-auc:0.67690\tvalid-amex_metric:0.18615\n"
     ]
    },
    {
     "name": "stderr",
     "output_type": "stream",
     "text": [
      "0it [00:03, ?it/s]\n",
      "\u001b[32m[I 2023-04-19 01:04:04,410]\u001b[0m Trial 9 finished with value: 0.5771601181646444 and parameters: {'max_depth': 5, 'eta': 0.13493171384999467, 'min_child_weight': 4, 'subsample': 0.8642801621953241, 'colsample_bytree': 0.13146277355365843, 'lambda': 7.047659568770187e-07, 'alpha': 1.048824853520372}. Best is trial 4 with value: 0.6273767110840633.\u001b[0m\n",
      "0it [00:00, ?it/s]"
     ]
    },
    {
     "name": "stdout",
     "output_type": "stream",
     "text": [
      "[0]\ttrain-auc:0.50000\ttrain-amex_metric:0.21346\tvalid-auc:0.50000\tvalid-amex_metric:0.19635\n",
      "[19]\ttrain-auc:0.70498\ttrain-amex_metric:0.24286\tvalid-auc:0.69007\tvalid-amex_metric:0.22637\n"
     ]
    },
    {
     "name": "stderr",
     "output_type": "stream",
     "text": [
      "0it [00:04, ?it/s]\n",
      "\u001b[32m[I 2023-04-19 01:04:08,929]\u001b[0m Trial 10 finished with value: 0.6575729337035487 and parameters: {'max_depth': 10, 'eta': 1.2195911918935736e-08, 'min_child_weight': 1, 'subsample': 0.5579143355332323, 'colsample_bytree': 0.9986901542075164, 'lambda': 4.1961535056657775, 'alpha': 7.671115511060968}. Best is trial 10 with value: 0.6575729337035487.\u001b[0m\n",
      "0it [00:00, ?it/s]"
     ]
    },
    {
     "name": "stdout",
     "output_type": "stream",
     "text": [
      "[0]\ttrain-auc:0.50000\ttrain-amex_metric:0.21321\tvalid-auc:0.50000\tvalid-amex_metric:0.19382\n",
      "[20]\ttrain-auc:0.70539\ttrain-amex_metric:0.24507\tvalid-auc:0.68931\tvalid-amex_metric:0.23067\n"
     ]
    },
    {
     "name": "stderr",
     "output_type": "stream",
     "text": [
      "0it [00:04, ?it/s]\n",
      "\u001b[32m[I 2023-04-19 01:04:13,620]\u001b[0m Trial 11 finished with value: 0.6568606775730886 and parameters: {'max_depth': 10, 'eta': 1.1720643068464424e-08, 'min_child_weight': 2, 'subsample': 0.5666009555582971, 'colsample_bytree': 0.9872614685923841, 'lambda': 5.278405853633054, 'alpha': 5.668156762074807}. Best is trial 10 with value: 0.6575729337035487.\u001b[0m\n",
      "0it [00:00, ?it/s]"
     ]
    },
    {
     "name": "stdout",
     "output_type": "stream",
     "text": [
      "[0]\ttrain-auc:0.50000\ttrain-amex_metric:0.21533\tvalid-auc:0.50000\tvalid-amex_metric:0.19895\n",
      "[20]\ttrain-auc:0.70499\ttrain-amex_metric:0.24660\tvalid-auc:0.68907\tvalid-amex_metric:0.23080\n"
     ]
    },
    {
     "name": "stderr",
     "output_type": "stream",
     "text": [
      "0it [00:04, ?it/s]\n",
      "\u001b[32m[I 2023-04-19 01:04:18,364]\u001b[0m Trial 12 finished with value: 0.6561616635463199 and parameters: {'max_depth': 10, 'eta': 1.0435542604047653e-08, 'min_child_weight': 1, 'subsample': 0.5900731153185551, 'colsample_bytree': 0.9918476961837883, 'lambda': 5.409481980677146, 'alpha': 5.095009122290232}. Best is trial 10 with value: 0.6575729337035487.\u001b[0m\n",
      "0it [00:00, ?it/s]"
     ]
    },
    {
     "name": "stdout",
     "output_type": "stream",
     "text": [
      "[0]\ttrain-auc:0.50000\ttrain-amex_metric:0.21310\tvalid-auc:0.50000\tvalid-amex_metric:0.19164\n",
      "[20]\ttrain-auc:0.73339\ttrain-amex_metric:0.24335\tvalid-auc:0.71617\tvalid-amex_metric:0.22820\n"
     ]
    },
    {
     "name": "stderr",
     "output_type": "stream",
     "text": [
      "0it [00:04, ?it/s]\n",
      "\u001b[32m[I 2023-04-19 01:04:23,007]\u001b[0m Trial 13 finished with value: 0.6565366334346213 and parameters: {'max_depth': 9, 'eta': 4.658487561095098e-08, 'min_child_weight': 1, 'subsample': 0.5688929651888552, 'colsample_bytree': 0.9950940786373788, 'lambda': 5.921047677075732, 'alpha': 7.922568810414887}. Best is trial 10 with value: 0.6575729337035487.\u001b[0m\n",
      "0it [00:00, ?it/s]"
     ]
    },
    {
     "name": "stdout",
     "output_type": "stream",
     "text": [
      "[0]\ttrain-auc:0.69702\ttrain-amex_metric:0.22795\tvalid-auc:0.67402\tvalid-amex_metric:0.19512\n",
      "[19]\ttrain-auc:0.76586\ttrain-amex_metric:0.26904\tvalid-auc:0.73160\tvalid-amex_metric:0.23580\n"
     ]
    },
    {
     "name": "stderr",
     "output_type": "stream",
     "text": [
      "0it [00:04, ?it/s]\n",
      "\u001b[32m[I 2023-04-19 01:04:27,964]\u001b[0m Trial 14 finished with value: 0.6594128465310618 and parameters: {'max_depth': 10, 'eta': 1.6731225498407523e-07, 'min_child_weight': 2, 'subsample': 0.504273865575993, 'colsample_bytree': 0.8776807977430708, 'lambda': 0.23335543125342048, 'alpha': 0.0033311046373929528}. Best is trial 14 with value: 0.6594128465310618.\u001b[0m\n",
      "0it [00:00, ?it/s]"
     ]
    },
    {
     "name": "stdout",
     "output_type": "stream",
     "text": [
      "[0]\ttrain-auc:0.69008\ttrain-amex_metric:0.21372\tvalid-auc:0.67179\tvalid-amex_metric:0.19283\n",
      "[19]\ttrain-auc:0.75949\ttrain-amex_metric:0.26279\tvalid-auc:0.73242\tvalid-amex_metric:0.23739\n"
     ]
    },
    {
     "name": "stderr",
     "output_type": "stream",
     "text": [
      "0it [00:04, ?it/s]\n",
      "\u001b[32m[I 2023-04-19 01:04:32,698]\u001b[0m Trial 15 finished with value: 0.658783212675229 and parameters: {'max_depth': 9, 'eta': 2.3542837117083993e-07, 'min_child_weight': 3, 'subsample': 0.48500361382716445, 'colsample_bytree': 0.8507762696855556, 'lambda': 0.17057901044257326, 'alpha': 0.0011844443025695321}. Best is trial 14 with value: 0.6594128465310618.\u001b[0m\n",
      "0it [00:00, ?it/s]"
     ]
    },
    {
     "name": "stdout",
     "output_type": "stream",
     "text": [
      "[0]\ttrain-auc:0.69689\ttrain-amex_metric:0.21261\tvalid-auc:0.67560\tvalid-amex_metric:0.19215\n",
      "[19]\ttrain-auc:0.75599\ttrain-amex_metric:0.25877\tvalid-auc:0.73093\tvalid-amex_metric:0.23575\n"
     ]
    },
    {
     "name": "stderr",
     "output_type": "stream",
     "text": [
      "0it [00:04, ?it/s]\n",
      "\u001b[32m[I 2023-04-19 01:04:37,333]\u001b[0m Trial 16 finished with value: 0.6576363267531348 and parameters: {'max_depth': 8, 'eta': 3.441374312010433e-07, 'min_child_weight': 3, 'subsample': 0.4551956012606797, 'colsample_bytree': 0.8361455566386511, 'lambda': 0.07836314706132945, 'alpha': 0.0027257714034962994}. Best is trial 14 with value: 0.6594128465310618.\u001b[0m\n",
      "0it [00:00, ?it/s]"
     ]
    },
    {
     "name": "stdout",
     "output_type": "stream",
     "text": [
      "[0]\ttrain-auc:0.71696\ttrain-amex_metric:0.22159\tvalid-auc:0.68796\tvalid-amex_metric:0.19235\n",
      "[19]\ttrain-auc:0.76557\ttrain-amex_metric:0.26787\tvalid-auc:0.73166\tvalid-amex_metric:0.23720\n"
     ]
    },
    {
     "name": "stderr",
     "output_type": "stream",
     "text": [
      "0it [00:05, ?it/s]\n",
      "\u001b[32m[I 2023-04-19 01:04:42,573]\u001b[0m Trial 17 finished with value: 0.6241302473596795 and parameters: {'max_depth': 9, 'eta': 1.050332316350161e-06, 'min_child_weight': 3, 'subsample': 0.9794426146484725, 'colsample_bytree': 0.8547776216661666, 'lambda': 0.1685873899648883, 'alpha': 1.6067849863562491e-06}. Best is trial 14 with value: 0.6594128465310618.\u001b[0m\n",
      "0it [00:00, ?it/s]"
     ]
    },
    {
     "name": "stdout",
     "output_type": "stream",
     "text": [
      "[0]\ttrain-auc:0.69659\ttrain-amex_metric:0.20179\tvalid-auc:0.67183\tvalid-amex_metric:0.17760\n",
      "[20]\ttrain-auc:0.74936\ttrain-amex_metric:0.25299\tvalid-auc:0.72969\tvalid-amex_metric:0.23495\n"
     ]
    },
    {
     "name": "stderr",
     "output_type": "stream",
     "text": [
      "0it [00:04, ?it/s]\n",
      "\u001b[32m[I 2023-04-19 01:04:47,059]\u001b[0m Trial 18 finished with value: 0.6239434843919268 and parameters: {'max_depth': 9, 'eta': 0.0017476898472514855, 'min_child_weight': 3, 'subsample': 0.19909164324211254, 'colsample_bytree': 0.8741833933455577, 'lambda': 0.4211477484281331, 'alpha': 0.0014913264018905194}. Best is trial 14 with value: 0.6594128465310618.\u001b[0m\n",
      "0it [00:00, ?it/s]"
     ]
    },
    {
     "name": "stdout",
     "output_type": "stream",
     "text": [
      "[0]\ttrain-auc:0.64893\ttrain-amex_metric:0.21176\tvalid-auc:0.63181\tvalid-amex_metric:0.19076\n",
      "[19]\ttrain-auc:0.75030\ttrain-amex_metric:0.26046\tvalid-auc:0.72622\tvalid-amex_metric:0.23787\n"
     ]
    },
    {
     "name": "stderr",
     "output_type": "stream",
     "text": [
      "0it [00:04, ?it/s]\n",
      "\u001b[32m[I 2023-04-19 01:04:51,722]\u001b[0m Trial 19 finished with value: 0.6604671786007604 and parameters: {'max_depth': 8, 'eta': 1.2604442697609504e-07, 'min_child_weight': 2, 'subsample': 0.4756337806606225, 'colsample_bytree': 0.5016416189720092, 'lambda': 0.010208141554594402, 'alpha': 0.0003971767521919189}. Best is trial 19 with value: 0.6604671786007604.\u001b[0m\n",
      "0it [00:00, ?it/s]"
     ]
    },
    {
     "name": "stdout",
     "output_type": "stream",
     "text": [
      "[0]\ttrain-auc:0.71125\ttrain-amex_metric:0.21513\tvalid-auc:0.68114\tvalid-amex_metric:0.18645\n",
      "[20]\ttrain-auc:0.76015\ttrain-amex_metric:0.26299\tvalid-auc:0.72915\tvalid-amex_metric:0.23462\n",
      "[21]\ttrain-auc:0.75921\ttrain-amex_metric:0.26175\tvalid-auc:0.72770\tvalid-amex_metric:0.23274\n"
     ]
    },
    {
     "name": "stderr",
     "output_type": "stream",
     "text": [
      "0it [00:04, ?it/s]\n",
      "\u001b[32m[I 2023-04-19 01:04:56,606]\u001b[0m Trial 20 finished with value: 0.6218364402971304 and parameters: {'max_depth': 8, 'eta': 4.105101809540298e-06, 'min_child_weight': 2, 'subsample': 0.6541711272202743, 'colsample_bytree': 0.48045398141719975, 'lambda': 0.008474168786983705, 'alpha': 0.00012325186394351276}. Best is trial 19 with value: 0.6604671786007604.\u001b[0m\n",
      "0it [00:00, ?it/s]"
     ]
    },
    {
     "name": "stdout",
     "output_type": "stream",
     "text": [
      "[0]\ttrain-auc:0.57375\ttrain-amex_metric:0.21139\tvalid-auc:0.56584\tvalid-amex_metric:0.18564\n",
      "[20]\ttrain-auc:0.74479\ttrain-amex_metric:0.25969\tvalid-auc:0.71971\tvalid-amex_metric:0.23390\n"
     ]
    },
    {
     "name": "stderr",
     "output_type": "stream",
     "text": [
      "0it [00:04, ?it/s]\n",
      "\u001b[32m[I 2023-04-19 01:05:01,250]\u001b[0m Trial 21 finished with value: 0.6584402914953293 and parameters: {'max_depth': 9, 'eta': 7.226173599603575e-08, 'min_child_weight': 2, 'subsample': 0.45902254844757817, 'colsample_bytree': 0.37847026047369464, 'lambda': 0.5783193276770956, 'alpha': 0.014180913979734663}. Best is trial 19 with value: 0.6604671786007604.\u001b[0m\n",
      "0it [00:00, ?it/s]"
     ]
    },
    {
     "name": "stdout",
     "output_type": "stream",
     "text": [
      "[0]\ttrain-auc:0.64945\ttrain-amex_metric:0.21124\tvalid-auc:0.63513\tvalid-amex_metric:0.19330\n",
      "[20]\ttrain-auc:0.74434\ttrain-amex_metric:0.25424\tvalid-auc:0.72586\tvalid-amex_metric:0.23583\n"
     ]
    },
    {
     "name": "stderr",
     "output_type": "stream",
     "text": [
      "0it [00:04, ?it/s]\n",
      "\u001b[32m[I 2023-04-19 01:05:05,769]\u001b[0m Trial 22 finished with value: 0.6578767977212311 and parameters: {'max_depth': 7, 'eta': 1.2169211280774254e-07, 'min_child_weight': 4, 'subsample': 0.4797419043841372, 'colsample_bytree': 0.5732745223290855, 'lambda': 0.002979167935581114, 'alpha': 0.000843470831475254}. Best is trial 19 with value: 0.6604671786007604.\u001b[0m\n",
      "0it [00:00, ?it/s]"
     ]
    },
    {
     "name": "stdout",
     "output_type": "stream",
     "text": [
      "[0]\ttrain-auc:0.71333\ttrain-amex_metric:0.21733\tvalid-auc:0.68331\tvalid-amex_metric:0.18990\n",
      "[20]\ttrain-auc:0.76376\ttrain-amex_metric:0.26606\tvalid-auc:0.73223\tvalid-amex_metric:0.23706\n"
     ]
    },
    {
     "name": "stderr",
     "output_type": "stream",
     "text": [
      "0it [00:04, ?it/s]\n",
      "\u001b[32m[I 2023-04-19 01:05:10,699]\u001b[0m Trial 23 finished with value: 0.658462619936128 and parameters: {'max_depth': 8, 'eta': 2.339649401047736e-06, 'min_child_weight': 1, 'subsample': 0.6677982816449582, 'colsample_bytree': 0.7923404725233482, 'lambda': 0.02533961056644267, 'alpha': 3.510839319018865e-05}. Best is trial 19 with value: 0.6604671786007604.\u001b[0m\n",
      "0it [00:00, ?it/s]"
     ]
    },
    {
     "name": "stdout",
     "output_type": "stream",
     "text": [
      "[0]\ttrain-auc:0.70782\ttrain-amex_metric:0.22677\tvalid-auc:0.68463\tvalid-amex_metric:0.20401\n",
      "[20]\ttrain-auc:0.75650\ttrain-amex_metric:0.26014\tvalid-auc:0.73052\tvalid-amex_metric:0.23514\n"
     ]
    },
    {
     "name": "stderr",
     "output_type": "stream",
     "text": [
      "0it [00:04, ?it/s]\n",
      "\u001b[32m[I 2023-04-19 01:05:15,525]\u001b[0m Trial 24 finished with value: 0.658408101913484 and parameters: {'max_depth': 9, 'eta': 2.5621173002166405e-07, 'min_child_weight': 3, 'subsample': 0.4856386840065475, 'colsample_bytree': 0.9120269996077716, 'lambda': 0.8889380434662615, 'alpha': 0.018421847483029382}. Best is trial 19 with value: 0.6604671786007604.\u001b[0m\n",
      "0it [00:00, ?it/s]"
     ]
    },
    {
     "name": "stdout",
     "output_type": "stream",
     "text": [
      "[0]\ttrain-auc:0.50000\ttrain-amex_metric:0.20057\tvalid-auc:0.50000\tvalid-amex_metric:0.18138\n",
      "[20]\ttrain-auc:0.73309\ttrain-amex_metric:0.24995\tvalid-auc:0.71408\tvalid-amex_metric:0.23173\n"
     ]
    },
    {
     "name": "stderr",
     "output_type": "stream",
     "text": [
      "0it [00:03, ?it/s]\n",
      "\u001b[32m[I 2023-04-19 01:05:19,513]\u001b[0m Trial 25 finished with value: 0.6580643707112841 and parameters: {'max_depth': 6, 'eta': 3.9933587786233574e-08, 'min_child_weight': 2, 'subsample': 0.28184080326511063, 'colsample_bytree': 0.4965775063003322, 'lambda': 0.06198201226703608, 'alpha': 0.00041564850809747774}. Best is trial 19 with value: 0.6604671786007604.\u001b[0m\n",
      "0it [00:00, ?it/s]"
     ]
    },
    {
     "name": "stdout",
     "output_type": "stream",
     "text": [
      "[0]\ttrain-auc:0.72329\ttrain-amex_metric:0.22647\tvalid-auc:0.69951\tvalid-amex_metric:0.20403\n",
      "[19]\ttrain-auc:0.75610\ttrain-amex_metric:0.25861\tvalid-auc:0.72981\tvalid-amex_metric:0.23478\n"
     ]
    },
    {
     "name": "stderr",
     "output_type": "stream",
     "text": [
      "0it [00:04, ?it/s]\n",
      "\u001b[32m[I 2023-04-19 01:05:24,416]\u001b[0m Trial 26 finished with value: 0.6243731836130375 and parameters: {'max_depth': 10, 'eta': 4.200265414031714e-06, 'min_child_weight': 4, 'subsample': 0.409514251255785, 'colsample_bytree': 0.9131841664589703, 'lambda': 0.002525111546523627, 'alpha': 1.216737653248656e-06}. Best is trial 19 with value: 0.6604671786007604.\u001b[0m\n",
      "0it [00:00, ?it/s]"
     ]
    },
    {
     "name": "stdout",
     "output_type": "stream",
     "text": [
      "[0]\ttrain-auc:0.61461\ttrain-amex_metric:0.14721\tvalid-auc:0.59681\tvalid-amex_metric:0.13011\n",
      "[20]\ttrain-auc:0.74732\ttrain-amex_metric:0.25212\tvalid-auc:0.71649\tvalid-amex_metric:0.22328\n"
     ]
    },
    {
     "name": "stderr",
     "output_type": "stream",
     "text": [
      "0it [00:04, ?it/s]\n",
      "\u001b[32m[I 2023-04-19 01:05:28,788]\u001b[0m Trial 27 finished with value: 0.6140660724624819 and parameters: {'max_depth': 8, 'eta': 3.04226479548285e-07, 'min_child_weight': 3, 'subsample': 0.6242593453835301, 'colsample_bytree': 0.34412369842336876, 'lambda': 1.0226723270535512, 'alpha': 4.561143952815896e-05}. Best is trial 19 with value: 0.6604671786007604.\u001b[0m\n",
      "0it [00:00, ?it/s]"
     ]
    },
    {
     "name": "stdout",
     "output_type": "stream",
     "text": [
      "[0]\ttrain-auc:0.70647\ttrain-amex_metric:0.20987\tvalid-auc:0.68092\tvalid-amex_metric:0.18529\n",
      "[19]\ttrain-auc:0.75627\ttrain-amex_metric:0.25885\tvalid-auc:0.73036\tvalid-amex_metric:0.23556\n"
     ]
    },
    {
     "name": "stderr",
     "output_type": "stream",
     "text": [
      "0it [00:04, ?it/s]\n",
      "\u001b[32m[I 2023-04-19 01:05:33,857]\u001b[0m Trial 28 finished with value: 0.6252283558519532 and parameters: {'max_depth': 7, 'eta': 0.0011190251031261585, 'min_child_weight': 1, 'subsample': 0.5173337769505294, 'colsample_bytree': 0.6191185677282486, 'lambda': 0.013135018304427483, 'alpha': 0.003454040116492657}. Best is trial 19 with value: 0.6604671786007604.\u001b[0m\n",
      "0it [00:00, ?it/s]"
     ]
    },
    {
     "name": "stdout",
     "output_type": "stream",
     "text": [
      "[0]\ttrain-auc:0.50000\ttrain-amex_metric:0.07196\tvalid-auc:0.50000\tvalid-amex_metric:0.07794\n",
      "[19]\ttrain-auc:0.65848\ttrain-amex_metric:0.21197\tvalid-auc:0.63290\tvalid-amex_metric:0.17567\n"
     ]
    },
    {
     "name": "stderr",
     "output_type": "stream",
     "text": [
      "0it [00:04, ?it/s]\n",
      "\u001b[32m[I 2023-04-19 01:05:38,408]\u001b[0m Trial 29 finished with value: 0.6225938463662399 and parameters: {'max_depth': 9, 'eta': 3.237371613562607e-08, 'min_child_weight': 2, 'subsample': 0.70203952160142, 'colsample_bytree': 0.22108429813574754, 'lambda': 0.2116208178752801, 'alpha': 0.0002708843887462384}. Best is trial 19 with value: 0.6604671786007604.\u001b[0m\n",
      "0it [00:00, ?it/s]"
     ]
    },
    {
     "name": "stdout",
     "output_type": "stream",
     "text": [
      "[0]\ttrain-auc:0.71579\ttrain-amex_metric:0.22195\tvalid-auc:0.69044\tvalid-amex_metric:0.19555\n",
      "[20]\ttrain-auc:0.76241\ttrain-amex_metric:0.26483\tvalid-auc:0.73213\tvalid-amex_metric:0.23710\n"
     ]
    },
    {
     "name": "stderr",
     "output_type": "stream",
     "text": [
      "0it [00:05, ?it/s]\n",
      "\u001b[32m[I 2023-04-19 01:05:43,935]\u001b[0m Trial 30 finished with value: 0.6272246734201395 and parameters: {'max_depth': 10, 'eta': 1.2022364700739885e-05, 'min_child_weight': 5, 'subsample': 0.8083143128997676, 'colsample_bytree': 0.7553361948024155, 'lambda': 0.041480731635447826, 'alpha': 0.12030803912859282}. Best is trial 19 with value: 0.6604671786007604.\u001b[0m\n",
      "0it [00:00, ?it/s]"
     ]
    },
    {
     "name": "stdout",
     "output_type": "stream",
     "text": [
      "[0]\ttrain-auc:0.71405\ttrain-amex_metric:0.21815\tvalid-auc:0.68729\tvalid-amex_metric:0.19274\n",
      "[20]\ttrain-auc:0.76337\ttrain-amex_metric:0.26578\tvalid-auc:0.73262\tvalid-amex_metric:0.23783\n"
     ]
    },
    {
     "name": "stderr",
     "output_type": "stream",
     "text": [
      "0it [00:04, ?it/s]\n",
      "\u001b[32m[I 2023-04-19 01:05:48,928]\u001b[0m Trial 31 finished with value: 0.6257274352439999 and parameters: {'max_depth': 8, 'eta': 1.506180410996389e-06, 'min_child_weight': 1, 'subsample': 0.6610640736790818, 'colsample_bytree': 0.7980187618786321, 'lambda': 0.018007296040602895, 'alpha': 2.035968217870024e-05}. Best is trial 19 with value: 0.6604671786007604.\u001b[0m\n",
      "0it [00:00, ?it/s]"
     ]
    },
    {
     "name": "stdout",
     "output_type": "stream",
     "text": [
      "[0]\ttrain-auc:0.70987\ttrain-amex_metric:0.21330\tvalid-auc:0.68017\tvalid-amex_metric:0.18626\n",
      "[19]\ttrain-auc:0.76306\ttrain-amex_metric:0.26538\tvalid-auc:0.73399\tvalid-amex_metric:0.23932\n"
     ]
    },
    {
     "name": "stderr",
     "output_type": "stream",
     "text": [
      "0it [00:04, ?it/s]\n",
      "\u001b[32m[I 2023-04-19 01:05:53,851]\u001b[0m Trial 32 finished with value: 0.6268908385773473 and parameters: {'max_depth': 8, 'eta': 3.1367171491992605e-06, 'min_child_weight': 1, 'subsample': 0.5260729031639039, 'colsample_bytree': 0.7752637279866275, 'lambda': 0.005228968979853043, 'alpha': 2.691904329915909e-06}. Best is trial 19 with value: 0.6604671786007604.\u001b[0m\n",
      "0it [00:00, ?it/s]"
     ]
    },
    {
     "name": "stdout",
     "output_type": "stream",
     "text": [
      "[0]\ttrain-auc:0.69166\ttrain-amex_metric:0.21587\tvalid-auc:0.67332\tvalid-amex_metric:0.20079\n",
      "[20]\ttrain-auc:0.75169\ttrain-amex_metric:0.25455\tvalid-auc:0.72954\tvalid-amex_metric:0.23454\n"
     ]
    },
    {
     "name": "stderr",
     "output_type": "stream",
     "text": [
      "0it [00:04, ?it/s]\n",
      "\u001b[32m[I 2023-04-19 01:05:58,402]\u001b[0m Trial 33 finished with value: 0.6576743978012474 and parameters: {'max_depth': 7, 'eta': 1.6056140573828336e-07, 'min_child_weight': 2, 'subsample': 0.37163163361360185, 'colsample_bytree': 0.931724165451297, 'lambda': 0.0009807688489573295, 'alpha': 6.774305283488899e-05}. Best is trial 19 with value: 0.6604671786007604.\u001b[0m\n",
      "0it [00:00, ?it/s]"
     ]
    },
    {
     "name": "stdout",
     "output_type": "stream",
     "text": [
      "[0]\ttrain-auc:0.70907\ttrain-amex_metric:0.22058\tvalid-auc:0.68287\tvalid-amex_metric:0.19490\n",
      "[20]\ttrain-auc:0.76326\ttrain-amex_metric:0.26582\tvalid-auc:0.73170\tvalid-amex_metric:0.23687\n"
     ]
    },
    {
     "name": "stderr",
     "output_type": "stream",
     "text": [
      "0it [00:04, ?it/s]\n",
      "\u001b[32m[I 2023-04-19 01:06:03,478]\u001b[0m Trial 34 finished with value: 0.6577453980167837 and parameters: {'max_depth': 9, 'eta': 5.786440092396085e-07, 'min_child_weight': 3, 'subsample': 0.8010830858303601, 'colsample_bytree': 0.8206235221493303, 'lambda': 0.02804742161382991, 'alpha': 6.5915422282124145e-06}. Best is trial 19 with value: 0.6604671786007604.\u001b[0m\n",
      "0it [00:00, ?it/s]"
     ]
    },
    {
     "name": "stdout",
     "output_type": "stream",
     "text": [
      "[0]\ttrain-auc:0.71370\ttrain-amex_metric:0.21898\tvalid-auc:0.68620\tvalid-amex_metric:0.19365\n",
      "[20]\ttrain-auc:0.76049\ttrain-amex_metric:0.26385\tvalid-auc:0.73478\tvalid-amex_metric:0.24045\n"
     ]
    },
    {
     "name": "stderr",
     "output_type": "stream",
     "text": [
      "0it [00:04, ?it/s]\n",
      "\u001b[32m[I 2023-04-19 01:06:08,399]\u001b[0m Trial 35 finished with value: 0.6292085589069347 and parameters: {'max_depth': 10, 'eta': 1.860095236516748e-06, 'min_child_weight': 2, 'subsample': 0.6215276733912352, 'colsample_bytree': 0.6817918533502713, 'lambda': 1.9037007297657347, 'alpha': 4.1872824834687173e-07}. Best is trial 19 with value: 0.6604671786007604.\u001b[0m\n",
      "0it [00:00, ?it/s]"
     ]
    },
    {
     "name": "stdout",
     "output_type": "stream",
     "text": [
      "[0]\ttrain-auc:0.70473\ttrain-amex_metric:0.20908\tvalid-auc:0.68128\tvalid-amex_metric:0.18695\n",
      "[20]\ttrain-auc:0.76138\ttrain-amex_metric:0.26351\tvalid-auc:0.73242\tvalid-amex_metric:0.23791\n"
     ]
    },
    {
     "name": "stderr",
     "output_type": "stream",
     "text": [
      "0it [00:04, ?it/s]\n",
      "\u001b[32m[I 2023-04-19 01:06:13,057]\u001b[0m Trial 36 finished with value: 0.6258604549930479 and parameters: {'max_depth': 8, 'eta': 9.232184241953902e-06, 'min_child_weight': 1, 'subsample': 0.4245067972213163, 'colsample_bytree': 0.7307391334821965, 'lambda': 0.23281917557217766, 'alpha': 0.0006671243591273964}. Best is trial 19 with value: 0.6604671786007604.\u001b[0m\n",
      "0it [00:00, ?it/s]"
     ]
    },
    {
     "name": "stdout",
     "output_type": "stream",
     "text": [
      "[0]\ttrain-auc:0.70853\ttrain-amex_metric:0.21322\tvalid-auc:0.68860\tvalid-amex_metric:0.19201\n",
      "[20]\ttrain-auc:0.75101\ttrain-amex_metric:0.25436\tvalid-auc:0.73155\tvalid-amex_metric:0.23580\n"
     ]
    },
    {
     "name": "stderr",
     "output_type": "stream",
     "text": [
      "0it [00:04, ?it/s]\n",
      "\u001b[32m[I 2023-04-19 01:06:17,710]\u001b[0m Trial 37 finished with value: 0.6257786779590819 and parameters: {'max_depth': 7, 'eta': 3.5871402308204074e-05, 'min_child_weight': 7, 'subsample': 0.704410835449, 'colsample_bytree': 0.5385580621881508, 'lambda': 0.00017041586215999554, 'alpha': 0.0002504277238732764}. Best is trial 19 with value: 0.6604671786007604.\u001b[0m\n",
      "0it [00:00, ?it/s]"
     ]
    },
    {
     "name": "stdout",
     "output_type": "stream",
     "text": [
      "[0]\ttrain-auc:0.50000\ttrain-amex_metric:0.20563\tvalid-auc:0.50000\tvalid-amex_metric:0.19248\n",
      "[20]\ttrain-auc:0.73125\ttrain-amex_metric:0.25142\tvalid-auc:0.71509\tvalid-amex_metric:0.23789\n"
     ]
    },
    {
     "name": "stderr",
     "output_type": "stream",
     "text": [
      "0it [00:04, ?it/s]\n",
      "\u001b[32m[I 2023-04-19 01:06:22,017]\u001b[0m Trial 38 finished with value: 0.6614299429321681 and parameters: {'max_depth': 6, 'eta': 2.1500485485903008e-08, 'min_child_weight': 10, 'subsample': 0.7555819181541142, 'colsample_bytree': 0.6314833501417163, 'lambda': 0.08128015003118196, 'alpha': 1.2419149054853952e-05}. Best is trial 38 with value: 0.6614299429321681.\u001b[0m\n",
      "0it [00:00, ?it/s]"
     ]
    },
    {
     "name": "stdout",
     "output_type": "stream",
     "text": [
      "[0]\ttrain-auc:0.50000\ttrain-amex_metric:0.20131\tvalid-auc:0.50000\tvalid-amex_metric:0.18574\n",
      "[20]\ttrain-auc:0.72188\ttrain-amex_metric:0.24992\tvalid-auc:0.70657\tvalid-amex_metric:0.23554\n"
     ]
    },
    {
     "name": "stderr",
     "output_type": "stream",
     "text": [
      "0it [00:03, ?it/s]\n",
      "\u001b[32m[I 2023-04-19 01:06:26,103]\u001b[0m Trial 39 finished with value: 0.6602376253245372 and parameters: {'max_depth': 5, 'eta': 2.4379965120540643e-08, 'min_child_weight': 10, 'subsample': 0.9519652409032429, 'colsample_bytree': 0.4163702871609531, 'lambda': 0.0013471928658267023, 'alpha': 9.471906729463398e-06}. Best is trial 38 with value: 0.6614299429321681.\u001b[0m\n",
      "0it [00:00, ?it/s]"
     ]
    },
    {
     "name": "stdout",
     "output_type": "stream",
     "text": [
      "[0]\ttrain-auc:0.50000\ttrain-amex_metric:0.20185\tvalid-auc:0.50000\tvalid-amex_metric:0.18537\n",
      "[19]\ttrain-auc:0.72719\ttrain-amex_metric:0.24981\tvalid-auc:0.71215\tvalid-amex_metric:0.23561\n"
     ]
    },
    {
     "name": "stderr",
     "output_type": "stream",
     "text": [
      "0it [00:03, ?it/s]\n",
      "\u001b[32m[I 2023-04-19 01:06:30,227]\u001b[0m Trial 40 finished with value: 0.661957091357837 and parameters: {'max_depth': 5, 'eta': 3.148306405458881e-08, 'min_child_weight': 10, 'subsample': 0.9286502352428996, 'colsample_bytree': 0.4059417932316075, 'lambda': 0.00010576882545537816, 'alpha': 3.163309311694438e-07}. Best is trial 40 with value: 0.661957091357837.\u001b[0m\n",
      "0it [00:00, ?it/s]"
     ]
    },
    {
     "name": "stdout",
     "output_type": "stream",
     "text": [
      "[0]\ttrain-auc:0.50000\ttrain-amex_metric:0.20148\tvalid-auc:0.50000\tvalid-amex_metric:0.18674\n",
      "[20]\ttrain-auc:0.72155\ttrain-amex_metric:0.25063\tvalid-auc:0.70651\tvalid-amex_metric:0.23406\n"
     ]
    },
    {
     "name": "stderr",
     "output_type": "stream",
     "text": [
      "0it [00:03, ?it/s]\n",
      "\u001b[32m[I 2023-04-19 01:06:34,335]\u001b[0m Trial 41 finished with value: 0.6590064618648546 and parameters: {'max_depth': 5, 'eta': 2.4985798959408687e-08, 'min_child_weight': 10, 'subsample': 0.9914044924891079, 'colsample_bytree': 0.40771198318189916, 'lambda': 7.908444334289548e-05, 'alpha': 2.3162339889625932e-07}. Best is trial 40 with value: 0.661957091357837.\u001b[0m\n",
      "0it [00:00, ?it/s]"
     ]
    },
    {
     "name": "stdout",
     "output_type": "stream",
     "text": [
      "[0]\ttrain-auc:0.50000\ttrain-amex_metric:0.14298\tvalid-auc:0.50000\tvalid-amex_metric:0.12830\n",
      "[20]\ttrain-auc:0.62529\ttrain-amex_metric:0.24299\tvalid-auc:0.61772\tvalid-amex_metric:0.22386\n"
     ]
    },
    {
     "name": "stderr",
     "output_type": "stream",
     "text": [
      "0it [00:03, ?it/s]\n",
      "\u001b[32m[I 2023-04-19 01:06:38,131]\u001b[0m Trial 42 finished with value: 0.6136698306842082 and parameters: {'max_depth': 4, 'eta': 1.0073085239749659e-08, 'min_child_weight': 10, 'subsample': 0.9249557094380879, 'colsample_bytree': 0.26059913980669147, 'lambda': 4.6487345853979194e-05, 'alpha': 1.0658470830235062e-05}. Best is trial 40 with value: 0.661957091357837.\u001b[0m\n",
      "0it [00:00, ?it/s]"
     ]
    },
    {
     "name": "stdout",
     "output_type": "stream",
     "text": [
      "[0]\ttrain-auc:0.56803\ttrain-amex_metric:0.20201\tvalid-auc:0.55986\tvalid-amex_metric:0.18701\n",
      "[20]\ttrain-auc:0.74549\ttrain-amex_metric:0.25074\tvalid-auc:0.72761\tvalid-amex_metric:0.23514\n"
     ]
    },
    {
     "name": "stderr",
     "output_type": "stream",
     "text": [
      "0it [00:04, ?it/s]\n",
      "\u001b[32m[I 2023-04-19 01:06:42,421]\u001b[0m Trial 43 finished with value: 0.6238542762838148 and parameters: {'max_depth': 5, 'eta': 9.319986175882225e-08, 'min_child_weight': 10, 'subsample': 0.8935344313633311, 'colsample_bytree': 0.4234288574861599, 'lambda': 1.8627321795205083e-05, 'alpha': 1.6757714672463512e-07}. Best is trial 40 with value: 0.661957091357837.\u001b[0m\n",
      "0it [00:00, ?it/s]"
     ]
    },
    {
     "name": "stdout",
     "output_type": "stream",
     "text": [
      "[0]\ttrain-auc:0.50000\ttrain-amex_metric:0.13375\tvalid-auc:0.50000\tvalid-amex_metric:0.13153\n",
      "[20]\ttrain-auc:0.63658\ttrain-amex_metric:0.23415\tvalid-auc:0.62821\tvalid-amex_metric:0.21865\n"
     ]
    },
    {
     "name": "stderr",
     "output_type": "stream",
     "text": [
      "0it [00:03, ?it/s]\n",
      "\u001b[32m[I 2023-04-19 01:06:46,124]\u001b[0m Trial 44 finished with value: 0.6226117372935677 and parameters: {'max_depth': 3, 'eta': 1.1849390529740147e-08, 'min_child_weight': 9, 'subsample': 0.9393317315523606, 'colsample_bytree': 0.32232133200517166, 'lambda': 0.0013293634867461526, 'alpha': 2.5014693114563774e-08}. Best is trial 40 with value: 0.661957091357837.\u001b[0m\n",
      "0it [00:00, ?it/s]"
     ]
    },
    {
     "name": "stdout",
     "output_type": "stream",
     "text": [
      "[0]\ttrain-auc:0.50000\ttrain-amex_metric:0.20570\tvalid-auc:0.50000\tvalid-amex_metric:0.19323\n",
      "[20]\ttrain-auc:0.72959\ttrain-amex_metric:0.25173\tvalid-auc:0.71071\tvalid-amex_metric:0.23536\n"
     ]
    },
    {
     "name": "stderr",
     "output_type": "stream",
     "text": [
      "0it [00:04, ?it/s]\n",
      "\u001b[32m[I 2023-04-19 01:06:50,464]\u001b[0m Trial 45 finished with value: 0.6593155029815865 and parameters: {'max_depth': 6, 'eta': 2.3656546062631673e-08, 'min_child_weight': 9, 'subsample': 0.787335368069593, 'colsample_bytree': 0.5429481092332635, 'lambda': 0.00029879195858564133, 'alpha': 4.535369401371012e-06}. Best is trial 40 with value: 0.661957091357837.\u001b[0m\n",
      "0it [00:00, ?it/s]"
     ]
    },
    {
     "name": "stdout",
     "output_type": "stream",
     "text": [
      "[0]\ttrain-auc:0.54026\ttrain-amex_metric:0.19637\tvalid-auc:0.53932\tvalid-amex_metric:0.18316\n",
      "[20]\ttrain-auc:0.73135\ttrain-amex_metric:0.24516\tvalid-auc:0.71655\tvalid-amex_metric:0.23355\n"
     ]
    },
    {
     "name": "stderr",
     "output_type": "stream",
     "text": [
      "0it [00:03, ?it/s]\n",
      "\u001b[32m[I 2023-04-19 01:06:54,605]\u001b[0m Trial 46 finished with value: 0.6571728179055781 and parameters: {'max_depth': 4, 'eta': 6.854370696183455e-08, 'min_child_weight': 9, 'subsample': 0.8492057507546148, 'colsample_bytree': 0.47717743770157384, 'lambda': 2.0203138809981363e-06, 'alpha': 4.861035863665481e-07}. Best is trial 40 with value: 0.661957091357837.\u001b[0m\n",
      "0it [00:00, ?it/s]"
     ]
    },
    {
     "name": "stdout",
     "output_type": "stream",
     "text": [
      "[0]\ttrain-auc:0.62184\ttrain-amex_metric:0.14334\tvalid-auc:0.61210\tvalid-amex_metric:0.12916\n",
      "[20]\ttrain-auc:0.74007\ttrain-amex_metric:0.24524\tvalid-auc:0.71737\tvalid-amex_metric:0.22492\n"
     ]
    },
    {
     "name": "stderr",
     "output_type": "stream",
     "text": [
      "0it [00:03, ?it/s]\n",
      "\u001b[32m[I 2023-04-19 01:06:58,730]\u001b[0m Trial 47 finished with value: 0.5987136845871774 and parameters: {'max_depth': 5, 'eta': 5.678352803148219e-07, 'min_child_weight': 8, 'subsample': 0.7583084455552596, 'colsample_bytree': 0.3652916734271722, 'lambda': 0.0012751317690797362, 'alpha': 7.129571560062886e-08}. Best is trial 40 with value: 0.661957091357837.\u001b[0m\n",
      "0it [00:00, ?it/s]"
     ]
    },
    {
     "name": "stdout",
     "output_type": "stream",
     "text": [
      "[0]\ttrain-auc:0.50000\ttrain-amex_metric:0.13382\tvalid-auc:0.50000\tvalid-amex_metric:0.13283\n",
      "[20]\ttrain-auc:0.66998\ttrain-amex_metric:0.23396\tvalid-auc:0.66291\tvalid-amex_metric:0.22049\n"
     ]
    },
    {
     "name": "stderr",
     "output_type": "stream",
     "text": [
      "0it [00:03, ?it/s]\n",
      "\u001b[32m[I 2023-04-19 01:07:02,417]\u001b[0m Trial 48 finished with value: 0.6463645494796838 and parameters: {'max_depth': 3, 'eta': 1.917277457667691e-08, 'min_child_weight': 10, 'subsample': 0.9281158322458238, 'colsample_bytree': 0.2785614436917909, 'lambda': 0.0001373857858063785, 'alpha': 1.3076388114879153e-08}. Best is trial 40 with value: 0.661957091357837.\u001b[0m\n",
      "0it [00:00, ?it/s]"
     ]
    },
    {
     "name": "stdout",
     "output_type": "stream",
     "text": [
      "[0]\ttrain-auc:0.50000\ttrain-amex_metric:0.07116\tvalid-auc:0.50000\tvalid-amex_metric:0.07515\n",
      "[20]\ttrain-auc:0.67998\ttrain-amex_metric:0.19699\tvalid-auc:0.66110\tvalid-amex_metric:0.17823\n"
     ]
    },
    {
     "name": "stderr",
     "output_type": "stream",
     "text": [
      "0it [00:03, ?it/s]\n",
      "\u001b[32m[I 2023-04-19 01:07:06,070]\u001b[0m Trial 49 finished with value: 0.5516229325061244 and parameters: {'max_depth': 5, 'eta': 1.0212102564239635e-07, 'min_child_weight': 7, 'subsample': 0.3579853567265138, 'colsample_bytree': 0.14043796597540575, 'lambda': 0.0005245784943776074, 'alpha': 1.479304994841749e-05}. Best is trial 40 with value: 0.661957091357837.\u001b[0m\n",
      "0it [00:00, ?it/s]"
     ]
    },
    {
     "name": "stdout",
     "output_type": "stream",
     "text": [
      "[0]\ttrain-auc:0.50000\ttrain-amex_metric:0.20706\tvalid-auc:0.50000\tvalid-amex_metric:0.19499\n",
      "[20]\ttrain-auc:0.68507\ttrain-amex_metric:0.25233\tvalid-auc:0.67003\tvalid-amex_metric:0.23476\n"
     ]
    },
    {
     "name": "stderr",
     "output_type": "stream",
     "text": [
      "0it [00:04, ?it/s]\n",
      "\u001b[32m[I 2023-04-19 01:07:10,433]\u001b[0m Trial 50 finished with value: 0.6484559214038884 and parameters: {'max_depth': 6, 'eta': 1.0046004748345765e-08, 'min_child_weight': 6, 'subsample': 0.8841432307696714, 'colsample_bytree': 0.6129167905612785, 'lambda': 0.007339605996795913, 'alpha': 9.355130116971143e-05}. Best is trial 40 with value: 0.661957091357837.\u001b[0m\n",
      "0it [00:00, ?it/s]"
     ]
    },
    {
     "name": "stdout",
     "output_type": "stream",
     "text": [
      "[0]\ttrain-auc:0.50000\ttrain-amex_metric:0.20575\tvalid-auc:0.50000\tvalid-amex_metric:0.19303\n",
      "[19]\ttrain-auc:0.73014\ttrain-amex_metric:0.25127\tvalid-auc:0.71337\tvalid-amex_metric:0.23386\n"
     ]
    },
    {
     "name": "stderr",
     "output_type": "stream",
     "text": [
      "0it [00:04, ?it/s]\n",
      "\u001b[32m[I 2023-04-19 01:07:14,753]\u001b[0m Trial 51 finished with value: 0.6582297561339819 and parameters: {'max_depth': 6, 'eta': 2.654754133868258e-08, 'min_child_weight': 9, 'subsample': 0.7838635482755378, 'colsample_bytree': 0.5292415139143443, 'lambda': 2.0130277709043345e-05, 'alpha': 2.852423973739823e-06}. Best is trial 40 with value: 0.661957091357837.\u001b[0m\n",
      "0it [00:00, ?it/s]"
     ]
    },
    {
     "name": "stdout",
     "output_type": "stream",
     "text": [
      "[0]\ttrain-auc:0.50000\ttrain-amex_metric:0.19911\tvalid-auc:0.50000\tvalid-amex_metric:0.19036\n",
      "[19]\ttrain-auc:0.73448\ttrain-amex_metric:0.24802\tvalid-auc:0.72062\tvalid-amex_metric:0.23461\n"
     ]
    },
    {
     "name": "stderr",
     "output_type": "stream",
     "text": [
      "0it [00:04, ?it/s]\n",
      "\u001b[32m[I 2023-04-19 01:07:19,214]\u001b[0m Trial 52 finished with value: 0.6592807424593968 and parameters: {'max_depth': 5, 'eta': 5.032932605778168e-08, 'min_child_weight': 9, 'subsample': 0.847302440818746, 'colsample_bytree': 0.5862118741403912, 'lambda': 0.0002996023399520055, 'alpha': 7.00458586009467e-06}. Best is trial 40 with value: 0.661957091357837.\u001b[0m\n",
      "0it [00:00, ?it/s]"
     ]
    },
    {
     "name": "stdout",
     "output_type": "stream",
     "text": [
      "[0]\ttrain-auc:0.50000\ttrain-amex_metric:0.21076\tvalid-auc:0.50000\tvalid-amex_metric:0.19062\n",
      "[20]\ttrain-auc:0.71593\ttrain-amex_metric:0.25246\tvalid-auc:0.69960\tvalid-amex_metric:0.23654\n"
     ]
    },
    {
     "name": "stderr",
     "output_type": "stream",
     "text": [
      "0it [00:04, ?it/s]\n",
      "\u001b[32m[I 2023-04-19 01:07:23,423]\u001b[0m Trial 53 finished with value: 0.6589197542603651 and parameters: {'max_depth': 6, 'eta': 1.7615359413780483e-08, 'min_child_weight': 10, 'subsample': 0.9801709591512107, 'colsample_bytree': 0.4681153361535654, 'lambda': 0.0032219523037197878, 'alpha': 3.883794051575682e-06}. Best is trial 40 with value: 0.661957091357837.\u001b[0m\n",
      "0it [00:00, ?it/s]"
     ]
    },
    {
     "name": "stdout",
     "output_type": "stream",
     "text": [
      "[0]\ttrain-auc:0.67532\ttrain-amex_metric:0.19640\tvalid-auc:0.66148\tvalid-amex_metric:0.18320\n",
      "[20]\ttrain-auc:0.73520\ttrain-amex_metric:0.24529\tvalid-auc:0.72199\tvalid-amex_metric:0.23166\n"
     ]
    },
    {
     "name": "stderr",
     "output_type": "stream",
     "text": [
      "0it [00:04, ?it/s]\n",
      "\u001b[32m[I 2023-04-19 01:07:27,653]\u001b[0m Trial 54 finished with value: 0.6062460819573521 and parameters: {'max_depth': 4, 'eta': 1.57996762123489e-07, 'min_child_weight': 9, 'subsample': 0.7509897090694498, 'colsample_bytree': 0.39609666795441556, 'lambda': 0.07606831859652942, 'alpha': 8.518433909504995e-07}. Best is trial 40 with value: 0.661957091357837.\u001b[0m\n",
      "0it [00:00, ?it/s]"
     ]
    },
    {
     "name": "stdout",
     "output_type": "stream",
     "text": [
      "[0]\ttrain-auc:0.70002\ttrain-amex_metric:0.21159\tvalid-auc:0.68287\tvalid-amex_metric:0.19394\n",
      "[19]\ttrain-auc:0.74917\ttrain-amex_metric:0.25243\tvalid-auc:0.73002\tvalid-amex_metric:0.23416\n"
     ]
    },
    {
     "name": "stderr",
     "output_type": "stream",
     "text": [
      "0it [00:04, ?it/s]\n",
      "\u001b[32m[I 2023-04-19 01:07:31,996]\u001b[0m Trial 55 finished with value: 0.6233799553994678 and parameters: {'max_depth': 6, 'eta': 4.840661846717371e-07, 'min_child_weight': 8, 'subsample': 0.956252008747043, 'colsample_bytree': 0.4387656221297158, 'lambda': 0.0005162826712018813, 'alpha': 0.007040113283528611}. Best is trial 40 with value: 0.661957091357837.\u001b[0m\n",
      "0it [00:00, ?it/s]"
     ]
    },
    {
     "name": "stdout",
     "output_type": "stream",
     "text": [
      "[0]\ttrain-auc:0.54529\ttrain-amex_metric:0.19979\tvalid-auc:0.53982\tvalid-amex_metric:0.18457\n",
      "[20]\ttrain-auc:0.73545\ttrain-amex_metric:0.24868\tvalid-auc:0.72283\tvalid-amex_metric:0.23491\n"
     ]
    },
    {
     "name": "stderr",
     "output_type": "stream",
     "text": [
      "0it [00:04, ?it/s]\n",
      "\u001b[32m[I 2023-04-19 01:07:36,166]\u001b[0m Trial 56 finished with value: 0.6605531818380322 and parameters: {'max_depth': 5, 'eta': 6.169910390015637e-08, 'min_child_weight': 10, 'subsample': 0.5920490540972029, 'colsample_bytree': 0.516263715279629, 'lambda': 5.337054040376878e-05, 'alpha': 0.0001353069004723069}. Best is trial 40 with value: 0.661957091357837.\u001b[0m\n",
      "0it [00:00, ?it/s]"
     ]
    },
    {
     "name": "stdout",
     "output_type": "stream",
     "text": [
      "[0]\ttrain-auc:0.54529\ttrain-amex_metric:0.19983\tvalid-auc:0.53982\tvalid-amex_metric:0.18486\n",
      "[19]\ttrain-auc:0.73416\ttrain-amex_metric:0.24861\tvalid-auc:0.72127\tvalid-amex_metric:0.23531\n"
     ]
    },
    {
     "name": "stderr",
     "output_type": "stream",
     "text": [
      "0it [00:04, ?it/s]\n",
      "\u001b[32m[I 2023-04-19 01:07:40,335]\u001b[0m Trial 57 finished with value: 0.660306125036451 and parameters: {'max_depth': 5, 'eta': 5.762846364907527e-08, 'min_child_weight': 10, 'subsample': 0.5875930706309307, 'colsample_bytree': 0.507320987431066, 'lambda': 1.817299312136363e-05, 'alpha': 0.00019497275809754905}. Best is trial 40 with value: 0.661957091357837.\u001b[0m\n",
      "0it [00:00, ?it/s]"
     ]
    },
    {
     "name": "stdout",
     "output_type": "stream",
     "text": [
      "[0]\ttrain-auc:0.50000\ttrain-amex_metric:0.19458\tvalid-auc:0.50000\tvalid-amex_metric:0.18348\n",
      "[20]\ttrain-auc:0.72850\ttrain-amex_metric:0.24557\tvalid-auc:0.71637\tvalid-amex_metric:0.23562\n"
     ]
    },
    {
     "name": "stderr",
     "output_type": "stream",
     "text": [
      "0it [00:03, ?it/s]\n",
      "\u001b[32m[I 2023-04-19 01:07:44,459]\u001b[0m Trial 58 finished with value: 0.6609018788291163 and parameters: {'max_depth': 4, 'eta': 4.5042061645826806e-08, 'min_child_weight': 10, 'subsample': 0.5829292657267009, 'colsample_bytree': 0.4999052668213774, 'lambda': 2.5210190337921477e-06, 'alpha': 2.1055830861082925e-05}. Best is trial 40 with value: 0.661957091357837.\u001b[0m\n",
      "0it [00:00, ?it/s]"
     ]
    },
    {
     "name": "stdout",
     "output_type": "stream",
     "text": [
      "[0]\ttrain-auc:0.50000\ttrain-amex_metric:0.18807\tvalid-auc:0.50000\tvalid-amex_metric:0.18043\n",
      "[20]\ttrain-auc:0.72079\ttrain-amex_metric:0.23186\tvalid-auc:0.70943\tvalid-amex_metric:0.22519\n"
     ]
    },
    {
     "name": "stderr",
     "output_type": "stream",
     "text": [
      "0it [00:03, ?it/s]\n",
      "\u001b[32m[I 2023-04-19 01:07:48,256]\u001b[0m Trial 59 finished with value: 0.6563770942598298 and parameters: {'max_depth': 3, 'eta': 6.161836879089176e-08, 'min_child_weight': 10, 'subsample': 0.57018066103755, 'colsample_bytree': 0.51030966162059, 'lambda': 1.9167628540177497e-07, 'alpha': 0.00015628282316374067}. Best is trial 40 with value: 0.661957091357837.\u001b[0m\n",
      "0it [00:00, ?it/s]"
     ]
    },
    {
     "name": "stdout",
     "output_type": "stream",
     "text": [
      "[0]\ttrain-auc:0.68995\ttrain-amex_metric:0.19444\tvalid-auc:0.67442\tvalid-amex_metric:0.18422\n",
      "[19]\ttrain-auc:0.74084\ttrain-amex_metric:0.24416\tvalid-auc:0.72575\tvalid-amex_metric:0.23115\n"
     ]
    },
    {
     "name": "stderr",
     "output_type": "stream",
     "text": [
      "0it [00:04, ?it/s]\n",
      "\u001b[32m[I 2023-04-19 01:07:52,435]\u001b[0m Trial 60 finished with value: 0.6237914819463639 and parameters: {'max_depth': 4, 'eta': 0.013757257770331589, 'min_child_weight': 10, 'subsample': 0.6177262589099173, 'colsample_bytree': 0.646425475839443, 'lambda': 2.582735895876918e-06, 'alpha': 3.2344795125310714e-05}. Best is trial 40 with value: 0.661957091357837.\u001b[0m\n",
      "0it [00:00, ?it/s]"
     ]
    },
    {
     "name": "stdout",
     "output_type": "stream",
     "text": [
      "[0]\ttrain-auc:0.54529\ttrain-amex_metric:0.19931\tvalid-auc:0.53982\tvalid-amex_metric:0.18531\n",
      "[20]\ttrain-auc:0.73497\ttrain-amex_metric:0.24936\tvalid-auc:0.72084\tvalid-amex_metric:0.23638\n",
      "[21]\ttrain-auc:0.73471\ttrain-amex_metric:0.24842\tvalid-auc:0.71949\tvalid-amex_metric:0.23533\n"
     ]
    },
    {
     "name": "stderr",
     "output_type": "stream",
     "text": [
      "0it [00:04, ?it/s]\n",
      "\u001b[32m[I 2023-04-19 01:07:56,713]\u001b[0m Trial 61 finished with value: 0.659183152381395 and parameters: {'max_depth': 5, 'eta': 6.411159910482411e-08, 'min_child_weight': 10, 'subsample': 0.5391257866303902, 'colsample_bytree': 0.4622802976465169, 'lambda': 4.027187169523625e-06, 'alpha': 0.00046893602784642865}. Best is trial 40 with value: 0.661957091357837.\u001b[0m\n",
      "0it [00:00, ?it/s]"
     ]
    },
    {
     "name": "stdout",
     "output_type": "stream",
     "text": [
      "[0]\ttrain-auc:0.50000\ttrain-amex_metric:0.19461\tvalid-auc:0.50000\tvalid-amex_metric:0.18414\n",
      "[20]\ttrain-auc:0.72735\ttrain-amex_metric:0.24551\tvalid-auc:0.71528\tvalid-amex_metric:0.23512\n"
     ]
    },
    {
     "name": "stderr",
     "output_type": "stream",
     "text": [
      "0it [00:03, ?it/s]\n",
      "\u001b[32m[I 2023-04-19 01:08:00,647]\u001b[0m Trial 62 finished with value: 0.6590642551950604 and parameters: {'max_depth': 4, 'eta': 3.9028822068969507e-08, 'min_child_weight': 10, 'subsample': 0.5909211898529109, 'colsample_bytree': 0.5713881311636425, 'lambda': 1.2424062129253543e-05, 'alpha': 8.583191485222219e-05}. Best is trial 40 with value: 0.661957091357837.\u001b[0m\n",
      "0it [00:00, ?it/s]"
     ]
    },
    {
     "name": "stdout",
     "output_type": "stream",
     "text": [
      "[0]\ttrain-auc:0.67286\ttrain-amex_metric:0.20157\tvalid-auc:0.66155\tvalid-amex_metric:0.18267\n",
      "[20]\ttrain-auc:0.74340\ttrain-amex_metric:0.24857\tvalid-auc:0.72903\tvalid-amex_metric:0.23532\n"
     ]
    },
    {
     "name": "stderr",
     "output_type": "stream",
     "text": [
      "0it [00:03, ?it/s]\n",
      "\u001b[32m[I 2023-04-19 01:08:04,695]\u001b[0m Trial 63 finished with value: 0.626366190655301 and parameters: {'max_depth': 5, 'eta': 1.5975443960122763e-07, 'min_child_weight': 9, 'subsample': 0.4375844046540595, 'colsample_bytree': 0.5087179611862773, 'lambda': 6.870831993814711e-07, 'alpha': 2.1113380576570742e-05}. Best is trial 40 with value: 0.661957091357837.\u001b[0m\n",
      "0it [00:00, ?it/s]"
     ]
    },
    {
     "name": "stdout",
     "output_type": "stream",
     "text": [
      "[0]\ttrain-auc:0.50000\ttrain-amex_metric:0.19374\tvalid-auc:0.50000\tvalid-amex_metric:0.18362\n",
      "[20]\ttrain-auc:0.69068\ttrain-amex_metric:0.24539\tvalid-auc:0.67998\tvalid-amex_metric:0.23179\n",
      "[21]\ttrain-auc:0.69084\ttrain-amex_metric:0.24486\tvalid-auc:0.67967\tvalid-amex_metric:0.23180\n"
     ]
    },
    {
     "name": "stderr",
     "output_type": "stream",
     "text": [
      "0it [00:03, ?it/s]\n",
      "\u001b[32m[I 2023-04-19 01:08:08,741]\u001b[0m Trial 64 finished with value: 0.6507859329414234 and parameters: {'max_depth': 4, 'eta': 1.3879920077614658e-08, 'min_child_weight': 10, 'subsample': 0.7047665238034546, 'colsample_bytree': 0.43264895071036746, 'lambda': 2.6155370468760842e-05, 'alpha': 5.9848960368200424e-05}. Best is trial 40 with value: 0.661957091357837.\u001b[0m\n",
      "0it [00:00, ?it/s]"
     ]
    },
    {
     "name": "stdout",
     "output_type": "stream",
     "text": [
      "[0]\ttrain-auc:0.68664\ttrain-amex_metric:0.19935\tvalid-auc:0.66805\tvalid-amex_metric:0.18446\n",
      "[20]\ttrain-auc:0.73964\ttrain-amex_metric:0.24949\tvalid-auc:0.72381\tvalid-amex_metric:0.23542\n",
      "[21]\ttrain-auc:0.73932\ttrain-amex_metric:0.24946\tvalid-auc:0.72298\tvalid-amex_metric:0.23522\n"
     ]
    },
    {
     "name": "stderr",
     "output_type": "stream",
     "text": [
      "0it [00:04, ?it/s]\n",
      "\u001b[32m[I 2023-04-19 01:08:13,025]\u001b[0m Trial 65 finished with value: 0.6075483160692928 and parameters: {'max_depth': 5, 'eta': 2.714025547382634e-07, 'min_child_weight': 9, 'subsample': 0.5481988848661205, 'colsample_bytree': 0.3801239105369264, 'lambda': 4.0842960259382975e-05, 'alpha': 0.0016680810660603938}. Best is trial 40 with value: 0.661957091357837.\u001b[0m\n",
      "0it [00:00, ?it/s]"
     ]
    },
    {
     "name": "stdout",
     "output_type": "stream",
     "text": [
      "[0]\ttrain-auc:0.50000\ttrain-amex_metric:0.19225\tvalid-auc:0.50000\tvalid-amex_metric:0.18619\n",
      "[19]\ttrain-auc:0.72509\ttrain-amex_metric:0.24460\tvalid-auc:0.71253\tvalid-amex_metric:0.23461\n"
     ]
    },
    {
     "name": "stderr",
     "output_type": "stream",
     "text": [
      "0it [00:03, ?it/s]\n",
      "\u001b[32m[I 2023-04-19 01:08:17,022]\u001b[0m Trial 66 finished with value: 0.6605515617934317 and parameters: {'max_depth': 4, 'eta': 3.531921289565098e-08, 'min_child_weight': 8, 'subsample': 0.597056742684782, 'colsample_bytree': 0.6034508008495078, 'lambda': 7.446744550791566e-06, 'alpha': 0.00031261627238299663}. Best is trial 40 with value: 0.661957091357837.\u001b[0m\n",
      "0it [00:00, ?it/s]"
     ]
    },
    {
     "name": "stdout",
     "output_type": "stream",
     "text": [
      "[0]\ttrain-auc:0.50000\ttrain-amex_metric:0.18769\tvalid-auc:0.50000\tvalid-amex_metric:0.18005\n",
      "[20]\ttrain-auc:0.71072\ttrain-amex_metric:0.22665\tvalid-auc:0.69789\tvalid-amex_metric:0.21807\n"
     ]
    },
    {
     "name": "stderr",
     "output_type": "stream",
     "text": [
      "0it [00:03, ?it/s]\n",
      "\u001b[32m[I 2023-04-19 01:08:20,775]\u001b[0m Trial 67 finished with value: 0.6456387694986455 and parameters: {'max_depth': 3, 'eta': 4.2551582881024983e-08, 'min_child_weight': 8, 'subsample': 0.5944860919454119, 'colsample_bytree': 0.6659437644238753, 'lambda': 8.130425833432742e-06, 'alpha': 0.00016103697462917414}. Best is trial 40 with value: 0.661957091357837.\u001b[0m\n",
      "0it [00:00, ?it/s]"
     ]
    },
    {
     "name": "stdout",
     "output_type": "stream",
     "text": [
      "[0]\ttrain-auc:0.64114\ttrain-amex_metric:0.14531\tvalid-auc:0.62687\tvalid-amex_metric:0.13616\n",
      "[20]\ttrain-auc:0.71952\ttrain-amex_metric:0.22443\tvalid-auc:0.70979\tvalid-amex_metric:0.21718\n"
     ]
    },
    {
     "name": "stderr",
     "output_type": "stream",
     "text": [
      "0it [00:15, ?it/s]\n",
      "\u001b[32m[I 2023-04-19 01:08:36,533]\u001b[0m Trial 68 finished with value: 0.5847205141317194 and parameters: {'max_depth': 2, 'eta': 7.24182175393196e-07, 'min_child_weight': 7, 'subsample': 0.4977412626674589, 'colsample_bytree': 0.5898371895519343, 'lambda': 1.1740724091270948e-06, 'alpha': 0.00035513697603880613}. Best is trial 40 with value: 0.661957091357837.\u001b[0m\n",
      "0it [00:00, ?it/s]"
     ]
    },
    {
     "name": "stdout",
     "output_type": "stream",
     "text": [
      "[0]\ttrain-auc:0.60697\ttrain-amex_metric:0.19243\tvalid-auc:0.59525\tvalid-amex_metric:0.18666\n",
      "[19]\ttrain-auc:0.73309\ttrain-amex_metric:0.24411\tvalid-auc:0.72150\tvalid-amex_metric:0.23272\n"
     ]
    },
    {
     "name": "stderr",
     "output_type": "stream",
     "text": [
      "0it [00:12, ?it/s]\n",
      "\u001b[32m[I 2023-04-19 01:08:49,595]\u001b[0m Trial 69 finished with value: 0.6582915995756892 and parameters: {'max_depth': 4, 'eta': 1.0570758044962467e-07, 'min_child_weight': 8, 'subsample': 0.642968973907322, 'colsample_bytree': 0.5609862563341245, 'lambda': 1.1502668108855676e-07, 'alpha': 0.000956888252380926}. Best is trial 40 with value: 0.661957091357837.\u001b[0m\n",
      "0it [00:00, ?it/s]"
     ]
    },
    {
     "name": "stdout",
     "output_type": "stream",
     "text": [
      "[0]\ttrain-auc:0.68117\ttrain-amex_metric:0.18785\tvalid-auc:0.66533\tvalid-amex_metric:0.18046\n",
      "[20]\ttrain-auc:0.72594\ttrain-amex_metric:0.23167\tvalid-auc:0.71466\tvalid-amex_metric:0.22449\n"
     ]
    },
    {
     "name": "stderr",
     "output_type": "stream",
     "text": [
      "0it [00:12, ?it/s]\n",
      "\u001b[32m[I 2023-04-19 01:09:02,735]\u001b[0m Trial 70 finished with value: 0.5959017802177058 and parameters: {'max_depth': 3, 'eta': 3.3570692224338066e-07, 'min_child_weight': 9, 'subsample': 0.6870344962958711, 'colsample_bytree': 0.6017654667855322, 'lambda': 5.267330191519255e-06, 'alpha': 0.0017088396577191508}. Best is trial 40 with value: 0.661957091357837.\u001b[0m\n",
      "0it [00:00, ?it/s]"
     ]
    },
    {
     "name": "stdout",
     "output_type": "stream",
     "text": [
      "[0]\ttrain-auc:0.50000\ttrain-amex_metric:0.19867\tvalid-auc:0.50000\tvalid-amex_metric:0.18392\n",
      "[19]\ttrain-auc:0.71571\ttrain-amex_metric:0.24790\tvalid-auc:0.70177\tvalid-amex_metric:0.23472\n"
     ]
    },
    {
     "name": "stderr",
     "output_type": "stream",
     "text": [
      "0it [00:14, ?it/s]\n",
      "\u001b[32m[I 2023-04-19 01:09:17,417]\u001b[0m Trial 71 finished with value: 0.6583843295198893 and parameters: {'max_depth': 5, 'eta': 1.7975843900040863e-08, 'min_child_weight': 10, 'subsample': 0.4632285943285649, 'colsample_bytree': 0.5145074092505886, 'lambda': 8.988962754156264e-05, 'alpha': 4.109289873449418e-05}. Best is trial 40 with value: 0.661957091357837.\u001b[0m\n",
      "0it [00:00, ?it/s]"
     ]
    },
    {
     "name": "stdout",
     "output_type": "stream",
     "text": [
      "[0]\ttrain-auc:0.50000\ttrain-amex_metric:0.19443\tvalid-auc:0.50000\tvalid-amex_metric:0.18404\n",
      "[20]\ttrain-auc:0.72082\ttrain-amex_metric:0.24513\tvalid-auc:0.70849\tvalid-amex_metric:0.23367\n"
     ]
    },
    {
     "name": "stderr",
     "output_type": "stream",
     "text": [
      "0it [00:13, ?it/s]\n",
      "\u001b[32m[I 2023-04-19 01:09:31,690]\u001b[0m Trial 72 finished with value: 0.6602665043804598 and parameters: {'max_depth': 4, 'eta': 3.273340536264102e-08, 'min_child_weight': 10, 'subsample': 0.5197965995631555, 'colsample_bytree': 0.45055711988888286, 'lambda': 8.162484683958093e-06, 'alpha': 1.0592088185433642e-05}. Best is trial 40 with value: 0.661957091357837.\u001b[0m\n",
      "0it [00:00, ?it/s]"
     ]
    },
    {
     "name": "stdout",
     "output_type": "stream",
     "text": [
      "[0]\ttrain-auc:0.50000\ttrain-amex_metric:0.19460\tvalid-auc:0.50000\tvalid-amex_metric:0.18414\n",
      "[20]\ttrain-auc:0.72852\ttrain-amex_metric:0.24625\tvalid-auc:0.71612\tvalid-amex_metric:0.23503\n",
      "[21]\ttrain-auc:0.72826\ttrain-amex_metric:0.24549\tvalid-auc:0.71512\tvalid-amex_metric:0.23376\n"
     ]
    },
    {
     "name": "stderr",
     "output_type": "stream",
     "text": [
      "0it [00:13, ?it/s]\n",
      "\u001b[32m[I 2023-04-19 01:09:45,567]\u001b[0m Trial 73 finished with value: 0.6598590983817867 and parameters: {'max_depth': 4, 'eta': 4.705963770908248e-08, 'min_child_weight': 10, 'subsample': 0.5627825987771021, 'colsample_bytree': 0.47651687183342656, 'lambda': 8.300887628301442e-06, 'alpha': 0.00020108894139475822}. Best is trial 40 with value: 0.661957091357837.\u001b[0m\n",
      "0it [00:00, ?it/s]"
     ]
    },
    {
     "name": "stdout",
     "output_type": "stream",
     "text": [
      "[0]\ttrain-auc:0.50000\ttrain-amex_metric:0.19462\tvalid-auc:0.50000\tvalid-amex_metric:0.18407\n",
      "[20]\ttrain-auc:0.69339\ttrain-amex_metric:0.24338\tvalid-auc:0.68068\tvalid-amex_metric:0.23241\n"
     ]
    },
    {
     "name": "stderr",
     "output_type": "stream",
     "text": [
      "0it [00:12, ?it/s]\n",
      "\u001b[32m[I 2023-04-19 01:09:58,899]\u001b[0m Trial 74 finished with value: 0.6490144141707415 and parameters: {'max_depth': 4, 'eta': 1.002981972219308e-08, 'min_child_weight': 9, 'subsample': 0.5166433236388419, 'colsample_bytree': 0.6450165749547202, 'lambda': 3.0243632733910888e-05, 'alpha': 2.134291496414101e-05}. Best is trial 40 with value: 0.661957091357837.\u001b[0m\n",
      "0it [00:00, ?it/s]"
     ]
    },
    {
     "name": "stdout",
     "output_type": "stream",
     "text": [
      "[0]\ttrain-auc:0.67694\ttrain-amex_metric:0.18805\tvalid-auc:0.66314\tvalid-amex_metric:0.18043\n",
      "[20]\ttrain-auc:0.72928\ttrain-amex_metric:0.22760\tvalid-auc:0.71972\tvalid-amex_metric:0.21997\n",
      "[21]\ttrain-auc:0.72933\ttrain-amex_metric:0.22752\tvalid-auc:0.71971\tvalid-amex_metric:0.21903\n"
     ]
    },
    {
     "name": "stderr",
     "output_type": "stream",
     "text": [
      "0it [00:12, ?it/s]\n",
      "\u001b[32m[I 2023-04-19 01:10:11,836]\u001b[0m Trial 75 finished with value: 0.6057568989247131 and parameters: {'max_depth': 3, 'eta': 1.8155424548656156e-07, 'min_child_weight': 10, 'subsample': 0.5980130444395965, 'colsample_bytree': 0.4525398912803001, 'lambda': 1.2147823170183265e-05, 'alpha': 0.00043468251867617437}. Best is trial 40 with value: 0.661957091357837.\u001b[0m\n",
      "0it [00:00, ?it/s]"
     ]
    },
    {
     "name": "stdout",
     "output_type": "stream",
     "text": [
      "[0]\ttrain-auc:0.68857\ttrain-amex_metric:0.19378\tvalid-auc:0.67320\tvalid-amex_metric:0.18582\n",
      "[19]\ttrain-auc:0.73934\ttrain-amex_metric:0.24274\tvalid-auc:0.72494\tvalid-amex_metric:0.22992\n"
     ]
    },
    {
     "name": "stderr",
     "output_type": "stream",
     "text": [
      "0it [00:10, ?it/s]\n",
      "\u001b[32m[I 2023-04-19 01:10:22,931]\u001b[0m Trial 76 finished with value: 0.622105860757871 and parameters: {'max_depth': 4, 'eta': 1.0975281832497232e-06, 'min_child_weight': 9, 'subsample': 0.7322910583968676, 'colsample_bytree': 0.6997013338382986, 'lambda': 5.589349253277219e-07, 'alpha': 1.6548098823180502e-06}. Best is trial 40 with value: 0.661957091357837.\u001b[0m\n",
      "0it [00:00, ?it/s]"
     ]
    },
    {
     "name": "stdout",
     "output_type": "stream",
     "text": [
      "[0]\ttrain-auc:0.63760\ttrain-amex_metric:0.19621\tvalid-auc:0.63199\tvalid-amex_metric:0.18688\n",
      "[20]\ttrain-auc:0.73840\ttrain-amex_metric:0.24884\tvalid-auc:0.72420\tvalid-amex_metric:0.23535\n"
     ]
    },
    {
     "name": "stderr",
     "output_type": "stream",
     "text": [
      "0it [00:10, ?it/s]\n",
      "\u001b[32m[I 2023-04-19 01:10:33,747]\u001b[0m Trial 77 finished with value: 0.6590344252433941 and parameters: {'max_depth': 5, 'eta': 1.1438772250917352e-07, 'min_child_weight': 5, 'subsample': 0.4044103464450137, 'colsample_bytree': 0.5331336894881397, 'lambda': 2.583371257515353e-06, 'alpha': 0.00010093167483014028}. Best is trial 40 with value: 0.661957091357837.\u001b[0m\n",
      "0it [00:00, ?it/s]"
     ]
    },
    {
     "name": "stdout",
     "output_type": "stream",
     "text": [
      "[0]\ttrain-auc:0.54026\ttrain-amex_metric:0.19461\tvalid-auc:0.53932\tvalid-amex_metric:0.18405\n",
      "[20]\ttrain-auc:0.73123\ttrain-amex_metric:0.24563\tvalid-auc:0.71773\tvalid-amex_metric:0.23341\n"
     ]
    },
    {
     "name": "stderr",
     "output_type": "stream",
     "text": [
      "0it [00:10, ?it/s]\n",
      "\u001b[32m[I 2023-04-19 01:10:44,304]\u001b[0m Trial 78 finished with value: 0.6560333630576299 and parameters: {'max_depth': 4, 'eta': 7.754791018651727e-08, 'min_child_weight': 10, 'subsample': 0.5317519146616557, 'colsample_bytree': 0.48945672924399, 'lambda': 6.704139934989172e-05, 'alpha': 0.005485054235953942}. Best is trial 40 with value: 0.661957091357837.\u001b[0m\n",
      "0it [00:00, ?it/s]"
     ]
    },
    {
     "name": "stdout",
     "output_type": "stream",
     "text": [
      "[0]\ttrain-auc:0.63006\ttrain-amex_metric:0.14412\tvalid-auc:0.61496\tvalid-amex_metric:0.12932\n",
      "[19]\ttrain-auc:0.73963\ttrain-amex_metric:0.24460\tvalid-auc:0.71784\tvalid-amex_metric:0.22416\n"
     ]
    },
    {
     "name": "stderr",
     "output_type": "stream",
     "text": [
      "0it [00:05, ?it/s]\n",
      "\u001b[32m[I 2023-04-19 01:10:49,969]\u001b[0m Trial 79 finished with value: 0.5976527314656332 and parameters: {'max_depth': 5, 'eta': 0.00027631514411582123, 'min_child_weight': 10, 'subsample': 0.6440367954664191, 'colsample_bytree': 0.3446380391424259, 'lambda': 6.177142724118839e-08, 'alpha': 1.3370650602166912e-05}. Best is trial 40 with value: 0.661957091357837.\u001b[0m\n",
      "0it [00:00, ?it/s]"
     ]
    },
    {
     "name": "stdout",
     "output_type": "stream",
     "text": [
      "[0]\ttrain-auc:0.50000\ttrain-amex_metric:0.20814\tvalid-auc:0.50000\tvalid-amex_metric:0.18767\n",
      "[20]\ttrain-auc:0.73316\ttrain-amex_metric:0.25260\tvalid-auc:0.71566\tvalid-amex_metric:0.23666\n"
     ]
    },
    {
     "name": "stderr",
     "output_type": "stream",
     "text": [
      "0it [00:06, ?it/s]\n",
      "\u001b[32m[I 2023-04-19 01:10:56,240]\u001b[0m Trial 80 finished with value: 0.6612415247014539 and parameters: {'max_depth': 7, 'eta': 2.8707543479194157e-08, 'min_child_weight': 8, 'subsample': 0.4813892507198618, 'colsample_bytree': 0.5599818490882122, 'lambda': 4.1014644192308404e-06, 'alpha': 0.0005561345393631618}. Best is trial 40 with value: 0.661957091357837.\u001b[0m\n",
      "0it [00:00, ?it/s]"
     ]
    },
    {
     "name": "stdout",
     "output_type": "stream",
     "text": [
      "[0]\ttrain-auc:0.50000\ttrain-amex_metric:0.20853\tvalid-auc:0.50000\tvalid-amex_metric:0.19092\n",
      "[20]\ttrain-auc:0.73382\ttrain-amex_metric:0.25376\tvalid-auc:0.71704\tvalid-amex_metric:0.23747\n"
     ]
    },
    {
     "name": "stderr",
     "output_type": "stream",
     "text": [
      "0it [00:06, ?it/s]\n",
      "\u001b[32m[I 2023-04-19 01:11:02,529]\u001b[0m Trial 81 finished with value: 0.6609771052479583 and parameters: {'max_depth': 7, 'eta': 3.006427655451468e-08, 'min_child_weight': 7, 'subsample': 0.484165333160551, 'colsample_bytree': 0.5573505149909921, 'lambda': 1.8036738615053648e-06, 'alpha': 0.0007927515431508171}. Best is trial 40 with value: 0.661957091357837.\u001b[0m\n",
      "0it [00:00, ?it/s]"
     ]
    },
    {
     "name": "stdout",
     "output_type": "stream",
     "text": [
      "[0]\ttrain-auc:0.50000\ttrain-amex_metric:0.20930\tvalid-auc:0.50000\tvalid-amex_metric:0.19174\n",
      "[19]\ttrain-auc:0.73469\ttrain-amex_metric:0.25328\tvalid-auc:0.71794\tvalid-amex_metric:0.23540\n"
     ]
    },
    {
     "name": "stderr",
     "output_type": "stream",
     "text": [
      "0it [00:05, ?it/s]\n",
      "\u001b[32m[I 2023-04-19 01:11:07,976]\u001b[0m Trial 82 finished with value: 0.6605713897306077 and parameters: {'max_depth': 7, 'eta': 3.2134011479190125e-08, 'min_child_weight': 7, 'subsample': 0.48476033198054547, 'colsample_bytree': 0.5733125734844103, 'lambda': 9.83062580886833e-07, 'alpha': 0.0007749574842403508}. Best is trial 40 with value: 0.661957091357837.\u001b[0m\n",
      "0it [00:00, ?it/s]"
     ]
    },
    {
     "name": "stdout",
     "output_type": "stream",
     "text": [
      "[0]\ttrain-auc:0.50000\ttrain-amex_metric:0.20880\tvalid-auc:0.50000\tvalid-amex_metric:0.18982\n",
      "[19]\ttrain-auc:0.72184\ttrain-amex_metric:0.25274\tvalid-auc:0.70467\tvalid-amex_metric:0.23556\n"
     ]
    },
    {
     "name": "stderr",
     "output_type": "stream",
     "text": [
      "0it [00:04, ?it/s]\n",
      "\u001b[32m[I 2023-04-19 01:11:12,793]\u001b[0m Trial 83 finished with value: 0.6631370825391593 and parameters: {'max_depth': 7, 'eta': 1.6965160685892236e-08, 'min_child_weight': 7, 'subsample': 0.4593973835670598, 'colsample_bytree': 0.5593876803358093, 'lambda': 1.63534374523161e-06, 'alpha': 0.0006978661350509461}. Best is trial 83 with value: 0.6631370825391593.\u001b[0m\n",
      "0it [00:00, ?it/s]"
     ]
    },
    {
     "name": "stdout",
     "output_type": "stream",
     "text": [
      "[0]\ttrain-auc:0.50000\ttrain-amex_metric:0.20868\tvalid-auc:0.50000\tvalid-amex_metric:0.18954\n",
      "[20]\ttrain-auc:0.72656\ttrain-amex_metric:0.25403\tvalid-auc:0.70901\tvalid-amex_metric:0.23735\n"
     ]
    },
    {
     "name": "stderr",
     "output_type": "stream",
     "text": [
      "0it [00:12, ?it/s]\n",
      "\u001b[32m[I 2023-04-19 01:11:25,283]\u001b[0m Trial 84 finished with value: 0.6626371579064516 and parameters: {'max_depth': 7, 'eta': 1.5894163936052423e-08, 'min_child_weight': 7, 'subsample': 0.45037100518335704, 'colsample_bytree': 0.6294194297859528, 'lambda': 3.825627453006257e-07, 'alpha': 0.00196944789982721}. Best is trial 83 with value: 0.6631370825391593.\u001b[0m\n",
      "0it [00:00, ?it/s]"
     ]
    },
    {
     "name": "stdout",
     "output_type": "stream",
     "text": [
      "[0]\ttrain-auc:0.50000\ttrain-amex_metric:0.20749\tvalid-auc:0.50000\tvalid-amex_metric:0.18755\n",
      "[20]\ttrain-auc:0.72358\ttrain-amex_metric:0.25314\tvalid-auc:0.70865\tvalid-amex_metric:0.23626\n"
     ]
    },
    {
     "name": "stderr",
     "output_type": "stream",
     "text": [
      "0it [00:10, ?it/s]\n",
      "\u001b[32m[I 2023-04-19 01:11:36,295]\u001b[0m Trial 85 finished with value: 0.6634163641409466 and parameters: {'max_depth': 7, 'eta': 1.7064097461838578e-08, 'min_child_weight': 7, 'subsample': 0.44826329828186007, 'colsample_bytree': 0.5511038674305444, 'lambda': 1.2814081131157866e-08, 'alpha': 0.0026942316099899865}. Best is trial 85 with value: 0.6634163641409466.\u001b[0m\n",
      "0it [00:00, ?it/s]"
     ]
    },
    {
     "name": "stdout",
     "output_type": "stream",
     "text": [
      "[0]\ttrain-auc:0.50000\ttrain-amex_metric:0.20122\tvalid-auc:0.50000\tvalid-amex_metric:0.18264\n",
      "[19]\ttrain-auc:0.71646\ttrain-amex_metric:0.25055\tvalid-auc:0.69728\tvalid-amex_metric:0.23555\n"
     ]
    },
    {
     "name": "stderr",
     "output_type": "stream",
     "text": [
      "0it [00:09, ?it/s]\n",
      "\u001b[32m[I 2023-04-19 01:11:46,568]\u001b[0m Trial 86 finished with value: 0.6590800330207351 and parameters: {'max_depth': 7, 'eta': 1.3932096766435611e-08, 'min_child_weight': 7, 'subsample': 0.3131315545989031, 'colsample_bytree': 0.6299343814929055, 'lambda': 1.7900729859077923e-08, 'alpha': 0.017244234885800867}. Best is trial 85 with value: 0.6634163641409466.\u001b[0m\n",
      "0it [00:00, ?it/s]"
     ]
    },
    {
     "name": "stdout",
     "output_type": "stream",
     "text": [
      "[0]\ttrain-auc:0.50000\ttrain-amex_metric:0.20878\tvalid-auc:0.50000\tvalid-amex_metric:0.18957\n",
      "[20]\ttrain-auc:0.72740\ttrain-amex_metric:0.25259\tvalid-auc:0.70959\tvalid-amex_metric:0.23632\n"
     ]
    },
    {
     "name": "stderr",
     "output_type": "stream",
     "text": [
      "0it [00:10, ?it/s]\n",
      "\u001b[32m[I 2023-04-19 01:11:57,093]\u001b[0m Trial 87 finished with value: 0.6618414342607033 and parameters: {'max_depth': 7, 'eta': 1.9660810383975853e-08, 'min_child_weight': 6, 'subsample': 0.3980205118615961, 'colsample_bytree': 0.5542193206063926, 'lambda': 1.0542942032860638e-08, 'alpha': 0.002899015321363219}. Best is trial 85 with value: 0.6634163641409466.\u001b[0m\n",
      "0it [00:00, ?it/s]"
     ]
    },
    {
     "name": "stdout",
     "output_type": "stream",
     "text": [
      "[0]\ttrain-auc:0.50000\ttrain-amex_metric:0.20719\tvalid-auc:0.50000\tvalid-amex_metric:0.18531\n",
      "[19]\ttrain-auc:0.72712\ttrain-amex_metric:0.25240\tvalid-auc:0.71047\tvalid-amex_metric:0.23446\n"
     ]
    },
    {
     "name": "stderr",
     "output_type": "stream",
     "text": [
      "0it [00:10, ?it/s]\n",
      "\u001b[32m[I 2023-04-19 01:12:08,086]\u001b[0m Trial 88 finished with value: 0.6626412784546747 and parameters: {'max_depth': 7, 'eta': 1.7467353963619055e-08, 'min_child_weight': 6, 'subsample': 0.38992653133852384, 'colsample_bytree': 0.6628135112959271, 'lambda': 1.0434352295970266e-08, 'alpha': 0.041863099019300284}. Best is trial 85 with value: 0.6634163641409466.\u001b[0m\n",
      "0it [00:00, ?it/s]"
     ]
    },
    {
     "name": "stdout",
     "output_type": "stream",
     "text": [
      "[0]\ttrain-auc:0.50000\ttrain-amex_metric:0.20738\tvalid-auc:0.50000\tvalid-amex_metric:0.18539\n",
      "[19]\ttrain-auc:0.72874\ttrain-amex_metric:0.25292\tvalid-auc:0.71174\tvalid-amex_metric:0.23480\n"
     ]
    },
    {
     "name": "stderr",
     "output_type": "stream",
     "text": [
      "0it [00:10, ?it/s]\n",
      "\u001b[32m[I 2023-04-19 01:12:19,298]\u001b[0m Trial 89 finished with value: 0.6618579516719564 and parameters: {'max_depth': 7, 'eta': 1.8457435664696602e-08, 'min_child_weight': 6, 'subsample': 0.3894699899543572, 'colsample_bytree': 0.7276038595760905, 'lambda': 3.824649676467479e-08, 'alpha': 0.032371298818249856}. Best is trial 85 with value: 0.6634163641409466.\u001b[0m\n",
      "0it [00:00, ?it/s]"
     ]
    },
    {
     "name": "stdout",
     "output_type": "stream",
     "text": [
      "[0]\ttrain-auc:0.50000\ttrain-amex_metric:0.20607\tvalid-auc:0.50000\tvalid-amex_metric:0.18226\n",
      "[20]\ttrain-auc:0.70586\ttrain-amex_metric:0.25268\tvalid-auc:0.68924\tvalid-amex_metric:0.23602\n"
     ]
    },
    {
     "name": "stderr",
     "output_type": "stream",
     "text": [
      "0it [00:10, ?it/s]\n",
      "\u001b[32m[I 2023-04-19 01:12:29,735]\u001b[0m Trial 90 finished with value: 0.6561798714388954 and parameters: {'max_depth': 7, 'eta': 1.0448158235860584e-08, 'min_child_weight': 6, 'subsample': 0.34480093894828867, 'colsample_bytree': 0.7081586628877441, 'lambda': 7.198581045875301e-08, 'alpha': 0.05075601283713499}. Best is trial 85 with value: 0.6634163641409466.\u001b[0m\n",
      "0it [00:00, ?it/s]"
     ]
    },
    {
     "name": "stdout",
     "output_type": "stream",
     "text": [
      "[0]\ttrain-auc:0.50000\ttrain-amex_metric:0.20835\tvalid-auc:0.50000\tvalid-amex_metric:0.18456\n",
      "[20]\ttrain-auc:0.72744\ttrain-amex_metric:0.25294\tvalid-auc:0.71064\tvalid-amex_metric:0.23763\n"
     ]
    },
    {
     "name": "stderr",
     "output_type": "stream",
     "text": [
      "0it [00:10, ?it/s]\n",
      "\u001b[32m[I 2023-04-19 01:12:40,536]\u001b[0m Trial 91 finished with value: 0.6626627616548122 and parameters: {'max_depth': 7, 'eta': 1.7844338652100563e-08, 'min_child_weight': 6, 'subsample': 0.3898777581983831, 'colsample_bytree': 0.6713934905147984, 'lambda': 1.1803843700937423e-08, 'alpha': 0.4904649085222231}. Best is trial 85 with value: 0.6634163641409466.\u001b[0m\n",
      "0it [00:00, ?it/s]"
     ]
    },
    {
     "name": "stdout",
     "output_type": "stream",
     "text": [
      "[0]\ttrain-auc:0.50000\ttrain-amex_metric:0.20859\tvalid-auc:0.50000\tvalid-amex_metric:0.19226\n",
      "[20]\ttrain-auc:0.72750\ttrain-amex_metric:0.25350\tvalid-auc:0.71313\tvalid-amex_metric:0.23799\n"
     ]
    },
    {
     "name": "stderr",
     "output_type": "stream",
     "text": [
      "0it [00:10, ?it/s]\n",
      "\u001b[32m[I 2023-04-19 01:12:51,424]\u001b[0m Trial 92 finished with value: 0.6631444783949443 and parameters: {'max_depth': 7, 'eta': 1.8796372821345503e-08, 'min_child_weight': 6, 'subsample': 0.39253374756710857, 'colsample_bytree': 0.736614850150143, 'lambda': 1.052960806871226e-08, 'alpha': 0.5830350417880359}. Best is trial 85 with value: 0.6634163641409466.\u001b[0m\n",
      "0it [00:00, ?it/s]"
     ]
    },
    {
     "name": "stdout",
     "output_type": "stream",
     "text": [
      "[0]\ttrain-auc:0.50000\ttrain-amex_metric:0.20715\tvalid-auc:0.50000\tvalid-amex_metric:0.18492\n",
      "[20]\ttrain-auc:0.72683\ttrain-amex_metric:0.25166\tvalid-auc:0.71119\tvalid-amex_metric:0.23632\n"
     ]
    },
    {
     "name": "stderr",
     "output_type": "stream",
     "text": [
      "0it [00:10, ?it/s]\n",
      "\u001b[32m[I 2023-04-19 01:13:02,082]\u001b[0m Trial 93 finished with value: 0.6590692562023055 and parameters: {'max_depth': 7, 'eta': 1.9599422632188104e-08, 'min_child_weight': 6, 'subsample': 0.3889626274643387, 'colsample_bytree': 0.7397896793916223, 'lambda': 3.194580739047369e-08, 'alpha': 1.285987783302393}. Best is trial 85 with value: 0.6634163641409466.\u001b[0m\n",
      "0it [00:00, ?it/s]"
     ]
    },
    {
     "name": "stdout",
     "output_type": "stream",
     "text": [
      "[0]\ttrain-auc:0.50000\ttrain-amex_metric:0.20337\tvalid-auc:0.50000\tvalid-amex_metric:0.18502\n",
      "[20]\ttrain-auc:0.71944\ttrain-amex_metric:0.25236\tvalid-auc:0.70410\tvalid-amex_metric:0.23790\n"
     ]
    },
    {
     "name": "stderr",
     "output_type": "stream",
     "text": [
      "0it [00:10, ?it/s]\n",
      "\u001b[32m[I 2023-04-19 01:13:12,728]\u001b[0m Trial 94 finished with value: 0.6613671838130778 and parameters: {'max_depth': 7, 'eta': 1.4196682666405683e-08, 'min_child_weight': 6, 'subsample': 0.30884950298644515, 'colsample_bytree': 0.6796341609189573, 'lambda': 1.1077654687454922e-08, 'alpha': 0.33465438601304737}. Best is trial 85 with value: 0.6634163641409466.\u001b[0m\n",
      "0it [00:00, ?it/s]"
     ]
    },
    {
     "name": "stdout",
     "output_type": "stream",
     "text": [
      "[0]\ttrain-auc:0.50000\ttrain-amex_metric:0.19953\tvalid-auc:0.50000\tvalid-amex_metric:0.17797\n",
      "[20]\ttrain-auc:0.69892\ttrain-amex_metric:0.24736\tvalid-auc:0.68428\tvalid-amex_metric:0.23489\n"
     ]
    },
    {
     "name": "stderr",
     "output_type": "stream",
     "text": [
      "0it [00:09, ?it/s]\n",
      "\u001b[32m[I 2023-04-19 01:13:22,691]\u001b[0m Trial 95 finished with value: 0.6553453371594562 and parameters: {'max_depth': 8, 'eta': 1.0011016684657437e-08, 'min_child_weight': 5, 'subsample': 0.2607790400040298, 'colsample_bytree': 0.7208566250656552, 'lambda': 1.0841665969356039e-08, 'alpha': 2.5789930227443993}. Best is trial 85 with value: 0.6634163641409466.\u001b[0m\n",
      "0it [00:00, ?it/s]"
     ]
    },
    {
     "name": "stdout",
     "output_type": "stream",
     "text": [
      "[0]\ttrain-auc:0.50000\ttrain-amex_metric:0.20753\tvalid-auc:0.50000\tvalid-amex_metric:0.19018\n",
      "[20]\ttrain-auc:0.72986\ttrain-amex_metric:0.25151\tvalid-auc:0.71534\tvalid-amex_metric:0.23609\n"
     ]
    },
    {
     "name": "stderr",
     "output_type": "stream",
     "text": [
      "0it [00:10, ?it/s]\n",
      "\u001b[32m[I 2023-04-19 01:13:33,299]\u001b[0m Trial 96 finished with value: 0.6632452733437861 and parameters: {'max_depth': 6, 'eta': 2.0352869366212886e-08, 'min_child_weight': 6, 'subsample': 0.43492514581803765, 'colsample_bytree': 0.6602895940940481, 'lambda': 2.4167219744897064e-08, 'alpha': 0.12879570926720815}. Best is trial 85 with value: 0.6634163641409466.\u001b[0m\n",
      "0it [00:00, ?it/s]"
     ]
    },
    {
     "name": "stdout",
     "output_type": "stream",
     "text": [
      "[0]\ttrain-auc:0.50000\ttrain-amex_metric:0.21075\tvalid-auc:0.50000\tvalid-amex_metric:0.19322\n",
      "[19]\ttrain-auc:0.72878\ttrain-amex_metric:0.25405\tvalid-auc:0.71249\tvalid-amex_metric:0.23637\n"
     ]
    },
    {
     "name": "stderr",
     "output_type": "stream",
     "text": [
      "0it [00:11, ?it/s]\n",
      "\u001b[32m[I 2023-04-19 01:13:45,016]\u001b[0m Trial 97 finished with value: 0.6621620269998042 and parameters: {'max_depth': 7, 'eta': 1.830180065377322e-08, 'min_child_weight': 6, 'subsample': 0.44453560706117384, 'colsample_bytree': 0.6521669356448923, 'lambda': 2.8809026205302653e-08, 'alpha': 0.23056494285704263}. Best is trial 85 with value: 0.6634163641409466.\u001b[0m\n",
      "0it [00:00, ?it/s]"
     ]
    },
    {
     "name": "stdout",
     "output_type": "stream",
     "text": [
      "[0]\ttrain-auc:0.50000\ttrain-amex_metric:0.21028\tvalid-auc:0.50000\tvalid-amex_metric:0.19358\n",
      "[20]\ttrain-auc:0.72312\ttrain-amex_metric:0.25698\tvalid-auc:0.70327\tvalid-amex_metric:0.23654\n"
     ]
    },
    {
     "name": "stderr",
     "output_type": "stream",
     "text": [
      "0it [00:11, ?it/s]\n",
      "\u001b[32m[I 2023-04-19 01:13:56,583]\u001b[0m Trial 98 finished with value: 0.6614027191392069 and parameters: {'max_depth': 8, 'eta': 1.3459661585495028e-08, 'min_child_weight': 6, 'subsample': 0.4391833898001145, 'colsample_bytree': 0.6908466432282497, 'lambda': 3.017037579232491e-08, 'alpha': 0.20396002052484716}. Best is trial 85 with value: 0.6634163641409466.\u001b[0m\n",
      "0it [00:00, ?it/s]"
     ]
    },
    {
     "name": "stdout",
     "output_type": "stream",
     "text": [
      "[0]\ttrain-auc:0.50000\ttrain-amex_metric:0.20880\tvalid-auc:0.50000\tvalid-amex_metric:0.19261\n",
      "[20]\ttrain-auc:0.72904\ttrain-amex_metric:0.24992\tvalid-auc:0.71247\tvalid-amex_metric:0.23459\n"
     ]
    },
    {
     "name": "stderr",
     "output_type": "stream",
     "text": [
      "0it [00:10, ?it/s]\n",
      "\u001b[32m[I 2023-04-19 01:14:07,234]\u001b[0m Trial 99 finished with value: 0.6632039622064726 and parameters: {'max_depth': 6, 'eta': 1.6892512436599696e-08, 'min_child_weight': 5, 'subsample': 0.38054805026629135, 'colsample_bytree': 0.7709623105137631, 'lambda': 2.849220316359974e-07, 'alpha': 0.03733875485839578}. Best is trial 85 with value: 0.6634163641409466.\u001b[0m\n"
     ]
    },
    {
     "name": "stdout",
     "output_type": "stream",
     "text": [
      "Best hyperparameters:  {'max_depth': 7, 'eta': 1.7064097461838578e-08, 'min_child_weight': 7, 'subsample': 0.44826329828186007, 'colsample_bytree': 0.5511038674305444, 'lambda': 1.2814081131157866e-08, 'alpha': 0.0026942316099899865}\n",
      "Best Amex score:  0.6634163641409466\n"
     ]
    }
   ],
   "source": [
    "import optuna\n",
    "\n",
    "\n",
    "# Define the objective function for Optuna\n",
    "def objective(trial):\n",
    "    # Define the hyperparameters to optimize\n",
    "    params = {\n",
    "        'objective': 'binary:logistic',\n",
    "        'eval_metric': 'auc',\n",
    "        'max_depth': trial.suggest_int('max_depth', 2, 10),\n",
    "        'eta': trial.suggest_loguniform('eta', 1e-8, 1.0),\n",
    "#         'gamma': trial.suggest_loguniform('gamma', 1e-8, 1.0),\n",
    "        'min_child_weight': trial.suggest_int('min_child_weight', 1, 10),\n",
    "        'subsample': trial.suggest_uniform('subsample', 0.1, 1.0),\n",
    "        'colsample_bytree': trial.suggest_uniform('colsample_bytree', 0.1, 1.0),\n",
    "        'lambda': trial.suggest_loguniform('lambda', 1e-8, 10.0),\n",
    "        'alpha': trial.suggest_loguniform('alpha', 1e-8, 10.0),\n",
    "        'random_state': 42,\n",
    "#         'eval_metric':['auc', amex_metric]\n",
    "    }\n",
    "    kf = KFold(n_splits=5, shuffle=True, random_state=42)\n",
    "    \n",
    "    kf_iter = 0 \n",
    "    for train_idx, valid_idx in tqdm(kf.split(train_val_x)):\n",
    "        kf_iter += 1\n",
    "        X_train, X_valid = train_val_x[train_idx], train_val_x[valid_idx]\n",
    "        y_train, y_valid = train_val_y[train_idx], train_val_y[valid_idx]\n",
    "        dtrain = xgb.DMatrix(data=X_train,label=y_train)\n",
    "        dval = xgb.DMatrix(data=X_valid,label=y_valid)\n",
    "\n",
    "        watch_list = [(dtrain, 'train'), (dval, 'valid')]\n",
    "\n",
    "        xgb_model = xgb.train(params=params, \n",
    "                              dtrain=dtrain, \n",
    "                              num_boost_round=100, \n",
    "                              early_stopping_rounds=20,\n",
    "                              verbose_eval=20,\n",
    "                              evals=watch_list,\n",
    "                              obj = focal_loss,\n",
    "                              feval = amex_metric\n",
    "                             )\n",
    "        if kf_iter>=1:\n",
    "            break\n",
    "            \n",
    "    prob_pred_xgb = xgb_model.predict(dval) # pred probability\n",
    "    y_pred_xgb = np.array([1 if x > 0.5 else 0 for x in prob_pred_xgb]) # pred value 0,1\n",
    "    \n",
    "    # Compute the AUC score\n",
    "    auc_score = roc_auc_score(y_valid, y_pred_xgb)\n",
    "    \n",
    "    amex_score = amex_metric_mod(y_valid,prob_pred_xgb)\n",
    "    \n",
    "    # Return the AUC score as the objective value for Optuna\n",
    "    return amex_score\n",
    "\n",
    "# Define the study for Optuna\n",
    "study = optuna.create_study(direction='maximize')\n",
    "\n",
    "# Optimize the hyperparameters with Optuna\n",
    "study.optimize(objective, n_trials=100)\n",
    "\n",
    "# Print the best hyperparameters and the corresponding AUC score\n",
    "print('Best hyperparameters: ', study.best_params)\n",
    "print('Best auc score: ', study.best_value)"
   ]
  },
  {
   "cell_type": "markdown",
   "id": "9afed104",
   "metadata": {},
   "source": [
    "### Training 5-folds"
   ]
  },
  {
   "cell_type": "code",
   "execution_count": 46,
   "id": "89614ad5",
   "metadata": {
    "ExecuteTime": {
     "end_time": "2023-04-19T12:30:26.755680Z",
     "start_time": "2023-04-19T12:30:26.750680Z"
    }
   },
   "outputs": [],
   "source": [
    "\n",
    "\n",
    "params2 = {\n",
    "          'objective': 'binary:logistic',\n",
    "          'eval_metric': 'auc',\n",
    "          'max_depth': 8, \n",
    "          'eta': 0.18685036878169226, \n",
    "#           'gamma': 1.1022926157367446e-07, \n",
    "          'min_child_weight': 5, \n",
    "          'subsample': 0.5238593590397178, \n",
    "          'colsample_bytree': 0.9516484737182923, \n",
    "          'lambda': 0.017562932307389742, \n",
    "          'alpha': 0.008111676408713851\n",
    "            \n",
    "}"
   ]
  },
  {
   "cell_type": "code",
   "execution_count": 47,
   "id": "5070db00",
   "metadata": {
    "ExecuteTime": {
     "end_time": "2023-04-19T12:30:27.358706Z",
     "start_time": "2023-04-19T12:30:27.343707Z"
    }
   },
   "outputs": [],
   "source": [
    "def train_xgb_model2(params2):\n",
    "    # 5 folds\n",
    "    kf = KFold(n_splits=5, shuffle=True, random_state=42)\n",
    "#     acc_lgb, precision_lgb, recall_lgb, f1_lgb, ap_lgb, auc_lgb = [], [], [], [], [], []\n",
    "    acc_xgb, precision_xgb, recall_xgb, f1_xgb, ap_xgb, auc_xgb = [], [], [], [], [], []\n",
    "    model_list = []\n",
    "    lgbm_test_result = pd.DataFrame({'true':test_y})\n",
    "    xgb_test_result = pd.DataFrame({'true':test_y})\n",
    "    threshold = 0.5\n",
    "    kf_iter = 0\n",
    "\n",
    "    for train_idx, valid_idx in tqdm(kf.split(train_val_x)):\n",
    "        kf_iter += 1\n",
    "        X_train, X_valid = train_val_x[train_idx], train_val_x[valid_idx]\n",
    "        y_train, y_valid = train_val_y[train_idx], train_val_y[valid_idx]\n",
    "        dtrain = xgb.DMatrix(data=X_train,label=y_train)\n",
    "        dval = xgb.DMatrix(data=X_valid,label=y_valid)\n",
    "\n",
    "        watch_list = [(dtrain, 'train'), (dval, 'valid')]\n",
    "\n",
    "        xgb_model = xgb.train(params=params2, \n",
    "                              dtrain=dtrain, \n",
    "                              num_boost_round=100, \n",
    "                              early_stopping_rounds=20,\n",
    "                              verbose_eval=20,\n",
    "                              evals=watch_list,\n",
    "                              obj = focal_loss,\n",
    "                              feval = amex_metric\n",
    "                             )\n",
    "        \n",
    "        model_list.append(xgb_model)\n",
    "\n",
    "        prob_pred_xgb = xgb_model.predict(dval) # pred probability\n",
    "        y_pred_xgb = np.array([1 if x > 0.5 else 0 for x in prob_pred_xgb]) # pred value 0,1\n",
    "\n",
    "        acc_xgb.append(accuracy_score(y_valid, y_pred_xgb))\n",
    "        precision_xgb.append(precision_score(y_valid, y_pred_xgb))\n",
    "        recall_xgb.append(recall_score(y_valid, y_pred_xgb))\n",
    "        f1_xgb.append(f1_score(y_valid, y_pred_xgb))\n",
    "        ap_xgb.append(average_precision_score(y_valid, y_pred_xgb))\n",
    "        auc_xgb.append(roc_auc_score(y_valid, y_pred_xgb))\n",
    "\n",
    "\n",
    "    #     xgb_test_result[kf_iter] = xgb_model.predict(d_test)\n",
    "\n",
    "\n",
    "    print(\"XGBoost Accuracy: {:.4f}\".format(np.mean(acc_xgb)))\n",
    "    print(\"XGBoost Precision: {:.4f}\".format(np.mean(precision_xgb)))\n",
    "    print(\"XGBoost Recall: {:.4f}\".format(np.mean(recall_xgb)))\n",
    "    print(\"XGBoost F1 Score: {:.4f}\".format(np.mean(f1_xgb)))\n",
    "    print(\"XGBoost Avg Precision: {:.4f}\".format(np.mean(ap_xgb)))\n",
    "    print(\"XGBoost AUC: {:.4f}\".format(np.mean(auc_xgb)))\n",
    "    \n",
    "    return model_list"
   ]
  },
  {
   "cell_type": "code",
   "execution_count": 50,
   "id": "924f19e9",
   "metadata": {
    "ExecuteTime": {
     "end_time": "2023-04-19T12:31:08.039499Z",
     "start_time": "2023-04-19T12:30:42.239960Z"
    }
   },
   "outputs": [
    {
     "name": "stderr",
     "output_type": "stream",
     "text": [
      "\r\n",
      "0it [00:00, ?it/s]"
     ]
    },
    {
     "name": "stdout",
     "output_type": "stream",
     "text": [
      "[0]\ttrain-auc:0.73182\ttrain-amex_metric:0.23578\tvalid-auc:0.71198\tvalid-amex_metric:0.21781\n",
      "[20]\ttrain-auc:0.76464\ttrain-amex_metric:0.26744\tvalid-auc:0.73251\tvalid-amex_metric:0.23768\n"
     ]
    },
    {
     "name": "stderr",
     "output_type": "stream",
     "text": [
      "\r\n",
      "1it [00:05,  5.05s/it]"
     ]
    },
    {
     "name": "stdout",
     "output_type": "stream",
     "text": [
      "[0]\ttrain-auc:0.72815\ttrain-amex_metric:0.23447\tvalid-auc:0.71393\tvalid-amex_metric:0.21916\n",
      "[20]\ttrain-auc:0.76344\ttrain-amex_metric:0.26554\tvalid-auc:0.74185\tvalid-amex_metric:0.24565\n"
     ]
    },
    {
     "name": "stderr",
     "output_type": "stream",
     "text": [
      "\r\n",
      "2it [00:10,  5.12s/it]"
     ]
    },
    {
     "name": "stdout",
     "output_type": "stream",
     "text": [
      "[0]\ttrain-auc:0.72557\ttrain-amex_metric:0.23171\tvalid-auc:0.71939\tvalid-amex_metric:0.22100\n",
      "[20]\ttrain-auc:0.76199\ttrain-amex_metric:0.26523\tvalid-auc:0.74079\tvalid-amex_metric:0.24154\n"
     ]
    },
    {
     "name": "stderr",
     "output_type": "stream",
     "text": [
      "\r\n",
      "3it [00:15,  5.12s/it]"
     ]
    },
    {
     "name": "stdout",
     "output_type": "stream",
     "text": [
      "[0]\ttrain-auc:0.72551\ttrain-amex_metric:0.23042\tvalid-auc:0.72353\tvalid-amex_metric:0.22626\n",
      "[19]\ttrain-auc:0.76013\ttrain-amex_metric:0.26309\tvalid-auc:0.74358\tvalid-amex_metric:0.24694\n"
     ]
    },
    {
     "name": "stderr",
     "output_type": "stream",
     "text": [
      "\r\n",
      "4it [00:20,  5.15s/it]"
     ]
    },
    {
     "name": "stdout",
     "output_type": "stream",
     "text": [
      "[0]\ttrain-auc:0.72768\ttrain-amex_metric:0.23241\tvalid-auc:0.71635\tvalid-amex_metric:0.22233\n",
      "[20]\ttrain-auc:0.76185\ttrain-amex_metric:0.26455\tvalid-auc:0.74075\tvalid-amex_metric:0.24562\n"
     ]
    },
    {
     "name": "stderr",
     "output_type": "stream",
     "text": [
      "5it [00:25,  5.16s/it]"
     ]
    },
    {
     "name": "stdout",
     "output_type": "stream",
     "text": [
      "XGBoost Accuracy: 0.7427\n",
      "XGBoost Precision: 0.9853\n",
      "XGBoost Recall: 0.7480\n",
      "XGBoost F1 Score: 0.8382\n",
      "XGBoost Avg Precision: 0.9820\n",
      "XGBoost AUC: 0.6452\n"
     ]
    },
    {
     "name": "stderr",
     "output_type": "stream",
     "text": [
      "\n"
     ]
    }
   ],
   "source": [
    "model_list2 = train_xgb_model2(params2)"
   ]
  },
  {
   "cell_type": "markdown",
   "id": "4c16d053",
   "metadata": {},
   "source": [
    "### Prediction"
   ]
  },
  {
   "cell_type": "code",
   "execution_count": 146,
   "id": "d846c9bf",
   "metadata": {
    "ExecuteTime": {
     "end_time": "2023-04-19T13:08:49.064465Z",
     "start_time": "2023-04-19T13:08:48.755464Z"
    }
   },
   "outputs": [
    {
     "name": "stdout",
     "output_type": "stream",
     "text": [
      "XGBoost Accuracy: 0.8767\n",
      "XGBoost Precision: 0.8898\n",
      "XGBoost Recall: 0.9820\n",
      "XGBoost F1 Score: 0.9336\n",
      "XGBoost avg Precision: 0.8897\n",
      "XGBoost AUC: 0.5302\n",
      "XGBoost Amex metric: 0.2391\n",
      "Recall rate for Negative sample:0.365\n"
     ]
    }
   ],
   "source": [
    "xgb_test_result2 = test_xgb_model(model_list2)"
   ]
  },
  {
   "cell_type": "code",
   "execution_count": 145,
   "id": "fe673a48",
   "metadata": {
    "ExecuteTime": {
     "end_time": "2023-04-19T13:08:42.414227Z",
     "start_time": "2023-04-19T13:08:42.281694Z"
    },
    "scrolled": false
   },
   "outputs": [
    {
     "data": {
      "image/png": "[encoded data removed]",
      "text/plain": [
       "<Figure size 576x576 with 2 Axes>"
      ]
     },
     "metadata": {},
     "output_type": "display_data"
    }
   ],
   "source": [
    "plot_confusion_matrix(xgb_test_result2)"
   ]
  },
  {
   "cell_type": "markdown",
   "id": "7b739a7d",
   "metadata": {},
   "source": [
    "We focus more on Recall rate of 0 class"
   ]
  },
  {
   "cell_type": "markdown",
   "id": "57aa235b",
   "metadata": {},
   "source": [
    "### Feature Importance"
   ]
  },
  {
   "cell_type": "code",
   "execution_count": 153,
   "id": "2ff52db4",
   "metadata": {
    "ExecuteTime": {
     "end_time": "2023-04-20T11:49:57.045214Z",
     "start_time": "2023-04-20T11:49:56.905175Z"
    }
   },
   "outputs": [
    {
     "data": {
      "text/plain": [
       "<AxesSubplot:title={'center':'Feature importance'}, xlabel='F score', ylabel='Features'>"
      ]
     },
     "execution_count": 153,
     "metadata": {},
     "output_type": "execute_result"
    },
    {
     "data": {
      "image/png": "[encoded data removed]",
      "text/plain": [
       "<Figure size 576x576 with 1 Axes>"
      ]
     },
     "metadata": {},
     "output_type": "display_data"
    }
   ],
   "source": [
    "fig, ax = plt.subplots(figsize=(8,8))\n",
    "xgb.plot_importance(model_list2[0],ax=ax)"
   ]
  },
  {
   "cell_type": "markdown",
   "id": "69ef167f",
   "metadata": {},
   "source": [
    "## Version3"
   ]
  },
  {
   "cell_type": "code",
   "execution_count": 1,
   "id": "8db01914",
   "metadata": {},
   "outputs": [
    {
     "name": "stderr",
     "output_type": "stream",
     "text": [
      "/home/szxie/anaconda3/envs/nerftorch/lib/python3.8/site-packages/tqdm/auto.py:21: TqdmWarning: IProgress not found. Please update jupyter and ipywidgets. See https://ipywidgets.readthedocs.io/en/stable/user_install.html\n",
      "  from .autonotebook import tqdm as notebook_tqdm\n"
     ]
    }
   ],
   "source": [
    "import numpy as np\n",
    "import pandas as pd\n",
    "import matplotlib.pyplot as plt\n",
    "import seaborn as sns\n",
    "from sklearn.metrics import accuracy_score, precision_score, recall_score, f1_score, average_precision_score, roc_auc_score\n",
    "from sklearn.model_selection import KFold, train_test_split\n",
    "from imblearn.over_sampling import RandomOverSampler\n",
    "import lightgbm as lgb\n",
    "import xgboost as xgb\n",
    "from collections import Counter\n",
    "from sklearn.metrics import confusion_matrix\n",
    "import warnings \n",
    "import torch\n",
    "import torch.nn as nn\n",
    "\n",
    "from pytorch_widedeep import Trainer\n",
    "from pytorch_widedeep.preprocessing import WidePreprocessor, TabPreprocessor\n",
    "from pytorch_widedeep.dataloaders import DataLoaderImbalanced, DataLoaderDefault\n",
    "from pytorch_widedeep.models import Wide, TabMlp, WideDeep\n",
    "from pytorch_widedeep.metrics import Accuracy, F1Score, Precision, Recall\n",
    "from pytorch_widedeep.datasets import load_adult\n",
    "from sklearn.preprocessing import StandardScaler\n",
    "import torch.nn.functional as F\n",
    "\n",
    "\n",
    "warnings.filterwarnings('ignore')\n"
   ]
  },
  {
   "cell_type": "code",
   "execution_count": 2,
   "id": "e7f36e93",
   "metadata": {},
   "outputs": [],
   "source": [
    "def load_data():\n",
    "    df_train = pd.read_csv(f'./data/training.csv',index_col='id')\n",
    "    df_test = pd.read_csv(f'./data/test.csv',index_col='id')\n",
    "\n",
    "    return df_train, df_test"
   ]
  },
  {
   "cell_type": "code",
   "execution_count": 3,
   "id": "e972b915",
   "metadata": {},
   "outputs": [
    {
     "name": "stdout",
     "output_type": "stream",
     "text": [
      "var1\n",
      "-120.0\n",
      "121.0\n",
      "105800 133036 76\n",
      "var2\n",
      "-2817427941.438\n",
      "2817427941.438\n",
      "121800 117036 93826\n",
      "var3\n",
      "-10175.48156420513\n",
      "10175.48156420513\n",
      "192199 46637 46116\n",
      "var4\n",
      "-12.0\n",
      "13.0\n",
      "160649 78187 14\n",
      "var5\n",
      "-334283.5571428572\n",
      "334283.5571428572\n",
      "230549 8287 8176\n",
      "var6\n",
      "-167427.56397849464\n",
      "164300.40000000002\n",
      "232897 5939 5926\n",
      "var7\n",
      "-22.0\n",
      "24.0\n",
      "211294 27542 24\n",
      "var8\n",
      "-94.25000000000001\n",
      "118.66666666666669\n",
      "137689 101147 5720\n",
      "var1\n",
      "-110.0\n",
      "111.0\n",
      "26290 33419 62\n",
      "var2\n",
      "-1590072360.074\n",
      "1590072360.074\n",
      "30310 29399 26616\n",
      "var3\n",
      "-8615.982449561667\n",
      "8615.982449561667\n",
      "48178 11531 11406\n",
      "var4\n",
      "-12.0\n",
      "13.0\n",
      "40351 19358 14\n",
      "var5\n",
      "-116654.45\n",
      "116654.45\n",
      "57604 2105 2085\n",
      "var6\n",
      "-19876.064142671574\n",
      "19484.277852348994\n",
      "58187 1522 1523\n",
      "var7\n",
      "-22.0\n",
      "24.0\n",
      "52886 6823 24\n",
      "var8\n",
      "-82.91666666666669\n",
      "107.41666666666669\n",
      "34458 25251 3240\n"
     ]
    }
   ],
   "source": [
    "df_train_val, df_test = load_data()\n",
    "features =[ 'var1', 'var2', 'var3', 'var4', 'var5', 'var6', 'var7', 'var8']\n",
    "label = 'event'\n",
    "\n",
    "scaler = StandardScaler()\n",
    "\n",
    "for ds in [df_train_val, df_test]:\n",
    "    tmp = ds.isna().sum()\n",
    "    for fe in features:\n",
    "        print(fe)\n",
    "        set_values = ds[fe].unique()\n",
    "        na_value = ds[fe].min() - ds[fe].max() # out of distribution value\n",
    "        ds[fe].fillna(value=na_value, inplace=True)\n",
    "        # df_train_val.iloc[fe][0:-1] = scaler.fit_transform(df_train_val[fe][0:-1].to_numpy())\n",
    "        print(ds[fe].min())\n",
    "        print(ds[fe].max())\n",
    "        print(tmp[fe], len(ds[fe]) - tmp[fe], len(set_values))\n",
    "\n",
    "\n",
    "# \n",
    "# df_train_val.iloc[:,0:-1] = scaler.fit_transform(df_train_val.iloc[:,0:-1].to_numpy())\n",
    "# df_test.iloc[:,0:-1] = scaler.fit_transform(df_test.iloc[:,0:-1].to_numpy())"
   ]
  },
  {
   "cell_type": "code",
   "execution_count": 4,
   "id": "07e9e0ce",
   "metadata": {},
   "outputs": [
    {
     "data": {
      "text/html": [
       "<div>\n",
       "<style scoped>\n",
       "    .dataframe tbody tr th:only-of-type {\n",
       "        vertical-align: middle;\n",
       "    }\n",
       "\n",
       "    .dataframe tbody tr th {\n",
       "        vertical-align: top;\n",
       "    }\n",
       "\n",
       "    .dataframe thead th {\n",
       "        text-align: right;\n",
       "    }\n",
       "</style>\n",
       "<table border=\"1\" class=\"dataframe\">\n",
       "  <thead>\n",
       "    <tr style=\"text-align: right;\">\n",
       "      <th></th>\n",
       "      <th>event</th>\n",
       "      <th>var1</th>\n",
       "      <th>var2</th>\n",
       "      <th>var3</th>\n",
       "      <th>var4</th>\n",
       "      <th>var5</th>\n",
       "      <th>var6</th>\n",
       "      <th>var7</th>\n",
       "      <th>var8</th>\n",
       "      <th>split</th>\n",
       "    </tr>\n",
       "    <tr>\n",
       "      <th>id</th>\n",
       "      <th></th>\n",
       "      <th></th>\n",
       "      <th></th>\n",
       "      <th></th>\n",
       "      <th></th>\n",
       "      <th></th>\n",
       "      <th></th>\n",
       "      <th></th>\n",
       "      <th></th>\n",
       "      <th></th>\n",
       "    </tr>\n",
       "  </thead>\n",
       "  <tbody>\n",
       "    <tr>\n",
       "      <th>0</th>\n",
       "      <td>1</td>\n",
       "      <td>-120.0</td>\n",
       "      <td>-2.817428e+09</td>\n",
       "      <td>-10175.481564</td>\n",
       "      <td>-12.0</td>\n",
       "      <td>-334283.557143</td>\n",
       "      <td>-167427.563978</td>\n",
       "      <td>-22.0</td>\n",
       "      <td>-94.25</td>\n",
       "      <td>dev</td>\n",
       "    </tr>\n",
       "    <tr>\n",
       "      <th>1</th>\n",
       "      <td>1</td>\n",
       "      <td>-120.0</td>\n",
       "      <td>-2.817428e+09</td>\n",
       "      <td>-10175.481564</td>\n",
       "      <td>-12.0</td>\n",
       "      <td>-334283.557143</td>\n",
       "      <td>-167427.563978</td>\n",
       "      <td>-22.0</td>\n",
       "      <td>-94.25</td>\n",
       "      <td>dev</td>\n",
       "    </tr>\n",
       "    <tr>\n",
       "      <th>2</th>\n",
       "      <td>1</td>\n",
       "      <td>-120.0</td>\n",
       "      <td>-2.817428e+09</td>\n",
       "      <td>-10175.481564</td>\n",
       "      <td>-12.0</td>\n",
       "      <td>-334283.557143</td>\n",
       "      <td>-167427.563978</td>\n",
       "      <td>-22.0</td>\n",
       "      <td>-94.25</td>\n",
       "      <td>dev</td>\n",
       "    </tr>\n",
       "    <tr>\n",
       "      <th>3</th>\n",
       "      <td>1</td>\n",
       "      <td>1.0</td>\n",
       "      <td>2.096510e+07</td>\n",
       "      <td>-10175.481564</td>\n",
       "      <td>-12.0</td>\n",
       "      <td>-334283.557143</td>\n",
       "      <td>-167427.563978</td>\n",
       "      <td>-22.0</td>\n",
       "      <td>62.75</td>\n",
       "      <td>dev</td>\n",
       "    </tr>\n",
       "    <tr>\n",
       "      <th>4</th>\n",
       "      <td>1</td>\n",
       "      <td>-120.0</td>\n",
       "      <td>-2.817428e+09</td>\n",
       "      <td>-10175.481564</td>\n",
       "      <td>-12.0</td>\n",
       "      <td>-334283.557143</td>\n",
       "      <td>-167427.563978</td>\n",
       "      <td>-22.0</td>\n",
       "      <td>-94.25</td>\n",
       "      <td>dev</td>\n",
       "    </tr>\n",
       "  </tbody>\n",
       "</table>\n",
       "</div>"
      ],
      "text/plain": [
       "    event   var1          var2          var3  var4           var5   \n",
       "id                                                                  \n",
       "0       1 -120.0 -2.817428e+09 -10175.481564 -12.0 -334283.557143  \\\n",
       "1       1 -120.0 -2.817428e+09 -10175.481564 -12.0 -334283.557143   \n",
       "2       1 -120.0 -2.817428e+09 -10175.481564 -12.0 -334283.557143   \n",
       "3       1    1.0  2.096510e+07 -10175.481564 -12.0 -334283.557143   \n",
       "4       1 -120.0 -2.817428e+09 -10175.481564 -12.0 -334283.557143   \n",
       "\n",
       "             var6  var7   var8 split  \n",
       "id                                    \n",
       "0  -167427.563978 -22.0 -94.25   dev  \n",
       "1  -167427.563978 -22.0 -94.25   dev  \n",
       "2  -167427.563978 -22.0 -94.25   dev  \n",
       "3  -167427.563978 -22.0  62.75   dev  \n",
       "4  -167427.563978 -22.0 -94.25   dev  "
      ]
     },
     "execution_count": 4,
     "metadata": {},
     "output_type": "execute_result"
    }
   ],
   "source": [
    "\n",
    "df_train_val.head()"
   ]
  },
  {
   "attachments": {},
   "cell_type": "markdown",
   "id": "13a64652",
   "metadata": {},
   "source": [
    "**cat embed:**\n",
    "var1, var4, var7\n",
    "\n",
    "**continual:**\n",
    "var2, var3, var5, var6, var8"
   ]
  },
  {
   "cell_type": "code",
   "execution_count": 5,
   "id": "595ef797",
   "metadata": {},
   "outputs": [],
   "source": [
    "from torch import Tensor\n",
    "\n",
    "class CustomBCELoss(nn.Module):\n",
    "    def __init__(self, class_weight=0.97) -> None:\n",
    "        super().__init__()\n",
    "        self.class_weight = class_weight\n",
    "\n",
    "    def forward(self, input: Tensor, target: Tensor) -> Tensor:\n",
    "\n",
    "        input = torch.sigmoid(input)\n",
    "        loss = (1-self.class_weight) * target * torch.log(input) + self.class_weight * (1 - target) * torch.log(1 - input)\n",
    "\n",
    "        return torch.neg(torch.mean(loss))\n"
   ]
  },
  {
   "cell_type": "code",
   "execution_count": 6,
   "id": "8a527ad7",
   "metadata": {},
   "outputs": [],
   "source": [
    "def stats(gts, preds):\n",
    "    for fn in [accuracy_score, precision_score, recall_score, f1_score, average_precision_score, roc_auc_score]:\n",
    "        print(fn.__name__, fn(gts, preds))\n",
    "    cm = confusion_matrix(gts, preds)\n",
    "\n",
    "    per_cls_acc = cm.astype(\n",
    "            'float') / (cm.sum(axis=1)[:, np.newaxis] + 1e-7)\n",
    "\n",
    "    # 可视化混淆矩阵\n",
    "    fig = plt.figure(figsize=(4, 4))\n",
    "    sns.heatmap(per_cls_acc, annot=True, cmap='Blues')\n",
    "    plt.xlabel('Predicted Label')\n",
    "    plt.ylabel('True Label')\n",
    "    plt.show()"
   ]
  },
  {
   "cell_type": "code",
   "execution_count": 7,
   "id": "3e4c6c74",
   "metadata": {},
   "outputs": [],
   "source": [
    "wide_cols = [\n",
    "    \"var1\",\n",
    "    \"var2\",\n",
    "    \"var8\",\n",
    "    \"var4\"\n",
    "]\n",
    "crossed_cols = [(\"var2\", \"var8\"), (\"var1\", \"var4\")]\n",
    "\n",
    "cat_embed_cols = [\n",
    "    \"var1\",\n",
    "    \"var4\",\n",
    "]\n",
    "continuous_cols = [\"var2\", \"var3\", \"var8\"]\n",
    "\n",
    "target = \"event\"\n",
    "target = df_train_val[target].values\n",
    "\n",
    "# prepare the data\n",
    "wide_preprocessor = WidePreprocessor(wide_cols=wide_cols, crossed_cols=crossed_cols)\n",
    "X_wide = wide_preprocessor.fit_transform(df_train_val)\n",
    "\n",
    "tab_preprocessor = TabPreprocessor(\n",
    "    cat_embed_cols=cat_embed_cols, continuous_cols=continuous_cols  # type: ignore[arg-type]\n",
    ")\n",
    "X_tab = tab_preprocessor.fit_transform(df_train_val)\n",
    "\n",
    "# build the model\n",
    "wide = Wide(input_dim=np.unique(X_wide).shape[0], pred_dim=1)\n",
    "tab_mlp = TabMlp(\n",
    "    column_idx=tab_preprocessor.column_idx,\n",
    "    cat_embed_input=tab_preprocessor.cat_embed_input,\n",
    "    continuous_cols=continuous_cols,\n",
    "    mlp_hidden_dims=[100],\n",
    "    mlp_dropout=0.5,\n",
    "    mlp_activation=\"leaky_relu\",\n",
    ")\n",
    "model = WideDeep(wide=wide, deeptabular=tab_mlp)"
   ]
  },
  {
   "cell_type": "code",
   "execution_count": 17,
   "id": "ed072ca5",
   "metadata": {},
   "outputs": [
    {
     "name": "stderr",
     "output_type": "stream",
     "text": [
      "epoch 1: 100%|██████████| 747/747 [00:14<00:00, 49.97it/s, loss=0.0379, metrics={'acc': 0.6265, 'f1': 0.7665, 'prec': 0.981, 'rec': 0.629}]  \n",
      "valid: 100%|██████████| 187/187 [00:06<00:00, 28.71it/s, loss=0.0369, metrics={'acc': 0.434, 'f1': 0.5943, 'prec': 0.9863, 'rec': 0.4253}]  \n",
      "epoch 2: 100%|██████████| 747/747 [00:14<00:00, 49.90it/s, loss=0.0346, metrics={'acc': 0.6782, 'f1': 0.8051, 'prec': 0.9827, 'rec': 0.6819}] \n",
      "valid: 100%|██████████| 187/187 [00:05<00:00, 33.72it/s, loss=0.0355, metrics={'acc': 0.4833, 'f1': 0.6426, 'prec': 0.9865, 'rec': 0.4764}] \n",
      "epoch 3: 100%|██████████| 747/747 [00:14<00:00, 50.15it/s, loss=0.0329, metrics={'acc': 0.7055, 'f1': 0.8245, 'prec': 0.9837, 'rec': 0.7097}] \n",
      "valid: 100%|██████████| 187/187 [00:06<00:00, 26.92it/s, loss=0.0352, metrics={'acc': 0.4925, 'f1': 0.651, 'prec': 0.9875, 'rec': 0.4855}] \n",
      "epoch 4: 100%|██████████| 747/747 [00:14<00:00, 50.66it/s, loss=0.0316, metrics={'acc': 0.7222, 'f1': 0.8359, 'prec': 0.9848, 'rec': 0.7261}]\n",
      "valid: 100%|██████████| 187/187 [00:05<00:00, 33.07it/s, loss=0.035, metrics={'acc': 0.511, 'f1': 0.6681, 'prec': 0.9872, 'rec': 0.5049}]  \n",
      "epoch 5: 100%|██████████| 747/747 [00:14<00:00, 51.26it/s, loss=0.0305, metrics={'acc': 0.7351, 'f1': 0.8447, 'prec': 0.9856, 'rec': 0.7391}]\n",
      "valid: 100%|██████████| 187/187 [00:05<00:00, 33.56it/s, loss=0.035, metrics={'acc': 0.5103, 'f1': 0.6674, 'prec': 0.9872, 'rec': 0.5041}]  \n",
      "epoch 6: 100%|██████████| 747/747 [00:15<00:00, 48.69it/s, loss=0.0295, metrics={'acc': 0.7442, 'f1': 0.8507, 'prec': 0.9863, 'rec': 0.7479}]\n",
      "valid: 100%|██████████| 187/187 [00:05<00:00, 33.58it/s, loss=0.035, metrics={'acc': 0.5111, 'f1': 0.6682, 'prec': 0.9871, 'rec': 0.505}]   \n",
      "epoch 7: 100%|██████████| 747/747 [00:15<00:00, 47.93it/s, loss=0.0286, metrics={'acc': 0.7494, 'f1': 0.8542, 'prec': 0.9868, 'rec': 0.753}] \n",
      "valid: 100%|██████████| 187/187 [00:06<00:00, 27.89it/s, loss=0.0351, metrics={'acc': 0.5136, 'f1': 0.6705, 'prec': 0.9869, 'rec': 0.5077}]\n",
      "epoch 8: 100%|██████████| 747/747 [00:14<00:00, 51.27it/s, loss=0.0279, metrics={'acc': 0.7583, 'f1': 0.8601, 'prec': 0.9872, 'rec': 0.762}] \n",
      "valid: 100%|██████████| 187/187 [00:06<00:00, 27.48it/s, loss=0.0352, metrics={'acc': 0.8537, 'f1': 0.9204, 'prec': 0.9802, 'rec': 0.8674}]\n",
      "epoch 9: 100%|██████████| 747/747 [00:16<00:00, 45.45it/s, loss=0.0272, metrics={'acc': 0.7695, 'f1': 0.8673, 'prec': 0.9878, 'rec': 0.7731}]\n",
      "valid: 100%|██████████| 187/187 [00:07<00:00, 25.66it/s, loss=0.0353, metrics={'acc': 0.8527, 'f1': 0.9198, 'prec': 0.9801, 'rec': 0.8665}]\n",
      "epoch 10: 100%|██████████| 747/747 [00:16<00:00, 45.79it/s, loss=0.0266, metrics={'acc': 0.7764, 'f1': 0.8718, 'prec': 0.9881, 'rec': 0.78}]   \n",
      "valid: 100%|██████████| 187/187 [00:06<00:00, 30.09it/s, loss=0.0354, metrics={'acc': 0.8547, 'f1': 0.921, 'prec': 0.9801, 'rec': 0.8686}]  \n",
      "epoch 11: 100%|██████████| 747/747 [00:15<00:00, 48.38it/s, loss=0.026, metrics={'acc': 0.7804, 'f1': 0.8743, 'prec': 0.9886, 'rec': 0.7837}]  \n",
      "valid: 100%|██████████| 187/187 [00:06<00:00, 28.21it/s, loss=0.0355, metrics={'acc': 0.8555, 'f1': 0.9215, 'prec': 0.9801, 'rec': 0.8694}] \n",
      "epoch 12: 100%|██████████| 747/747 [00:16<00:00, 46.00it/s, loss=0.0255, metrics={'acc': 0.7809, 'f1': 0.8746, 'prec': 0.9891, 'rec': 0.7839}]\n",
      "valid: 100%|██████████| 187/187 [00:06<00:00, 29.07it/s, loss=0.0357, metrics={'acc': 0.8551, 'f1': 0.9212, 'prec': 0.9799, 'rec': 0.8692}]\n",
      "epoch 13: 100%|██████████| 747/747 [00:17<00:00, 43.89it/s, loss=0.025, metrics={'acc': 0.7943, 'f1': 0.8832, 'prec': 0.9892, 'rec': 0.7977}] \n",
      "valid: 100%|██████████| 187/187 [00:06<00:00, 29.37it/s, loss=0.0359, metrics={'acc': 0.5134, 'f1': 0.6705, 'prec': 0.9864, 'rec': 0.5078}] \n",
      "epoch 14: 100%|██████████| 747/747 [00:16<00:00, 46.12it/s, loss=0.0246, metrics={'acc': 0.7795, 'f1': 0.8736, 'prec': 0.99, 'rec': 0.7817}]  \n",
      "valid: 100%|██████████| 187/187 [00:06<00:00, 28.22it/s, loss=0.0361, metrics={'acc': 0.8539, 'f1': 0.9205, 'prec': 0.9799, 'rec': 0.868}]  \n",
      "epoch 15: 100%|██████████| 747/747 [00:16<00:00, 44.96it/s, loss=0.0242, metrics={'acc': 0.7843, 'f1': 0.8767, 'prec': 0.9903, 'rec': 0.7865}]\n",
      "valid: 100%|██████████| 187/187 [00:06<00:00, 27.73it/s, loss=0.0363, metrics={'acc': 0.8557, 'f1': 0.9216, 'prec': 0.9798, 'rec': 0.87}]   \n",
      "predict: 100%|██████████| 234/234 [00:05<00:00, 44.17it/s] \n"
     ]
    },
    {
     "name": "stdout",
     "output_type": "stream",
     "text": [
      "0 class weights: {ratio}\n",
      "accuracy_score 0.5639685809509454\n",
      "precision_score 0.9839102583380951\n",
      "recall_score 0.5619760890476845\n",
      "f1_score 0.7153618244831469\n",
      "average_precision_score 0.9800053347392947\n",
      "roc_auc_score 0.6018185870556573\n"
     ]
    },
    {
     "data": {
      "image/png": "[encoded data removed]",
      "text/plain": [
       "<Figure size 400x400 with 2 Axes>"
      ]
     },
     "metadata": {},
     "output_type": "display_data"
    }
   ],
   "source": [
    "# train and validate\n",
    "ratio = 0.97 # 0 class weights 0.97, 1 class weights 0.03\n",
    "trainer = Trainer(\n",
    "    model, \n",
    "    objective=\"binary\", \n",
    "    # custom_loss_function=weighted_binary_cross_entropy,\n",
    "    custom_loss_function=CustomBCELoss(ratio),\n",
    "    optimizers=torch.optim.AdamW(model.parameters(), lr=0.002),\n",
    "    custom_dataloader=DataLoaderImbalanced,\n",
    "    metrics=[Accuracy, F1Score, Precision, Recall]\n",
    ")\n",
    "\n",
    "# binary lr=0.05\n",
    "\n",
    "trainer.fit(\n",
    "    X_wide=X_wide,\n",
    "    X_tab=X_tab,\n",
    "    target=target,\n",
    "    n_epochs=15,\n",
    "    batch_size=256,\n",
    "    val_split=0.2\n",
    ")\n",
    "\n",
    "# predict on test\n",
    "X_wide_te = wide_preprocessor.transform(df_test)\n",
    "X_tab_te = tab_preprocessor.transform(df_test)\n",
    "gts = df_test[label].values\n",
    "\n",
    "preds = trainer.predict(X_wide=X_wide_te, X_tab=X_tab_te)\n",
    "\n",
    "print('0 class weights: {ratio}')\n",
    "stats(gts, preds)\n",
    "\n",
    "torch.save(model.state_dict(), f\"model_weights/wd_custom{ratio}_model.pt\")"
   ]
  },
  {
   "cell_type": "code",
   "execution_count": 10,
   "id": "2aea2316",
   "metadata": {},
   "outputs": [
    {
     "name": "stderr",
     "output_type": "stream",
     "text": [
      "epoch 1: 100%|██████████| 933/933 [00:20<00:00, 45.30it/s, loss=0.0665, metrics={'acc': 0.9698, 'f1': 0.9847, 'prec': 0.9749, 'rec': 0.9947}]\n",
      "epoch 2: 100%|██████████| 933/933 [00:19<00:00, 47.21it/s, loss=0.058, metrics={'acc': 0.9744, 'f1': 0.987, 'prec': 0.975, 'rec': 0.9994}]   \n",
      "epoch 3: 100%|██████████| 933/933 [00:20<00:00, 44.89it/s, loss=0.0556, metrics={'acc': 0.9745, 'f1': 0.9871, 'prec': 0.9751, 'rec': 0.9994}]\n",
      "epoch 4: 100%|██████████| 933/933 [00:18<00:00, 49.81it/s, loss=0.0538, metrics={'acc': 0.9747, 'f1': 0.9872, 'prec': 0.9751, 'rec': 0.9996}] \n",
      "epoch 5: 100%|██████████| 933/933 [00:20<00:00, 45.22it/s, loss=0.0524, metrics={'acc': 0.975, 'f1': 0.9873, 'prec': 0.9753, 'rec': 0.9997}] \n",
      "epoch 6: 100%|██████████| 933/933 [00:20<00:00, 45.68it/s, loss=0.0512, metrics={'acc': 0.975, 'f1': 0.9874, 'prec': 0.9753, 'rec': 0.9997}] \n",
      "epoch 7: 100%|██████████| 933/933 [00:18<00:00, 49.31it/s, loss=0.0501, metrics={'acc': 0.9753, 'f1': 0.9875, 'prec': 0.9754, 'rec': 0.9998}] \n",
      "epoch 8: 100%|██████████| 933/933 [00:21<00:00, 44.38it/s, loss=0.049, metrics={'acc': 0.9755, 'f1': 0.9876, 'prec': 0.9756, 'rec': 0.9999}] \n",
      "epoch 9: 100%|██████████| 933/933 [00:20<00:00, 45.82it/s, loss=0.0481, metrics={'acc': 0.9757, 'f1': 0.9877, 'prec': 0.9757, 'rec': 0.9999}]\n",
      "epoch 10: 100%|██████████| 933/933 [00:21<00:00, 44.29it/s, loss=0.0471, metrics={'acc': 0.9759, 'f1': 0.9878, 'prec': 0.9759, 'rec': 0.9999}]\n",
      "epoch 11: 100%|██████████| 933/933 [00:20<00:00, 45.12it/s, loss=0.0463, metrics={'acc': 0.976, 'f1': 0.9878, 'prec': 0.976, 'rec': 0.9999}]  \n",
      "epoch 12: 100%|██████████| 933/933 [00:20<00:00, 45.14it/s, loss=0.0456, metrics={'acc': 0.9762, 'f1': 0.9879, 'prec': 0.9762, 'rec': 0.9999}]\n",
      "epoch 13: 100%|██████████| 933/933 [00:19<00:00, 46.86it/s, loss=0.0448, metrics={'acc': 0.9764, 'f1': 0.988, 'prec': 0.9764, 'rec': 0.9999}] \n",
      "epoch 14: 100%|██████████| 933/933 [07:01<00:00,  2.21it/s, loss=0.0442, metrics={'acc': 0.9766, 'f1': 0.9881, 'prec': 0.9766, 'rec': 0.9999}]  \n",
      "epoch 15: 100%|██████████| 933/933 [00:20<00:00, 46.38it/s, loss=0.0435, metrics={'acc': 0.9768, 'f1': 0.9882, 'prec': 0.9768, 'rec': 0.9999}]\n",
      "predict: 100%|██████████| 234/234 [00:06<00:00, 34.52it/s] \n"
     ]
    },
    {
     "name": "stdout",
     "output_type": "stream",
     "text": [
      "0 class weights: {ratio}\n",
      "accuracy_score 0.9747274280259257\n",
      "precision_score 0.9751478893301828\n",
      "recall_score 0.9995533873849114\n",
      "f1_score 0.9871998235628431\n",
      "average_precision_score 0.9751478212239917\n",
      "roc_auc_score 0.503125655514291\n"
     ]
    },
    {
     "data": {
      "image/png": "[encoded data removed]",
      "text/plain": [
       "<Figure size 400x400 with 2 Axes>"
      ]
     },
     "metadata": {},
     "output_type": "display_data"
    }
   ],
   "source": [
    "# rebuild model\n",
    "wide_cols = [\n",
    "    \"var1\",\n",
    "    \"var2\",\n",
    "    \"var8\",\n",
    "    \"var4\"\n",
    "]\n",
    "crossed_cols = [(\"var2\", \"var8\"), (\"var1\", \"var4\")]\n",
    "\n",
    "cat_embed_cols = [\n",
    "    \"var1\",\n",
    "    \"var4\",\n",
    "]\n",
    "continuous_cols = [\"var2\", \"var3\", \"var8\"]\n",
    "\n",
    "target = \"event\"\n",
    "target = df_train_val[target].values\n",
    "\n",
    "# prepare the data\n",
    "wide_preprocessor = WidePreprocessor(wide_cols=wide_cols, crossed_cols=crossed_cols)\n",
    "X_wide = wide_preprocessor.fit_transform(df_train_val)\n",
    "\n",
    "tab_preprocessor = TabPreprocessor(\n",
    "    cat_embed_cols=cat_embed_cols, continuous_cols=continuous_cols  # type: ignore[arg-type]\n",
    ")\n",
    "X_tab = tab_preprocessor.fit_transform(df_train_val)\n",
    "\n",
    "# build the model\n",
    "wide = Wide(input_dim=np.unique(X_wide).shape[0], pred_dim=1)\n",
    "tab_mlp = TabMlp(\n",
    "    column_idx=tab_preprocessor.column_idx,\n",
    "    cat_embed_input=tab_preprocessor.cat_embed_input,\n",
    "    continuous_cols=continuous_cols,\n",
    "    mlp_hidden_dims=[100],\n",
    "    mlp_dropout=0.5,\n",
    "    mlp_activation=\"leaky_relu\",\n",
    ")\n",
    "model = WideDeep(wide=wide, deeptabular=tab_mlp)\n",
    "\n",
    "ratio = 0.5 # equal to BCELoss\n",
    "\n",
    "trainer = Trainer(\n",
    "    model, \n",
    "    objective=\"binary\", \n",
    "    # custom_loss_function=weighted_binary_cross_entropy,\n",
    "    custom_loss_function=CustomBCELoss(ratio),\n",
    "    optimizers=torch.optim.AdamW(model.parameters(), lr=0.002),\n",
    "    custom_dataloader=DataLoaderImbalanced,\n",
    "    metrics=[Accuracy, F1Score, Precision, Recall]\n",
    ")\n",
    "\n",
    "# binary lr=0.05\n",
    "\n",
    "trainer.fit(\n",
    "    X_wide=X_wide,\n",
    "    X_tab=X_tab,\n",
    "    target=target,\n",
    "    n_epochs=15,\n",
    "    batch_size=256,\n",
    ")\n",
    "\n",
    "# predict on test\n",
    "test_gts = df_test[label].values\n",
    "\n",
    "X_wide_te = wide_preprocessor.transform(df_test)\n",
    "X_tab_te = tab_preprocessor.transform(df_test)\n",
    "\n",
    "preds = trainer.predict(X_wide=X_wide_te, X_tab=X_tab_te)\n",
    "\n",
    "print('0 class weights: {ratio}')\n",
    "stats(test_gts, preds)\n",
    "\n",
    "torch.save(model.state_dict(), f\"model_weights/wd_custom{ratio}_model.pt\")\n"
   ]
  },
  {
   "cell_type": "code",
   "execution_count": 11,
   "id": "e00fd6c4",
   "metadata": {},
   "outputs": [
    {
     "name": "stderr",
     "output_type": "stream",
     "text": [
      "epoch 1: 100%|██████████| 933/933 [00:20<00:00, 46.23it/s, loss=0.0756, metrics={'acc': 0.9518, 'f1': 0.9753, 'prec': 0.9756, 'rec': 0.9749}]\n",
      "epoch 2: 100%|██████████| 933/933 [00:20<00:00, 46.38it/s, loss=0.0642, metrics={'acc': 0.9697, 'f1': 0.9846, 'prec': 0.9766, 'rec': 0.9927}]\n",
      "epoch 3: 100%|██████████| 933/933 [00:18<00:00, 49.36it/s, loss=0.0613, metrics={'acc': 0.9704, 'f1': 0.9849, 'prec': 0.9768, 'rec': 0.9933}]\n",
      "epoch 4: 100%|██████████| 933/933 [00:19<00:00, 46.70it/s, loss=0.059, metrics={'acc': 0.9709, 'f1': 0.9852, 'prec': 0.9771, 'rec': 0.9934}] \n",
      "epoch 5: 100%|██████████| 933/933 [00:20<00:00, 45.66it/s, loss=0.0573, metrics={'acc': 0.9716, 'f1': 0.9855, 'prec': 0.9775, 'rec': 0.9938}]\n",
      "epoch 6: 100%|██████████| 933/933 [00:19<00:00, 48.30it/s, loss=0.0557, metrics={'acc': 0.9721, 'f1': 0.9858, 'prec': 0.9776, 'rec': 0.9941}]\n",
      "epoch 7: 100%|██████████| 933/933 [00:20<00:00, 44.94it/s, loss=0.0543, metrics={'acc': 0.9728, 'f1': 0.9862, 'prec': 0.9779, 'rec': 0.9946}]\n",
      "epoch 8: 100%|██████████| 933/933 [00:20<00:00, 45.90it/s, loss=0.053, metrics={'acc': 0.9733, 'f1': 0.9864, 'prec': 0.9781, 'rec': 0.9949}] \n",
      "epoch 9: 100%|██████████| 933/933 [00:20<00:00, 45.71it/s, loss=0.0518, metrics={'acc': 0.9741, 'f1': 0.9868, 'prec': 0.9784, 'rec': 0.9954}]\n",
      "epoch 10: 100%|██████████| 933/933 [00:19<00:00, 47.09it/s, loss=0.0507, metrics={'acc': 0.9745, 'f1': 0.987, 'prec': 0.9786, 'rec': 0.9956}] \n",
      "predict: 100%|██████████| 234/234 [00:06<00:00, 34.12it/s]\n"
     ]
    },
    {
     "name": "stdout",
     "output_type": "stream",
     "text": [
      "0 class weights: {ratio}\n",
      "accuracy_score 0.9741077559496893\n",
      "precision_score 0.9754992448397383\n",
      "recall_score 0.998522742888553\n",
      "f1_score 0.9868767295383938\n",
      "average_precision_score 0.9754985005229885\n",
      "roc_auc_score 0.5103129454563328\n"
     ]
    },
    {
     "data": {
      "image/png": "[encoded data removed]",
      "text/plain": [
       "<Figure size 400x400 with 2 Axes>"
      ]
     },
     "metadata": {},
     "output_type": "display_data"
    }
   ],
   "source": [
    "# rebuild model\n",
    "wide_cols = [\n",
    "    \"var1\",\n",
    "    \"var2\",\n",
    "    \"var8\",\n",
    "    \"var4\"\n",
    "]\n",
    "crossed_cols = [(\"var2\", \"var8\"), (\"var1\", \"var4\")]\n",
    "\n",
    "cat_embed_cols = [\n",
    "    \"var1\",\n",
    "    \"var4\",\n",
    "]\n",
    "continuous_cols = [\"var2\", \"var3\", \"var8\"]\n",
    "\n",
    "target = \"event\"\n",
    "target = df_train_val[target].values\n",
    "\n",
    "# prepare the data\n",
    "wide_preprocessor = WidePreprocessor(wide_cols=wide_cols, crossed_cols=crossed_cols)\n",
    "X_wide = wide_preprocessor.fit_transform(df_train_val)\n",
    "\n",
    "tab_preprocessor = TabPreprocessor(\n",
    "    cat_embed_cols=cat_embed_cols, continuous_cols=continuous_cols  # type: ignore[arg-type]\n",
    ")\n",
    "X_tab = tab_preprocessor.fit_transform(df_train_val)\n",
    "\n",
    "# build the model\n",
    "wide = Wide(input_dim=np.unique(X_wide).shape[0], pred_dim=1)\n",
    "tab_mlp = TabMlp(\n",
    "    column_idx=tab_preprocessor.column_idx,\n",
    "    cat_embed_input=tab_preprocessor.cat_embed_input,\n",
    "    continuous_cols=continuous_cols,\n",
    "    mlp_hidden_dims=[100],\n",
    "    mlp_dropout=0.5,\n",
    "    mlp_activation=\"leaky_relu\",\n",
    ")\n",
    "model = WideDeep(wide=wide, deeptabular=tab_mlp)\n",
    "\n",
    "ratio = 0.8 # 0 class weights 0.8, 1 c weights 0.2\n",
    "trainer = Trainer(\n",
    "    model, \n",
    "    objective=\"binary\", \n",
    "    # custom_loss_function=weighted_binary_cross_entropy,\n",
    "    custom_loss_function=CustomBCELoss(ratio),\n",
    "    optimizers=torch.optim.AdamW(model.parameters(), lr=0.002),\n",
    "    custom_dataloader=DataLoaderImbalanced,\n",
    "    metrics=[Accuracy, F1Score, Precision, Recall]\n",
    ")\n",
    "\n",
    "# binary lr=0.05\n",
    "\n",
    "trainer.fit(\n",
    "    X_wide=X_wide,\n",
    "    X_tab=X_tab,\n",
    "    target=target,\n",
    "    n_epochs=10,\n",
    "    batch_size=256,\n",
    ")\n",
    "\n",
    "\n",
    "X_wide_te = wide_preprocessor.transform(df_test)\n",
    "X_tab_te = tab_preprocessor.transform(df_test)\n",
    "\n",
    "# predict on test\n",
    "test_gts = df_test[label].values\n",
    "\n",
    "preds = trainer.predict(X_wide=X_wide_te, X_tab=X_tab_te)\n",
    "\n",
    "print('0 class weights: {ratio}')\n",
    "stats(test_gts, preds)\n",
    "\n",
    "torch.save(model.state_dict(), f\"model_weights/wd_custom{ratio}_model.pt\")\n"
   ]
  },
  {
   "cell_type": "code",
   "execution_count": 14,
   "id": "7bd10025",
   "metadata": {},
   "outputs": [
    {
     "name": "stderr",
     "output_type": "stream",
     "text": [
      "epoch 1: 100%|██████████| 933/933 [00:20<00:00, 45.57it/s, loss=0.0299, metrics={'acc': 0.948, 'f1': 0.9733, 'prec': 0.975, 'rec': 0.9716}]  \n",
      "epoch 2: 100%|██████████| 933/933 [00:19<00:00, 47.15it/s, loss=0.0215, metrics={'acc': 0.965, 'f1': 0.9822, 'prec': 0.9757, 'rec': 0.9887}]  \n",
      "epoch 3: 100%|██████████| 933/933 [00:18<00:00, 49.37it/s, loss=0.019, metrics={'acc': 0.9694, 'f1': 0.9845, 'prec': 0.976, 'rec': 0.993}]    \n",
      "epoch 4: 100%|██████████| 933/933 [00:20<00:00, 44.85it/s, loss=0.0174, metrics={'acc': 0.9715, 'f1': 0.9855, 'prec': 0.9763, 'rec': 0.995}] \n",
      "epoch 5: 100%|██████████| 933/933 [00:18<00:00, 51.67it/s, loss=0.0163, metrics={'acc': 0.9733, 'f1': 0.9864, 'prec': 0.9765, 'rec': 0.9966}] \n",
      "epoch 6: 100%|██████████| 933/933 [00:17<00:00, 52.48it/s, loss=0.0153, metrics={'acc': 0.9744, 'f1': 0.987, 'prec': 0.9768, 'rec': 0.9974}] \n",
      "epoch 7: 100%|██████████| 933/933 [00:19<00:00, 47.69it/s, loss=0.0145, metrics={'acc': 0.9753, 'f1': 0.9875, 'prec': 0.977, 'rec': 0.9982}] \n",
      "epoch 8: 100%|██████████| 933/933 [00:20<00:00, 45.47it/s, loss=0.0138, metrics={'acc': 0.9763, 'f1': 0.988, 'prec': 0.9774, 'rec': 0.9988}] \n",
      "epoch 9: 100%|██████████| 933/933 [00:19<00:00, 47.52it/s, loss=0.0132, metrics={'acc': 0.977, 'f1': 0.9883, 'prec': 0.9777, 'rec': 0.9991}] \n",
      "epoch 10: 100%|██████████| 933/933 [00:20<00:00, 44.96it/s, loss=0.0127, metrics={'acc': 0.9778, 'f1': 0.9887, 'prec': 0.9783, 'rec': 0.9994}]\n",
      "predict: 100%|██████████| 234/234 [00:07<00:00, 32.77it/s]\n"
     ]
    },
    {
     "name": "stdout",
     "output_type": "stream",
     "text": [
      "accuracy_score 0.974442713828736\n",
      "precision_score 0.9751886001676446\n",
      "recall_score 0.9992098392194586\n",
      "f1_score 0.9870530941917093\n",
      "average_precision_score 0.9751884475039685\n",
      "roc_auc_score 0.5039585699781151\n"
     ]
    },
    {
     "data": {
      "image/png": "[encoded data removed]",
      "text/plain": [
       "<Figure size 400x400 with 2 Axes>"
      ]
     },
     "metadata": {},
     "output_type": "display_data"
    }
   ],
   "source": [
    "# rebuild model\n",
    "wide_cols = [\n",
    "    \"var1\",\n",
    "    \"var2\",\n",
    "    \"var8\",\n",
    "    \"var4\"\n",
    "]\n",
    "crossed_cols = [(\"var2\", \"var8\"), (\"var1\", \"var4\")]\n",
    "\n",
    "cat_embed_cols = [\n",
    "    \"var1\",\n",
    "    \"var4\",\n",
    "]\n",
    "continuous_cols = [\"var2\", \"var3\", \"var8\"]\n",
    "\n",
    "target = \"event\"\n",
    "target = df_train_val[target].values\n",
    "\n",
    "# prepare the data\n",
    "wide_preprocessor = WidePreprocessor(wide_cols=wide_cols, crossed_cols=crossed_cols)\n",
    "X_wide = wide_preprocessor.fit_transform(df_train_val)\n",
    "\n",
    "tab_preprocessor = TabPreprocessor(\n",
    "    cat_embed_cols=cat_embed_cols, continuous_cols=continuous_cols  # type: ignore[arg-type]\n",
    ")\n",
    "X_tab = tab_preprocessor.fit_transform(df_train_val)\n",
    "\n",
    "# build the model\n",
    "wide = Wide(input_dim=np.unique(X_wide).shape[0], pred_dim=1)\n",
    "tab_mlp = TabMlp(\n",
    "    column_idx=tab_preprocessor.column_idx,\n",
    "    cat_embed_input=tab_preprocessor.cat_embed_input,\n",
    "    continuous_cols=continuous_cols,\n",
    "    mlp_hidden_dims=[100],\n",
    "    mlp_dropout=0.5,\n",
    "    mlp_activation=\"leaky_relu\",\n",
    ")\n",
    "model = WideDeep(wide=wide, deeptabular=tab_mlp)\n",
    "\n",
    "trainer = Trainer(\n",
    "    model, \n",
    "    objective=\"binary_focal_loss\", \n",
    "    optimizers=torch.optim.AdamW(model.parameters(), lr=0.002),\n",
    "    custom_dataloader=DataLoaderImbalanced,\n",
    "    metrics=[Accuracy, F1Score, Precision, Recall]\n",
    ")\n",
    "\n",
    "# binary lr=0.05\n",
    "\n",
    "trainer.fit(\n",
    "    X_wide=X_wide,\n",
    "    X_tab=X_tab,\n",
    "    target=target,\n",
    "    n_epochs=10,\n",
    "    batch_size=256,\n",
    ")\n",
    "\n",
    "\n",
    "X_wide_te = wide_preprocessor.transform(df_test)\n",
    "X_tab_te = tab_preprocessor.transform(df_test)\n",
    "\n",
    "# predict on test\n",
    "test_gts = df_test[label].values\n",
    "\n",
    "preds = trainer.predict(X_wide=X_wide_te, X_tab=X_tab_te)\n",
    "\n",
    "stats(test_gts, preds)\n",
    "\n",
    "torch.save(model.state_dict(), f\"model_weights/wd_focal_model.pt\")\n"
   ]
  },
  {
   "cell_type": "code",
   "execution_count": 12,
   "id": "060115d3",
   "metadata": {},
   "outputs": [],
   "source": [
    "# X_wide_te = wide_preprocessor.transform(df_test)\n",
    "# X_tab_te = tab_preprocessor.transform(df_test)\n",
    "# test_gts = df_test[label].values\n",
    "\n",
    "# model_new = WideDeep(wide=wide, deeptabular=tab_mlp)\n",
    "\n",
    "# for i, pt_path in enumerate(['wd_custom_new_model.pt', 'wd_focal_loss_model.pt']):\n",
    "#     model_new.load_state_dict(torch.load(f\"model_weights/{pt_path}\"))\n",
    "#     trainer_new = Trainer(model_new, objective=\"binary\")\n",
    "#     test_preds = trainer_new.predict(X_wide=X_wide_te, X_tab=X_tab_te)\n",
    "#     model_name = pt_path.split('_')[1]\n",
    "#     print('----------------------------------------------------------')\n",
    "#     print(model_name)\n",
    "#     stats(test_gts, test_preds)\n",
    "#     print('----------------------------------------------------------\\n')\n"
   ]
  },
  {
   "cell_type": "code",
   "execution_count": null,
   "id": "096a25ec",
   "metadata": {},
   "outputs": [],
   "source": []
  }
 ],
 "metadata": {
  "hide_input": false,
  "kernelspec": {
   "display_name": "Python 3 (ipykernel)",
   "language": "python",
   "name": "python3"
  },
  "language_info": {
   "codemirror_mode": {
    "name": "ipython",
    "version": 3
   },
   "file_extension": ".py",
   "mimetype": "text/x-python",
   "name": "python",
   "nbconvert_exporter": "python",
   "pygments_lexer": "ipython3",
   "version": "3.7.6"
  },
  "toc": {
   "base_numbering": 1,
   "nav_menu": {},
   "number_sections": true,
   "sideBar": true,
   "skip_h1_title": false,
   "title_cell": "Table of Contents",
   "title_sidebar": "Contents",
   "toc_cell": false,
   "toc_position": {
    "height": "calc(100% - 180px)",
    "left": "10px",
    "top": "150px",
    "width": "222.415px"
   },
   "toc_section_display": true,
   "toc_window_display": true
  },
  "varInspector": {
   "cols": {
    "lenName": 16,
    "lenType": 16,
    "lenVar": 40
   },
   "kernels_config": {
    "python": {
     "delete_cmd_postfix": "",
     "delete_cmd_prefix": "del ",
     "library": "var_list.py",
     "varRefreshCmd": "print(var_dic_list())"
    },
    "r": {
     "delete_cmd_postfix": ") ",
     "delete_cmd_prefix": "rm(",
     "library": "var_list.r",
     "varRefreshCmd": "cat(var_dic_list()) "
    }
   },
   "types_to_exclude": [
    "module",
    "function",
    "builtin_function_or_method",
    "instance",
    "_Feature"
   ],
   "window_display": false
  }
 },
 "nbformat": 4,
 "nbformat_minor": 5
}
