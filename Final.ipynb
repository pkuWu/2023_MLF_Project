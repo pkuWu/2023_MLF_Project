{
 "cells": [
  {
   "cell_type": "code",
   "execution_count": 24,
   "id": "48269907",
   "metadata": {
    "ExecuteTime": {
     "end_time": "2023-05-01T15:43:56.642142Z",
     "start_time": "2023-05-01T15:43:56.625108Z"
    }
   },
   "outputs": [],
   "source": [
    "import numpy as np\n",
    "import pandas as pd\n",
    "import matplotlib.pyplot as plt\n",
    "import seaborn as sns\n",
    "import numpy as np\n",
    "import pandas as pd\n",
    "import matplotlib.pyplot as plt\n",
    "from sklearn.preprocessing import MinMaxScaler\n",
    "from sklearn.ensemble import RandomForestRegressor\n",
    "from sklearn.ensemble import RandomForestClassifier\n",
    "import seaborn as sns\n",
    "from sklearn.metrics import accuracy_score, precision_score, recall_score, f1_score, average_precision_score, roc_auc_score\n",
    "from sklearn.model_selection import KFold\n",
    "# from imblearn.over_sampling import RandomOverSampler\n",
    "import lightgbm as lgb\n",
    "import xgboost as xgb\n",
    "from collections import Counter\n",
    "from sklearn.metrics import confusion_matrix\n",
    "import warnings \n",
    "warnings.filterwarnings('ignore')\n",
    "from tqdm import tqdm"
   ]
  },
  {
   "cell_type": "markdown",
   "id": "56233215",
   "metadata": {},
   "source": [
    "**Reference**\n",
    "https://blog.csdn.net/zwqjoy/article/details/109311133"
   ]
  },
  {
   "cell_type": "markdown",
   "id": "606a6fb0",
   "metadata": {},
   "source": [
    "# load data"
   ]
  },
  {
   "cell_type": "code",
   "execution_count": 3,
   "id": "25fb0e78",
   "metadata": {
    "ExecuteTime": {
     "end_time": "2023-05-01T15:29:57.601726Z",
     "start_time": "2023-05-01T15:29:57.597727Z"
    }
   },
   "outputs": [],
   "source": [
    "def load_data():\n",
    "    df_train = pd.read_csv(f'./data/training.csv',index_col='id')\n",
    "    df_test = pd.read_csv(f'./data/test.csv',index_col='id')\n",
    "\n",
    "    return df_train, df_test"
   ]
  },
  {
   "cell_type": "code",
   "execution_count": 4,
   "id": "93619dc5",
   "metadata": {
    "ExecuteTime": {
     "end_time": "2023-05-01T15:29:58.186939Z",
     "start_time": "2023-05-01T15:29:58.016092Z"
    }
   },
   "outputs": [],
   "source": [
    "df_train, df_test = load_data()"
   ]
  },
  {
   "cell_type": "code",
   "execution_count": 5,
   "id": "305db967",
   "metadata": {
    "ExecuteTime": {
     "end_time": "2023-05-01T15:29:59.003572Z",
     "start_time": "2023-05-01T15:29:58.979401Z"
    }
   },
   "outputs": [
    {
     "data": {
      "text/html": [
       "<div>\n",
       "<style scoped>\n",
       "    .dataframe tbody tr th:only-of-type {\n",
       "        vertical-align: middle;\n",
       "    }\n",
       "\n",
       "    .dataframe tbody tr th {\n",
       "        vertical-align: top;\n",
       "    }\n",
       "\n",
       "    .dataframe thead th {\n",
       "        text-align: right;\n",
       "    }\n",
       "</style>\n",
       "<table border=\"1\" class=\"dataframe\">\n",
       "  <thead>\n",
       "    <tr style=\"text-align: right;\">\n",
       "      <th></th>\n",
       "      <th>event</th>\n",
       "      <th>var1</th>\n",
       "      <th>var2</th>\n",
       "      <th>var3</th>\n",
       "      <th>var4</th>\n",
       "      <th>var5</th>\n",
       "      <th>var6</th>\n",
       "      <th>var7</th>\n",
       "      <th>var8</th>\n",
       "      <th>split</th>\n",
       "    </tr>\n",
       "    <tr>\n",
       "      <th>id</th>\n",
       "      <th></th>\n",
       "      <th></th>\n",
       "      <th></th>\n",
       "      <th></th>\n",
       "      <th></th>\n",
       "      <th></th>\n",
       "      <th></th>\n",
       "      <th></th>\n",
       "      <th></th>\n",
       "      <th></th>\n",
       "    </tr>\n",
       "  </thead>\n",
       "  <tbody>\n",
       "    <tr>\n",
       "      <th>0</th>\n",
       "      <td>1</td>\n",
       "      <td>NaN</td>\n",
       "      <td>NaN</td>\n",
       "      <td>NaN</td>\n",
       "      <td>NaN</td>\n",
       "      <td>NaN</td>\n",
       "      <td>NaN</td>\n",
       "      <td>NaN</td>\n",
       "      <td>NaN</td>\n",
       "      <td>dev</td>\n",
       "    </tr>\n",
       "    <tr>\n",
       "      <th>1</th>\n",
       "      <td>1</td>\n",
       "      <td>NaN</td>\n",
       "      <td>NaN</td>\n",
       "      <td>NaN</td>\n",
       "      <td>NaN</td>\n",
       "      <td>NaN</td>\n",
       "      <td>NaN</td>\n",
       "      <td>NaN</td>\n",
       "      <td>NaN</td>\n",
       "      <td>dev</td>\n",
       "    </tr>\n",
       "    <tr>\n",
       "      <th>2</th>\n",
       "      <td>1</td>\n",
       "      <td>NaN</td>\n",
       "      <td>NaN</td>\n",
       "      <td>NaN</td>\n",
       "      <td>NaN</td>\n",
       "      <td>NaN</td>\n",
       "      <td>NaN</td>\n",
       "      <td>NaN</td>\n",
       "      <td>NaN</td>\n",
       "      <td>dev</td>\n",
       "    </tr>\n",
       "    <tr>\n",
       "      <th>3</th>\n",
       "      <td>1</td>\n",
       "      <td>1.0</td>\n",
       "      <td>2.096510e+07</td>\n",
       "      <td>NaN</td>\n",
       "      <td>NaN</td>\n",
       "      <td>NaN</td>\n",
       "      <td>NaN</td>\n",
       "      <td>NaN</td>\n",
       "      <td>62.750000</td>\n",
       "      <td>dev</td>\n",
       "    </tr>\n",
       "    <tr>\n",
       "      <th>4</th>\n",
       "      <td>1</td>\n",
       "      <td>NaN</td>\n",
       "      <td>NaN</td>\n",
       "      <td>NaN</td>\n",
       "      <td>NaN</td>\n",
       "      <td>NaN</td>\n",
       "      <td>NaN</td>\n",
       "      <td>NaN</td>\n",
       "      <td>NaN</td>\n",
       "      <td>dev</td>\n",
       "    </tr>\n",
       "    <tr>\n",
       "      <th>...</th>\n",
       "      <td>...</td>\n",
       "      <td>...</td>\n",
       "      <td>...</td>\n",
       "      <td>...</td>\n",
       "      <td>...</td>\n",
       "      <td>...</td>\n",
       "      <td>...</td>\n",
       "      <td>...</td>\n",
       "      <td>...</td>\n",
       "      <td>...</td>\n",
       "    </tr>\n",
       "    <tr>\n",
       "      <th>238831</th>\n",
       "      <td>1</td>\n",
       "      <td>1.0</td>\n",
       "      <td>6.523118e+04</td>\n",
       "      <td>NaN</td>\n",
       "      <td>NaN</td>\n",
       "      <td>NaN</td>\n",
       "      <td>NaN</td>\n",
       "      <td>NaN</td>\n",
       "      <td>58.916667</td>\n",
       "      <td>dev</td>\n",
       "    </tr>\n",
       "    <tr>\n",
       "      <th>238832</th>\n",
       "      <td>1</td>\n",
       "      <td>1.0</td>\n",
       "      <td>NaN</td>\n",
       "      <td>NaN</td>\n",
       "      <td>NaN</td>\n",
       "      <td>NaN</td>\n",
       "      <td>NaN</td>\n",
       "      <td>NaN</td>\n",
       "      <td>NaN</td>\n",
       "      <td>dev</td>\n",
       "    </tr>\n",
       "    <tr>\n",
       "      <th>238833</th>\n",
       "      <td>1</td>\n",
       "      <td>NaN</td>\n",
       "      <td>NaN</td>\n",
       "      <td>NaN</td>\n",
       "      <td>NaN</td>\n",
       "      <td>NaN</td>\n",
       "      <td>NaN</td>\n",
       "      <td>NaN</td>\n",
       "      <td>NaN</td>\n",
       "      <td>dev</td>\n",
       "    </tr>\n",
       "    <tr>\n",
       "      <th>238834</th>\n",
       "      <td>1</td>\n",
       "      <td>1.0</td>\n",
       "      <td>8.880325e+05</td>\n",
       "      <td>3.213</td>\n",
       "      <td>13.0</td>\n",
       "      <td>NaN</td>\n",
       "      <td>NaN</td>\n",
       "      <td>NaN</td>\n",
       "      <td>63.958333</td>\n",
       "      <td>dev</td>\n",
       "    </tr>\n",
       "    <tr>\n",
       "      <th>238835</th>\n",
       "      <td>1</td>\n",
       "      <td>NaN</td>\n",
       "      <td>NaN</td>\n",
       "      <td>NaN</td>\n",
       "      <td>NaN</td>\n",
       "      <td>NaN</td>\n",
       "      <td>NaN</td>\n",
       "      <td>NaN</td>\n",
       "      <td>NaN</td>\n",
       "      <td>dev</td>\n",
       "    </tr>\n",
       "  </tbody>\n",
       "</table>\n",
       "<p>238836 rows × 10 columns</p>\n",
       "</div>"
      ],
      "text/plain": [
       "        event  var1          var2   var3  var4  var5  var6  var7       var8  \\\n",
       "id                                                                            \n",
       "0           1   NaN           NaN    NaN   NaN   NaN   NaN   NaN        NaN   \n",
       "1           1   NaN           NaN    NaN   NaN   NaN   NaN   NaN        NaN   \n",
       "2           1   NaN           NaN    NaN   NaN   NaN   NaN   NaN        NaN   \n",
       "3           1   1.0  2.096510e+07    NaN   NaN   NaN   NaN   NaN  62.750000   \n",
       "4           1   NaN           NaN    NaN   NaN   NaN   NaN   NaN        NaN   \n",
       "...       ...   ...           ...    ...   ...   ...   ...   ...        ...   \n",
       "238831      1   1.0  6.523118e+04    NaN   NaN   NaN   NaN   NaN  58.916667   \n",
       "238832      1   1.0           NaN    NaN   NaN   NaN   NaN   NaN        NaN   \n",
       "238833      1   NaN           NaN    NaN   NaN   NaN   NaN   NaN        NaN   \n",
       "238834      1   1.0  8.880325e+05  3.213  13.0   NaN   NaN   NaN  63.958333   \n",
       "238835      1   NaN           NaN    NaN   NaN   NaN   NaN   NaN        NaN   \n",
       "\n",
       "       split  \n",
       "id            \n",
       "0        dev  \n",
       "1        dev  \n",
       "2        dev  \n",
       "3        dev  \n",
       "4        dev  \n",
       "...      ...  \n",
       "238831   dev  \n",
       "238832   dev  \n",
       "238833   dev  \n",
       "238834   dev  \n",
       "238835   dev  \n",
       "\n",
       "[238836 rows x 10 columns]"
      ]
     },
     "execution_count": 5,
     "metadata": {},
     "output_type": "execute_result"
    }
   ],
   "source": [
    "df_train"
   ]
  },
  {
   "cell_type": "code",
   "execution_count": 6,
   "id": "29d769a7",
   "metadata": {
    "ExecuteTime": {
     "end_time": "2023-05-01T15:29:59.511798Z",
     "start_time": "2023-05-01T15:29:59.492024Z"
    }
   },
   "outputs": [
    {
     "data": {
      "text/html": [
       "<div>\n",
       "<style scoped>\n",
       "    .dataframe tbody tr th:only-of-type {\n",
       "        vertical-align: middle;\n",
       "    }\n",
       "\n",
       "    .dataframe tbody tr th {\n",
       "        vertical-align: top;\n",
       "    }\n",
       "\n",
       "    .dataframe thead th {\n",
       "        text-align: right;\n",
       "    }\n",
       "</style>\n",
       "<table border=\"1\" class=\"dataframe\">\n",
       "  <thead>\n",
       "    <tr style=\"text-align: right;\">\n",
       "      <th></th>\n",
       "      <th>event</th>\n",
       "      <th>var1</th>\n",
       "      <th>var2</th>\n",
       "      <th>var3</th>\n",
       "      <th>var4</th>\n",
       "      <th>var5</th>\n",
       "      <th>var6</th>\n",
       "      <th>var7</th>\n",
       "      <th>var8</th>\n",
       "      <th>split</th>\n",
       "    </tr>\n",
       "    <tr>\n",
       "      <th>id</th>\n",
       "      <th></th>\n",
       "      <th></th>\n",
       "      <th></th>\n",
       "      <th></th>\n",
       "      <th></th>\n",
       "      <th></th>\n",
       "      <th></th>\n",
       "      <th></th>\n",
       "      <th></th>\n",
       "      <th></th>\n",
       "    </tr>\n",
       "  </thead>\n",
       "  <tbody>\n",
       "    <tr>\n",
       "      <th>0</th>\n",
       "      <td>1</td>\n",
       "      <td>1.0</td>\n",
       "      <td>9.248254e+07</td>\n",
       "      <td>0.908051</td>\n",
       "      <td>13.0</td>\n",
       "      <td>0.133592</td>\n",
       "      <td>0.027241</td>\n",
       "      <td>NaN</td>\n",
       "      <td>73.041667</td>\n",
       "      <td>test</td>\n",
       "    </tr>\n",
       "    <tr>\n",
       "      <th>1</th>\n",
       "      <td>1</td>\n",
       "      <td>NaN</td>\n",
       "      <td>NaN</td>\n",
       "      <td>NaN</td>\n",
       "      <td>4.0</td>\n",
       "      <td>NaN</td>\n",
       "      <td>NaN</td>\n",
       "      <td>NaN</td>\n",
       "      <td>NaN</td>\n",
       "      <td>test</td>\n",
       "    </tr>\n",
       "    <tr>\n",
       "      <th>2</th>\n",
       "      <td>1</td>\n",
       "      <td>1.0</td>\n",
       "      <td>6.718715e+06</td>\n",
       "      <td>7.035461</td>\n",
       "      <td>13.0</td>\n",
       "      <td>41.878073</td>\n",
       "      <td>-7.422937</td>\n",
       "      <td>NaN</td>\n",
       "      <td>76.250000</td>\n",
       "      <td>test</td>\n",
       "    </tr>\n",
       "    <tr>\n",
       "      <th>3</th>\n",
       "      <td>1</td>\n",
       "      <td>1.0</td>\n",
       "      <td>3.576348e+06</td>\n",
       "      <td>0.483255</td>\n",
       "      <td>13.0</td>\n",
       "      <td>60.801780</td>\n",
       "      <td>NaN</td>\n",
       "      <td>NaN</td>\n",
       "      <td>80.083333</td>\n",
       "      <td>test</td>\n",
       "    </tr>\n",
       "    <tr>\n",
       "      <th>4</th>\n",
       "      <td>1</td>\n",
       "      <td>1.0</td>\n",
       "      <td>8.443072e+06</td>\n",
       "      <td>NaN</td>\n",
       "      <td>NaN</td>\n",
       "      <td>0.525225</td>\n",
       "      <td>NaN</td>\n",
       "      <td>NaN</td>\n",
       "      <td>87.625000</td>\n",
       "      <td>test</td>\n",
       "    </tr>\n",
       "    <tr>\n",
       "      <th>...</th>\n",
       "      <td>...</td>\n",
       "      <td>...</td>\n",
       "      <td>...</td>\n",
       "      <td>...</td>\n",
       "      <td>...</td>\n",
       "      <td>...</td>\n",
       "      <td>...</td>\n",
       "      <td>...</td>\n",
       "      <td>...</td>\n",
       "      <td>...</td>\n",
       "    </tr>\n",
       "    <tr>\n",
       "      <th>59704</th>\n",
       "      <td>1</td>\n",
       "      <td>1.0</td>\n",
       "      <td>1.060430e+06</td>\n",
       "      <td>NaN</td>\n",
       "      <td>NaN</td>\n",
       "      <td>NaN</td>\n",
       "      <td>NaN</td>\n",
       "      <td>NaN</td>\n",
       "      <td>NaN</td>\n",
       "      <td>test</td>\n",
       "    </tr>\n",
       "    <tr>\n",
       "      <th>59705</th>\n",
       "      <td>1</td>\n",
       "      <td>NaN</td>\n",
       "      <td>NaN</td>\n",
       "      <td>NaN</td>\n",
       "      <td>NaN</td>\n",
       "      <td>NaN</td>\n",
       "      <td>NaN</td>\n",
       "      <td>NaN</td>\n",
       "      <td>NaN</td>\n",
       "      <td>test</td>\n",
       "    </tr>\n",
       "    <tr>\n",
       "      <th>59706</th>\n",
       "      <td>1</td>\n",
       "      <td>1.0</td>\n",
       "      <td>1.593264e+07</td>\n",
       "      <td>NaN</td>\n",
       "      <td>NaN</td>\n",
       "      <td>NaN</td>\n",
       "      <td>NaN</td>\n",
       "      <td>NaN</td>\n",
       "      <td>NaN</td>\n",
       "      <td>test</td>\n",
       "    </tr>\n",
       "    <tr>\n",
       "      <th>59707</th>\n",
       "      <td>1</td>\n",
       "      <td>NaN</td>\n",
       "      <td>NaN</td>\n",
       "      <td>NaN</td>\n",
       "      <td>NaN</td>\n",
       "      <td>NaN</td>\n",
       "      <td>NaN</td>\n",
       "      <td>NaN</td>\n",
       "      <td>NaN</td>\n",
       "      <td>test</td>\n",
       "    </tr>\n",
       "    <tr>\n",
       "      <th>59708</th>\n",
       "      <td>1</td>\n",
       "      <td>1.0</td>\n",
       "      <td>9.928336e+05</td>\n",
       "      <td>NaN</td>\n",
       "      <td>NaN</td>\n",
       "      <td>NaN</td>\n",
       "      <td>NaN</td>\n",
       "      <td>NaN</td>\n",
       "      <td>NaN</td>\n",
       "      <td>test</td>\n",
       "    </tr>\n",
       "  </tbody>\n",
       "</table>\n",
       "<p>59709 rows × 10 columns</p>\n",
       "</div>"
      ],
      "text/plain": [
       "       event  var1          var2      var3  var4       var5      var6  var7  \\\n",
       "id                                                                            \n",
       "0          1   1.0  9.248254e+07  0.908051  13.0   0.133592  0.027241   NaN   \n",
       "1          1   NaN           NaN       NaN   4.0        NaN       NaN   NaN   \n",
       "2          1   1.0  6.718715e+06  7.035461  13.0  41.878073 -7.422937   NaN   \n",
       "3          1   1.0  3.576348e+06  0.483255  13.0  60.801780       NaN   NaN   \n",
       "4          1   1.0  8.443072e+06       NaN   NaN   0.525225       NaN   NaN   \n",
       "...      ...   ...           ...       ...   ...        ...       ...   ...   \n",
       "59704      1   1.0  1.060430e+06       NaN   NaN        NaN       NaN   NaN   \n",
       "59705      1   NaN           NaN       NaN   NaN        NaN       NaN   NaN   \n",
       "59706      1   1.0  1.593264e+07       NaN   NaN        NaN       NaN   NaN   \n",
       "59707      1   NaN           NaN       NaN   NaN        NaN       NaN   NaN   \n",
       "59708      1   1.0  9.928336e+05       NaN   NaN        NaN       NaN   NaN   \n",
       "\n",
       "            var8 split  \n",
       "id                      \n",
       "0      73.041667  test  \n",
       "1            NaN  test  \n",
       "2      76.250000  test  \n",
       "3      80.083333  test  \n",
       "4      87.625000  test  \n",
       "...          ...   ...  \n",
       "59704        NaN  test  \n",
       "59705        NaN  test  \n",
       "59706        NaN  test  \n",
       "59707        NaN  test  \n",
       "59708        NaN  test  \n",
       "\n",
       "[59709 rows x 10 columns]"
      ]
     },
     "execution_count": 6,
     "metadata": {},
     "output_type": "execute_result"
    }
   ],
   "source": [
    "df_test"
   ]
  },
  {
   "cell_type": "code",
   "execution_count": 7,
   "id": "9b92fb96",
   "metadata": {
    "ExecuteTime": {
     "end_time": "2023-05-01T15:30:00.154914Z",
     "start_time": "2023-05-01T15:30:00.138911Z"
    }
   },
   "outputs": [
    {
     "data": {
      "text/plain": [
       "(1493, 10)"
      ]
     },
     "execution_count": 7,
     "metadata": {},
     "output_type": "execute_result"
    }
   ],
   "source": [
    "df_test[df_test['event']==0].shape"
   ]
  },
  {
   "cell_type": "code",
   "execution_count": 8,
   "id": "b4407c65",
   "metadata": {
    "ExecuteTime": {
     "end_time": "2023-05-01T15:30:01.482672Z",
     "start_time": "2023-05-01T15:30:01.465770Z"
    }
   },
   "outputs": [
    {
     "data": {
      "text/plain": [
       "(58216, 10)"
      ]
     },
     "execution_count": 8,
     "metadata": {},
     "output_type": "execute_result"
    }
   ],
   "source": [
    "df_test[df_test['event']==1].shape"
   ]
  },
  {
   "cell_type": "markdown",
   "id": "a66aca34",
   "metadata": {},
   "source": [
    "# EDA"
   ]
  },
  {
   "cell_type": "markdown",
   "id": "614d1d25",
   "metadata": {},
   "source": [
    "## Feature and label distribution"
   ]
  },
  {
   "cell_type": "code",
   "execution_count": 8,
   "id": "72caf2f3",
   "metadata": {
    "ExecuteTime": {
     "end_time": "2023-04-29T02:55:33.382565Z",
     "start_time": "2023-04-29T02:55:33.288566Z"
    }
   },
   "outputs": [
    {
     "data": {
      "text/html": [
       "<div>\n",
       "<style scoped>\n",
       "    .dataframe tbody tr th:only-of-type {\n",
       "        vertical-align: middle;\n",
       "    }\n",
       "\n",
       "    .dataframe tbody tr th {\n",
       "        vertical-align: top;\n",
       "    }\n",
       "\n",
       "    .dataframe thead th {\n",
       "        text-align: right;\n",
       "    }\n",
       "</style>\n",
       "<table border=\"1\" class=\"dataframe\">\n",
       "  <thead>\n",
       "    <tr style=\"text-align: right;\">\n",
       "      <th></th>\n",
       "      <th>event</th>\n",
       "      <th>var1</th>\n",
       "      <th>var2</th>\n",
       "      <th>var3</th>\n",
       "      <th>var4</th>\n",
       "      <th>var5</th>\n",
       "      <th>var6</th>\n",
       "      <th>var7</th>\n",
       "      <th>var8</th>\n",
       "    </tr>\n",
       "  </thead>\n",
       "  <tbody>\n",
       "    <tr>\n",
       "      <th>count</th>\n",
       "      <td>238836.000000</td>\n",
       "      <td>133036.000000</td>\n",
       "      <td>1.170360e+05</td>\n",
       "      <td>46637.000000</td>\n",
       "      <td>78187.000000</td>\n",
       "      <td>8287.000000</td>\n",
       "      <td>5939.000000</td>\n",
       "      <td>27542.000000</td>\n",
       "      <td>101147.000000</td>\n",
       "    </tr>\n",
       "    <tr>\n",
       "      <th>mean</th>\n",
       "      <td>0.974744</td>\n",
       "      <td>1.873951</td>\n",
       "      <td>5.989773e+06</td>\n",
       "      <td>16.772031</td>\n",
       "      <td>11.586977</td>\n",
       "      <td>289.199746</td>\n",
       "      <td>28.430493</td>\n",
       "      <td>20.646794</td>\n",
       "      <td>58.497153</td>\n",
       "    </tr>\n",
       "    <tr>\n",
       "      <th>std</th>\n",
       "      <td>0.156901</td>\n",
       "      <td>3.750522</td>\n",
       "      <td>3.444271e+07</td>\n",
       "      <td>125.433035</td>\n",
       "      <td>3.459597</td>\n",
       "      <td>5099.352261</td>\n",
       "      <td>2133.407579</td>\n",
       "      <td>6.460506</td>\n",
       "      <td>11.731754</td>\n",
       "    </tr>\n",
       "    <tr>\n",
       "      <th>min</th>\n",
       "      <td>0.000000</td>\n",
       "      <td>1.000000</td>\n",
       "      <td>0.000000e+00</td>\n",
       "      <td>0.000000</td>\n",
       "      <td>1.000000</td>\n",
       "      <td>0.000000</td>\n",
       "      <td>-3127.163978</td>\n",
       "      <td>2.000000</td>\n",
       "      <td>24.416667</td>\n",
       "    </tr>\n",
       "    <tr>\n",
       "      <th>25%</th>\n",
       "      <td>1.000000</td>\n",
       "      <td>1.000000</td>\n",
       "      <td>1.102558e+05</td>\n",
       "      <td>0.397341</td>\n",
       "      <td>13.000000</td>\n",
       "      <td>2.341317</td>\n",
       "      <td>0.012441</td>\n",
       "      <td>22.000000</td>\n",
       "      <td>49.833333</td>\n",
       "    </tr>\n",
       "    <tr>\n",
       "      <th>50%</th>\n",
       "      <td>1.000000</td>\n",
       "      <td>1.000000</td>\n",
       "      <td>8.042291e+05</td>\n",
       "      <td>1.509004</td>\n",
       "      <td>13.000000</td>\n",
       "      <td>8.105200</td>\n",
       "      <td>0.296218</td>\n",
       "      <td>24.000000</td>\n",
       "      <td>58.666667</td>\n",
       "    </tr>\n",
       "    <tr>\n",
       "      <th>75%</th>\n",
       "      <td>1.000000</td>\n",
       "      <td>1.000000</td>\n",
       "      <td>3.247496e+06</td>\n",
       "      <td>6.628049</td>\n",
       "      <td>13.000000</td>\n",
       "      <td>45.835062</td>\n",
       "      <td>1.378717</td>\n",
       "      <td>24.000000</td>\n",
       "      <td>66.666667</td>\n",
       "    </tr>\n",
       "    <tr>\n",
       "      <th>max</th>\n",
       "      <td>1.000000</td>\n",
       "      <td>121.000000</td>\n",
       "      <td>2.817428e+09</td>\n",
       "      <td>10175.481564</td>\n",
       "      <td>13.000000</td>\n",
       "      <td>334283.557143</td>\n",
       "      <td>164300.400000</td>\n",
       "      <td>24.000000</td>\n",
       "      <td>118.666667</td>\n",
       "    </tr>\n",
       "  </tbody>\n",
       "</table>\n",
       "</div>"
      ],
      "text/plain": [
       "               event           var1          var2          var3          var4  \\\n",
       "count  238836.000000  133036.000000  1.170360e+05  46637.000000  78187.000000   \n",
       "mean        0.974744       1.873951  5.989773e+06     16.772031     11.586977   \n",
       "std         0.156901       3.750522  3.444271e+07    125.433035      3.459597   \n",
       "min         0.000000       1.000000  0.000000e+00      0.000000      1.000000   \n",
       "25%         1.000000       1.000000  1.102558e+05      0.397341     13.000000   \n",
       "50%         1.000000       1.000000  8.042291e+05      1.509004     13.000000   \n",
       "75%         1.000000       1.000000  3.247496e+06      6.628049     13.000000   \n",
       "max         1.000000     121.000000  2.817428e+09  10175.481564     13.000000   \n",
       "\n",
       "                var5           var6          var7           var8  \n",
       "count    8287.000000    5939.000000  27542.000000  101147.000000  \n",
       "mean      289.199746      28.430493     20.646794      58.497153  \n",
       "std      5099.352261    2133.407579      6.460506      11.731754  \n",
       "min         0.000000   -3127.163978      2.000000      24.416667  \n",
       "25%         2.341317       0.012441     22.000000      49.833333  \n",
       "50%         8.105200       0.296218     24.000000      58.666667  \n",
       "75%        45.835062       1.378717     24.000000      66.666667  \n",
       "max    334283.557143  164300.400000     24.000000     118.666667  "
      ]
     },
     "execution_count": 8,
     "metadata": {},
     "output_type": "execute_result"
    }
   ],
   "source": [
    "df_train.describe()"
   ]
  },
  {
   "cell_type": "code",
   "execution_count": 9,
   "id": "be9a54c2",
   "metadata": {
    "ExecuteTime": {
     "end_time": "2023-04-29T02:55:33.430565Z",
     "start_time": "2023-04-29T02:55:33.384565Z"
    }
   },
   "outputs": [
    {
     "data": {
      "text/html": [
       "<div>\n",
       "<style scoped>\n",
       "    .dataframe tbody tr th:only-of-type {\n",
       "        vertical-align: middle;\n",
       "    }\n",
       "\n",
       "    .dataframe tbody tr th {\n",
       "        vertical-align: top;\n",
       "    }\n",
       "\n",
       "    .dataframe thead th {\n",
       "        text-align: right;\n",
       "    }\n",
       "</style>\n",
       "<table border=\"1\" class=\"dataframe\">\n",
       "  <thead>\n",
       "    <tr style=\"text-align: right;\">\n",
       "      <th></th>\n",
       "      <th>event</th>\n",
       "      <th>var1</th>\n",
       "      <th>var2</th>\n",
       "      <th>var3</th>\n",
       "      <th>var4</th>\n",
       "      <th>var5</th>\n",
       "      <th>var6</th>\n",
       "      <th>var7</th>\n",
       "      <th>var8</th>\n",
       "    </tr>\n",
       "  </thead>\n",
       "  <tbody>\n",
       "    <tr>\n",
       "      <th>count</th>\n",
       "      <td>59709.000000</td>\n",
       "      <td>33419.000000</td>\n",
       "      <td>2.939900e+04</td>\n",
       "      <td>11531.000000</td>\n",
       "      <td>19358.000000</td>\n",
       "      <td>2105.000000</td>\n",
       "      <td>1522.000000</td>\n",
       "      <td>6823.000000</td>\n",
       "      <td>25251.000000</td>\n",
       "    </tr>\n",
       "    <tr>\n",
       "      <th>mean</th>\n",
       "      <td>0.974995</td>\n",
       "      <td>1.879949</td>\n",
       "      <td>6.126271e+06</td>\n",
       "      <td>16.838853</td>\n",
       "      <td>11.602955</td>\n",
       "      <td>301.994295</td>\n",
       "      <td>16.551022</td>\n",
       "      <td>20.713762</td>\n",
       "      <td>58.518438</td>\n",
       "    </tr>\n",
       "    <tr>\n",
       "      <th>std</th>\n",
       "      <td>0.156140</td>\n",
       "      <td>3.787302</td>\n",
       "      <td>3.219775e+07</td>\n",
       "      <td>117.764273</td>\n",
       "      <td>3.445142</td>\n",
       "      <td>3461.241920</td>\n",
       "      <td>506.565248</td>\n",
       "      <td>6.391736</td>\n",
       "      <td>11.788874</td>\n",
       "    </tr>\n",
       "    <tr>\n",
       "      <th>min</th>\n",
       "      <td>0.000000</td>\n",
       "      <td>1.000000</td>\n",
       "      <td>0.000000e+00</td>\n",
       "      <td>0.000000</td>\n",
       "      <td>1.000000</td>\n",
       "      <td>0.000000</td>\n",
       "      <td>-391.786290</td>\n",
       "      <td>2.000000</td>\n",
       "      <td>24.500000</td>\n",
       "    </tr>\n",
       "    <tr>\n",
       "      <th>25%</th>\n",
       "      <td>1.000000</td>\n",
       "      <td>1.000000</td>\n",
       "      <td>1.098130e+05</td>\n",
       "      <td>0.392199</td>\n",
       "      <td>13.000000</td>\n",
       "      <td>2.195123</td>\n",
       "      <td>0.001879</td>\n",
       "      <td>22.000000</td>\n",
       "      <td>49.916667</td>\n",
       "    </tr>\n",
       "    <tr>\n",
       "      <th>50%</th>\n",
       "      <td>1.000000</td>\n",
       "      <td>1.000000</td>\n",
       "      <td>8.263664e+05</td>\n",
       "      <td>1.470276</td>\n",
       "      <td>13.000000</td>\n",
       "      <td>7.976950</td>\n",
       "      <td>0.205745</td>\n",
       "      <td>24.000000</td>\n",
       "      <td>58.750000</td>\n",
       "    </tr>\n",
       "    <tr>\n",
       "      <th>75%</th>\n",
       "      <td>1.000000</td>\n",
       "      <td>1.000000</td>\n",
       "      <td>3.384614e+06</td>\n",
       "      <td>6.404448</td>\n",
       "      <td>13.000000</td>\n",
       "      <td>50.664706</td>\n",
       "      <td>1.211077</td>\n",
       "      <td>24.000000</td>\n",
       "      <td>66.666667</td>\n",
       "    </tr>\n",
       "    <tr>\n",
       "      <th>max</th>\n",
       "      <td>1.000000</td>\n",
       "      <td>111.000000</td>\n",
       "      <td>1.590072e+09</td>\n",
       "      <td>8615.982450</td>\n",
       "      <td>13.000000</td>\n",
       "      <td>116654.450000</td>\n",
       "      <td>19484.277852</td>\n",
       "      <td>24.000000</td>\n",
       "      <td>107.416667</td>\n",
       "    </tr>\n",
       "  </tbody>\n",
       "</table>\n",
       "</div>"
      ],
      "text/plain": [
       "              event          var1          var2          var3          var4  \\\n",
       "count  59709.000000  33419.000000  2.939900e+04  11531.000000  19358.000000   \n",
       "mean       0.974995      1.879949  6.126271e+06     16.838853     11.602955   \n",
       "std        0.156140      3.787302  3.219775e+07    117.764273      3.445142   \n",
       "min        0.000000      1.000000  0.000000e+00      0.000000      1.000000   \n",
       "25%        1.000000      1.000000  1.098130e+05      0.392199     13.000000   \n",
       "50%        1.000000      1.000000  8.263664e+05      1.470276     13.000000   \n",
       "75%        1.000000      1.000000  3.384614e+06      6.404448     13.000000   \n",
       "max        1.000000    111.000000  1.590072e+09   8615.982450     13.000000   \n",
       "\n",
       "                var5          var6         var7          var8  \n",
       "count    2105.000000   1522.000000  6823.000000  25251.000000  \n",
       "mean      301.994295     16.551022    20.713762     58.518438  \n",
       "std      3461.241920    506.565248     6.391736     11.788874  \n",
       "min         0.000000   -391.786290     2.000000     24.500000  \n",
       "25%         2.195123      0.001879    22.000000     49.916667  \n",
       "50%         7.976950      0.205745    24.000000     58.750000  \n",
       "75%        50.664706      1.211077    24.000000     66.666667  \n",
       "max    116654.450000  19484.277852    24.000000    107.416667  "
      ]
     },
     "execution_count": 9,
     "metadata": {},
     "output_type": "execute_result"
    }
   ],
   "source": [
    "df_test.describe()"
   ]
  },
  {
   "cell_type": "markdown",
   "id": "d9324928",
   "metadata": {},
   "source": [
    "### label distribution"
   ]
  },
  {
   "cell_type": "code",
   "execution_count": 10,
   "id": "15e55111",
   "metadata": {
    "ExecuteTime": {
     "end_time": "2023-04-29T02:55:33.446664Z",
     "start_time": "2023-04-29T02:55:33.434565Z"
    }
   },
   "outputs": [],
   "source": [
    "def label_disb(df_train,df_test):\n",
    "    \"\"\"\n",
    "    df: df_train & df_test\n",
    "    \"\"\"\n",
    "    fig, ax = plt.subplots(1,2, figsize=(15,8))\n",
    "    train_tmp = df_train['event'].value_counts().div(len(df_train)).mul(100)\n",
    "    test_tmp = df_test['event'].value_counts().div(len(df_test)).mul(100)\n",
    "    sns.barplot(x=train_tmp.index, y=train_tmp.values, ax=ax[0])\n",
    "    sns.barplot(x=test_tmp.index, y=test_tmp.values, ax=ax[1])\n",
    "    \n",
    "#     ax = sns.barplot(x=tmp.index, y=tmp.values)\n",
    "    ax[0].bar_label(ax[0].containers[0], fmt='%.f%%')\n",
    "    ax[1].bar_label(ax[1].containers[0], fmt='%.f%%')\n",
    "    ax[0].set_title(f\"train Distribution of a target variable\")\n",
    "    ax[1].set_title(f\"test Distribution of a target variable\")\n",
    "    ax[0].set_ylabel(\"Percentage [%]\")\n",
    "    plt.show()"
   ]
  },
  {
   "cell_type": "code",
   "execution_count": 11,
   "id": "b6a6d1ad",
   "metadata": {
    "ExecuteTime": {
     "end_time": "2023-04-29T02:55:33.663577Z",
     "start_time": "2023-04-29T02:55:33.448565Z"
    }
   },
   "outputs": [
    {
     "data": {
      "image/png": "[encoded data removed]",
      "text/plain": [
       "<Figure size 1080x576 with 2 Axes>"
      ]
     },
     "metadata": {
      "needs_background": "light"
     },
     "output_type": "display_data"
    }
   ],
   "source": [
    "label_disb(df_train,df_test)"
   ]
  },
  {
   "cell_type": "markdown",
   "id": "01b7a4e6",
   "metadata": {},
   "source": [
    "### feature distribution"
   ]
  },
  {
   "cell_type": "code",
   "execution_count": 12,
   "id": "3e367f0d",
   "metadata": {
    "ExecuteTime": {
     "end_time": "2023-04-29T02:55:33.678566Z",
     "start_time": "2023-04-29T02:55:33.665565Z"
    }
   },
   "outputs": [],
   "source": [
    "def plot_disb(df_train,df_test):\n",
    "    fig, ax = plt.subplots(nrows=8,ncols=2,figsize=(15,60))\n",
    "    for i in range(1,9):\n",
    "        col = df_train.columns[i]\n",
    "        sns.kdeplot(df_train[col],ax=ax[i-1][0])\n",
    "#         ax[i-1][0].hist(df_train[col])\n",
    "        ax[i-1][0].set_title(f'{col} train distribution',fontsize=16)\n",
    "        sns.kdeplot(df_test[col],ax=ax[i-1][1])\n",
    "        ax[i-1][1].set_title(f'{col} test distribution',fontsize=16)\n",
    "    plt.show()"
   ]
  },
  {
   "cell_type": "code",
   "execution_count": 13,
   "id": "e6183da0",
   "metadata": {
    "ExecuteTime": {
     "end_time": "2023-04-29T02:55:37.901953Z",
     "start_time": "2023-04-29T02:55:33.680566Z"
    },
    "scrolled": false
   },
   "outputs": [
    {
     "data": {
      "image/png": "[encoded data removed]",
      "text/plain": [
       "<Figure size 1080x4320 with 16 Axes>"
      ]
     },
     "metadata": {
      "needs_background": "light"
     },
     "output_type": "display_data"
    }
   ],
   "source": [
    "plot_disb(df_train,df_test)"
   ]
  },
  {
   "cell_type": "markdown",
   "id": "13406b8f",
   "metadata": {},
   "source": [
    "We can see that the train data distribution is similar to the test data"
   ]
  },
  {
   "cell_type": "markdown",
   "id": "12d4b349",
   "metadata": {},
   "source": [
    "## Missing Data"
   ]
  },
  {
   "cell_type": "code",
   "execution_count": 14,
   "id": "00838b1c",
   "metadata": {
    "ExecuteTime": {
     "end_time": "2023-04-29T02:55:37.932958Z",
     "start_time": "2023-04-29T02:55:37.903954Z"
    }
   },
   "outputs": [],
   "source": [
    "train_tmp = df_train.isna().sum().div(len(df_train)).mul(100).sort_values(ascending=False)\n",
    "test_tmp = df_test.isna().sum().div(len(df_test)).mul(100).sort_values(ascending=False)"
   ]
  },
  {
   "cell_type": "code",
   "execution_count": 15,
   "id": "a1b87548",
   "metadata": {
    "ExecuteTime": {
     "end_time": "2023-04-29T02:55:37.948970Z",
     "start_time": "2023-04-29T02:55:37.934955Z"
    }
   },
   "outputs": [],
   "source": [
    "def Missing_count(train_tmp,test_tmp):\n",
    "    plt.style.use('Solarize_Light2')\n",
    "    fig, ax = plt.subplots(2,1, figsize=(15,12))\n",
    "    sns.barplot(x=train_tmp.index, y=train_tmp.values, ax=ax[0])\n",
    "    sns.barplot(x=test_tmp.index, y=test_tmp.values, ax=ax[1])\n",
    "    ax[0].set_ylabel(\"Percentage [%]\",fontsize=20), ax[1].set_ylabel(\"Percentage [%]\",fontsize=20)\n",
    "    ax[0].tick_params(axis='x',labelsize=20); ax[1].tick_params(axis='x',labelsize=20)\n",
    "    ax[0].tick_params(axis='y',labelsize=20); ax[1].tick_params(axis='y',labelsize=20)\n",
    "    plt.suptitle(\"Amount of missing data\",fontsize=20)\n",
    "    plt.tight_layout()\n",
    "    plt.show()"
   ]
  },
  {
   "cell_type": "code",
   "execution_count": 16,
   "id": "7d0894de",
   "metadata": {
    "ExecuteTime": {
     "end_time": "2023-04-29T02:55:38.168658Z",
     "start_time": "2023-04-29T02:55:37.951051Z"
    }
   },
   "outputs": [
    {
     "data": {
      "image/png": "[encoded data removed]",
      "text/plain": [
       "<Figure size 1080x864 with 2 Axes>"
      ]
     },
     "metadata": {},
     "output_type": "display_data"
    }
   ],
   "source": [
    "Missing_count(train_tmp,test_tmp)"
   ]
  },
  {
   "cell_type": "markdown",
   "id": "dbcddb1e",
   "metadata": {},
   "source": [
    "## Correlation"
   ]
  },
  {
   "cell_type": "code",
   "execution_count": 17,
   "id": "30cacf75",
   "metadata": {
    "ExecuteTime": {
     "end_time": "2023-04-29T02:55:38.183662Z",
     "start_time": "2023-04-29T02:55:38.170662Z"
    }
   },
   "outputs": [],
   "source": [
    "features = [f'var{i}' for i in range(1,9)]"
   ]
  },
  {
   "cell_type": "code",
   "execution_count": 18,
   "id": "d20868e7",
   "metadata": {
    "ExecuteTime": {
     "end_time": "2023-04-29T02:55:38.199245Z",
     "start_time": "2023-04-29T02:55:38.185661Z"
    }
   },
   "outputs": [],
   "source": [
    "def plot_corr(df_train,df_test):\n",
    "    train_corr = df_train.corr()\n",
    "    test_corr = df_test.corr()\n",
    "    mask_train=np.triu(np.ones_like(train_corr))\n",
    "    mask_test=np.triu(np.ones_like(test_corr))\n",
    "\n",
    "    fig, ax = plt.subplots(1,2, figsize=(16,7))\n",
    "    sns.heatmap(train_corr, ax=ax[0], mask=mask_train ,vmin=-1, vmax=1, center=0, annot=True, fmt='.2f', \n",
    "            cmap='coolwarm', annot_kws={'fontsize':10,'fontweight':'bold'}, cbar=False)\n",
    "    sns.heatmap(test_corr, ax=ax[1], mask=mask_test,vmin=-1, vmax=1, center=0, annot=True, fmt='.2f', \n",
    "            cmap='coolwarm', annot_kws={'fontsize':10,'fontweight':'bold'}, cbar=False)\n",
    "    ax[0].set_title(\"Correlation of train features\")\n",
    "    ax[1].set_title(\"Correlation of test features\")\n",
    "    plt.show()"
   ]
  },
  {
   "cell_type": "code",
   "execution_count": 19,
   "id": "6587d574",
   "metadata": {
    "ExecuteTime": {
     "end_time": "2023-04-29T02:55:38.671059Z",
     "start_time": "2023-04-29T02:55:38.201244Z"
    }
   },
   "outputs": [
    {
     "data": {
      "image/png": "[encoded data removed]",
      "text/plain": [
       "<Figure size 1152x504 with 2 Axes>"
      ]
     },
     "metadata": {},
     "output_type": "display_data"
    }
   ],
   "source": [
    "plot_corr(df_train,df_test)"
   ]
  },
  {
   "cell_type": "markdown",
   "id": "35cdb453",
   "metadata": {},
   "source": [
    "# Model Training"
   ]
  },
  {
   "cell_type": "markdown",
   "id": "291396b5",
   "metadata": {},
   "source": [
    "We use xgboost and lightgbm which has several advantages\n",
    "* It can deal with NANs\n",
    "* No need standardization\n",
    "* Deal with imbalanced sample"
   ]
  },
  {
   "cell_type": "code",
   "execution_count": 9,
   "id": "1ffc1145",
   "metadata": {
    "ExecuteTime": {
     "end_time": "2023-05-01T15:33:25.533685Z",
     "start_time": "2023-05-01T15:33:25.526684Z"
    }
   },
   "outputs": [],
   "source": [
    "# df_train[features] = df_train[features].fillna(df_train[features].mean(axis=1))\n",
    "# df_test[features] = df_test[features].fillna(df_test[features].mean(axis=1))"
   ]
  },
  {
   "cell_type": "code",
   "execution_count": 10,
   "id": "715d0657",
   "metadata": {
    "ExecuteTime": {
     "end_time": "2023-05-01T15:33:25.979881Z",
     "start_time": "2023-05-01T15:33:25.965305Z"
    }
   },
   "outputs": [],
   "source": [
    "features =[ 'var1', 'var2', 'var3', 'var4', 'var5', 'var6', 'var7', 'var8']\n",
    "label = 'event'\n",
    "train_val_x, train_val_y = df_train[features].values, df_train[label].values\n",
    "test_x, test_y = df_test[features].values, df_test[label].values"
   ]
  },
  {
   "cell_type": "code",
   "execution_count": 51,
   "id": "dcef218c",
   "metadata": {
    "ExecuteTime": {
     "end_time": "2023-05-01T16:04:06.055973Z",
     "start_time": "2023-05-01T16:04:06.048903Z"
    }
   },
   "outputs": [],
   "source": [
    "def plot_confusion_matrix(test_result):\n",
    "    # 计算混淆矩阵\n",
    "    cm = confusion_matrix(test_result['true'], test_result['pred'])\n",
    "\n",
    "    # 可视化混淆矩阵\n",
    "    fig = plt.figure(figsize=(8, 8))\n",
    "    plt.matshow(cm, cmap=plt.cm.Reds, fignum=fig.number)\n",
    "    plt.colorbar()\n",
    "    thresh = cm.max() / 2.\n",
    "    for i in range(cm.shape[0]):\n",
    "        for j in range(cm.shape[1]):\n",
    "            plt.text(j, i, format(cm[i, j], 'd'),\n",
    "                     horizontalalignment=\"center\",\n",
    "                     color=\"white\" if cm[i, j] > thresh else \"black\")\n",
    "    plt.ylabel('True Label')\n",
    "    plt.xlabel('Predicted Label')\n",
    "    plt.show()"
   ]
  },
  {
   "cell_type": "code",
   "execution_count": 41,
   "id": "f3d7f2cd",
   "metadata": {
    "ExecuteTime": {
     "end_time": "2023-05-01T15:56:30.313387Z",
     "start_time": "2023-05-01T15:56:30.301148Z"
    }
   },
   "outputs": [],
   "source": [
    "def test_rf_model(model_list):\n",
    "    rf_test_result = pd.DataFrame(columns=[['pred','true']])\n",
    "    rf_test_result['true'] = test_y_nona\n",
    "    res = []\n",
    "    for model in model_list:\n",
    "        res.append(model.predict(test_x_nona))\n",
    "\n",
    "    pred_prob = np.mean(res,axis=0)\n",
    "    rf_test_result['prob'] = pred_prob\n",
    "    rf_test_result['pred'] = np.array([1 if x > 0.5 else 0 for x in pred_prob])\n",
    "    \n",
    "    amex_metric = amex_metric_mod(test_y_nona,pred_prob)\n",
    "    \n",
    "    cm = confusion_matrix(rf_test_result['true'], rf_test_result['pred'])\n",
    "    \n",
    "    print(\"Random Forest Accuracy: {:.4f}\".format(accuracy_score(rf_test_result['pred'], rf_test_result['true'])))\n",
    "    print(\"Random Forest Precision: {:.4f}\".format(precision_score(rf_test_result['pred'], rf_test_result['true'])))\n",
    "    print(\"Random Forest Recall: {:.4f}\".format(recall_score(rf_test_result['pred'], rf_test_result['true'])))\n",
    "    print(\"Random Forest F1 Score: {:.4f}\".format(f1_score(rf_test_result['pred'], rf_test_result['true'])))\n",
    "    print(\"Random Forest avg Precision: {:.4f}\".format(average_precision_score(rf_test_result['pred'], rf_test_result['true'])))\n",
    "    print(\"Random Forest AUC: {:.4f}\".format(roc_auc_score(rf_test_result['pred'], rf_test_result['true'])))\n",
    "    \n",
    "    Neg_Recall_rate = cm[0,0]/(cm[0,0]+cm[0,1])\n",
    "    Neg_Precision_rate = cm[0,0]/(cm[0,0]+cm[0,1])\n",
    "    Neg_F1_score = Neg_Recall_rate * Neg_Precision_rate / (Neg_Recall_rate+Neg_Precision_rate)\n",
    "    print(f'Recall rate for Negative sample:{round(Neg_Recall_rate,4)}')\n",
    "    return rf_test_result"
   ]
  },
  {
   "cell_type": "code",
   "execution_count": 12,
   "id": "3fbb5846",
   "metadata": {
    "ExecuteTime": {
     "end_time": "2023-05-01T15:33:27.292481Z",
     "start_time": "2023-05-01T15:33:27.285494Z"
    }
   },
   "outputs": [],
   "source": [
    "def test_xgb_model(model_list):\n",
    "    xgb_test_result = pd.DataFrame(columns=[['pred','true']])\n",
    "    xgb_test_result['true'] = test_y\n",
    "    res = []\n",
    "    for model in model_list:\n",
    "        d_test = xgb.DMatrix(data=test_x,label=test_y)\n",
    "        res.append(model.predict(d_test))\n",
    "\n",
    "    pred_prob = np.mean(res,axis=0)\n",
    "    xgb_test_result['prob'] = pred_prob\n",
    "    xgb_test_result['pred'] = np.array([1 if x > 0.5 else 0 for x in pred_prob])\n",
    "    \n",
    "    amex_metric = amex_metric_mod(test_y,pred_prob)\n",
    "    \n",
    "    cm = confusion_matrix(xgb_test_result['true'], xgb_test_result['pred'])\n",
    "    \n",
    "    print(\"XGBoost Accuracy: {:.4f}\".format(accuracy_score(xgb_test_result['pred'], xgb_test_result['true'])))\n",
    "    print(\"XGBoost Precision: {:.4f}\".format(precision_score(xgb_test_result['pred'], xgb_test_result['true'])))\n",
    "    print(\"XGBoost Recall: {:.4f}\".format(recall_score(xgb_test_result['pred'], xgb_test_result['true'])))\n",
    "    print(\"XGBoost F1 Score: {:.4f}\".format(f1_score(xgb_test_result['pred'], xgb_test_result['true'])))\n",
    "    print(\"XGBoost avg Precision: {:.4f}\".format(average_precision_score(xgb_test_result['pred'], xgb_test_result['true'])))\n",
    "    print(\"XGBoost AUC: {:.4f}\".format(roc_auc_score(xgb_test_result['pred'], xgb_test_result['true'])))\n",
    "#     print(\"XGBoost Amex metric: {:.4f}\".format(amex_metric))\n",
    "    \n",
    "    Neg_Recall_rate = cm[0,0]/(cm[0,0]+cm[0,1])\n",
    "    Neg_Precision_rate = cm[0,0]/(cm[0,0]+cm[0,1])\n",
    "    Neg_F1_score = Neg_Recall_rate * Neg_Precision_rate / (Neg_Recall_rate+Neg_Precision_rate)\n",
    "    print(f'Recall rate for Negative sample:{round(Neg_Recall_rate,4)}')\n",
    "    return xgb_test_result"
   ]
  },
  {
   "cell_type": "markdown",
   "id": "16963244",
   "metadata": {
    "ExecuteTime": {
     "end_time": "2023-04-18T16:25:10.878669Z",
     "start_time": "2023-04-18T16:25:10.860324Z"
    }
   },
   "source": [
    "We use xgboost and lightgbm which have several advantages"
   ]
  },
  {
   "cell_type": "markdown",
   "id": "63ae4e58",
   "metadata": {},
   "source": [
    "## Version0"
   ]
  },
  {
   "cell_type": "markdown",
   "id": "5a07e9be",
   "metadata": {
    "ExecuteTime": {
     "end_time": "2023-05-01T15:34:28.342780Z",
     "start_time": "2023-05-01T15:34:28.337701Z"
    }
   },
   "source": [
    "use random forest model with balanced and unbalanced sample"
   ]
  },
  {
   "cell_type": "code",
   "execution_count": 46,
   "id": "573d86f8",
   "metadata": {
    "ExecuteTime": {
     "end_time": "2023-05-01T15:58:57.619775Z",
     "start_time": "2023-05-01T15:58:57.603786Z"
    }
   },
   "outputs": [],
   "source": [
    "def train_rf_model(balanced = False):\n",
    "    # 五折交叉验证\n",
    "    kf = KFold(n_splits=5, shuffle=True, random_state=42)\n",
    "    acc_rf, precision_rf, recall_rf, f1_rf, ap_rf, auc_rf = [], [], [], [], [], []\n",
    "    rf_test_result = pd.DataFrame({'true':test_y_nona})\n",
    "    threshold = 0.5\n",
    "    kf_iter = 0\n",
    "    model_list = []\n",
    "    for train_idx, valid_idx in kf.split(train_val_x_nona):\n",
    "        kf_iter += 1\n",
    "        X_train, X_valid = train_val_x_nona[train_idx], train_val_x_nona[valid_idx]\n",
    "        y_train, y_valid = train_val_y_nona[train_idx], train_val_y_nona[valid_idx]\n",
    "\n",
    "        ## define rf Classfier model\n",
    "        if balanced:\n",
    "            rf_model = RandomForestClassifier(n_estimators=100, random_state=42,class_weight='balanced')\n",
    "        else:\n",
    "            rf_model = RandomForestClassifier(n_estimators=100, random_state=42)\n",
    "\n",
    "        # 拟合模型\n",
    "        rf_model.fit(X_train, y_train)\n",
    "        \n",
    "        model_list.append(rf_model)\n",
    "\n",
    "        prob_pred_rf = rf_model.predict(X_valid) # pred probability\n",
    "        y_pred_rf = np.array([1 if x > 0.5 else 0 for x in prob_pred_rf]) # pred value 0,1\n",
    "\n",
    "        acc_rf.append(accuracy_score(y_valid, y_pred_rf))\n",
    "        precision_rf.append(precision_score(y_valid, y_pred_rf))\n",
    "        recall_rf.append(recall_score(y_valid, y_pred_rf))\n",
    "        f1_rf.append(f1_score(y_valid, y_pred_rf))\n",
    "        ap_rf.append(average_precision_score(y_valid, y_pred_rf))\n",
    "        auc_rf.append(roc_auc_score(y_valid, y_pred_rf))\n",
    "\n",
    "\n",
    "\n",
    "    print(\"Random Forest Accuracy: {:.4f}\".format(np.mean(acc_rf)))\n",
    "    print(\"Random Forest Precision: {:.4f}\".format(np.mean(precision_rf)))\n",
    "    print(\"Random Forest Recall: {:.4f}\".format(np.mean(recall_rf)))\n",
    "    print(\"Random Forest F1 Score: {:.4f}\".format(np.mean(f1_rf)))\n",
    "    print(\"Random Forest Avg Precision: {:.4f}\".format(np.mean(ap_rf)))\n",
    "    print(\"Random Forest AUC: {:.4f}\".format(np.mean(auc_rf)))\n",
    "    return model_list"
   ]
  },
  {
   "cell_type": "markdown",
   "id": "8b53a7dd",
   "metadata": {},
   "source": [
    "use mean value to fill na-values for rf model"
   ]
  },
  {
   "cell_type": "code",
   "execution_count": 32,
   "id": "82a63647",
   "metadata": {
    "ExecuteTime": {
     "end_time": "2023-05-01T15:51:36.481523Z",
     "start_time": "2023-05-01T15:51:36.373715Z"
    }
   },
   "outputs": [
    {
     "data": {
      "text/html": [
       "<div>\n",
       "<style scoped>\n",
       "    .dataframe tbody tr th:only-of-type {\n",
       "        vertical-align: middle;\n",
       "    }\n",
       "\n",
       "    .dataframe tbody tr th {\n",
       "        vertical-align: top;\n",
       "    }\n",
       "\n",
       "    .dataframe thead th {\n",
       "        text-align: right;\n",
       "    }\n",
       "</style>\n",
       "<table border=\"1\" class=\"dataframe\">\n",
       "  <thead>\n",
       "    <tr style=\"text-align: right;\">\n",
       "      <th></th>\n",
       "      <th>event</th>\n",
       "      <th>var1</th>\n",
       "      <th>var2</th>\n",
       "      <th>var3</th>\n",
       "      <th>var4</th>\n",
       "      <th>var5</th>\n",
       "      <th>var6</th>\n",
       "      <th>var7</th>\n",
       "      <th>var8</th>\n",
       "      <th>split</th>\n",
       "    </tr>\n",
       "    <tr>\n",
       "      <th>id</th>\n",
       "      <th></th>\n",
       "      <th></th>\n",
       "      <th></th>\n",
       "      <th></th>\n",
       "      <th></th>\n",
       "      <th></th>\n",
       "      <th></th>\n",
       "      <th></th>\n",
       "      <th></th>\n",
       "      <th></th>\n",
       "    </tr>\n",
       "  </thead>\n",
       "  <tbody>\n",
       "    <tr>\n",
       "      <th>0</th>\n",
       "      <td>1</td>\n",
       "      <td>1.873951</td>\n",
       "      <td>5.989773e+06</td>\n",
       "      <td>16.772031</td>\n",
       "      <td>11.586977</td>\n",
       "      <td>289.199746</td>\n",
       "      <td>28.430493</td>\n",
       "      <td>20.646794</td>\n",
       "      <td>58.497153</td>\n",
       "      <td>dev</td>\n",
       "    </tr>\n",
       "    <tr>\n",
       "      <th>1</th>\n",
       "      <td>1</td>\n",
       "      <td>1.873951</td>\n",
       "      <td>5.989773e+06</td>\n",
       "      <td>16.772031</td>\n",
       "      <td>11.586977</td>\n",
       "      <td>289.199746</td>\n",
       "      <td>28.430493</td>\n",
       "      <td>20.646794</td>\n",
       "      <td>58.497153</td>\n",
       "      <td>dev</td>\n",
       "    </tr>\n",
       "    <tr>\n",
       "      <th>2</th>\n",
       "      <td>1</td>\n",
       "      <td>1.873951</td>\n",
       "      <td>5.989773e+06</td>\n",
       "      <td>16.772031</td>\n",
       "      <td>11.586977</td>\n",
       "      <td>289.199746</td>\n",
       "      <td>28.430493</td>\n",
       "      <td>20.646794</td>\n",
       "      <td>58.497153</td>\n",
       "      <td>dev</td>\n",
       "    </tr>\n",
       "    <tr>\n",
       "      <th>3</th>\n",
       "      <td>1</td>\n",
       "      <td>1.000000</td>\n",
       "      <td>2.096510e+07</td>\n",
       "      <td>16.772031</td>\n",
       "      <td>11.586977</td>\n",
       "      <td>289.199746</td>\n",
       "      <td>28.430493</td>\n",
       "      <td>20.646794</td>\n",
       "      <td>62.750000</td>\n",
       "      <td>dev</td>\n",
       "    </tr>\n",
       "    <tr>\n",
       "      <th>4</th>\n",
       "      <td>1</td>\n",
       "      <td>1.873951</td>\n",
       "      <td>5.989773e+06</td>\n",
       "      <td>16.772031</td>\n",
       "      <td>11.586977</td>\n",
       "      <td>289.199746</td>\n",
       "      <td>28.430493</td>\n",
       "      <td>20.646794</td>\n",
       "      <td>58.497153</td>\n",
       "      <td>dev</td>\n",
       "    </tr>\n",
       "    <tr>\n",
       "      <th>...</th>\n",
       "      <td>...</td>\n",
       "      <td>...</td>\n",
       "      <td>...</td>\n",
       "      <td>...</td>\n",
       "      <td>...</td>\n",
       "      <td>...</td>\n",
       "      <td>...</td>\n",
       "      <td>...</td>\n",
       "      <td>...</td>\n",
       "      <td>...</td>\n",
       "    </tr>\n",
       "    <tr>\n",
       "      <th>238831</th>\n",
       "      <td>1</td>\n",
       "      <td>1.000000</td>\n",
       "      <td>6.523118e+04</td>\n",
       "      <td>16.772031</td>\n",
       "      <td>11.586977</td>\n",
       "      <td>289.199746</td>\n",
       "      <td>28.430493</td>\n",
       "      <td>20.646794</td>\n",
       "      <td>58.916667</td>\n",
       "      <td>dev</td>\n",
       "    </tr>\n",
       "    <tr>\n",
       "      <th>238832</th>\n",
       "      <td>1</td>\n",
       "      <td>1.000000</td>\n",
       "      <td>5.989773e+06</td>\n",
       "      <td>16.772031</td>\n",
       "      <td>11.586977</td>\n",
       "      <td>289.199746</td>\n",
       "      <td>28.430493</td>\n",
       "      <td>20.646794</td>\n",
       "      <td>58.497153</td>\n",
       "      <td>dev</td>\n",
       "    </tr>\n",
       "    <tr>\n",
       "      <th>238833</th>\n",
       "      <td>1</td>\n",
       "      <td>1.873951</td>\n",
       "      <td>5.989773e+06</td>\n",
       "      <td>16.772031</td>\n",
       "      <td>11.586977</td>\n",
       "      <td>289.199746</td>\n",
       "      <td>28.430493</td>\n",
       "      <td>20.646794</td>\n",
       "      <td>58.497153</td>\n",
       "      <td>dev</td>\n",
       "    </tr>\n",
       "    <tr>\n",
       "      <th>238834</th>\n",
       "      <td>1</td>\n",
       "      <td>1.000000</td>\n",
       "      <td>8.880325e+05</td>\n",
       "      <td>3.213000</td>\n",
       "      <td>13.000000</td>\n",
       "      <td>289.199746</td>\n",
       "      <td>28.430493</td>\n",
       "      <td>20.646794</td>\n",
       "      <td>63.958333</td>\n",
       "      <td>dev</td>\n",
       "    </tr>\n",
       "    <tr>\n",
       "      <th>238835</th>\n",
       "      <td>1</td>\n",
       "      <td>1.873951</td>\n",
       "      <td>5.989773e+06</td>\n",
       "      <td>16.772031</td>\n",
       "      <td>11.586977</td>\n",
       "      <td>289.199746</td>\n",
       "      <td>28.430493</td>\n",
       "      <td>20.646794</td>\n",
       "      <td>58.497153</td>\n",
       "      <td>dev</td>\n",
       "    </tr>\n",
       "  </tbody>\n",
       "</table>\n",
       "<p>238836 rows × 10 columns</p>\n",
       "</div>"
      ],
      "text/plain": [
       "        event      var1          var2       var3       var4        var5  \\\n",
       "id                                                                        \n",
       "0           1  1.873951  5.989773e+06  16.772031  11.586977  289.199746   \n",
       "1           1  1.873951  5.989773e+06  16.772031  11.586977  289.199746   \n",
       "2           1  1.873951  5.989773e+06  16.772031  11.586977  289.199746   \n",
       "3           1  1.000000  2.096510e+07  16.772031  11.586977  289.199746   \n",
       "4           1  1.873951  5.989773e+06  16.772031  11.586977  289.199746   \n",
       "...       ...       ...           ...        ...        ...         ...   \n",
       "238831      1  1.000000  6.523118e+04  16.772031  11.586977  289.199746   \n",
       "238832      1  1.000000  5.989773e+06  16.772031  11.586977  289.199746   \n",
       "238833      1  1.873951  5.989773e+06  16.772031  11.586977  289.199746   \n",
       "238834      1  1.000000  8.880325e+05   3.213000  13.000000  289.199746   \n",
       "238835      1  1.873951  5.989773e+06  16.772031  11.586977  289.199746   \n",
       "\n",
       "             var6       var7       var8 split  \n",
       "id                                             \n",
       "0       28.430493  20.646794  58.497153   dev  \n",
       "1       28.430493  20.646794  58.497153   dev  \n",
       "2       28.430493  20.646794  58.497153   dev  \n",
       "3       28.430493  20.646794  62.750000   dev  \n",
       "4       28.430493  20.646794  58.497153   dev  \n",
       "...           ...        ...        ...   ...  \n",
       "238831  28.430493  20.646794  58.916667   dev  \n",
       "238832  28.430493  20.646794  58.497153   dev  \n",
       "238833  28.430493  20.646794  58.497153   dev  \n",
       "238834  28.430493  20.646794  63.958333   dev  \n",
       "238835  28.430493  20.646794  58.497153   dev  \n",
       "\n",
       "[238836 rows x 10 columns]"
      ]
     },
     "execution_count": 32,
     "metadata": {},
     "output_type": "execute_result"
    }
   ],
   "source": [
    "df_train_nona = df_train.copy()\n",
    "df_test_nona = df_test.copy()\n",
    "df_train_nona.loc[:,features] = df_train_nona[features].fillna(value=df_train_nona[features].mean())\n",
    "df_test_nona.loc[:,features] = df_test_nona[features].fillna(value=df_train_nona[features].mean())\n",
    "df_train_nona"
   ]
  },
  {
   "cell_type": "code",
   "execution_count": 33,
   "id": "9a5336c8",
   "metadata": {
    "ExecuteTime": {
     "end_time": "2023-05-01T15:52:18.194911Z",
     "start_time": "2023-05-01T15:52:18.178818Z"
    }
   },
   "outputs": [],
   "source": [
    "train_val_x_nona, train_val_y_nona = df_train_nona[features].values, df_train_nona[label].values\n",
    "test_x_nona, test_y_nona = df_test_nona[features].values, df_test_nona[label].values"
   ]
  },
  {
   "cell_type": "markdown",
   "id": "be1a6628",
   "metadata": {},
   "source": [
    "### Unbalanced samples"
   ]
  },
  {
   "cell_type": "code",
   "execution_count": 47,
   "id": "45a06b4b",
   "metadata": {
    "ExecuteTime": {
     "end_time": "2023-05-01T16:00:23.560046Z",
     "start_time": "2023-05-01T15:59:15.314438Z"
    }
   },
   "outputs": [
    {
     "name": "stdout",
     "output_type": "stream",
     "text": [
      "Random Forest Accuracy: 0.9722\n",
      "Random Forest Precision: 0.9756\n",
      "Random Forest Recall: 0.9964\n",
      "Random Forest F1 Score: 0.9859\n",
      "Random Forest Avg Precision: 0.9756\n",
      "Random Forest AUC: 0.5166\n"
     ]
    }
   ],
   "source": [
    "rf_model_list = train_rf_model(balanced=False)"
   ]
  },
  {
   "cell_type": "markdown",
   "id": "b591a1cd",
   "metadata": {
    "ExecuteTime": {
     "end_time": "2023-05-01T15:56:00.084713Z",
     "start_time": "2023-05-01T15:56:00.069134Z"
    }
   },
   "source": [
    "### Prediction"
   ]
  },
  {
   "cell_type": "code",
   "execution_count": 44,
   "id": "03fda08a",
   "metadata": {
    "ExecuteTime": {
     "end_time": "2023-05-01T15:57:35.133059Z",
     "start_time": "2023-05-01T15:57:31.546147Z"
    }
   },
   "outputs": [
    {
     "name": "stdout",
     "output_type": "stream",
     "text": [
      "Random Forest Accuracy: 0.9725\n",
      "Random Forest Precision: 0.9967\n",
      "Random Forest Recall: 0.9756\n",
      "Random Forest F1 Score: 0.9860\n",
      "Random Forest avg Precision: 0.9967\n",
      "Random Forest AUC: 0.5765\n",
      "Recall rate for Negative sample:0.0275\n"
     ]
    }
   ],
   "source": [
    "rf_test_result = test_rf_model(rf_model_list)"
   ]
  },
  {
   "cell_type": "code",
   "execution_count": 52,
   "id": "b1de1c1e",
   "metadata": {
    "ExecuteTime": {
     "end_time": "2023-05-01T16:04:11.351606Z",
     "start_time": "2023-05-01T16:04:10.990599Z"
    }
   },
   "outputs": [
    {
     "data": {
      "image/png": "[encoded data removed]",
      "text/plain": [
       "<Figure size 576x576 with 2 Axes>"
      ]
     },
     "metadata": {
      "needs_background": "light"
     },
     "output_type": "display_data"
    }
   ],
   "source": [
    "plot_confusion_matrix(rf_test_result)"
   ]
  },
  {
   "cell_type": "markdown",
   "id": "0972af07",
   "metadata": {},
   "source": [
    "### Balanced samples"
   ]
  },
  {
   "cell_type": "code",
   "execution_count": 48,
   "id": "40223123",
   "metadata": {
    "ExecuteTime": {
     "end_time": "2023-05-01T16:01:32.880742Z",
     "start_time": "2023-05-01T16:00:29.521308Z"
    }
   },
   "outputs": [
    {
     "name": "stdout",
     "output_type": "stream",
     "text": [
      "Random Forest Accuracy: 0.6099\n",
      "Random Forest Precision: 0.9814\n",
      "Random Forest Recall: 0.6114\n",
      "Random Forest F1 Score: 0.7534\n",
      "Random Forest Avg Precision: 0.9788\n",
      "Random Forest AUC: 0.5823\n"
     ]
    }
   ],
   "source": [
    "rf_model_list1 = train_rf_model(balanced=True)"
   ]
  },
  {
   "cell_type": "markdown",
   "id": "2469f881",
   "metadata": {},
   "source": [
    "### Prediction"
   ]
  },
  {
   "cell_type": "code",
   "execution_count": 49,
   "id": "452fbce4",
   "metadata": {
    "ExecuteTime": {
     "end_time": "2023-05-01T16:01:36.518742Z",
     "start_time": "2023-05-01T16:01:33.030222Z"
    }
   },
   "outputs": [
    {
     "name": "stdout",
     "output_type": "stream",
     "text": [
      "Random Forest Accuracy: 0.6091\n",
      "Random Forest Precision: 0.6102\n",
      "Random Forest Recall: 0.9820\n",
      "Random Forest F1 Score: 0.7527\n",
      "Random Forest avg Precision: 0.6101\n",
      "Random Forest AUC: 0.5089\n",
      "Recall rate for Negative sample:0.5646\n"
     ]
    }
   ],
   "source": [
    "rf_test_result1 = test_rf_model(rf_model_list1)"
   ]
  },
  {
   "cell_type": "code",
   "execution_count": 53,
   "id": "7569ebed",
   "metadata": {
    "ExecuteTime": {
     "end_time": "2023-05-01T16:04:19.373402Z",
     "start_time": "2023-05-01T16:04:19.205539Z"
    }
   },
   "outputs": [
    {
     "data": {
      "image/png": "[encoded data removed]",
      "text/plain": [
       "<Figure size 576x576 with 2 Axes>"
      ]
     },
     "metadata": {
      "needs_background": "light"
     },
     "output_type": "display_data"
    }
   ],
   "source": [
    "plot_confusion_matrix(rf_test_result1)"
   ]
  },
  {
   "cell_type": "markdown",
   "id": "d43ebffa",
   "metadata": {},
   "source": [
    "## Version1"
   ]
  },
  {
   "cell_type": "markdown",
   "id": "7b5b093b",
   "metadata": {},
   "source": [
    "Simply using Xgboost train model in 5-folds"
   ]
  },
  {
   "cell_type": "markdown",
   "id": "798fabb3",
   "metadata": {},
   "source": [
    "### Training 5-folds"
   ]
  },
  {
   "cell_type": "code",
   "execution_count": 41,
   "id": "7e9a43f1",
   "metadata": {
    "ExecuteTime": {
     "end_time": "2023-04-29T03:08:28.794921Z",
     "start_time": "2023-04-29T03:08:28.783863Z"
    }
   },
   "outputs": [],
   "source": [
    "# XGBoost参数\n",
    "params1 = {\n",
    "#     'booster': 'gbtree',\n",
    "    'objective': 'binary:logistic',\n",
    "    'eval_metric': 'auc',\n",
    "    'eta': 0.3,\n",
    "    'max_depth': 6,\n",
    "    'subsample': 0.8,\n",
    "#     'verbose': 10,\n",
    "    'random_state': 42,\n",
    "#     'scale_pos_weight':3/97\n",
    "}"
   ]
  },
  {
   "cell_type": "code",
   "execution_count": 42,
   "id": "a9fdb524",
   "metadata": {
    "ExecuteTime": {
     "end_time": "2023-04-29T03:08:29.351577Z",
     "start_time": "2023-04-29T03:08:29.342575Z"
    }
   },
   "outputs": [],
   "source": [
    "def train_xgb_model1(params1):\n",
    "    # 五折交叉验证\n",
    "    kf = KFold(n_splits=5, shuffle=True, random_state=42)\n",
    "    acc_lgb, precision_lgb, recall_lgb, f1_lgb, ap_lgb, auc_lgb = [], [], [], [], [], []\n",
    "    acc_xgb, precision_xgb, recall_xgb, f1_xgb, ap_xgb, auc_xgb = [], [], [], [], [], []\n",
    "    lgbm_test_result = pd.DataFrame({'true':test_y})\n",
    "    xgb_test_result = pd.DataFrame({'true':test_y})\n",
    "    threshold = 0.5\n",
    "    kf_iter = 0\n",
    "    model_list = []\n",
    "    for train_idx, valid_idx in kf.split(train_val_x):\n",
    "        kf_iter += 1\n",
    "        X_train, X_valid = train_val_x[train_idx], train_val_x[valid_idx]\n",
    "        y_train, y_valid = train_val_y[train_idx], train_val_y[valid_idx]\n",
    "\n",
    "        dtrain = xgb.DMatrix(data=X_train,label=y_train)\n",
    "        dval = xgb.DMatrix(data=X_valid,label=y_valid)\n",
    "\n",
    "        watch_list = [(dtrain, 'train'), (dval, 'valid')]\n",
    "\n",
    "        xgb_model = xgb.train(params=params1, \n",
    "                              dtrain=dtrain, \n",
    "                              num_boost_round=100, \n",
    "                              early_stopping_rounds=20,\n",
    "                              verbose_eval=20,\n",
    "                              evals=watch_list\n",
    "                             )\n",
    "        \n",
    "        model_list.append(xgb_model)\n",
    "\n",
    "        prob_pred_xgb = xgb_model.predict(dval) # pred probability\n",
    "        y_pred_xgb = np.array([1 if x > 0.5 else 0 for x in prob_pred_xgb]) # pred value 0,1\n",
    "\n",
    "        acc_xgb.append(accuracy_score(y_valid, y_pred_xgb))\n",
    "        precision_xgb.append(precision_score(y_valid, y_pred_xgb))\n",
    "        recall_xgb.append(recall_score(y_valid, y_pred_xgb))\n",
    "        f1_xgb.append(f1_score(y_valid, y_pred_xgb))\n",
    "        ap_xgb.append(average_precision_score(y_valid, y_pred_xgb))\n",
    "        auc_xgb.append(roc_auc_score(y_valid, y_pred_xgb))\n",
    "\n",
    "\n",
    "    #     xgb_test_result[kf_iter] = xgb_model.predict(d_test)\n",
    "\n",
    "\n",
    "    print(\"XGBoost Accuracy: {:.4f}\".format(np.mean(acc_xgb)))\n",
    "    print(\"XGBoost Precision: {:.4f}\".format(np.mean(precision_xgb)))\n",
    "    print(\"XGBoost Recall: {:.4f}\".format(np.mean(recall_xgb)))\n",
    "    print(\"XGBoost F1 Score: {:.4f}\".format(np.mean(f1_xgb)))\n",
    "    print(\"XGBoost Avg Precision: {:.4f}\".format(np.mean(ap_xgb)))\n",
    "    print(\"XGBoost AUC: {:.4f}\".format(np.mean(auc_xgb)))\n",
    "    return model_list"
   ]
  },
  {
   "cell_type": "code",
   "execution_count": 43,
   "id": "80c06c3c",
   "metadata": {
    "ExecuteTime": {
     "end_time": "2023-04-29T03:08:50.745863Z",
     "start_time": "2023-04-29T03:08:30.824315Z"
    },
    "scrolled": false
   },
   "outputs": [
    {
     "name": "stdout",
     "output_type": "stream",
     "text": [
      "[0]\ttrain-auc:0.72087\tvalid-auc:0.70706\n",
      "[20]\ttrain-auc:0.76820\tvalid-auc:0.73626\n",
      "[40]\ttrain-auc:0.78069\tvalid-auc:0.73371\n",
      "[46]\ttrain-auc:0.78269\tvalid-auc:0.73270\n",
      "[0]\ttrain-auc:0.72019\tvalid-auc:0.70966\n",
      "[20]\ttrain-auc:0.76564\tvalid-auc:0.73954\n",
      "[40]\ttrain-auc:0.77884\tvalid-auc:0.74054\n",
      "[52]\ttrain-auc:0.78667\tvalid-auc:0.73781\n",
      "[0]\ttrain-auc:0.70868\tvalid-auc:0.70486\n",
      "[20]\ttrain-auc:0.76658\tvalid-auc:0.74236\n",
      "[36]\ttrain-auc:0.78099\tvalid-auc:0.74247\n",
      "[0]\ttrain-auc:0.71547\tvalid-auc:0.72388\n",
      "[20]\ttrain-auc:0.76433\tvalid-auc:0.74630\n",
      "[40]\ttrain-auc:0.77750\tvalid-auc:0.74744\n",
      "[55]\ttrain-auc:0.78518\tvalid-auc:0.74473\n",
      "[0]\ttrain-auc:0.71907\tvalid-auc:0.71499\n",
      "[20]\ttrain-auc:0.76580\tvalid-auc:0.74148\n",
      "[40]\ttrain-auc:0.78073\tvalid-auc:0.73688\n",
      "XGBoost Accuracy: 0.9747\n",
      "XGBoost Precision: 0.9753\n",
      "XGBoost Recall: 0.9993\n",
      "XGBoost F1 Score: 0.9872\n",
      "XGBoost Avg Precision: 0.9753\n",
      "XGBoost AUC: 0.5121\n"
     ]
    }
   ],
   "source": [
    "model_list1 = train_xgb_model1(params1)"
   ]
  },
  {
   "cell_type": "markdown",
   "id": "98fca38f",
   "metadata": {},
   "source": [
    "###  Prediction"
   ]
  },
  {
   "cell_type": "code",
   "execution_count": 44,
   "id": "9dc35a65",
   "metadata": {
    "ExecuteTime": {
     "end_time": "2023-04-29T03:12:01.665807Z",
     "start_time": "2023-04-29T03:12:01.347199Z"
    }
   },
   "outputs": [
    {
     "name": "stdout",
     "output_type": "stream",
     "text": [
      "XGBoost Accuracy: 0.9748\n",
      "XGBoost Precision: 0.9994\n",
      "XGBoost Recall: 0.9754\n",
      "XGBoost F1 Score: 0.9872\n",
      "XGBoost avg Precision: 0.9994\n",
      "XGBoost AUC: 0.6946\n",
      "Recall rate for Negative sample:0.0161\n"
     ]
    }
   ],
   "source": [
    "xgb_test_result1 = test_xgb_model(model_list1)"
   ]
  },
  {
   "cell_type": "code",
   "execution_count": 45,
   "id": "b1f56611",
   "metadata": {
    "ExecuteTime": {
     "end_time": "2023-04-29T03:12:03.428398Z",
     "start_time": "2023-04-29T03:12:03.297525Z"
    }
   },
   "outputs": [
    {
     "data": {
      "image/png": "[encoded data removed]",
      "text/plain": [
       "<Figure size 576x576 with 2 Axes>"
      ]
     },
     "metadata": {},
     "output_type": "display_data"
    }
   ],
   "source": [
    "plot_confusion_matrix(xgb_test_result1)"
   ]
  },
  {
   "cell_type": "markdown",
   "id": "5047ede9",
   "metadata": {},
   "source": [
    "This model has bad recall rate for 0 label (default). However, for bank the first class error is more serious (the true label is 0, but we predict 1, which means we lend money to client, but he default). Therefore, we should focus more on recall rate for 0 label besides AUC."
   ]
  },
  {
   "cell_type": "markdown",
   "id": "1dd9a94b",
   "metadata": {},
   "source": [
    "## Version2"
   ]
  },
  {
   "cell_type": "markdown",
   "id": "b1538c82",
   "metadata": {},
   "source": [
    "### Self define Loss Function: Focal Loss"
   ]
  },
  {
   "attachments": {
    "image.png": {
     "image/png": "[encoded data removed]"
    }
   },
   "cell_type": "markdown",
   "id": "50f2d774",
   "metadata": {},
   "source": [
    "![image.png](attachment:image.png)"
   ]
  },
  {
   "cell_type": "markdown",
   "id": "1a2a14e9",
   "metadata": {},
   "source": [
    "Focal loss can adjust the weight for imbalance sample, and increase the weight for difficult sample. And we can replace the loss function for xgboost"
   ]
  },
  {
   "cell_type": "code",
   "execution_count": 47,
   "id": "63955802",
   "metadata": {
    "ExecuteTime": {
     "end_time": "2023-04-29T03:19:06.307116Z",
     "start_time": "2023-04-29T03:19:06.284088Z"
    }
   },
   "outputs": [],
   "source": [
    "def focal_loss(p, dtrain, alpha=0.03, gamma=0.1):\n",
    "    y = dtrain.get_label()\n",
    "    p = 1.0 / (1.0 + np.exp(-p))\n",
    "    grad = p * (1 - p) * (alpha * gamma * y * (1 - p) ** gamma * np.log(p) / (1 - p) - alpha * y * (\n",
    "                1 - p) ** gamma / p - gamma * p ** gamma * (1 - alpha) * (1 - y) * np.log(1 - p) / p + p ** gamma * (\n",
    "                                      1 - alpha) * (1 - y) / (1 - p))\n",
    "    hess = p * (1 - p) * (p * (1 - p) * (\n",
    "                -alpha * gamma ** 2 * y * (1 - p) ** gamma * np.log(p) / (1 - p) ** 2 + alpha * gamma * y * (\n",
    "                    1 - p) ** gamma * np.log(p) / (1 - p) ** 2 + 2 * alpha * gamma * y * (1 - p) ** gamma / (\n",
    "                            p * (1 - p)) + alpha * y * (1 - p) ** gamma / p ** 2 - gamma ** 2 * p ** gamma * (\n",
    "                            1 - alpha) * (1 - y) * np.log(1 - p) / p ** 2 + 2 * gamma * p ** gamma * (1 - alpha) * (\n",
    "                            1 - y) / (p * (1 - p)) + gamma * p ** gamma * (1 - alpha) * (1 - y) * np.log(\n",
    "            1 - p) / p ** 2 + p ** gamma * (1 - alpha) * (1 - y) / (1 - p) ** 2) - p * (\n",
    "                                      alpha * gamma * y * (1 - p) ** gamma * np.log(p) / (1 - p) - alpha * y * (\n",
    "                                          1 - p) ** gamma / p - gamma * p ** gamma * (1 - alpha) * (1 - y) * np.log(\n",
    "                                  1 - p) / p + p ** gamma * (1 - alpha) * (1 - y) / (1 - p)) + (1 - p) * (\n",
    "                                      alpha * gamma * y * (1 - p) ** gamma * np.log(p) / (1 - p) - alpha * y * (\n",
    "                                          1 - p) ** gamma / p - gamma * p ** gamma * (1 - alpha) * (1 - y) * np.log(\n",
    "                                  1 - p) / p + p ** gamma * (1 - alpha) * (1 - y) / (1 - p)))\n",
    "    return grad, hess\n",
    "\n"
   ]
  },
  {
   "cell_type": "markdown",
   "id": "d5bca3c5",
   "metadata": {},
   "source": [
    "### Self define Metric Function"
   ]
  },
  {
   "cell_type": "code",
   "execution_count": 43,
   "id": "5b34594d",
   "metadata": {
    "ExecuteTime": {
     "end_time": "2023-05-01T15:57:26.275947Z",
     "start_time": "2023-05-01T15:57:26.261947Z"
    }
   },
   "outputs": [],
   "source": [
    "def amex_metric_mod(y_true, y_pred):\n",
    "\n",
    "    labels     = np.transpose(np.array([y_true, y_pred]))\n",
    "    labels     = labels[labels[:, 1].argsort()] # sort by y_pred ascending\n",
    "    weights    = np.where(labels[:,0]==0, 32, 1) # weight 20 for label 0 (upsample 20 times)\n",
    "    cut_vals   = labels[np.cumsum(weights) <= int(0.05 * np.sum(weights))]\n",
    "    top_four   = np.sum(cut_vals[:,0]) / np.sum(labels[:,0])\n",
    "\n",
    "    gini = [0,0]\n",
    "    for i in [1,0]:\n",
    "        labels         = np.transpose(np.array([y_true, y_pred]))\n",
    "        labels         = labels[labels[:, i].argsort()[::-1]]\n",
    "        weight         = np.where(labels[:,0]==0, 32, 1)\n",
    "        weight_random  = np.cumsum(weight / np.sum(weight))\n",
    "        total_pos      = np.sum(labels[:, 0] *  weight)\n",
    "        cum_pos_found  = np.cumsum(labels[:, 0] * weight)\n",
    "        lorentz        = cum_pos_found / total_pos\n",
    "        gini[i]        = np.sum((lorentz - weight_random) * weight)\n",
    "\n",
    "    return 0.5 * (gini[1]/gini[0] + top_four)\n",
    "\n",
    "\n",
    "def amex_metric(preds,dtrain):\n",
    "    y_true = dtrain.get_label()\n",
    "    y_pred = preds \n",
    "    labels     = np.transpose(np.array([y_true, y_pred]))\n",
    "    labels     = labels[labels[:, 1].argsort()] # sort by y_pred ascending\n",
    "    weights    = np.where(labels[:,0]==0, 32, 1) # weight 32 for label 0 (upsample 20 times)\n",
    "    cut_vals   = labels[np.cumsum(weights) <= int(0.05 * np.sum(weights))]\n",
    "    top_four   = np.sum(cut_vals[:,0]) / np.sum(labels[:,0])\n",
    "\n",
    "    gini = [0,0]\n",
    "    for i in [1,0]:\n",
    "        labels         = np.transpose(np.array([y_true, y_pred]))\n",
    "        labels         = labels[labels[:, i].argsort()[::-1]]\n",
    "        weight         = np.where(labels[:,0]==0, 32, 1)\n",
    "        weight_random  = np.cumsum(weight / np.sum(weight))\n",
    "        total_pos      = np.sum(labels[:, 0] *  weight)\n",
    "        cum_pos_found  = np.cumsum(labels[:, 0] * weight)\n",
    "        lorentz        = cum_pos_found / total_pos\n",
    "        gini[i]        = np.sum((lorentz - weight_random) * weight)\n",
    "\n",
    "    return 'amex_metric',0.5 * (gini[1]/gini[0] + top_four)\n"
   ]
  },
  {
   "cell_type": "markdown",
   "id": "655d369e",
   "metadata": {},
   "source": [
    "### Search Parameters in valid set: Optuna"
   ]
  },
  {
   "cell_type": "code",
   "execution_count": 59,
   "id": "b27ba90e",
   "metadata": {
    "ExecuteTime": {
     "end_time": "2023-04-29T04:54:54.230711Z",
     "start_time": "2023-04-29T03:43:14.669024Z"
    },
    "scrolled": true
   },
   "outputs": [
    {
     "name": "stderr",
     "output_type": "stream",
     "text": [
      "\u001b[32m[I 2023-04-29 11:43:14,675]\u001b[0m A new study created in memory with name: no-name-cee43876-514d-4008-a760-aef310cd4284\u001b[0m\n",
      "0it [00:00, ?it/s]"
     ]
    },
    {
     "name": "stdout",
     "output_type": "stream",
     "text": [
      "[0]\ttrain-auc:0.55628\ttrain-amex_metric:0.07198\tvalid-auc:0.56039\tvalid-amex_metric:0.07636\n",
      "[19]\ttrain-auc:0.70809\ttrain-amex_metric:0.21410\tvalid-auc:0.68420\tvalid-amex_metric:0.19167\n"
     ]
    },
    {
     "name": "stderr",
     "output_type": "stream",
     "text": [
      "\r",
      "1it [00:03,  3.35s/it]"
     ]
    },
    {
     "name": "stdout",
     "output_type": "stream",
     "text": [
      "[0]\ttrain-auc:0.55424\ttrain-amex_metric:0.06689\tvalid-auc:0.56921\tvalid-amex_metric:0.08097\n",
      "[20]\ttrain-auc:0.73512\ttrain-amex_metric:0.23868\tvalid-auc:0.73199\tvalid-amex_metric:0.23865\n"
     ]
    },
    {
     "name": "stderr",
     "output_type": "stream",
     "text": [
      "\r",
      "2it [00:06,  3.43s/it]"
     ]
    },
    {
     "name": "stdout",
     "output_type": "stream",
     "text": [
      "[0]\ttrain-auc:0.55869\ttrain-amex_metric:0.07340\tvalid-auc:0.55318\tvalid-amex_metric:0.06464\n",
      "[20]\ttrain-auc:0.72767\ttrain-amex_metric:0.23313\tvalid-auc:0.71392\tvalid-amex_metric:0.21993\n"
     ]
    },
    {
     "name": "stderr",
     "output_type": "stream",
     "text": [
      "\r",
      "3it [00:10,  3.44s/it]"
     ]
    },
    {
     "name": "stdout",
     "output_type": "stream",
     "text": [
      "[0]\ttrain-auc:0.55696\ttrain-amex_metric:0.07025\tvalid-auc:0.54936\tvalid-amex_metric:0.06786\n",
      "[19]\ttrain-auc:0.73119\ttrain-amex_metric:0.23611\tvalid-auc:0.73275\tvalid-amex_metric:0.23612\n"
     ]
    },
    {
     "name": "stderr",
     "output_type": "stream",
     "text": [
      "\r",
      "4it [00:13,  3.45s/it]"
     ]
    },
    {
     "name": "stdout",
     "output_type": "stream",
     "text": [
      "[0]\ttrain-auc:0.56244\ttrain-amex_metric:0.07681\tvalid-auc:0.54431\tvalid-amex_metric:0.06516\n",
      "[20]\ttrain-auc:0.73745\ttrain-amex_metric:0.24264\tvalid-auc:0.72896\tvalid-amex_metric:0.23362\n"
     ]
    },
    {
     "name": "stderr",
     "output_type": "stream",
     "text": [
      "5it [00:17,  3.45s/it]\n",
      "\u001b[32m[I 2023-04-29 11:43:31,917]\u001b[0m Trial 0 finished with value: 0.645203460138196 and parameters: {'max_depth': 4, 'eta': 0.9226983333025904, 'min_child_weight': 10, 'subsample': 0.22601168378182696, 'colsample_bytree': 0.16154411178475536, 'lambda': 2.4274935343391e-08, 'alpha': 4.550417712568296e-08}. Best is trial 0 with value: 0.645203460138196.\u001b[0m\n",
      "0it [00:00, ?it/s]"
     ]
    },
    {
     "name": "stdout",
     "output_type": "stream",
     "text": [
      "[0]\ttrain-auc:0.69448\ttrain-amex_metric:0.19947\tvalid-auc:0.67376\tvalid-amex_metric:0.17788\n",
      "[20]\ttrain-auc:0.73891\ttrain-amex_metric:0.24210\tvalid-auc:0.72259\tvalid-amex_metric:0.22810\n"
     ]
    },
    {
     "name": "stderr",
     "output_type": "stream",
     "text": [
      "\r",
      "1it [00:03,  3.76s/it]"
     ]
    },
    {
     "name": "stdout",
     "output_type": "stream",
     "text": [
      "[0]\ttrain-auc:0.68579\ttrain-amex_metric:0.19237\tvalid-auc:0.68910\tvalid-amex_metric:0.20086\n",
      "[19]\ttrain-auc:0.73607\ttrain-amex_metric:0.23957\tvalid-auc:0.73387\tvalid-amex_metric:0.24000\n"
     ]
    },
    {
     "name": "stderr",
     "output_type": "stream",
     "text": [
      "\r",
      "2it [00:07,  3.78s/it]"
     ]
    },
    {
     "name": "stdout",
     "output_type": "stream",
     "text": [
      "[0]\ttrain-auc:0.68823\ttrain-amex_metric:0.19679\tvalid-auc:0.68493\tvalid-amex_metric:0.18759\n",
      "[20]\ttrain-auc:0.73562\ttrain-amex_metric:0.24030\tvalid-auc:0.73304\tvalid-amex_metric:0.23581\n"
     ]
    },
    {
     "name": "stderr",
     "output_type": "stream",
     "text": [
      "\r",
      "3it [00:11,  3.79s/it]"
     ]
    },
    {
     "name": "stdout",
     "output_type": "stream",
     "text": [
      "[0]\ttrain-auc:0.69229\ttrain-amex_metric:0.19787\tvalid-auc:0.70562\tvalid-amex_metric:0.21056\n",
      "[19]\ttrain-auc:0.73653\ttrain-amex_metric:0.24130\tvalid-auc:0.73507\tvalid-amex_metric:0.23890\n"
     ]
    },
    {
     "name": "stderr",
     "output_type": "stream",
     "text": [
      "\r",
      "4it [00:15,  3.82s/it]"
     ]
    },
    {
     "name": "stdout",
     "output_type": "stream",
     "text": [
      "[0]\ttrain-auc:0.69168\ttrain-amex_metric:0.19821\tvalid-auc:0.67703\tvalid-amex_metric:0.18507\n",
      "[20]\ttrain-auc:0.73731\ttrain-amex_metric:0.24228\tvalid-auc:0.73468\tvalid-amex_metric:0.23935\n"
     ]
    },
    {
     "name": "stderr",
     "output_type": "stream",
     "text": [
      "5it [00:19,  3.82s/it]\n",
      "\u001b[32m[I 2023-04-29 11:43:51,000]\u001b[0m Trial 1 finished with value: 0.6544345071847126 and parameters: {'max_depth': 8, 'eta': 3.6445361782409736e-07, 'min_child_weight': 10, 'subsample': 0.1756949524245861, 'colsample_bytree': 0.8191614632136499, 'lambda': 0.02653660676433811, 'alpha': 4.355940763764285e-06}. Best is trial 1 with value: 0.6544345071847126.\u001b[0m\n",
      "0it [00:00, ?it/s]"
     ]
    },
    {
     "name": "stdout",
     "output_type": "stream",
     "text": [
      "[0]\ttrain-auc:0.55817\ttrain-amex_metric:0.07235\tvalid-auc:0.56338\tvalid-amex_metric:0.07732\n",
      "[19]\ttrain-auc:0.71067\ttrain-amex_metric:0.21685\tvalid-auc:0.68568\tvalid-amex_metric:0.19561\n"
     ]
    },
    {
     "name": "stderr",
     "output_type": "stream",
     "text": [
      "\r",
      "1it [00:03,  3.66s/it]"
     ]
    },
    {
     "name": "stdout",
     "output_type": "stream",
     "text": [
      "[0]\ttrain-auc:0.55480\ttrain-amex_metric:0.06602\tvalid-auc:0.57218\tvalid-amex_metric:0.08431\n",
      "[20]\ttrain-auc:0.74174\ttrain-amex_metric:0.24494\tvalid-auc:0.73638\tvalid-amex_metric:0.24138\n"
     ]
    },
    {
     "name": "stderr",
     "output_type": "stream",
     "text": [
      "\r",
      "2it [00:07,  3.72s/it]"
     ]
    },
    {
     "name": "stdout",
     "output_type": "stream",
     "text": [
      "[0]\ttrain-auc:0.56016\ttrain-amex_metric:0.07446\tvalid-auc:0.55545\tvalid-amex_metric:0.06340\n",
      "[20]\ttrain-auc:0.74183\ttrain-amex_metric:0.24727\tvalid-auc:0.72816\tvalid-amex_metric:0.23309\n"
     ]
    },
    {
     "name": "stderr",
     "output_type": "stream",
     "text": [
      "\r",
      "3it [00:11,  3.73s/it]"
     ]
    },
    {
     "name": "stdout",
     "output_type": "stream",
     "text": [
      "[0]\ttrain-auc:0.55993\ttrain-amex_metric:0.07219\tvalid-auc:0.55649\tvalid-amex_metric:0.07432\n",
      "[20]\ttrain-auc:0.74206\ttrain-amex_metric:0.24689\tvalid-auc:0.73548\tvalid-amex_metric:0.23774\n"
     ]
    },
    {
     "name": "stderr",
     "output_type": "stream",
     "text": [
      "\r",
      "4it [00:14,  3.74s/it]"
     ]
    },
    {
     "name": "stdout",
     "output_type": "stream",
     "text": [
      "[0]\ttrain-auc:0.56280\ttrain-amex_metric:0.07591\tvalid-auc:0.54494\tvalid-amex_metric:0.06138\n",
      "[19]\ttrain-auc:0.74199\ttrain-amex_metric:0.24638\tvalid-auc:0.72822\tvalid-amex_metric:0.23393\n"
     ]
    },
    {
     "name": "stderr",
     "output_type": "stream",
     "text": [
      "5it [00:18,  3.75s/it]\n",
      "\u001b[32m[I 2023-04-29 11:44:09,748]\u001b[0m Trial 2 finished with value: 0.647818669453643 and parameters: {'max_depth': 4, 'eta': 0.4798885152143162, 'min_child_weight': 5, 'subsample': 0.9547620056421517, 'colsample_bytree': 0.24607700124222529, 'lambda': 0.7603112051855696, 'alpha': 0.051158646481322755}. Best is trial 1 with value: 0.6544345071847126.\u001b[0m\n",
      "0it [00:00, ?it/s]"
     ]
    },
    {
     "name": "stdout",
     "output_type": "stream",
     "text": [
      "[0]\ttrain-auc:0.64129\ttrain-amex_metric:0.14690\tvalid-auc:0.62700\tvalid-amex_metric:0.13565\n",
      "[19]\ttrain-auc:0.70442\ttrain-amex_metric:0.20860\tvalid-auc:0.69210\tvalid-amex_metric:0.20022\n"
     ]
    },
    {
     "name": "stderr",
     "output_type": "stream",
     "text": [
      "\r",
      "1it [00:03,  3.56s/it]"
     ]
    },
    {
     "name": "stdout",
     "output_type": "stream",
     "text": [
      "[0]\ttrain-auc:0.63453\ttrain-amex_metric:0.14085\tvalid-auc:0.63000\tvalid-amex_metric:0.14170\n",
      "[19]\ttrain-auc:0.68701\ttrain-amex_metric:0.19008\tvalid-auc:0.68381\tvalid-amex_metric:0.19017\n"
     ]
    },
    {
     "name": "stderr",
     "output_type": "stream",
     "text": [
      "\r",
      "2it [00:07,  3.55s/it]"
     ]
    },
    {
     "name": "stdout",
     "output_type": "stream",
     "text": [
      "[0]\ttrain-auc:0.63881\ttrain-amex_metric:0.14429\tvalid-auc:0.63715\tvalid-amex_metric:0.14337\n",
      "[20]\ttrain-auc:0.69203\ttrain-amex_metric:0.19893\tvalid-auc:0.68758\tvalid-amex_metric:0.19351\n"
     ]
    },
    {
     "name": "stderr",
     "output_type": "stream",
     "text": [
      "\r",
      "3it [00:10,  3.55s/it]"
     ]
    },
    {
     "name": "stdout",
     "output_type": "stream",
     "text": [
      "[0]\ttrain-auc:0.63218\ttrain-amex_metric:0.14136\tvalid-auc:0.63851\tvalid-amex_metric:0.13957\n",
      "[20]\ttrain-auc:0.69861\ttrain-amex_metric:0.20475\tvalid-auc:0.69443\tvalid-amex_metric:0.19678\n"
     ]
    },
    {
     "name": "stderr",
     "output_type": "stream",
     "text": [
      "\r",
      "4it [00:14,  3.54s/it]"
     ]
    },
    {
     "name": "stdout",
     "output_type": "stream",
     "text": [
      "[0]\ttrain-auc:0.65088\ttrain-amex_metric:0.15828\tvalid-auc:0.65168\tvalid-amex_metric:0.16085\n",
      "[20]\ttrain-auc:0.69407\ttrain-amex_metric:0.19885\tvalid-auc:0.69980\tvalid-amex_metric:0.20663\n"
     ]
    },
    {
     "name": "stderr",
     "output_type": "stream",
     "text": [
      "5it [00:17,  3.54s/it]\n",
      "\u001b[32m[I 2023-04-29 11:44:27,468]\u001b[0m Trial 3 finished with value: 0.5957576468787497 and parameters: {'max_depth': 2, 'eta': 0.0020769892962428102, 'min_child_weight': 9, 'subsample': 0.5571283625917204, 'colsample_bytree': 0.7731603800855729, 'lambda': 5.8651190304965016e-08, 'alpha': 4.163336684196224e-06}. Best is trial 1 with value: 0.6544345071847126.\u001b[0m\n",
      "0it [00:00, ?it/s]"
     ]
    },
    {
     "name": "stdout",
     "output_type": "stream",
     "text": [
      "[0]\ttrain-auc:0.55675\ttrain-amex_metric:0.07129\tvalid-auc:0.56076\tvalid-amex_metric:0.07514\n",
      "[19]\ttrain-auc:0.69753\ttrain-amex_metric:0.20416\tvalid-auc:0.67340\tvalid-amex_metric:0.18299\n"
     ]
    },
    {
     "name": "stderr",
     "output_type": "stream",
     "text": [
      "\r",
      "1it [00:03,  3.65s/it]"
     ]
    },
    {
     "name": "stdout",
     "output_type": "stream",
     "text": [
      "[0]\ttrain-auc:0.55435\ttrain-amex_metric:0.06614\tvalid-auc:0.56923\tvalid-amex_metric:0.08103\n",
      "[20]\ttrain-auc:0.71371\ttrain-amex_metric:0.21803\tvalid-auc:0.71406\tvalid-amex_metric:0.22111\n"
     ]
    },
    {
     "name": "stderr",
     "output_type": "stream",
     "text": [
      "\r",
      "2it [00:07,  3.73s/it]"
     ]
    },
    {
     "name": "stdout",
     "output_type": "stream",
     "text": [
      "[0]\ttrain-auc:0.56017\ttrain-amex_metric:0.07462\tvalid-auc:0.55561\tvalid-amex_metric:0.06264\n",
      "[19]\ttrain-auc:0.71498\ttrain-amex_metric:0.22093\tvalid-auc:0.70652\tvalid-amex_metric:0.21007\n"
     ]
    },
    {
     "name": "stderr",
     "output_type": "stream",
     "text": [
      "\r",
      "3it [00:11,  3.76s/it]"
     ]
    },
    {
     "name": "stdout",
     "output_type": "stream",
     "text": [
      "[0]\ttrain-auc:0.55866\ttrain-amex_metric:0.07192\tvalid-auc:0.55440\tvalid-amex_metric:0.07277\n",
      "[20]\ttrain-auc:0.71374\ttrain-amex_metric:0.21943\tvalid-auc:0.70667\tvalid-amex_metric:0.21027\n"
     ]
    },
    {
     "name": "stderr",
     "output_type": "stream",
     "text": [
      "\r",
      "4it [00:15,  3.79s/it]"
     ]
    },
    {
     "name": "stdout",
     "output_type": "stream",
     "text": [
      "[0]\ttrain-auc:0.56261\ttrain-amex_metric:0.07637\tvalid-auc:0.54472\tvalid-amex_metric:0.06144\n",
      "[20]\ttrain-auc:0.71742\ttrain-amex_metric:0.22274\tvalid-auc:0.70808\tvalid-amex_metric:0.21293\n"
     ]
    },
    {
     "name": "stderr",
     "output_type": "stream",
     "text": [
      "5it [00:18,  3.77s/it]\n",
      "\u001b[32m[I 2023-04-29 11:44:46,345]\u001b[0m Trial 4 finished with value: 0.6123051875583838 and parameters: {'max_depth': 5, 'eta': 0.15628585633621236, 'min_child_weight': 4, 'subsample': 0.3140104069762485, 'colsample_bytree': 0.1564390468978002, 'lambda': 3.912463686338668e-06, 'alpha': 5.8991349152708464e-08}. Best is trial 1 with value: 0.6544345071847126.\u001b[0m\n",
      "0it [00:00, ?it/s]"
     ]
    },
    {
     "name": "stdout",
     "output_type": "stream",
     "text": [
      "[0]\ttrain-auc:0.68646\ttrain-amex_metric:0.19075\tvalid-auc:0.67078\tvalid-amex_metric:0.18174\n",
      "[20]\ttrain-auc:0.73777\ttrain-amex_metric:0.24114\tvalid-auc:0.71988\tvalid-amex_metric:0.22553\n"
     ]
    },
    {
     "name": "stderr",
     "output_type": "stream",
     "text": [
      "\r",
      "1it [00:03,  3.99s/it]"
     ]
    },
    {
     "name": "stdout",
     "output_type": "stream",
     "text": [
      "[0]\ttrain-auc:0.68637\ttrain-amex_metric:0.19077\tvalid-auc:0.69118\tvalid-amex_metric:0.19385\n",
      "[19]\ttrain-auc:0.74742\ttrain-amex_metric:0.25048\tvalid-auc:0.73796\tvalid-amex_metric:0.24378\n"
     ]
    },
    {
     "name": "stderr",
     "output_type": "stream",
     "text": [
      "\r",
      "2it [00:08,  4.02s/it]"
     ]
    },
    {
     "name": "stdout",
     "output_type": "stream",
     "text": [
      "[0]\ttrain-auc:0.68601\ttrain-amex_metric:0.19402\tvalid-auc:0.68851\tvalid-amex_metric:0.19402\n",
      "[20]\ttrain-auc:0.74737\ttrain-amex_metric:0.25170\tvalid-auc:0.73724\tvalid-amex_metric:0.23852\n"
     ]
    },
    {
     "name": "stderr",
     "output_type": "stream",
     "text": [
      "\r",
      "3it [00:12,  4.01s/it]"
     ]
    },
    {
     "name": "stdout",
     "output_type": "stream",
     "text": [
      "[0]\ttrain-auc:0.68793\ttrain-amex_metric:0.19548\tvalid-auc:0.68951\tvalid-amex_metric:0.19367\n",
      "[20]\ttrain-auc:0.74662\ttrain-amex_metric:0.25048\tvalid-auc:0.74217\tvalid-amex_metric:0.24557\n"
     ]
    },
    {
     "name": "stderr",
     "output_type": "stream",
     "text": [
      "\r",
      "4it [00:16,  4.01s/it]"
     ]
    },
    {
     "name": "stdout",
     "output_type": "stream",
     "text": [
      "[0]\ttrain-auc:0.69233\ttrain-amex_metric:0.19758\tvalid-auc:0.67596\tvalid-amex_metric:0.18280\n",
      "[20]\ttrain-auc:0.74607\ttrain-amex_metric:0.25016\tvalid-auc:0.74279\tvalid-amex_metric:0.24682\n"
     ]
    },
    {
     "name": "stderr",
     "output_type": "stream",
     "text": [
      "5it [00:20,  4.02s/it]\n",
      "\u001b[32m[I 2023-04-29 11:45:06,449]\u001b[0m Trial 5 finished with value: 0.6548578046909934 and parameters: {'max_depth': 7, 'eta': 4.99433280339042e-08, 'min_child_weight': 2, 'subsample': 0.2773581038660461, 'colsample_bytree': 0.5651392780069935, 'lambda': 1.6010562905837303e-06, 'alpha': 0.007614426311212657}. Best is trial 5 with value: 0.6548578046909934.\u001b[0m\n",
      "0it [00:00, ?it/s]"
     ]
    },
    {
     "name": "stdout",
     "output_type": "stream",
     "text": [
      "[0]\ttrain-auc:0.70086\ttrain-amex_metric:0.20503\tvalid-auc:0.68378\tvalid-amex_metric:0.19176\n",
      "[19]\ttrain-auc:0.74832\ttrain-amex_metric:0.25116\tvalid-auc:0.73253\tvalid-amex_metric:0.23756\n"
     ]
    },
    {
     "name": "stderr",
     "output_type": "stream",
     "text": [
      "\r",
      "1it [00:04,  4.45s/it]"
     ]
    },
    {
     "name": "stdout",
     "output_type": "stream",
     "text": [
      "[0]\ttrain-auc:0.69928\ttrain-amex_metric:0.20311\tvalid-auc:0.70215\tvalid-amex_metric:0.21171\n",
      "[19]\ttrain-auc:0.74847\ttrain-amex_metric:0.25084\tvalid-auc:0.74294\tvalid-amex_metric:0.24785\n"
     ]
    },
    {
     "name": "stderr",
     "output_type": "stream",
     "text": [
      "\r",
      "2it [00:08,  4.49s/it]"
     ]
    },
    {
     "name": "stdout",
     "output_type": "stream",
     "text": [
      "[0]\ttrain-auc:0.69861\ttrain-amex_metric:0.20390\tvalid-auc:0.69954\tvalid-amex_metric:0.20170\n",
      "[20]\ttrain-auc:0.74894\ttrain-amex_metric:0.25249\tvalid-auc:0.73937\tvalid-amex_metric:0.24103\n"
     ]
    },
    {
     "name": "stderr",
     "output_type": "stream",
     "text": [
      "\r",
      "3it [00:13,  4.49s/it]"
     ]
    },
    {
     "name": "stdout",
     "output_type": "stream",
     "text": [
      "[0]\ttrain-auc:0.69522\ttrain-amex_metric:0.20107\tvalid-auc:0.70091\tvalid-amex_metric:0.20597\n",
      "[19]\ttrain-auc:0.74788\ttrain-amex_metric:0.25147\tvalid-auc:0.74337\tvalid-amex_metric:0.24569\n"
     ]
    },
    {
     "name": "stderr",
     "output_type": "stream",
     "text": [
      "\r",
      "4it [00:17,  4.49s/it]"
     ]
    },
    {
     "name": "stdout",
     "output_type": "stream",
     "text": [
      "[0]\ttrain-auc:0.70784\ttrain-amex_metric:0.21176\tvalid-auc:0.69303\tvalid-amex_metric:0.19644\n",
      "[19]\ttrain-auc:0.74696\ttrain-amex_metric:0.25020\tvalid-auc:0.74340\tvalid-amex_metric:0.24755\n"
     ]
    },
    {
     "name": "stderr",
     "output_type": "stream",
     "text": [
      "5it [00:22,  4.49s/it]\n",
      "\u001b[32m[I 2023-04-29 11:45:28,925]\u001b[0m Trial 6 finished with value: 0.6551237389415538 and parameters: {'max_depth': 6, 'eta': 0.0044352028349878385, 'min_child_weight': 6, 'subsample': 0.6526582368313193, 'colsample_bytree': 0.7454270086959678, 'lambda': 4.700728106677417e-05, 'alpha': 3.7311560871595216e-07}. Best is trial 6 with value: 0.6551237389415538.\u001b[0m\n",
      "0it [00:00, ?it/s]"
     ]
    },
    {
     "name": "stdout",
     "output_type": "stream",
     "text": [
      "[0]\ttrain-auc:0.55578\ttrain-amex_metric:0.07054\tvalid-auc:0.55877\tvalid-amex_metric:0.07278\n",
      "[20]\ttrain-auc:0.68440\ttrain-amex_metric:0.19339\tvalid-auc:0.67060\tvalid-amex_metric:0.18167\n"
     ]
    },
    {
     "name": "stderr",
     "output_type": "stream",
     "text": [
      "\r",
      "1it [00:03,  3.55s/it]"
     ]
    },
    {
     "name": "stdout",
     "output_type": "stream",
     "text": [
      "[0]\ttrain-auc:0.55413\ttrain-amex_metric:0.06750\tvalid-auc:0.57072\tvalid-amex_metric:0.08336\n",
      "[19]\ttrain-auc:0.69896\ttrain-amex_metric:0.20475\tvalid-auc:0.70182\tvalid-amex_metric:0.20844\n"
     ]
    },
    {
     "name": "stderr",
     "output_type": "stream",
     "text": [
      "\r",
      "2it [00:07,  3.61s/it]"
     ]
    },
    {
     "name": "stdout",
     "output_type": "stream",
     "text": [
      "[0]\ttrain-auc:0.55875\ttrain-amex_metric:0.07428\tvalid-auc:0.55136\tvalid-amex_metric:0.05814\n",
      "[20]\ttrain-auc:0.70066\ttrain-amex_metric:0.20752\tvalid-auc:0.69704\tvalid-amex_metric:0.20220\n"
     ]
    },
    {
     "name": "stderr",
     "output_type": "stream",
     "text": [
      "\r",
      "3it [00:10,  3.61s/it]"
     ]
    },
    {
     "name": "stdout",
     "output_type": "stream",
     "text": [
      "[0]\ttrain-auc:0.55833\ttrain-amex_metric:0.07225\tvalid-auc:0.55293\tvalid-amex_metric:0.07128\n",
      "[20]\ttrain-auc:0.69868\ttrain-amex_metric:0.20490\tvalid-auc:0.69881\tvalid-amex_metric:0.20378\n"
     ]
    },
    {
     "name": "stderr",
     "output_type": "stream",
     "text": [
      "\r",
      "4it [00:14,  3.64s/it]"
     ]
    },
    {
     "name": "stdout",
     "output_type": "stream",
     "text": [
      "[0]\ttrain-auc:0.56081\ttrain-amex_metric:0.07526\tvalid-auc:0.54421\tvalid-amex_metric:0.06377\n",
      "[20]\ttrain-auc:0.69966\ttrain-amex_metric:0.20656\tvalid-auc:0.69748\tvalid-amex_metric:0.20226\n"
     ]
    },
    {
     "name": "stderr",
     "output_type": "stream",
     "text": [
      "5it [00:18,  3.63s/it]\n",
      "\u001b[32m[I 2023-04-29 11:45:47,096]\u001b[0m Trial 7 finished with value: 0.5461471530545154 and parameters: {'max_depth': 2, 'eta': 0.00010914270964840522, 'min_child_weight': 3, 'subsample': 0.6890976382890948, 'colsample_bytree': 0.15845432942939933, 'lambda': 0.29637496918268186, 'alpha': 0.014734463282027195}. Best is trial 6 with value: 0.6551237389415538.\u001b[0m\n",
      "0it [00:00, ?it/s]"
     ]
    },
    {
     "name": "stdout",
     "output_type": "stream",
     "text": [
      "[0]\ttrain-auc:0.55578\ttrain-amex_metric:0.07054\tvalid-auc:0.55877\tvalid-amex_metric:0.07278\n",
      "[20]\ttrain-auc:0.69241\ttrain-amex_metric:0.20019\tvalid-auc:0.67755\tvalid-amex_metric:0.18705\n"
     ]
    },
    {
     "name": "stderr",
     "output_type": "stream",
     "text": [
      "\r",
      "1it [00:03,  3.60s/it]"
     ]
    },
    {
     "name": "stdout",
     "output_type": "stream",
     "text": [
      "[0]\ttrain-auc:0.55409\ttrain-amex_metric:0.06753\tvalid-auc:0.57055\tvalid-amex_metric:0.08403\n",
      "[20]\ttrain-auc:0.71007\ttrain-amex_metric:0.21627\tvalid-auc:0.71232\tvalid-amex_metric:0.21900\n"
     ]
    },
    {
     "name": "stderr",
     "output_type": "stream",
     "text": [
      "\r",
      "2it [00:07,  3.65s/it]"
     ]
    },
    {
     "name": "stdout",
     "output_type": "stream",
     "text": [
      "[0]\ttrain-auc:0.55875\ttrain-amex_metric:0.07428\tvalid-auc:0.55136\tvalid-amex_metric:0.05814\n",
      "[19]\ttrain-auc:0.71026\ttrain-amex_metric:0.21598\tvalid-auc:0.70703\tvalid-amex_metric:0.21283\n"
     ]
    },
    {
     "name": "stderr",
     "output_type": "stream",
     "text": [
      "\r",
      "3it [00:10,  3.67s/it]"
     ]
    },
    {
     "name": "stdout",
     "output_type": "stream",
     "text": [
      "[0]\ttrain-auc:0.55796\ttrain-amex_metric:0.07244\tvalid-auc:0.55571\tvalid-amex_metric:0.07532\n",
      "[19]\ttrain-auc:0.70933\ttrain-amex_metric:0.21521\tvalid-auc:0.70914\tvalid-amex_metric:0.21332\n"
     ]
    },
    {
     "name": "stderr",
     "output_type": "stream",
     "text": [
      "\r",
      "4it [00:14,  3.69s/it]"
     ]
    },
    {
     "name": "stdout",
     "output_type": "stream",
     "text": [
      "[0]\ttrain-auc:0.56083\ttrain-amex_metric:0.07563\tvalid-auc:0.54423\tvalid-amex_metric:0.06413\n",
      "[20]\ttrain-auc:0.71162\ttrain-amex_metric:0.21737\tvalid-auc:0.70854\tvalid-amex_metric:0.21324\n"
     ]
    },
    {
     "name": "stderr",
     "output_type": "stream",
     "text": [
      "5it [00:18,  3.67s/it]\n",
      "\u001b[32m[I 2023-04-29 11:46:05,430]\u001b[0m Trial 8 finished with value: 0.5994239164417546 and parameters: {'max_depth': 2, 'eta': 0.13109269991686773, 'min_child_weight': 3, 'subsample': 0.9458468788026908, 'colsample_bytree': 0.24947380881207393, 'lambda': 8.258869902532276e-05, 'alpha': 0.02022522829736625}. Best is trial 6 with value: 0.6551237389415538.\u001b[0m\n",
      "0it [00:00, ?it/s]"
     ]
    },
    {
     "name": "stdout",
     "output_type": "stream",
     "text": [
      "[0]\ttrain-auc:0.70888\ttrain-amex_metric:0.21366\tvalid-auc:0.69053\tvalid-amex_metric:0.19905\n",
      "[20]\ttrain-auc:0.75177\ttrain-amex_metric:0.25551\tvalid-auc:0.72986\tvalid-amex_metric:0.23507\n"
     ]
    },
    {
     "name": "stderr",
     "output_type": "stream",
     "text": [
      "\r",
      "1it [00:04,  4.69s/it]"
     ]
    },
    {
     "name": "stdout",
     "output_type": "stream",
     "text": [
      "[0]\ttrain-auc:0.70236\ttrain-amex_metric:0.20600\tvalid-auc:0.70256\tvalid-amex_metric:0.21071\n",
      "[20]\ttrain-auc:0.75000\ttrain-amex_metric:0.25344\tvalid-auc:0.73805\tvalid-amex_metric:0.24283\n"
     ]
    },
    {
     "name": "stderr",
     "output_type": "stream",
     "text": [
      "\r",
      "2it [00:09,  4.74s/it]"
     ]
    },
    {
     "name": "stdout",
     "output_type": "stream",
     "text": [
      "[0]\ttrain-auc:0.70578\ttrain-amex_metric:0.21177\tvalid-auc:0.70783\tvalid-amex_metric:0.21404\n",
      "[20]\ttrain-auc:0.75047\ttrain-amex_metric:0.25509\tvalid-auc:0.74334\tvalid-amex_metric:0.24460\n"
     ]
    },
    {
     "name": "stderr",
     "output_type": "stream",
     "text": [
      "\r",
      "3it [00:14,  4.76s/it]"
     ]
    },
    {
     "name": "stdout",
     "output_type": "stream",
     "text": [
      "[0]\ttrain-auc:0.70633\ttrain-amex_metric:0.21288\tvalid-auc:0.70966\tvalid-amex_metric:0.21294\n",
      "[19]\ttrain-auc:0.74918\ttrain-amex_metric:0.25323\tvalid-auc:0.74373\tvalid-amex_metric:0.24737\n"
     ]
    },
    {
     "name": "stderr",
     "output_type": "stream",
     "text": [
      "\r",
      "4it [00:18,  4.75s/it]"
     ]
    },
    {
     "name": "stdout",
     "output_type": "stream",
     "text": [
      "[0]\ttrain-auc:0.70895\ttrain-amex_metric:0.21430\tvalid-auc:0.69211\tvalid-amex_metric:0.19876\n",
      "[19]\ttrain-auc:0.74948\ttrain-amex_metric:0.25362\tvalid-auc:0.74257\tvalid-amex_metric:0.24676\n"
     ]
    },
    {
     "name": "stderr",
     "output_type": "stream",
     "text": [
      "5it [00:23,  4.75s/it]\n",
      "\u001b[32m[I 2023-04-29 11:46:29,174]\u001b[0m Trial 9 finished with value: 0.6525193486551368 and parameters: {'max_depth': 9, 'eta': 3.1906606592662114e-06, 'min_child_weight': 7, 'subsample': 0.7254811457751146, 'colsample_bytree': 0.6142829584158123, 'lambda': 2.233826781603668, 'alpha': 0.17233165844952164}. Best is trial 6 with value: 0.6551237389415538.\u001b[0m\n",
      "0it [00:00, ?it/s]"
     ]
    },
    {
     "name": "stdout",
     "output_type": "stream",
     "text": [
      "[0]\ttrain-auc:0.72191\ttrain-amex_metric:0.22602\tvalid-auc:0.69664\tvalid-amex_metric:0.20140\n",
      "[20]\ttrain-auc:0.75340\ttrain-amex_metric:0.25653\tvalid-auc:0.72986\tvalid-amex_metric:0.23412\n"
     ]
    },
    {
     "name": "stderr",
     "output_type": "stream",
     "text": [
      "\r",
      "1it [00:04,  4.91s/it]"
     ]
    },
    {
     "name": "stdout",
     "output_type": "stream",
     "text": [
      "[0]\ttrain-auc:0.71898\ttrain-amex_metric:0.22223\tvalid-auc:0.71877\tvalid-amex_metric:0.22381\n",
      "[19]\ttrain-auc:0.75096\ttrain-amex_metric:0.25375\tvalid-auc:0.74250\tvalid-amex_metric:0.24721\n"
     ]
    },
    {
     "name": "stderr",
     "output_type": "stream",
     "text": [
      "\r",
      "2it [00:09,  4.96s/it]"
     ]
    },
    {
     "name": "stdout",
     "output_type": "stream",
     "text": [
      "[0]\ttrain-auc:0.71476\ttrain-amex_metric:0.21872\tvalid-auc:0.71358\tvalid-amex_metric:0.21486\n",
      "[19]\ttrain-auc:0.74962\ttrain-amex_metric:0.25336\tvalid-auc:0.74145\tvalid-amex_metric:0.24284\n"
     ]
    },
    {
     "name": "stderr",
     "output_type": "stream",
     "text": [
      "\r",
      "3it [00:14,  4.96s/it]"
     ]
    },
    {
     "name": "stdout",
     "output_type": "stream",
     "text": [
      "[0]\ttrain-auc:0.71172\ttrain-amex_metric:0.21561\tvalid-auc:0.71527\tvalid-amex_metric:0.21729\n",
      "[19]\ttrain-auc:0.74789\ttrain-amex_metric:0.25159\tvalid-auc:0.74083\tvalid-amex_metric:0.24282\n"
     ]
    },
    {
     "name": "stderr",
     "output_type": "stream",
     "text": [
      "\r",
      "4it [00:19,  4.95s/it]"
     ]
    },
    {
     "name": "stdout",
     "output_type": "stream",
     "text": [
      "[0]\ttrain-auc:0.71712\ttrain-amex_metric:0.22064\tvalid-auc:0.70793\tvalid-amex_metric:0.21162\n",
      "[20]\ttrain-auc:0.74971\ttrain-amex_metric:0.25249\tvalid-auc:0.74128\tvalid-amex_metric:0.24509\n"
     ]
    },
    {
     "name": "stderr",
     "output_type": "stream",
     "text": [
      "5it [00:24,  4.97s/it]\n",
      "\u001b[32m[I 2023-04-29 11:46:54,067]\u001b[0m Trial 10 finished with value: 0.6592846844565735 and parameters: {'max_depth': 10, 'eta': 0.004929474251328601, 'min_child_weight': 7, 'subsample': 0.46727031502599903, 'colsample_bytree': 0.9529393489822421, 'lambda': 0.004472745207082146, 'alpha': 4.3526951392159435e-06}. Best is trial 10 with value: 0.6592846844565735.\u001b[0m\n",
      "0it [00:00, ?it/s]"
     ]
    },
    {
     "name": "stdout",
     "output_type": "stream",
     "text": [
      "[0]\ttrain-auc:0.71851\ttrain-amex_metric:0.22199\tvalid-auc:0.69954\tvalid-amex_metric:0.20434\n",
      "[19]\ttrain-auc:0.75160\ttrain-amex_metric:0.25439\tvalid-auc:0.72788\tvalid-amex_metric:0.23312\n"
     ]
    },
    {
     "name": "stderr",
     "output_type": "stream",
     "text": [
      "\r",
      "1it [00:04,  4.90s/it]"
     ]
    },
    {
     "name": "stdout",
     "output_type": "stream",
     "text": [
      "[0]\ttrain-auc:0.71540\ttrain-amex_metric:0.21825\tvalid-auc:0.71496\tvalid-amex_metric:0.22079\n",
      "[19]\ttrain-auc:0.75052\ttrain-amex_metric:0.25349\tvalid-auc:0.74144\tvalid-amex_metric:0.24654\n"
     ]
    },
    {
     "name": "stderr",
     "output_type": "stream",
     "text": [
      "\r",
      "2it [00:09,  4.97s/it]"
     ]
    },
    {
     "name": "stdout",
     "output_type": "stream",
     "text": [
      "[0]\ttrain-auc:0.71710\ttrain-amex_metric:0.22151\tvalid-auc:0.71798\tvalid-amex_metric:0.21968\n",
      "[20]\ttrain-auc:0.74872\ttrain-amex_metric:0.25230\tvalid-auc:0.74202\tvalid-amex_metric:0.24332\n"
     ]
    },
    {
     "name": "stderr",
     "output_type": "stream",
     "text": [
      "\r",
      "3it [00:14,  4.97s/it]"
     ]
    },
    {
     "name": "stdout",
     "output_type": "stream",
     "text": [
      "[0]\ttrain-auc:0.71034\ttrain-amex_metric:0.21430\tvalid-auc:0.71515\tvalid-amex_metric:0.21733\n",
      "[20]\ttrain-auc:0.74704\ttrain-amex_metric:0.25057\tvalid-auc:0.74013\tvalid-amex_metric:0.24275\n"
     ]
    },
    {
     "name": "stderr",
     "output_type": "stream",
     "text": [
      "\r",
      "4it [00:19,  4.94s/it]"
     ]
    },
    {
     "name": "stdout",
     "output_type": "stream",
     "text": [
      "[0]\ttrain-auc:0.71793\ttrain-amex_metric:0.22147\tvalid-auc:0.70760\tvalid-amex_metric:0.21152\n",
      "[19]\ttrain-auc:0.74963\ttrain-amex_metric:0.25312\tvalid-auc:0.73888\tvalid-amex_metric:0.24280\n"
     ]
    },
    {
     "name": "stderr",
     "output_type": "stream",
     "text": [
      "5it [00:24,  4.94s/it]\n",
      "\u001b[32m[I 2023-04-29 11:47:18,769]\u001b[0m Trial 11 finished with value: 0.6592046672319767 and parameters: {'max_depth': 10, 'eta': 0.0027440982076583848, 'min_child_weight': 7, 'subsample': 0.45218633078517534, 'colsample_bytree': 0.9769748130352538, 'lambda': 0.004230711643907081, 'alpha': 7.973330527557482e-06}. Best is trial 10 with value: 0.6592846844565735.\u001b[0m\n",
      "0it [00:00, ?it/s]"
     ]
    },
    {
     "name": "stdout",
     "output_type": "stream",
     "text": [
      "[0]\ttrain-auc:0.71875\ttrain-amex_metric:0.22194\tvalid-auc:0.69759\tvalid-amex_metric:0.20105\n",
      "[19]\ttrain-auc:0.74860\ttrain-amex_metric:0.25139\tvalid-auc:0.72589\tvalid-amex_metric:0.23160\n"
     ]
    },
    {
     "name": "stderr",
     "output_type": "stream",
     "text": [
      "\r",
      "1it [00:04,  4.79s/it]"
     ]
    },
    {
     "name": "stdout",
     "output_type": "stream",
     "text": [
      "[0]\ttrain-auc:0.71362\ttrain-amex_metric:0.21666\tvalid-auc:0.71481\tvalid-amex_metric:0.22157\n",
      "[19]\ttrain-auc:0.74826\ttrain-amex_metric:0.25136\tvalid-auc:0.73910\tvalid-amex_metric:0.24566\n"
     ]
    },
    {
     "name": "stderr",
     "output_type": "stream",
     "text": [
      "\r",
      "2it [00:09,  4.90s/it]"
     ]
    },
    {
     "name": "stdout",
     "output_type": "stream",
     "text": [
      "[0]\ttrain-auc:0.71321\ttrain-amex_metric:0.21715\tvalid-auc:0.71526\tvalid-amex_metric:0.21766\n",
      "[19]\ttrain-auc:0.74737\ttrain-amex_metric:0.25185\tvalid-auc:0.74129\tvalid-amex_metric:0.24351\n"
     ]
    },
    {
     "name": "stderr",
     "output_type": "stream",
     "text": [
      "\r",
      "3it [00:14,  4.98s/it]"
     ]
    },
    {
     "name": "stdout",
     "output_type": "stream",
     "text": [
      "[0]\ttrain-auc:0.70868\ttrain-amex_metric:0.21266\tvalid-auc:0.71594\tvalid-amex_metric:0.21950\n",
      "[20]\ttrain-auc:0.74577\ttrain-amex_metric:0.24970\tvalid-auc:0.74249\tvalid-amex_metric:0.24589\n"
     ]
    },
    {
     "name": "stderr",
     "output_type": "stream",
     "text": [
      "\r",
      "4it [00:19,  4.97s/it]"
     ]
    },
    {
     "name": "stdout",
     "output_type": "stream",
     "text": [
      "[0]\ttrain-auc:0.71416\ttrain-amex_metric:0.21785\tvalid-auc:0.70435\tvalid-amex_metric:0.20782\n",
      "[20]\ttrain-auc:0.74705\ttrain-amex_metric:0.25061\tvalid-auc:0.73876\tvalid-amex_metric:0.24275\n"
     ]
    },
    {
     "name": "stderr",
     "output_type": "stream",
     "text": [
      "5it [00:24,  4.94s/it]\n",
      "\u001b[32m[I 2023-04-29 11:47:43,510]\u001b[0m Trial 12 finished with value: 0.6584714475979285 and parameters: {'max_depth': 10, 'eta': 0.0028635957249419698, 'min_child_weight': 8, 'subsample': 0.4196119171927628, 'colsample_bytree': 0.9965051967069166, 'lambda': 0.0035990607519780092, 'alpha': 0.00013454794395626892}. Best is trial 10 with value: 0.6592846844565735.\u001b[0m\n",
      "0it [00:00, ?it/s]"
     ]
    },
    {
     "name": "stdout",
     "output_type": "stream",
     "text": [
      "[0]\ttrain-auc:0.71856\ttrain-amex_metric:0.22190\tvalid-auc:0.69745\tvalid-amex_metric:0.20256\n",
      "[20]\ttrain-auc:0.75081\ttrain-amex_metric:0.25404\tvalid-auc:0.72790\tvalid-amex_metric:0.23266\n"
     ]
    },
    {
     "name": "stderr",
     "output_type": "stream",
     "text": [
      "\r",
      "1it [00:04,  4.81s/it]"
     ]
    },
    {
     "name": "stdout",
     "output_type": "stream",
     "text": [
      "[0]\ttrain-auc:0.71593\ttrain-amex_metric:0.21844\tvalid-auc:0.71248\tvalid-amex_metric:0.21846\n",
      "[19]\ttrain-auc:0.74954\ttrain-amex_metric:0.25275\tvalid-auc:0.74049\tvalid-amex_metric:0.24628\n"
     ]
    },
    {
     "name": "stderr",
     "output_type": "stream",
     "text": [
      "\r",
      "2it [00:09,  4.84s/it]"
     ]
    },
    {
     "name": "stdout",
     "output_type": "stream",
     "text": [
      "[0]\ttrain-auc:0.71355\ttrain-amex_metric:0.21813\tvalid-auc:0.71366\tvalid-amex_metric:0.21535\n",
      "[19]\ttrain-auc:0.74806\ttrain-amex_metric:0.25215\tvalid-auc:0.73936\tvalid-amex_metric:0.24058\n"
     ]
    },
    {
     "name": "stderr",
     "output_type": "stream",
     "text": [
      "\r",
      "3it [00:14,  4.86s/it]"
     ]
    },
    {
     "name": "stdout",
     "output_type": "stream",
     "text": [
      "[0]\ttrain-auc:0.70878\ttrain-amex_metric:0.21304\tvalid-auc:0.71689\tvalid-amex_metric:0.21896\n",
      "[20]\ttrain-auc:0.74677\ttrain-amex_metric:0.25092\tvalid-auc:0.74271\tvalid-amex_metric:0.24472\n"
     ]
    },
    {
     "name": "stderr",
     "output_type": "stream",
     "text": [
      "\r",
      "4it [00:19,  4.88s/it]"
     ]
    },
    {
     "name": "stdout",
     "output_type": "stream",
     "text": [
      "[0]\ttrain-auc:0.71591\ttrain-amex_metric:0.21934\tvalid-auc:0.70695\tvalid-amex_metric:0.21124\n",
      "[20]\ttrain-auc:0.74770\ttrain-amex_metric:0.25108\tvalid-auc:0.74235\tvalid-amex_metric:0.24644\n"
     ]
    },
    {
     "name": "stderr",
     "output_type": "stream",
     "text": [
      "5it [00:24,  4.88s/it]\n",
      "\u001b[32m[I 2023-04-29 11:48:07,910]\u001b[0m Trial 13 finished with value: 0.6579754051001054 and parameters: {'max_depth': 10, 'eta': 0.00011053344273497743, 'min_child_weight': 7, 'subsample': 0.4105875094813632, 'colsample_bytree': 0.985012633484448, 'lambda': 0.004015052058280137, 'alpha': 5.5923814529618334e-05}. Best is trial 10 with value: 0.6592846844565735.\u001b[0m\n",
      "0it [00:00, ?it/s]"
     ]
    },
    {
     "name": "stdout",
     "output_type": "stream",
     "text": [
      "[0]\ttrain-auc:0.72369\ttrain-amex_metric:0.22713\tvalid-auc:0.70045\tvalid-amex_metric:0.20612\n",
      "[19]\ttrain-auc:0.75526\ttrain-amex_metric:0.25759\tvalid-auc:0.73096\tvalid-amex_metric:0.23453\n"
     ]
    },
    {
     "name": "stderr",
     "output_type": "stream",
     "text": [
      "\r",
      "1it [00:04,  4.92s/it]"
     ]
    },
    {
     "name": "stdout",
     "output_type": "stream",
     "text": [
      "[0]\ttrain-auc:0.71804\ttrain-amex_metric:0.22097\tvalid-auc:0.71537\tvalid-amex_metric:0.22062\n",
      "[20]\ttrain-auc:0.75207\ttrain-amex_metric:0.25473\tvalid-auc:0.74098\tvalid-amex_metric:0.24501\n"
     ]
    },
    {
     "name": "stderr",
     "output_type": "stream",
     "text": [
      "\r",
      "2it [00:09,  4.99s/it]"
     ]
    },
    {
     "name": "stdout",
     "output_type": "stream",
     "text": [
      "[0]\ttrain-auc:0.71869\ttrain-amex_metric:0.22287\tvalid-auc:0.71716\tvalid-amex_metric:0.21842\n",
      "[20]\ttrain-auc:0.75307\ttrain-amex_metric:0.25656\tvalid-auc:0.74364\tvalid-amex_metric:0.24471\n"
     ]
    },
    {
     "name": "stderr",
     "output_type": "stream",
     "text": [
      "\r",
      "3it [00:14,  5.00s/it]"
     ]
    },
    {
     "name": "stdout",
     "output_type": "stream",
     "text": [
      "[0]\ttrain-auc:0.71429\ttrain-amex_metric:0.21847\tvalid-auc:0.71233\tvalid-amex_metric:0.21362\n",
      "[20]\ttrain-auc:0.75093\ttrain-amex_metric:0.25446\tvalid-auc:0.74330\tvalid-amex_metric:0.24530\n"
     ]
    },
    {
     "name": "stderr",
     "output_type": "stream",
     "text": [
      "\r",
      "4it [00:19,  4.99s/it]"
     ]
    },
    {
     "name": "stdout",
     "output_type": "stream",
     "text": [
      "[0]\ttrain-auc:0.71893\ttrain-amex_metric:0.22193\tvalid-auc:0.70877\tvalid-amex_metric:0.21203\n",
      "[20]\ttrain-auc:0.75212\ttrain-amex_metric:0.25494\tvalid-auc:0.73985\tvalid-amex_metric:0.24391\n"
     ]
    },
    {
     "name": "stderr",
     "output_type": "stream",
     "text": [
      "5it [00:24,  4.99s/it]\n",
      "\u001b[32m[I 2023-04-29 11:48:32,863]\u001b[0m Trial 14 finished with value: 0.6613365872182196 and parameters: {'max_depth': 9, 'eta': 0.015581412178996992, 'min_child_weight': 6, 'subsample': 0.4724467428365769, 'colsample_bytree': 0.8985824888689591, 'lambda': 0.0014927614699023557, 'alpha': 1.1408369974175484e-05}. Best is trial 14 with value: 0.6613365872182196.\u001b[0m\n",
      "0it [00:00, ?it/s]"
     ]
    },
    {
     "name": "stdout",
     "output_type": "stream",
     "text": [
      "[0]\ttrain-auc:0.71710\ttrain-amex_metric:0.22057\tvalid-auc:0.69383\tvalid-amex_metric:0.20123\n",
      "[20]\ttrain-auc:0.75558\ttrain-amex_metric:0.25825\tvalid-auc:0.73116\tvalid-amex_metric:0.23514\n"
     ]
    },
    {
     "name": "stderr",
     "output_type": "stream",
     "text": [
      "\r",
      "1it [00:04,  4.95s/it]"
     ]
    },
    {
     "name": "stdout",
     "output_type": "stream",
     "text": [
      "[0]\ttrain-auc:0.71549\ttrain-amex_metric:0.21721\tvalid-auc:0.71400\tvalid-amex_metric:0.22171\n",
      "[20]\ttrain-auc:0.75457\ttrain-amex_metric:0.25728\tvalid-auc:0.74101\tvalid-amex_metric:0.24571\n"
     ]
    },
    {
     "name": "stderr",
     "output_type": "stream",
     "text": [
      "\r",
      "2it [00:10,  5.02s/it]"
     ]
    },
    {
     "name": "stdout",
     "output_type": "stream",
     "text": [
      "[0]\ttrain-auc:0.71669\ttrain-amex_metric:0.22132\tvalid-auc:0.71452\tvalid-amex_metric:0.21617\n",
      "[19]\ttrain-auc:0.75453\ttrain-amex_metric:0.25811\tvalid-auc:0.74336\tvalid-amex_metric:0.24365\n"
     ]
    },
    {
     "name": "stderr",
     "output_type": "stream",
     "text": [
      "\r",
      "3it [00:15,  5.02s/it]"
     ]
    },
    {
     "name": "stdout",
     "output_type": "stream",
     "text": [
      "[0]\ttrain-auc:0.71766\ttrain-amex_metric:0.22174\tvalid-auc:0.71582\tvalid-amex_metric:0.21729\n",
      "[20]\ttrain-auc:0.75304\ttrain-amex_metric:0.25624\tvalid-auc:0.74562\tvalid-amex_metric:0.24947\n"
     ]
    },
    {
     "name": "stderr",
     "output_type": "stream",
     "text": [
      "\r",
      "4it [00:20,  5.05s/it]"
     ]
    },
    {
     "name": "stdout",
     "output_type": "stream",
     "text": [
      "[0]\ttrain-auc:0.72129\ttrain-amex_metric:0.22449\tvalid-auc:0.71202\tvalid-amex_metric:0.21540\n",
      "[19]\ttrain-auc:0.75600\ttrain-amex_metric:0.25867\tvalid-auc:0.74287\tvalid-amex_metric:0.24645\n"
     ]
    },
    {
     "name": "stderr",
     "output_type": "stream",
     "text": [
      "5it [00:25,  5.03s/it]\n",
      "\u001b[32m[I 2023-04-29 11:48:58,052]\u001b[0m Trial 15 finished with value: 0.6618973105795622 and parameters: {'max_depth': 8, 'eta': 0.027737221586456123, 'min_child_weight': 5, 'subsample': 0.5678217414750731, 'colsample_bytree': 0.8848260082601773, 'lambda': 0.042022153417893775, 'alpha': 0.0011759924254419842}. Best is trial 15 with value: 0.6618973105795622.\u001b[0m\n",
      "0it [00:00, ?it/s]"
     ]
    },
    {
     "name": "stdout",
     "output_type": "stream",
     "text": [
      "[0]\ttrain-auc:0.70771\ttrain-amex_metric:0.21361\tvalid-auc:0.68797\tvalid-amex_metric:0.19476\n",
      "[20]\ttrain-auc:0.75191\ttrain-amex_metric:0.25616\tvalid-auc:0.73116\tvalid-amex_metric:0.23645\n",
      "[21]\ttrain-auc:0.75151\ttrain-amex_metric:0.25521\tvalid-auc:0.73011\tvalid-amex_metric:0.23621\n"
     ]
    },
    {
     "name": "stderr",
     "output_type": "stream",
     "text": [
      "\r",
      "1it [00:04,  4.89s/it]"
     ]
    },
    {
     "name": "stdout",
     "output_type": "stream",
     "text": [
      "[0]\ttrain-auc:0.70308\ttrain-amex_metric:0.20813\tvalid-auc:0.70721\tvalid-amex_metric:0.21468\n",
      "[19]\ttrain-auc:0.74968\ttrain-amex_metric:0.25318\tvalid-auc:0.73891\tvalid-amex_metric:0.24401\n"
     ]
    },
    {
     "name": "stderr",
     "output_type": "stream",
     "text": [
      "\r",
      "2it [00:09,  4.71s/it]"
     ]
    },
    {
     "name": "stdout",
     "output_type": "stream",
     "text": [
      "[0]\ttrain-auc:0.70328\ttrain-amex_metric:0.20948\tvalid-auc:0.70618\tvalid-amex_metric:0.20910\n",
      "[19]\ttrain-auc:0.75015\ttrain-amex_metric:0.25522\tvalid-auc:0.73955\tvalid-amex_metric:0.24104\n"
     ]
    },
    {
     "name": "stderr",
     "output_type": "stream",
     "text": [
      "\r",
      "3it [00:14,  4.65s/it]"
     ]
    },
    {
     "name": "stdout",
     "output_type": "stream",
     "text": [
      "[0]\ttrain-auc:0.70251\ttrain-amex_metric:0.20837\tvalid-auc:0.70534\tvalid-amex_metric:0.20695\n",
      "[20]\ttrain-auc:0.74798\ttrain-amex_metric:0.25226\tvalid-auc:0.74371\tvalid-amex_metric:0.24785\n"
     ]
    },
    {
     "name": "stderr",
     "output_type": "stream",
     "text": [
      "\r",
      "4it [00:18,  4.64s/it]"
     ]
    },
    {
     "name": "stdout",
     "output_type": "stream",
     "text": [
      "[0]\ttrain-auc:0.70625\ttrain-amex_metric:0.21188\tvalid-auc:0.68847\tvalid-amex_metric:0.19431\n",
      "[20]\ttrain-auc:0.75035\ttrain-amex_metric:0.25454\tvalid-auc:0.74102\tvalid-amex_metric:0.24513\n"
     ]
    },
    {
     "name": "stderr",
     "output_type": "stream",
     "text": [
      "5it [00:23,  4.65s/it]\n",
      "\u001b[32m[I 2023-04-29 11:49:21,338]\u001b[0m Trial 16 finished with value: 0.6490451794050085 and parameters: {'max_depth': 8, 'eta': 0.03468210180250839, 'min_child_weight': 5, 'subsample': 0.8138876562534588, 'colsample_bytree': 0.4311372648922581, 'lambda': 0.0798091874337761, 'alpha': 2.192532395972672}. Best is trial 15 with value: 0.6618973105795622.\u001b[0m\n",
      "0it [00:00, ?it/s]"
     ]
    },
    {
     "name": "stdout",
     "output_type": "stream",
     "text": [
      "[0]\ttrain-auc:0.71283\ttrain-amex_metric:0.21643\tvalid-auc:0.68350\tvalid-amex_metric:0.18843\n",
      "[20]\ttrain-auc:0.76771\ttrain-amex_metric:0.27021\tvalid-auc:0.73313\tvalid-amex_metric:0.23763\n"
     ]
    },
    {
     "name": "stderr",
     "output_type": "stream",
     "text": [
      "\r",
      "1it [00:04,  4.96s/it]"
     ]
    },
    {
     "name": "stdout",
     "output_type": "stream",
     "text": [
      "[0]\ttrain-auc:0.70923\ttrain-amex_metric:0.21240\tvalid-auc:0.70034\tvalid-amex_metric:0.20775\n",
      "[20]\ttrain-auc:0.76637\ttrain-amex_metric:0.26773\tvalid-auc:0.74194\tvalid-amex_metric:0.24643\n"
     ]
    },
    {
     "name": "stderr",
     "output_type": "stream",
     "text": [
      "\r",
      "2it [00:10,  5.03s/it]"
     ]
    },
    {
     "name": "stdout",
     "output_type": "stream",
     "text": [
      "[0]\ttrain-auc:0.71170\ttrain-amex_metric:0.21678\tvalid-auc:0.70279\tvalid-amex_metric:0.20620\n",
      "[20]\ttrain-auc:0.76660\ttrain-amex_metric:0.26972\tvalid-auc:0.74233\tvalid-amex_metric:0.24220\n"
     ]
    },
    {
     "name": "stderr",
     "output_type": "stream",
     "text": [
      "\r",
      "3it [00:15,  5.07s/it]"
     ]
    },
    {
     "name": "stdout",
     "output_type": "stream",
     "text": [
      "[0]\ttrain-auc:0.70224\ttrain-amex_metric:0.20655\tvalid-auc:0.70391\tvalid-amex_metric:0.20749\n",
      "[20]\ttrain-auc:0.76513\ttrain-amex_metric:0.26806\tvalid-auc:0.74589\tvalid-amex_metric:0.24889\n"
     ]
    },
    {
     "name": "stderr",
     "output_type": "stream",
     "text": [
      "\r",
      "4it [00:20,  5.10s/it]"
     ]
    },
    {
     "name": "stdout",
     "output_type": "stream",
     "text": [
      "[0]\ttrain-auc:0.71082\ttrain-amex_metric:0.21538\tvalid-auc:0.69164\tvalid-amex_metric:0.19702\n",
      "[20]\ttrain-auc:0.76738\ttrain-amex_metric:0.26967\tvalid-auc:0.74490\tvalid-amex_metric:0.24840\n"
     ]
    },
    {
     "name": "stderr",
     "output_type": "stream",
     "text": [
      "5it [00:25,  5.08s/it]\n",
      "\u001b[32m[I 2023-04-29 11:49:46,764]\u001b[0m Trial 17 finished with value: 0.6649650691649309 and parameters: {'max_depth': 8, 'eta': 0.03687609525116223, 'min_child_weight': 1, 'subsample': 0.5727643592483724, 'colsample_bytree': 0.8667358466178913, 'lambda': 0.0007582680912829581, 'alpha': 0.0009604718905803758}. Best is trial 17 with value: 0.6649650691649309.\u001b[0m\n",
      "0it [00:00, ?it/s]"
     ]
    },
    {
     "name": "stdout",
     "output_type": "stream",
     "text": [
      "[0]\ttrain-auc:0.70309\ttrain-amex_metric:0.20736\tvalid-auc:0.68063\tvalid-amex_metric:0.18926\n",
      "[20]\ttrain-auc:0.75900\ttrain-amex_metric:0.26139\tvalid-auc:0.73249\tvalid-amex_metric:0.23743\n"
     ]
    },
    {
     "name": "stderr",
     "output_type": "stream",
     "text": [
      "\r",
      "1it [00:04,  4.79s/it]"
     ]
    },
    {
     "name": "stdout",
     "output_type": "stream",
     "text": [
      "[0]\ttrain-auc:0.70248\ttrain-amex_metric:0.20501\tvalid-auc:0.70173\tvalid-amex_metric:0.21084\n",
      "[20]\ttrain-auc:0.75698\ttrain-amex_metric:0.25954\tvalid-auc:0.74224\tvalid-amex_metric:0.24631\n"
     ]
    },
    {
     "name": "stderr",
     "output_type": "stream",
     "text": [
      "\r",
      "2it [00:09,  4.83s/it]"
     ]
    },
    {
     "name": "stdout",
     "output_type": "stream",
     "text": [
      "[0]\ttrain-auc:0.70556\ttrain-amex_metric:0.21096\tvalid-auc:0.70504\tvalid-amex_metric:0.20904\n",
      "[20]\ttrain-auc:0.75790\ttrain-amex_metric:0.26163\tvalid-auc:0.74120\tvalid-amex_metric:0.24287\n"
     ]
    },
    {
     "name": "stderr",
     "output_type": "stream",
     "text": [
      "\r",
      "3it [00:14,  4.85s/it]"
     ]
    },
    {
     "name": "stdout",
     "output_type": "stream",
     "text": [
      "[0]\ttrain-auc:0.70205\ttrain-amex_metric:0.20675\tvalid-auc:0.70626\tvalid-amex_metric:0.20956\n",
      "[19]\ttrain-auc:0.75630\ttrain-amex_metric:0.25939\tvalid-auc:0.74502\tvalid-amex_metric:0.24923\n"
     ]
    },
    {
     "name": "stderr",
     "output_type": "stream",
     "text": [
      "\r",
      "4it [00:19,  4.84s/it]"
     ]
    },
    {
     "name": "stdout",
     "output_type": "stream",
     "text": [
      "[0]\ttrain-auc:0.70895\ttrain-amex_metric:0.21378\tvalid-auc:0.68863\tvalid-amex_metric:0.19475\n",
      "[20]\ttrain-auc:0.75736\ttrain-amex_metric:0.26024\tvalid-auc:0.74491\tvalid-amex_metric:0.24882\n"
     ]
    },
    {
     "name": "stderr",
     "output_type": "stream",
     "text": [
      "5it [00:24,  4.83s/it]\n",
      "\u001b[32m[I 2023-04-29 11:50:10,942]\u001b[0m Trial 18 finished with value: 0.6576987947713218 and parameters: {'max_depth': 7, 'eta': 9.098496941981046e-06, 'min_child_weight': 1, 'subsample': 0.618947686544541, 'colsample_bytree': 0.6569125814051481, 'lambda': 0.00014679911593371535, 'alpha': 0.0013825732892931114}. Best is trial 17 with value: 0.6649650691649309.\u001b[0m\n",
      "0it [00:00, ?it/s]"
     ]
    },
    {
     "name": "stdout",
     "output_type": "stream",
     "text": [
      "[0]\ttrain-auc:0.71431\ttrain-amex_metric:0.21818\tvalid-auc:0.68331\tvalid-amex_metric:0.18968\n",
      "[19]\ttrain-auc:0.76517\ttrain-amex_metric:0.26765\tvalid-auc:0.72706\tvalid-amex_metric:0.23222\n"
     ]
    },
    {
     "name": "stderr",
     "output_type": "stream",
     "text": [
      "\r",
      "1it [00:04,  4.83s/it]"
     ]
    },
    {
     "name": "stdout",
     "output_type": "stream",
     "text": [
      "[0]\ttrain-auc:0.71099\ttrain-amex_metric:0.21258\tvalid-auc:0.70385\tvalid-amex_metric:0.21114\n",
      "[20]\ttrain-auc:0.76598\ttrain-amex_metric:0.26811\tvalid-auc:0.74164\tvalid-amex_metric:0.24787\n"
     ]
    },
    {
     "name": "stderr",
     "output_type": "stream",
     "text": [
      "\r",
      "2it [00:09,  4.86s/it]"
     ]
    },
    {
     "name": "stdout",
     "output_type": "stream",
     "text": [
      "[0]\ttrain-auc:0.70797\ttrain-amex_metric:0.21286\tvalid-auc:0.70326\tvalid-amex_metric:0.20638\n",
      "[19]\ttrain-auc:0.76507\ttrain-amex_metric:0.26850\tvalid-auc:0.73731\tvalid-amex_metric:0.23939\n"
     ]
    },
    {
     "name": "stderr",
     "output_type": "stream",
     "text": [
      "\r",
      "3it [00:14,  4.85s/it]"
     ]
    },
    {
     "name": "stdout",
     "output_type": "stream",
     "text": [
      "[0]\ttrain-auc:0.71047\ttrain-amex_metric:0.21447\tvalid-auc:0.70565\tvalid-amex_metric:0.20943\n",
      "[20]\ttrain-auc:0.76369\ttrain-amex_metric:0.26705\tvalid-auc:0.74409\tvalid-amex_metric:0.24817\n"
     ]
    },
    {
     "name": "stderr",
     "output_type": "stream",
     "text": [
      "\r",
      "4it [00:19,  4.84s/it]"
     ]
    },
    {
     "name": "stdout",
     "output_type": "stream",
     "text": [
      "[0]\ttrain-auc:0.71191\ttrain-amex_metric:0.21635\tvalid-auc:0.68937\tvalid-amex_metric:0.19379\n",
      "[20]\ttrain-auc:0.76631\ttrain-amex_metric:0.26994\tvalid-auc:0.74221\tvalid-amex_metric:0.24627\n"
     ]
    },
    {
     "name": "stderr",
     "output_type": "stream",
     "text": [
      "5it [00:24,  4.83s/it]\n",
      "\u001b[32m[I 2023-04-29 11:50:35,128]\u001b[0m Trial 19 finished with value: 0.6463600771345146 and parameters: {'max_depth': 8, 'eta': 0.0006065859438256244, 'min_child_weight': 1, 'subsample': 0.8266657063706597, 'colsample_bytree': 0.44614517547552357, 'lambda': 7.395144787198836e-06, 'alpha': 0.0013264173610856539}. Best is trial 17 with value: 0.6649650691649309.\u001b[0m\n",
      "0it [00:00, ?it/s]"
     ]
    },
    {
     "name": "stdout",
     "output_type": "stream",
     "text": [
      "[0]\ttrain-auc:0.70109\ttrain-amex_metric:0.20729\tvalid-auc:0.68577\tvalid-amex_metric:0.19439\n",
      "[20]\ttrain-auc:0.74782\ttrain-amex_metric:0.25185\tvalid-auc:0.73070\tvalid-amex_metric:0.23662\n"
     ]
    },
    {
     "name": "stderr",
     "output_type": "stream",
     "text": [
      "\r",
      "1it [00:04,  4.50s/it]"
     ]
    },
    {
     "name": "stdout",
     "output_type": "stream",
     "text": [
      "[0]\ttrain-auc:0.69404\ttrain-amex_metric:0.19878\tvalid-auc:0.69939\tvalid-amex_metric:0.20832\n",
      "[20]\ttrain-auc:0.74745\ttrain-amex_metric:0.25099\tvalid-auc:0.74223\tvalid-amex_metric:0.24676\n"
     ]
    },
    {
     "name": "stderr",
     "output_type": "stream",
     "text": [
      "\r",
      "2it [00:09,  4.58s/it]"
     ]
    },
    {
     "name": "stdout",
     "output_type": "stream",
     "text": [
      "[0]\ttrain-auc:0.69619\ttrain-amex_metric:0.20235\tvalid-auc:0.69782\tvalid-amex_metric:0.20154\n",
      "[20]\ttrain-auc:0.74743\ttrain-amex_metric:0.25222\tvalid-auc:0.74223\tvalid-amex_metric:0.24486\n"
     ]
    },
    {
     "name": "stderr",
     "output_type": "stream",
     "text": [
      "\r",
      "3it [00:13,  4.64s/it]"
     ]
    },
    {
     "name": "stdout",
     "output_type": "stream",
     "text": [
      "[0]\ttrain-auc:0.69622\ttrain-amex_metric:0.20227\tvalid-auc:0.70212\tvalid-amex_metric:0.20550\n",
      "[19]\ttrain-auc:0.74564\ttrain-amex_metric:0.24990\tvalid-auc:0.74342\tvalid-amex_metric:0.24727\n"
     ]
    },
    {
     "name": "stderr",
     "output_type": "stream",
     "text": [
      "\r",
      "4it [00:18,  4.65s/it]"
     ]
    },
    {
     "name": "stdout",
     "output_type": "stream",
     "text": [
      "[0]\ttrain-auc:0.70418\ttrain-amex_metric:0.21016\tvalid-auc:0.68600\tvalid-amex_metric:0.19209\n",
      "[19]\ttrain-auc:0.74808\ttrain-amex_metric:0.25201\tvalid-auc:0.74021\tvalid-amex_metric:0.24497\n"
     ]
    },
    {
     "name": "stderr",
     "output_type": "stream",
     "text": [
      "5it [00:23,  4.65s/it]\n",
      "\u001b[32m[I 2023-04-29 11:50:58,379]\u001b[0m Trial 20 finished with value: 0.6626097858789202 and parameters: {'max_depth': 6, 'eta': 0.08037667550316252, 'min_child_weight': 2, 'subsample': 0.57193582290877, 'colsample_bytree': 0.8536631074717531, 'lambda': 5.753909939115671, 'alpha': 2.647709153308205}. Best is trial 17 with value: 0.6649650691649309.\u001b[0m\n",
      "0it [00:00, ?it/s]"
     ]
    },
    {
     "name": "stdout",
     "output_type": "stream",
     "text": [
      "[0]\ttrain-auc:0.70080\ttrain-amex_metric:0.20561\tvalid-auc:0.68127\tvalid-amex_metric:0.18843\n",
      "[19]\ttrain-auc:0.74711\ttrain-amex_metric:0.25104\tvalid-auc:0.72730\tvalid-amex_metric:0.23324\n"
     ]
    },
    {
     "name": "stderr",
     "output_type": "stream",
     "text": [
      "\r",
      "1it [00:04,  4.59s/it]"
     ]
    },
    {
     "name": "stdout",
     "output_type": "stream",
     "text": [
      "[0]\ttrain-auc:0.69468\ttrain-amex_metric:0.19994\tvalid-auc:0.70030\tvalid-amex_metric:0.20894\n",
      "[19]\ttrain-auc:0.74516\ttrain-amex_metric:0.24863\tvalid-auc:0.73985\tvalid-amex_metric:0.24488\n"
     ]
    },
    {
     "name": "stderr",
     "output_type": "stream",
     "text": [
      "\r",
      "2it [00:09,  4.59s/it]"
     ]
    },
    {
     "name": "stdout",
     "output_type": "stream",
     "text": [
      "[0]\ttrain-auc:0.69654\ttrain-amex_metric:0.20254\tvalid-auc:0.69727\tvalid-amex_metric:0.20086\n",
      "[20]\ttrain-auc:0.74592\ttrain-amex_metric:0.25062\tvalid-auc:0.73901\tvalid-amex_metric:0.24052\n"
     ]
    },
    {
     "name": "stderr",
     "output_type": "stream",
     "text": [
      "\r",
      "3it [00:14,  5.05s/it]"
     ]
    },
    {
     "name": "stdout",
     "output_type": "stream",
     "text": [
      "[0]\ttrain-auc:0.69720\ttrain-amex_metric:0.20306\tvalid-auc:0.70194\tvalid-amex_metric:0.20500\n",
      "[20]\ttrain-auc:0.74461\ttrain-amex_metric:0.24897\tvalid-auc:0.74341\tvalid-amex_metric:0.24643\n"
     ]
    },
    {
     "name": "stderr",
     "output_type": "stream",
     "text": [
      "\r",
      "4it [00:21,  5.79s/it]"
     ]
    },
    {
     "name": "stdout",
     "output_type": "stream",
     "text": [
      "[0]\ttrain-auc:0.70428\ttrain-amex_metric:0.20997\tvalid-auc:0.68744\tvalid-amex_metric:0.19388\n",
      "[20]\ttrain-auc:0.74589\ttrain-amex_metric:0.25056\tvalid-auc:0.73880\tvalid-amex_metric:0.24440\n"
     ]
    },
    {
     "name": "stderr",
     "output_type": "stream",
     "text": [
      "5it [00:27,  5.52s/it]\n",
      "\u001b[32m[I 2023-04-29 11:51:25,991]\u001b[0m Trial 21 finished with value: 0.6602894214165194 and parameters: {'max_depth': 6, 'eta': 0.04126111814908397, 'min_child_weight': 2, 'subsample': 0.5584240912676612, 'colsample_bytree': 0.8459753160801844, 'lambda': 5.758982368491155, 'alpha': 2.001703628884106}. Best is trial 17 with value: 0.6649650691649309.\u001b[0m\n",
      "0it [00:00, ?it/s]"
     ]
    },
    {
     "name": "stdout",
     "output_type": "stream",
     "text": [
      "[0]\ttrain-auc:0.70127\ttrain-amex_metric:0.20639\tvalid-auc:0.68050\tvalid-amex_metric:0.18719\n",
      "[19]\ttrain-auc:0.75705\ttrain-amex_metric:0.26036\tvalid-auc:0.73479\tvalid-amex_metric:0.24014\n"
     ]
    },
    {
     "name": "stderr",
     "output_type": "stream",
     "text": [
      "\r",
      "1it [00:04,  4.70s/it]"
     ]
    },
    {
     "name": "stdout",
     "output_type": "stream",
     "text": [
      "[0]\ttrain-auc:0.69304\ttrain-amex_metric:0.19751\tvalid-auc:0.69913\tvalid-amex_metric:0.20803\n",
      "[20]\ttrain-auc:0.75596\ttrain-amex_metric:0.25806\tvalid-auc:0.74279\tvalid-amex_metric:0.24707\n"
     ]
    },
    {
     "name": "stderr",
     "output_type": "stream",
     "text": [
      "\r",
      "2it [00:09,  4.81s/it]"
     ]
    },
    {
     "name": "stdout",
     "output_type": "stream",
     "text": [
      "[0]\ttrain-auc:0.70012\ttrain-amex_metric:0.20781\tvalid-auc:0.70644\tvalid-amex_metric:0.21169\n",
      "[20]\ttrain-auc:0.75635\ttrain-amex_metric:0.26009\tvalid-auc:0.74734\tvalid-amex_metric:0.24905\n"
     ]
    },
    {
     "name": "stderr",
     "output_type": "stream",
     "text": [
      "\r",
      "3it [00:14,  4.87s/it]"
     ]
    },
    {
     "name": "stdout",
     "output_type": "stream",
     "text": [
      "[0]\ttrain-auc:0.68775\ttrain-amex_metric:0.19641\tvalid-auc:0.69426\tvalid-amex_metric:0.20176\n",
      "[19]\ttrain-auc:0.75425\ttrain-amex_metric:0.25836\tvalid-auc:0.74827\tvalid-amex_metric:0.24966\n"
     ]
    },
    {
     "name": "stderr",
     "output_type": "stream",
     "text": [
      "\r",
      "4it [00:19,  4.89s/it]"
     ]
    },
    {
     "name": "stdout",
     "output_type": "stream",
     "text": [
      "[0]\ttrain-auc:0.70465\ttrain-amex_metric:0.21026\tvalid-auc:0.68742\tvalid-amex_metric:0.19337\n",
      "[19]\ttrain-auc:0.75609\ttrain-amex_metric:0.25984\tvalid-auc:0.73976\tvalid-amex_metric:0.24360\n"
     ]
    },
    {
     "name": "stderr",
     "output_type": "stream",
     "text": [
      "5it [00:24,  4.89s/it]\n",
      "\u001b[32m[I 2023-04-29 11:51:50,448]\u001b[0m Trial 22 finished with value: 0.6664083171283387 and parameters: {'max_depth': 7, 'eta': 0.6554959753895284, 'min_child_weight': 2, 'subsample': 0.7734629910323065, 'colsample_bytree': 0.7006164873366786, 'lambda': 0.036253263078701976, 'alpha': 8.151131145201992}. Best is trial 22 with value: 0.6664083171283387.\u001b[0m\n",
      "0it [00:00, ?it/s]"
     ]
    },
    {
     "name": "stdout",
     "output_type": "stream",
     "text": [
      "[0]\ttrain-auc:0.70198\ttrain-amex_metric:0.20652\tvalid-auc:0.68389\tvalid-amex_metric:0.19117\n",
      "[20]\ttrain-auc:0.76350\ttrain-amex_metric:0.26605\tvalid-auc:0.73110\tvalid-amex_metric:0.23638\n"
     ]
    },
    {
     "name": "stderr",
     "output_type": "stream",
     "text": [
      "\r",
      "1it [00:04,  4.94s/it]"
     ]
    },
    {
     "name": "stdout",
     "output_type": "stream",
     "text": [
      "[0]\ttrain-auc:0.69585\ttrain-amex_metric:0.20081\tvalid-auc:0.70226\tvalid-amex_metric:0.20971\n",
      "[20]\ttrain-auc:0.76323\ttrain-amex_metric:0.26594\tvalid-auc:0.73919\tvalid-amex_metric:0.24355\n"
     ]
    },
    {
     "name": "stderr",
     "output_type": "stream",
     "text": [
      "\r",
      "2it [00:10,  5.02s/it]"
     ]
    },
    {
     "name": "stdout",
     "output_type": "stream",
     "text": [
      "[0]\ttrain-auc:0.70007\ttrain-amex_metric:0.20752\tvalid-auc:0.70559\tvalid-amex_metric:0.21039\n",
      "[20]\ttrain-auc:0.76370\ttrain-amex_metric:0.26720\tvalid-auc:0.74096\tvalid-amex_metric:0.24217\n"
     ]
    },
    {
     "name": "stderr",
     "output_type": "stream",
     "text": [
      "\r",
      "3it [00:15,  5.13s/it]"
     ]
    },
    {
     "name": "stdout",
     "output_type": "stream",
     "text": [
      "[0]\ttrain-auc:0.69396\ttrain-amex_metric:0.20320\tvalid-auc:0.69945\tvalid-amex_metric:0.20791\n",
      "[20]\ttrain-auc:0.76062\ttrain-amex_metric:0.26495\tvalid-auc:0.74618\tvalid-amex_metric:0.24859\n"
     ]
    },
    {
     "name": "stderr",
     "output_type": "stream",
     "text": [
      "\r",
      "4it [00:20,  5.16s/it]"
     ]
    },
    {
     "name": "stdout",
     "output_type": "stream",
     "text": [
      "[0]\ttrain-auc:0.70280\ttrain-amex_metric:0.20785\tvalid-auc:0.68929\tvalid-amex_metric:0.19582\n",
      "[20]\ttrain-auc:0.76371\ttrain-amex_metric:0.26689\tvalid-auc:0.73906\tvalid-amex_metric:0.24267\n"
     ]
    },
    {
     "name": "stderr",
     "output_type": "stream",
     "text": [
      "5it [00:25,  5.13s/it]\n",
      "\u001b[32m[I 2023-04-29 11:52:16,114]\u001b[0m Trial 23 finished with value: 0.6643743174827934 and parameters: {'max_depth': 7, 'eta': 0.8744245993978202, 'min_child_weight': 2, 'subsample': 0.787295230759915, 'colsample_bytree': 0.6910203176343462, 'lambda': 9.20257257690468, 'alpha': 5.2115702620263145}. Best is trial 22 with value: 0.6664083171283387.\u001b[0m\n",
      "0it [00:00, ?it/s]"
     ]
    },
    {
     "name": "stdout",
     "output_type": "stream",
     "text": [
      "[0]\ttrain-auc:0.71091\ttrain-amex_metric:0.21527\tvalid-auc:0.68848\tvalid-amex_metric:0.19405\n",
      "[20]\ttrain-auc:0.79226\ttrain-amex_metric:0.29481\tvalid-auc:0.72708\tvalid-amex_metric:0.23223\n"
     ]
    },
    {
     "name": "stderr",
     "output_type": "stream",
     "text": [
      "\r",
      "1it [00:05,  5.09s/it]"
     ]
    },
    {
     "name": "stdout",
     "output_type": "stream",
     "text": [
      "[0]\ttrain-auc:0.70483\ttrain-amex_metric:0.20879\tvalid-auc:0.69978\tvalid-amex_metric:0.20696\n",
      "[19]\ttrain-auc:0.79014\ttrain-amex_metric:0.29325\tvalid-auc:0.73113\tvalid-amex_metric:0.23564\n"
     ]
    },
    {
     "name": "stderr",
     "output_type": "stream",
     "text": [
      "\r",
      "2it [00:10,  5.18s/it]"
     ]
    },
    {
     "name": "stdout",
     "output_type": "stream",
     "text": [
      "[0]\ttrain-auc:0.70698\ttrain-amex_metric:0.21266\tvalid-auc:0.70876\tvalid-amex_metric:0.21262\n",
      "[19]\ttrain-auc:0.78804\ttrain-amex_metric:0.29175\tvalid-auc:0.73297\tvalid-amex_metric:0.23524\n"
     ]
    },
    {
     "name": "stderr",
     "output_type": "stream",
     "text": [
      "\r",
      "3it [00:15,  5.22s/it]"
     ]
    },
    {
     "name": "stdout",
     "output_type": "stream",
     "text": [
      "[0]\ttrain-auc:0.70389\ttrain-amex_metric:0.21027\tvalid-auc:0.70182\tvalid-amex_metric:0.20874\n",
      "[20]\ttrain-auc:0.78476\ttrain-amex_metric:0.28756\tvalid-auc:0.73583\tvalid-amex_metric:0.23756\n"
     ]
    },
    {
     "name": "stderr",
     "output_type": "stream",
     "text": [
      "\r",
      "4it [00:20,  5.21s/it]"
     ]
    },
    {
     "name": "stdout",
     "output_type": "stream",
     "text": [
      "[0]\ttrain-auc:0.71211\ttrain-amex_metric:0.21707\tvalid-auc:0.69115\tvalid-amex_metric:0.19693\n",
      "[19]\ttrain-auc:0.78919\ttrain-amex_metric:0.29130\tvalid-auc:0.72652\tvalid-amex_metric:0.22903\n"
     ]
    },
    {
     "name": "stderr",
     "output_type": "stream",
     "text": [
      "5it [00:26,  5.22s/it]\n",
      "\u001b[32m[I 2023-04-29 11:52:42,256]\u001b[0m Trial 24 finished with value: 0.6621825369127053 and parameters: {'max_depth': 7, 'eta': 0.6456723240358477, 'min_child_weight': 1, 'subsample': 0.7870113654654934, 'colsample_bytree': 0.7042224559643535, 'lambda': 0.0005956141614250623, 'alpha': 0.3574153409576912}. Best is trial 22 with value: 0.6664083171283387.\u001b[0m\n",
      "0it [00:00, ?it/s]"
     ]
    },
    {
     "name": "stdout",
     "output_type": "stream",
     "text": [
      "[0]\ttrain-auc:0.69588\ttrain-amex_metric:0.20097\tvalid-auc:0.67969\tvalid-amex_metric:0.19190\n",
      "[19]\ttrain-auc:0.76900\ttrain-amex_metric:0.27181\tvalid-auc:0.73183\tvalid-amex_metric:0.23719\n"
     ]
    },
    {
     "name": "stderr",
     "output_type": "stream",
     "text": [
      "\r",
      "1it [00:04,  4.83s/it]"
     ]
    },
    {
     "name": "stdout",
     "output_type": "stream",
     "text": [
      "[0]\ttrain-auc:0.69403\ttrain-amex_metric:0.19817\tvalid-auc:0.69992\tvalid-amex_metric:0.20983\n",
      "[19]\ttrain-auc:0.76741\ttrain-amex_metric:0.27153\tvalid-auc:0.73755\tvalid-amex_metric:0.24194\n"
     ]
    },
    {
     "name": "stderr",
     "output_type": "stream",
     "text": [
      "\r",
      "2it [00:09,  4.84s/it]"
     ]
    },
    {
     "name": "stdout",
     "output_type": "stream",
     "text": [
      "[0]\ttrain-auc:0.69626\ttrain-amex_metric:0.20206\tvalid-auc:0.70030\tvalid-amex_metric:0.20228\n",
      "[20]\ttrain-auc:0.76807\ttrain-amex_metric:0.27134\tvalid-auc:0.73227\tvalid-amex_metric:0.23376\n"
     ]
    },
    {
     "name": "stderr",
     "output_type": "stream",
     "text": [
      "\r",
      "3it [00:14,  4.89s/it]"
     ]
    },
    {
     "name": "stdout",
     "output_type": "stream",
     "text": [
      "[0]\ttrain-auc:0.69708\ttrain-amex_metric:0.20359\tvalid-auc:0.70133\tvalid-amex_metric:0.20361\n",
      "[20]\ttrain-auc:0.77037\ttrain-amex_metric:0.27362\tvalid-auc:0.73845\tvalid-amex_metric:0.24068\n"
     ]
    },
    {
     "name": "stderr",
     "output_type": "stream",
     "text": [
      "\r",
      "4it [00:19,  4.91s/it]"
     ]
    },
    {
     "name": "stdout",
     "output_type": "stream",
     "text": [
      "[0]\ttrain-auc:0.70509\ttrain-amex_metric:0.21110\tvalid-auc:0.69118\tvalid-amex_metric:0.19769\n",
      "[19]\ttrain-auc:0.77016\ttrain-amex_metric:0.27337\tvalid-auc:0.73121\tvalid-amex_metric:0.23538\n"
     ]
    },
    {
     "name": "stderr",
     "output_type": "stream",
     "text": [
      "5it [00:24,  4.89s/it]\n",
      "\u001b[32m[I 2023-04-29 11:53:06,745]\u001b[0m Trial 25 finished with value: 0.6617275397004305 and parameters: {'max_depth': 5, 'eta': 0.8082590150574857, 'min_child_weight': 3, 'subsample': 0.8828513835648132, 'colsample_bytree': 0.5338380309221183, 'lambda': 0.2837972500558967, 'alpha': 0.46143216456185115}. Best is trial 22 with value: 0.6664083171283387.\u001b[0m\n",
      "0it [00:00, ?it/s]"
     ]
    },
    {
     "name": "stdout",
     "output_type": "stream",
     "text": [
      "[0]\ttrain-auc:0.69230\ttrain-amex_metric:0.19796\tvalid-auc:0.67594\tvalid-amex_metric:0.18802\n",
      "[20]\ttrain-auc:0.75297\ttrain-amex_metric:0.25616\tvalid-auc:0.73252\tvalid-amex_metric:0.23820\n"
     ]
    },
    {
     "name": "stderr",
     "output_type": "stream",
     "text": [
      "\r",
      "1it [00:05,  5.22s/it]"
     ]
    },
    {
     "name": "stdout",
     "output_type": "stream",
     "text": [
      "[0]\ttrain-auc:0.69196\ttrain-amex_metric:0.19675\tvalid-auc:0.69805\tvalid-amex_metric:0.20652\n",
      "[19]\ttrain-auc:0.75226\ttrain-amex_metric:0.25406\tvalid-auc:0.74604\tvalid-amex_metric:0.25081\n"
     ]
    },
    {
     "name": "stderr",
     "output_type": "stream",
     "text": [
      "\r",
      "2it [00:10,  5.29s/it]"
     ]
    },
    {
     "name": "stdout",
     "output_type": "stream",
     "text": [
      "[0]\ttrain-auc:0.69978\ttrain-amex_metric:0.20649\tvalid-auc:0.70683\tvalid-amex_metric:0.21096\n",
      "[20]\ttrain-auc:0.75347\ttrain-amex_metric:0.25702\tvalid-auc:0.74611\tvalid-amex_metric:0.24751\n"
     ]
    },
    {
     "name": "stderr",
     "output_type": "stream",
     "text": [
      "\r",
      "3it [00:15,  5.36s/it]"
     ]
    },
    {
     "name": "stdout",
     "output_type": "stream",
     "text": [
      "[0]\ttrain-auc:0.68835\ttrain-amex_metric:0.19750\tvalid-auc:0.69309\tvalid-amex_metric:0.19948\n",
      "[19]\ttrain-auc:0.75156\ttrain-amex_metric:0.25558\tvalid-auc:0.74936\tvalid-amex_metric:0.25137\n"
     ]
    },
    {
     "name": "stderr",
     "output_type": "stream",
     "text": [
      "\r",
      "4it [00:21,  5.35s/it]"
     ]
    },
    {
     "name": "stdout",
     "output_type": "stream",
     "text": [
      "[0]\ttrain-auc:0.70489\ttrain-amex_metric:0.21076\tvalid-auc:0.68964\tvalid-amex_metric:0.19505\n",
      "[20]\ttrain-auc:0.75186\ttrain-amex_metric:0.25589\tvalid-auc:0.74281\tvalid-amex_metric:0.24702\n"
     ]
    },
    {
     "name": "stderr",
     "output_type": "stream",
     "text": [
      "5it [00:26,  5.36s/it]\n",
      "\u001b[32m[I 2023-04-29 11:53:33,544]\u001b[0m Trial 26 finished with value: 0.6667024303203568 and parameters: {'max_depth': 9, 'eta': 0.2746299189067409, 'min_child_weight': 2, 'subsample': 0.7495918138977006, 'colsample_bytree': 0.6943117110606427, 'lambda': 0.024305267166553745, 'alpha': 9.475740643650774}. Best is trial 26 with value: 0.6667024303203568.\u001b[0m\n",
      "0it [00:00, ?it/s]"
     ]
    },
    {
     "name": "stdout",
     "output_type": "stream",
     "text": [
      "[0]\ttrain-auc:0.70610\ttrain-amex_metric:0.21189\tvalid-auc:0.68900\tvalid-amex_metric:0.19562\n",
      "[20]\ttrain-auc:0.75749\ttrain-amex_metric:0.26015\tvalid-auc:0.73382\tvalid-amex_metric:0.23852\n"
     ]
    },
    {
     "name": "stderr",
     "output_type": "stream",
     "text": [
      "\r",
      "1it [00:05,  5.49s/it]"
     ]
    },
    {
     "name": "stdout",
     "output_type": "stream",
     "text": [
      "[0]\ttrain-auc:0.69341\ttrain-amex_metric:0.19770\tvalid-auc:0.69986\tvalid-amex_metric:0.20871\n",
      "[19]\ttrain-auc:0.75526\ttrain-amex_metric:0.25689\tvalid-auc:0.74184\tvalid-amex_metric:0.24555\n"
     ]
    },
    {
     "name": "stderr",
     "output_type": "stream",
     "text": [
      "\r",
      "2it [00:11,  5.57s/it]"
     ]
    },
    {
     "name": "stdout",
     "output_type": "stream",
     "text": [
      "[0]\ttrain-auc:0.70158\ttrain-amex_metric:0.20885\tvalid-auc:0.70610\tvalid-amex_metric:0.21325\n",
      "[20]\ttrain-auc:0.75712\ttrain-amex_metric:0.26116\tvalid-auc:0.74586\tvalid-amex_metric:0.24622\n"
     ]
    },
    {
     "name": "stderr",
     "output_type": "stream",
     "text": [
      "\r",
      "3it [00:16,  5.60s/it]"
     ]
    },
    {
     "name": "stdout",
     "output_type": "stream",
     "text": [
      "[0]\ttrain-auc:0.69447\ttrain-amex_metric:0.20239\tvalid-auc:0.70047\tvalid-amex_metric:0.20700\n",
      "[20]\ttrain-auc:0.75377\ttrain-amex_metric:0.25736\tvalid-auc:0.74880\tvalid-amex_metric:0.25032\n"
     ]
    },
    {
     "name": "stderr",
     "output_type": "stream",
     "text": [
      "\r",
      "4it [00:22,  5.65s/it]"
     ]
    },
    {
     "name": "stdout",
     "output_type": "stream",
     "text": [
      "[0]\ttrain-auc:0.70555\ttrain-amex_metric:0.21175\tvalid-auc:0.69063\tvalid-amex_metric:0.19689\n",
      "[20]\ttrain-auc:0.75603\ttrain-amex_metric:0.25890\tvalid-auc:0.74498\tvalid-amex_metric:0.24945\n"
     ]
    },
    {
     "name": "stderr",
     "output_type": "stream",
     "text": [
      "5it [00:28,  5.62s/it]\n",
      "\u001b[32m[I 2023-04-29 11:54:01,652]\u001b[0m Trial 27 finished with value: 0.6663554430063945 and parameters: {'max_depth': 9, 'eta': 0.2646891604619632, 'min_child_weight': 4, 'subsample': 0.7448313491694107, 'colsample_bytree': 0.7802184590509447, 'lambda': 0.020640413512716515, 'alpha': 5.950502466534354}. Best is trial 26 with value: 0.6667024303203568.\u001b[0m\n",
      "0it [00:00, ?it/s]"
     ]
    },
    {
     "name": "stdout",
     "output_type": "stream",
     "text": [
      "[0]\ttrain-auc:0.70010\ttrain-amex_metric:0.20515\tvalid-auc:0.68212\tvalid-amex_metric:0.18903\n",
      "[19]\ttrain-auc:0.75442\ttrain-amex_metric:0.25756\tvalid-auc:0.73433\tvalid-amex_metric:0.23871\n"
     ]
    },
    {
     "name": "stderr",
     "output_type": "stream",
     "text": [
      "\r",
      "1it [00:05,  5.33s/it]"
     ]
    },
    {
     "name": "stdout",
     "output_type": "stream",
     "text": [
      "[0]\ttrain-auc:0.69580\ttrain-amex_metric:0.19972\tvalid-auc:0.70191\tvalid-amex_metric:0.20863\n",
      "[20]\ttrain-auc:0.75103\ttrain-amex_metric:0.25353\tvalid-auc:0.74287\tvalid-amex_metric:0.24736\n"
     ]
    },
    {
     "name": "stderr",
     "output_type": "stream",
     "text": [
      "\r",
      "2it [00:10,  5.40s/it]"
     ]
    },
    {
     "name": "stdout",
     "output_type": "stream",
     "text": [
      "[0]\ttrain-auc:0.70014\ttrain-amex_metric:0.20765\tvalid-auc:0.70629\tvalid-amex_metric:0.21168\n",
      "[20]\ttrain-auc:0.75266\ttrain-amex_metric:0.25665\tvalid-auc:0.74620\tvalid-amex_metric:0.24793\n"
     ]
    },
    {
     "name": "stderr",
     "output_type": "stream",
     "text": [
      "\r",
      "3it [00:16,  5.49s/it]"
     ]
    },
    {
     "name": "stdout",
     "output_type": "stream",
     "text": [
      "[0]\ttrain-auc:0.68686\ttrain-amex_metric:0.19549\tvalid-auc:0.69271\tvalid-amex_metric:0.20043\n",
      "[19]\ttrain-auc:0.75062\ttrain-amex_metric:0.25435\tvalid-auc:0.74865\tvalid-amex_metric:0.25105\n"
     ]
    },
    {
     "name": "stderr",
     "output_type": "stream",
     "text": [
      "\r",
      "4it [00:21,  5.53s/it]"
     ]
    },
    {
     "name": "stdout",
     "output_type": "stream",
     "text": [
      "[0]\ttrain-auc:0.70385\ttrain-amex_metric:0.20953\tvalid-auc:0.68986\tvalid-amex_metric:0.19598\n",
      "[19]\ttrain-auc:0.75212\ttrain-amex_metric:0.25529\tvalid-auc:0.74297\tvalid-amex_metric:0.24716\n"
     ]
    },
    {
     "name": "stderr",
     "output_type": "stream",
     "text": [
      "5it [00:27,  5.49s/it]\n",
      "\u001b[32m[I 2023-04-29 11:54:29,134]\u001b[0m Trial 28 finished with value: 0.6670239569119928 and parameters: {'max_depth': 9, 'eta': 0.2552284326090564, 'min_child_weight': 4, 'subsample': 0.7146897488422564, 'colsample_bytree': 0.7720392090003216, 'lambda': 0.017900841643273057, 'alpha': 8.80414681083677}. Best is trial 28 with value: 0.6670239569119928.\u001b[0m\n",
      "0it [00:00, ?it/s]"
     ]
    },
    {
     "name": "stdout",
     "output_type": "stream",
     "text": [
      "[0]\ttrain-auc:0.70093\ttrain-amex_metric:0.20633\tvalid-auc:0.68504\tvalid-amex_metric:0.19297\n",
      "[20]\ttrain-auc:0.75757\ttrain-amex_metric:0.26036\tvalid-auc:0.73294\tvalid-amex_metric:0.23773\n"
     ]
    },
    {
     "name": "stderr",
     "output_type": "stream",
     "text": [
      "\r",
      "1it [00:05,  5.45s/it]"
     ]
    },
    {
     "name": "stdout",
     "output_type": "stream",
     "text": [
      "[0]\ttrain-auc:0.69243\ttrain-amex_metric:0.19761\tvalid-auc:0.69796\tvalid-amex_metric:0.20560\n",
      "[19]\ttrain-auc:0.75760\ttrain-amex_metric:0.26021\tvalid-auc:0.74007\tvalid-amex_metric:0.24396\n"
     ]
    },
    {
     "name": "stderr",
     "output_type": "stream",
     "text": [
      "\r",
      "2it [00:10,  5.50s/it]"
     ]
    },
    {
     "name": "stdout",
     "output_type": "stream",
     "text": [
      "[0]\ttrain-auc:0.69997\ttrain-amex_metric:0.20723\tvalid-auc:0.70395\tvalid-amex_metric:0.20923\n",
      "[19]\ttrain-auc:0.75758\ttrain-amex_metric:0.26183\tvalid-auc:0.74155\tvalid-amex_metric:0.24363\n"
     ]
    },
    {
     "name": "stderr",
     "output_type": "stream",
     "text": [
      "\r",
      "3it [00:16,  5.39s/it]"
     ]
    },
    {
     "name": "stdout",
     "output_type": "stream",
     "text": [
      "[0]\ttrain-auc:0.69028\ttrain-amex_metric:0.19831\tvalid-auc:0.69297\tvalid-amex_metric:0.19882\n",
      "[20]\ttrain-auc:0.75736\ttrain-amex_metric:0.26098\tvalid-auc:0.74747\tvalid-amex_metric:0.24969\n"
     ]
    },
    {
     "name": "stderr",
     "output_type": "stream",
     "text": [
      "\r",
      "4it [00:21,  5.39s/it]"
     ]
    },
    {
     "name": "stdout",
     "output_type": "stream",
     "text": [
      "[0]\ttrain-auc:0.70329\ttrain-amex_metric:0.20944\tvalid-auc:0.68959\tvalid-amex_metric:0.19561\n",
      "[19]\ttrain-auc:0.75738\ttrain-amex_metric:0.26053\tvalid-auc:0.73942\tvalid-amex_metric:0.24352\n"
     ]
    },
    {
     "name": "stderr",
     "output_type": "stream",
     "text": [
      "5it [00:27,  5.40s/it]\n",
      "\u001b[32m[I 2023-04-29 11:54:56,181]\u001b[0m Trial 29 finished with value: 0.665373368391022 and parameters: {'max_depth': 9, 'eta': 0.8244460322848641, 'min_child_weight': 4, 'subsample': 0.8669896500101406, 'colsample_bytree': 0.5165290673766336, 'lambda': 0.1368365930096537, 'alpha': 7.9592405323265085}. Best is trial 28 with value: 0.6670239569119928.\u001b[0m\n",
      "0it [00:00, ?it/s]"
     ]
    },
    {
     "name": "stdout",
     "output_type": "stream",
     "text": [
      "[0]\ttrain-auc:0.71528\ttrain-amex_metric:0.22019\tvalid-auc:0.69171\tvalid-amex_metric:0.19948\n",
      "[20]\ttrain-auc:0.76258\ttrain-amex_metric:0.26603\tvalid-auc:0.73321\tvalid-amex_metric:0.24013\n"
     ]
    },
    {
     "name": "stderr",
     "output_type": "stream",
     "text": [
      "\r",
      "1it [00:05,  5.64s/it]"
     ]
    },
    {
     "name": "stdout",
     "output_type": "stream",
     "text": [
      "[0]\ttrain-auc:0.71139\ttrain-amex_metric:0.21577\tvalid-auc:0.70748\tvalid-amex_metric:0.21517\n",
      "[20]\ttrain-auc:0.76210\ttrain-amex_metric:0.26554\tvalid-auc:0.74121\tvalid-amex_metric:0.24596\n"
     ]
    },
    {
     "name": "stderr",
     "output_type": "stream",
     "text": [
      "\r",
      "2it [00:11,  5.82s/it]"
     ]
    },
    {
     "name": "stdout",
     "output_type": "stream",
     "text": [
      "[0]\ttrain-auc:0.71008\ttrain-amex_metric:0.21648\tvalid-auc:0.70998\tvalid-amex_metric:0.21400\n",
      "[20]\ttrain-auc:0.76153\ttrain-amex_metric:0.26609\tvalid-auc:0.74363\tvalid-amex_metric:0.24547\n"
     ]
    },
    {
     "name": "stderr",
     "output_type": "stream",
     "text": [
      "\r",
      "3it [00:17,  5.90s/it]"
     ]
    },
    {
     "name": "stdout",
     "output_type": "stream",
     "text": [
      "[0]\ttrain-auc:0.71087\ttrain-amex_metric:0.21690\tvalid-auc:0.70840\tvalid-amex_metric:0.21113\n",
      "[20]\ttrain-auc:0.76098\ttrain-amex_metric:0.26456\tvalid-auc:0.74672\tvalid-amex_metric:0.25163\n"
     ]
    },
    {
     "name": "stderr",
     "output_type": "stream",
     "text": [
      "\r",
      "4it [00:23,  5.94s/it]"
     ]
    },
    {
     "name": "stdout",
     "output_type": "stream",
     "text": [
      "[0]\ttrain-auc:0.71492\ttrain-amex_metric:0.22052\tvalid-auc:0.69246\tvalid-amex_metric:0.19890\n",
      "[20]\ttrain-auc:0.76308\ttrain-amex_metric:0.26648\tvalid-auc:0.74563\tvalid-amex_metric:0.25049\n"
     ]
    },
    {
     "name": "stderr",
     "output_type": "stream",
     "text": [
      "5it [00:29,  5.90s/it]\n",
      "\u001b[32m[I 2023-04-29 11:55:25,720]\u001b[0m Trial 30 finished with value: 0.6607363043209526 and parameters: {'max_depth': 9, 'eta': 0.011596425957331787, 'min_child_weight': 3, 'subsample': 0.9053553637956289, 'colsample_bytree': 0.6431668185465004, 'lambda': 0.01727175875069156, 'alpha': 0.7162334961099066}. Best is trial 28 with value: 0.6670239569119928.\u001b[0m\n",
      "0it [00:00, ?it/s]"
     ]
    },
    {
     "name": "stdout",
     "output_type": "stream",
     "text": [
      "[0]\ttrain-auc:0.70607\ttrain-amex_metric:0.21190\tvalid-auc:0.68697\tvalid-amex_metric:0.19381\n",
      "[20]\ttrain-auc:0.75589\ttrain-amex_metric:0.25840\tvalid-auc:0.73489\tvalid-amex_metric:0.24034\n"
     ]
    },
    {
     "name": "stderr",
     "output_type": "stream",
     "text": [
      "\r",
      "1it [00:05,  5.51s/it]"
     ]
    },
    {
     "name": "stdout",
     "output_type": "stream",
     "text": [
      "[0]\ttrain-auc:0.69340\ttrain-amex_metric:0.19797\tvalid-auc:0.69994\tvalid-amex_metric:0.20867\n",
      "[20]\ttrain-auc:0.75439\ttrain-amex_metric:0.25674\tvalid-auc:0.74321\tvalid-amex_metric:0.24762\n"
     ]
    },
    {
     "name": "stderr",
     "output_type": "stream",
     "text": [
      "\r",
      "2it [00:11,  5.63s/it]"
     ]
    },
    {
     "name": "stdout",
     "output_type": "stream",
     "text": [
      "[0]\ttrain-auc:0.70168\ttrain-amex_metric:0.20853\tvalid-auc:0.70517\tvalid-amex_metric:0.20882\n",
      "[20]\ttrain-auc:0.75568\ttrain-amex_metric:0.25943\tvalid-auc:0.74400\tvalid-amex_metric:0.24461\n"
     ]
    },
    {
     "name": "stderr",
     "output_type": "stream",
     "text": [
      "\r",
      "3it [00:16,  5.65s/it]"
     ]
    },
    {
     "name": "stdout",
     "output_type": "stream",
     "text": [
      "[0]\ttrain-auc:0.69523\ttrain-amex_metric:0.20231\tvalid-auc:0.70091\tvalid-amex_metric:0.20866\n",
      "[20]\ttrain-auc:0.75336\ttrain-amex_metric:0.25697\tvalid-auc:0.74800\tvalid-amex_metric:0.25220\n"
     ]
    },
    {
     "name": "stderr",
     "output_type": "stream",
     "text": [
      "\r",
      "4it [00:22,  5.66s/it]"
     ]
    },
    {
     "name": "stdout",
     "output_type": "stream",
     "text": [
      "[0]\ttrain-auc:0.70398\ttrain-amex_metric:0.20960\tvalid-auc:0.69101\tvalid-amex_metric:0.19674\n",
      "[20]\ttrain-auc:0.75475\ttrain-amex_metric:0.25810\tvalid-auc:0.74416\tvalid-amex_metric:0.24838\n"
     ]
    },
    {
     "name": "stderr",
     "output_type": "stream",
     "text": [
      "5it [00:28,  5.66s/it]\n",
      "\u001b[32m[I 2023-04-29 11:55:54,054]\u001b[0m Trial 31 finished with value: 0.6657815289188551 and parameters: {'max_depth': 9, 'eta': 0.22242478410194175, 'min_child_weight': 4, 'subsample': 0.728385834641002, 'colsample_bytree': 0.7631184368867092, 'lambda': 0.010618349784970895, 'alpha': 6.011361273673748}. Best is trial 28 with value: 0.6670239569119928.\u001b[0m\n",
      "0it [00:00, ?it/s]"
     ]
    },
    {
     "name": "stdout",
     "output_type": "stream",
     "text": [
      "[0]\ttrain-auc:0.71471\ttrain-amex_metric:0.21881\tvalid-auc:0.68816\tvalid-amex_metric:0.19329\n",
      "[19]\ttrain-auc:0.77147\ttrain-amex_metric:0.27390\tvalid-auc:0.73477\tvalid-amex_metric:0.23950\n"
     ]
    },
    {
     "name": "stderr",
     "output_type": "stream",
     "text": [
      "\r",
      "1it [00:05,  5.84s/it]"
     ]
    },
    {
     "name": "stdout",
     "output_type": "stream",
     "text": [
      "[0]\ttrain-auc:0.70949\ttrain-amex_metric:0.21262\tvalid-auc:0.70202\tvalid-amex_metric:0.20822\n",
      "[19]\ttrain-auc:0.77057\ttrain-amex_metric:0.27227\tvalid-auc:0.74060\tvalid-amex_metric:0.24429\n"
     ]
    },
    {
     "name": "stderr",
     "output_type": "stream",
     "text": [
      "\r",
      "2it [00:11,  5.92s/it]"
     ]
    },
    {
     "name": "stdout",
     "output_type": "stream",
     "text": [
      "[0]\ttrain-auc:0.71098\ttrain-amex_metric:0.21537\tvalid-auc:0.70758\tvalid-amex_metric:0.21027\n",
      "[20]\ttrain-auc:0.77075\ttrain-amex_metric:0.27410\tvalid-auc:0.74385\tvalid-amex_metric:0.24412\n"
     ]
    },
    {
     "name": "stderr",
     "output_type": "stream",
     "text": [
      "\r",
      "3it [00:17,  5.97s/it]"
     ]
    },
    {
     "name": "stdout",
     "output_type": "stream",
     "text": [
      "[0]\ttrain-auc:0.70916\ttrain-amex_metric:0.21409\tvalid-auc:0.70782\tvalid-amex_metric:0.20729\n",
      "[19]\ttrain-auc:0.76944\ttrain-amex_metric:0.27291\tvalid-auc:0.74866\tvalid-amex_metric:0.25115\n"
     ]
    },
    {
     "name": "stderr",
     "output_type": "stream",
     "text": [
      "\r",
      "4it [00:23,  6.03s/it]"
     ]
    },
    {
     "name": "stdout",
     "output_type": "stream",
     "text": [
      "[0]\ttrain-auc:0.71338\ttrain-amex_metric:0.21749\tvalid-auc:0.69492\tvalid-amex_metric:0.19891\n",
      "[20]\ttrain-auc:0.77001\ttrain-amex_metric:0.27251\tvalid-auc:0.74305\tvalid-amex_metric:0.24703\n"
     ]
    },
    {
     "name": "stderr",
     "output_type": "stream",
     "text": [
      "5it [00:29,  6.00s/it]\n",
      "\u001b[32m[I 2023-04-29 11:56:24,059]\u001b[0m Trial 32 finished with value: 0.66539993883288 and parameters: {'max_depth': 9, 'eta': 0.13403289672378174, 'min_child_weight': 4, 'subsample': 0.7463030042506005, 'colsample_bytree': 0.7765700701436846, 'lambda': 0.021758780196845007, 'alpha': 0.09148497264586736}. Best is trial 28 with value: 0.6670239569119928.\u001b[0m\n",
      "0it [00:00, ?it/s]"
     ]
    },
    {
     "name": "stdout",
     "output_type": "stream",
     "text": [
      "[0]\ttrain-auc:0.71063\ttrain-amex_metric:0.21686\tvalid-auc:0.68934\tvalid-amex_metric:0.19590\n",
      "[20]\ttrain-auc:0.77027\ttrain-amex_metric:0.27308\tvalid-auc:0.73197\tvalid-amex_metric:0.23757\n"
     ]
    },
    {
     "name": "stderr",
     "output_type": "stream",
     "text": [
      "\r",
      "1it [00:05,  5.53s/it]"
     ]
    },
    {
     "name": "stdout",
     "output_type": "stream",
     "text": [
      "[0]\ttrain-auc:0.70513\ttrain-amex_metric:0.21054\tvalid-auc:0.70619\tvalid-amex_metric:0.21264\n",
      "[19]\ttrain-auc:0.76710\ttrain-amex_metric:0.26898\tvalid-auc:0.74112\tvalid-amex_metric:0.24658\n"
     ]
    },
    {
     "name": "stderr",
     "output_type": "stream",
     "text": [
      "\r",
      "2it [00:11,  5.54s/it]"
     ]
    },
    {
     "name": "stdout",
     "output_type": "stream",
     "text": [
      "[0]\ttrain-auc:0.70677\ttrain-amex_metric:0.21250\tvalid-auc:0.70907\tvalid-amex_metric:0.21467\n",
      "[20]\ttrain-auc:0.76799\ttrain-amex_metric:0.27165\tvalid-auc:0.74147\tvalid-amex_metric:0.24140\n"
     ]
    },
    {
     "name": "stderr",
     "output_type": "stream",
     "text": [
      "\r",
      "3it [00:16,  5.60s/it]"
     ]
    },
    {
     "name": "stdout",
     "output_type": "stream",
     "text": [
      "[0]\ttrain-auc:0.70718\ttrain-amex_metric:0.21332\tvalid-auc:0.70768\tvalid-amex_metric:0.21074\n",
      "[20]\ttrain-auc:0.76645\ttrain-amex_metric:0.26973\tvalid-auc:0.74807\tvalid-amex_metric:0.25201\n"
     ]
    },
    {
     "name": "stderr",
     "output_type": "stream",
     "text": [
      "\r",
      "4it [00:22,  5.64s/it]"
     ]
    },
    {
     "name": "stdout",
     "output_type": "stream",
     "text": [
      "[0]\ttrain-auc:0.71136\ttrain-amex_metric:0.21710\tvalid-auc:0.69337\tvalid-amex_metric:0.19906\n",
      "[19]\ttrain-auc:0.76831\ttrain-amex_metric:0.27079\tvalid-auc:0.73672\tvalid-amex_metric:0.24105\n"
     ]
    },
    {
     "name": "stderr",
     "output_type": "stream",
     "text": [
      "5it [00:28,  5.66s/it]\n",
      "\u001b[32m[I 2023-04-29 11:56:52,371]\u001b[0m Trial 33 finished with value: 0.6651430450272409 and parameters: {'max_depth': 8, 'eta': 0.25578734567556427, 'min_child_weight': 3, 'subsample': 0.6531729485182194, 'colsample_bytree': 0.7009266566945807, 'lambda': 0.35048328854754995, 'alpha': 0.6777309249882909}. Best is trial 28 with value: 0.6670239569119928.\u001b[0m\n",
      "0it [00:00, ?it/s]"
     ]
    },
    {
     "name": "stdout",
     "output_type": "stream",
     "text": [
      "[0]\ttrain-auc:0.71525\ttrain-amex_metric:0.22051\tvalid-auc:0.69213\tvalid-amex_metric:0.19978\n",
      "[19]\ttrain-auc:0.79824\ttrain-amex_metric:0.30046\tvalid-auc:0.72678\tvalid-amex_metric:0.23211\n"
     ]
    },
    {
     "name": "stderr",
     "output_type": "stream",
     "text": [
      "\r",
      "1it [00:06,  6.02s/it]"
     ]
    },
    {
     "name": "stdout",
     "output_type": "stream",
     "text": [
      "[0]\ttrain-auc:0.71119\ttrain-amex_metric:0.21498\tvalid-auc:0.70702\tvalid-amex_metric:0.21509\n",
      "[20]\ttrain-auc:0.79597\ttrain-amex_metric:0.29836\tvalid-auc:0.72915\tvalid-amex_metric:0.23349\n"
     ]
    },
    {
     "name": "stderr",
     "output_type": "stream",
     "text": [
      "\r",
      "2it [00:12,  6.31s/it]"
     ]
    },
    {
     "name": "stdout",
     "output_type": "stream",
     "text": [
      "[0]\ttrain-auc:0.70864\ttrain-amex_metric:0.21490\tvalid-auc:0.70880\tvalid-amex_metric:0.21279\n",
      "[20]\ttrain-auc:0.79413\ttrain-amex_metric:0.29747\tvalid-auc:0.73262\tvalid-amex_metric:0.23289\n"
     ]
    },
    {
     "name": "stderr",
     "output_type": "stream",
     "text": [
      "\r",
      "3it [00:19,  6.45s/it]"
     ]
    },
    {
     "name": "stdout",
     "output_type": "stream",
     "text": [
      "[0]\ttrain-auc:0.71150\ttrain-amex_metric:0.21749\tvalid-auc:0.71039\tvalid-amex_metric:0.21302\n",
      "[20]\ttrain-auc:0.79280\ttrain-amex_metric:0.29545\tvalid-auc:0.73759\tvalid-amex_metric:0.23888\n"
     ]
    },
    {
     "name": "stderr",
     "output_type": "stream",
     "text": [
      "\r",
      "4it [00:25,  6.48s/it]"
     ]
    },
    {
     "name": "stdout",
     "output_type": "stream",
     "text": [
      "[0]\ttrain-auc:0.71397\ttrain-amex_metric:0.22000\tvalid-auc:0.69406\tvalid-amex_metric:0.19965\n",
      "[20]\ttrain-auc:0.79724\ttrain-amex_metric:0.29998\tvalid-auc:0.73163\tvalid-amex_metric:0.23548\n"
     ]
    },
    {
     "name": "stderr",
     "output_type": "stream",
     "text": [
      "5it [00:32,  6.49s/it]\n",
      "\u001b[32m[I 2023-04-29 11:57:24,825]\u001b[0m Trial 34 finished with value: 0.6608820446311733 and parameters: {'max_depth': 10, 'eta': 0.8054866037498417, 'min_child_weight': 4, 'subsample': 0.9844565438129272, 'colsample_bytree': 0.7957947487006174, 'lambda': 0.9478410130006383, 'alpha': 1.4543770649594807}. Best is trial 28 with value: 0.6670239569119928.\u001b[0m\n",
      "0it [00:00, ?it/s]"
     ]
    },
    {
     "name": "stdout",
     "output_type": "stream",
     "text": [
      "[0]\ttrain-auc:0.70048\ttrain-amex_metric:0.20587\tvalid-auc:0.68051\tvalid-amex_metric:0.18751\n",
      "[19]\ttrain-auc:0.74261\ttrain-amex_metric:0.24620\tvalid-auc:0.72869\tvalid-amex_metric:0.23410\n"
     ]
    },
    {
     "name": "stderr",
     "output_type": "stream",
     "text": [
      "\r",
      "1it [00:05,  5.47s/it]"
     ]
    },
    {
     "name": "stdout",
     "output_type": "stream",
     "text": [
      "[0]\ttrain-auc:0.69573\ttrain-amex_metric:0.20068\tvalid-auc:0.70183\tvalid-amex_metric:0.20877\n",
      "[19]\ttrain-auc:0.74074\ttrain-amex_metric:0.24377\tvalid-auc:0.72900\tvalid-amex_metric:0.23522\n"
     ]
    },
    {
     "name": "stderr",
     "output_type": "stream",
     "text": [
      "\r",
      "2it [00:10,  5.41s/it]"
     ]
    },
    {
     "name": "stdout",
     "output_type": "stream",
     "text": [
      "[0]\ttrain-auc:0.69569\ttrain-amex_metric:0.20208\tvalid-auc:0.70227\tvalid-amex_metric:0.20480\n",
      "[19]\ttrain-auc:0.74079\ttrain-amex_metric:0.24576\tvalid-auc:0.73451\tvalid-amex_metric:0.23672\n"
     ]
    },
    {
     "name": "stderr",
     "output_type": "stream",
     "text": [
      "\r",
      "3it [00:16,  5.40s/it]"
     ]
    },
    {
     "name": "stdout",
     "output_type": "stream",
     "text": [
      "[0]\ttrain-auc:0.68651\ttrain-amex_metric:0.19489\tvalid-auc:0.69304\tvalid-amex_metric:0.20179\n",
      "[19]\ttrain-auc:0.73965\ttrain-amex_metric:0.24442\tvalid-auc:0.73825\tvalid-amex_metric:0.24029\n"
     ]
    },
    {
     "name": "stderr",
     "output_type": "stream",
     "text": [
      "\r",
      "4it [00:21,  5.45s/it]"
     ]
    },
    {
     "name": "stdout",
     "output_type": "stream",
     "text": [
      "[0]\ttrain-auc:0.70390\ttrain-amex_metric:0.20922\tvalid-auc:0.68907\tvalid-amex_metric:0.19428\n",
      "[20]\ttrain-auc:0.74152\ttrain-amex_metric:0.24581\tvalid-auc:0.73681\tvalid-amex_metric:0.24144\n"
     ]
    },
    {
     "name": "stderr",
     "output_type": "stream",
     "text": [
      "5it [00:27,  5.47s/it]\n",
      "\u001b[32m[I 2023-04-29 11:57:52,192]\u001b[0m Trial 35 finished with value: 0.6473456212408193 and parameters: {'max_depth': 8, 'eta': 0.0005720588334185894, 'min_child_weight': 5, 'subsample': 0.6943453993823907, 'colsample_bytree': 0.5807990475829146, 'lambda': 0.014678689430121739, 'alpha': 7.626201597149749}. Best is trial 28 with value: 0.6670239569119928.\u001b[0m\n",
      "0it [00:00, ?it/s]"
     ]
    },
    {
     "name": "stdout",
     "output_type": "stream",
     "text": [
      "[0]\ttrain-auc:0.70249\ttrain-amex_metric:0.20731\tvalid-auc:0.68466\tvalid-amex_metric:0.19187\n",
      "[20]\ttrain-auc:0.75888\ttrain-amex_metric:0.26183\tvalid-auc:0.73415\tvalid-amex_metric:0.23901\n"
     ]
    },
    {
     "name": "stderr",
     "output_type": "stream",
     "text": [
      "\r",
      "1it [00:05,  5.77s/it]"
     ]
    },
    {
     "name": "stdout",
     "output_type": "stream",
     "text": [
      "[0]\ttrain-auc:0.69329\ttrain-amex_metric:0.19773\tvalid-auc:0.69974\tvalid-amex_metric:0.20675\n",
      "[20]\ttrain-auc:0.75701\ttrain-amex_metric:0.25956\tvalid-auc:0.74338\tvalid-amex_metric:0.24748\n"
     ]
    },
    {
     "name": "stderr",
     "output_type": "stream",
     "text": [
      "\r",
      "2it [00:11,  5.81s/it]"
     ]
    },
    {
     "name": "stdout",
     "output_type": "stream",
     "text": [
      "[0]\ttrain-auc:0.70032\ttrain-amex_metric:0.20783\tvalid-auc:0.70578\tvalid-amex_metric:0.20967\n",
      "[20]\ttrain-auc:0.75796\ttrain-amex_metric:0.26175\tvalid-auc:0.74430\tvalid-amex_metric:0.24604\n"
     ]
    },
    {
     "name": "stderr",
     "output_type": "stream",
     "text": [
      "\r",
      "3it [00:17,  5.80s/it]"
     ]
    },
    {
     "name": "stdout",
     "output_type": "stream",
     "text": [
      "[0]\ttrain-auc:0.69500\ttrain-amex_metric:0.20303\tvalid-auc:0.70044\tvalid-amex_metric:0.20659\n",
      "[20]\ttrain-auc:0.75429\ttrain-amex_metric:0.25829\tvalid-auc:0.75022\tvalid-amex_metric:0.25242\n"
     ]
    },
    {
     "name": "stderr",
     "output_type": "stream",
     "text": [
      "\r",
      "4it [00:23,  5.87s/it]"
     ]
    },
    {
     "name": "stdout",
     "output_type": "stream",
     "text": [
      "[0]\ttrain-auc:0.70497\ttrain-amex_metric:0.21086\tvalid-auc:0.68971\tvalid-amex_metric:0.19505\n",
      "[20]\ttrain-auc:0.75524\ttrain-amex_metric:0.25849\tvalid-auc:0.74202\tvalid-amex_metric:0.24595\n"
     ]
    },
    {
     "name": "stderr",
     "output_type": "stream",
     "text": [
      "5it [00:36,  7.24s/it]\n",
      "\u001b[32m[I 2023-04-29 11:58:28,428]\u001b[0m Trial 36 finished with value: 0.6673020995224913 and parameters: {'max_depth': 9, 'eta': 0.34410331879986, 'min_child_weight': 2, 'subsample': 0.7493466047133246, 'colsample_bytree': 0.728060090999214, 'lambda': 0.08829101005558923, 'alpha': 6.844802011333656}. Best is trial 36 with value: 0.6673020995224913.\u001b[0m\n",
      "0it [00:00, ?it/s]"
     ]
    },
    {
     "name": "stdout",
     "output_type": "stream",
     "text": [
      "[0]\ttrain-auc:0.69593\ttrain-amex_metric:0.20116\tvalid-auc:0.67389\tvalid-amex_metric:0.18056\n",
      "[20]\ttrain-auc:0.74660\ttrain-amex_metric:0.24973\tvalid-auc:0.73150\tvalid-amex_metric:0.23646\n"
     ]
    },
    {
     "name": "stderr",
     "output_type": "stream",
     "text": [
      "\r",
      "1it [00:05,  5.29s/it]"
     ]
    },
    {
     "name": "stdout",
     "output_type": "stream",
     "text": [
      "[0]\ttrain-auc:0.69103\ttrain-amex_metric:0.19602\tvalid-auc:0.69580\tvalid-amex_metric:0.20374\n",
      "[19]\ttrain-auc:0.74408\ttrain-amex_metric:0.24744\tvalid-auc:0.74235\tvalid-amex_metric:0.24727\n"
     ]
    },
    {
     "name": "stderr",
     "output_type": "stream",
     "text": [
      "\r",
      "2it [00:09,  4.65s/it]"
     ]
    },
    {
     "name": "stdout",
     "output_type": "stream",
     "text": [
      "[0]\ttrain-auc:0.68435\ttrain-amex_metric:0.19279\tvalid-auc:0.68081\tvalid-amex_metric:0.18599\n",
      "[19]\ttrain-auc:0.74252\ttrain-amex_metric:0.24663\tvalid-auc:0.73941\tvalid-amex_metric:0.24011\n"
     ]
    },
    {
     "name": "stderr",
     "output_type": "stream",
     "text": [
      "\r",
      "3it [00:13,  4.56s/it]"
     ]
    },
    {
     "name": "stdout",
     "output_type": "stream",
     "text": [
      "[0]\ttrain-auc:0.68882\ttrain-amex_metric:0.19455\tvalid-auc:0.70003\tvalid-amex_metric:0.20355\n",
      "[20]\ttrain-auc:0.74206\ttrain-amex_metric:0.24622\tvalid-auc:0.73994\tvalid-amex_metric:0.24287\n"
     ]
    },
    {
     "name": "stderr",
     "output_type": "stream",
     "text": [
      "\r",
      "4it [00:28,  8.47s/it]"
     ]
    },
    {
     "name": "stdout",
     "output_type": "stream",
     "text": [
      "[0]\ttrain-auc:0.69730\ttrain-amex_metric:0.20330\tvalid-auc:0.68198\tvalid-amex_metric:0.18779\n",
      "[20]\ttrain-auc:0.74467\ttrain-amex_metric:0.24873\tvalid-auc:0.74308\tvalid-amex_metric:0.24715\n"
     ]
    },
    {
     "name": "stderr",
     "output_type": "stream",
     "text": [
      "5it [00:40,  8.05s/it]\n",
      "\u001b[32m[I 2023-04-29 11:59:08,701]\u001b[0m Trial 37 finished with value: 0.6627131458755098 and parameters: {'max_depth': 5, 'eta': 0.09158031752449006, 'min_child_weight': 2, 'subsample': 0.11765245328370139, 'colsample_bytree': 0.7266252920883585, 'lambda': 0.06589020600509465, 'alpha': 0.13369510477592783}. Best is trial 36 with value: 0.6673020995224913.\u001b[0m\n",
      "0it [00:00, ?it/s]"
     ]
    },
    {
     "name": "stdout",
     "output_type": "stream",
     "text": [
      "[0]\ttrain-auc:0.68747\ttrain-amex_metric:0.19186\tvalid-auc:0.67455\tvalid-amex_metric:0.18682\n",
      "[20]\ttrain-auc:0.74213\ttrain-amex_metric:0.24608\tvalid-auc:0.72527\tvalid-amex_metric:0.23054\n"
     ]
    },
    {
     "name": "stderr",
     "output_type": "stream",
     "text": [
      "\r",
      "1it [00:11, 11.90s/it]"
     ]
    },
    {
     "name": "stdout",
     "output_type": "stream",
     "text": [
      "[0]\ttrain-auc:0.68595\ttrain-amex_metric:0.19201\tvalid-auc:0.69148\tvalid-amex_metric:0.19661\n",
      "[20]\ttrain-auc:0.73860\ttrain-amex_metric:0.24164\tvalid-auc:0.73671\tvalid-amex_metric:0.24197\n"
     ]
    },
    {
     "name": "stderr",
     "output_type": "stream",
     "text": [
      "\r",
      "2it [00:23, 11.87s/it]"
     ]
    },
    {
     "name": "stdout",
     "output_type": "stream",
     "text": [
      "[0]\ttrain-auc:0.68527\ttrain-amex_metric:0.19146\tvalid-auc:0.69066\tvalid-amex_metric:0.19606\n",
      "[19]\ttrain-auc:0.73986\ttrain-amex_metric:0.24404\tvalid-auc:0.73297\tvalid-amex_metric:0.23451\n"
     ]
    },
    {
     "name": "stderr",
     "output_type": "stream",
     "text": [
      "\r",
      "3it [00:35, 11.99s/it]"
     ]
    },
    {
     "name": "stdout",
     "output_type": "stream",
     "text": [
      "[0]\ttrain-auc:0.68296\ttrain-amex_metric:0.19135\tvalid-auc:0.68756\tvalid-amex_metric:0.19241\n",
      "[19]\ttrain-auc:0.74022\ttrain-amex_metric:0.24426\tvalid-auc:0.73728\tvalid-amex_metric:0.24125\n"
     ]
    },
    {
     "name": "stderr",
     "output_type": "stream",
     "text": [
      "\r",
      "4it [00:47, 12.01s/it]"
     ]
    },
    {
     "name": "stdout",
     "output_type": "stream",
     "text": [
      "[0]\ttrain-auc:0.69069\ttrain-amex_metric:0.19674\tvalid-auc:0.67808\tvalid-amex_metric:0.18394\n",
      "[19]\ttrain-auc:0.73921\ttrain-amex_metric:0.24315\tvalid-auc:0.73764\tvalid-amex_metric:0.24217\n"
     ]
    },
    {
     "name": "stderr",
     "output_type": "stream",
     "text": [
      "5it [01:00, 12.02s/it]\n",
      "\u001b[32m[I 2023-04-29 12:00:08,877]\u001b[0m Trial 38 finished with value: 0.6445670624971017 and parameters: {'max_depth': 4, 'eta': 0.01029958264756315, 'min_child_weight': 2, 'subsample': 0.6326850989795122, 'colsample_bytree': 0.6485826636528821, 'lambda': 0.1277517246425363, 'alpha': 0.03841008400904983}. Best is trial 36 with value: 0.6673020995224913.\u001b[0m\n",
      "0it [00:00, ?it/s]"
     ]
    },
    {
     "name": "stdout",
     "output_type": "stream",
     "text": [
      "[0]\ttrain-auc:0.68265\ttrain-amex_metric:0.18810\tvalid-auc:0.66644\tvalid-amex_metric:0.18077\n",
      "[20]\ttrain-auc:0.70531\ttrain-amex_metric:0.21010\tvalid-auc:0.69145\tvalid-amex_metric:0.19922\n"
     ]
    },
    {
     "name": "stderr",
     "output_type": "stream",
     "text": [
      "\r",
      "1it [00:11, 11.23s/it]"
     ]
    },
    {
     "name": "stdout",
     "output_type": "stream",
     "text": [
      "[0]\ttrain-auc:0.66592\ttrain-amex_metric:0.16971\tvalid-auc:0.66401\tvalid-amex_metric:0.17096\n",
      "[19]\ttrain-auc:0.71152\ttrain-amex_metric:0.21631\tvalid-auc:0.71066\tvalid-amex_metric:0.21434\n"
     ]
    },
    {
     "name": "stderr",
     "output_type": "stream",
     "text": [
      "\r",
      "2it [00:22, 11.19s/it]"
     ]
    },
    {
     "name": "stdout",
     "output_type": "stream",
     "text": [
      "[0]\ttrain-auc:0.68010\ttrain-amex_metric:0.18762\tvalid-auc:0.68370\tvalid-amex_metric:0.18939\n",
      "[19]\ttrain-auc:0.71258\ttrain-amex_metric:0.21779\tvalid-auc:0.70983\tvalid-amex_metric:0.21143\n"
     ]
    },
    {
     "name": "stderr",
     "output_type": "stream",
     "text": [
      "\r",
      "3it [00:33, 11.23s/it]"
     ]
    },
    {
     "name": "stdout",
     "output_type": "stream",
     "text": [
      "[0]\ttrain-auc:0.67958\ttrain-amex_metric:0.18731\tvalid-auc:0.68677\tvalid-amex_metric:0.19055\n",
      "[20]\ttrain-auc:0.71132\ttrain-amex_metric:0.21632\tvalid-auc:0.70979\tvalid-amex_metric:0.21497\n"
     ]
    },
    {
     "name": "stderr",
     "output_type": "stream",
     "text": [
      "\r",
      "4it [00:45, 11.30s/it]"
     ]
    },
    {
     "name": "stdout",
     "output_type": "stream",
     "text": [
      "[0]\ttrain-auc:0.68330\ttrain-amex_metric:0.18818\tvalid-auc:0.67482\tvalid-amex_metric:0.18268\n",
      "[20]\ttrain-auc:0.70745\ttrain-amex_metric:0.21247\tvalid-auc:0.70054\tvalid-amex_metric:0.20503\n"
     ]
    },
    {
     "name": "stderr",
     "output_type": "stream",
     "text": [
      "5it [00:56, 11.32s/it]\n",
      "\u001b[32m[I 2023-04-29 12:01:05,542]\u001b[0m Trial 39 finished with value: 0.6183385523370211 and parameters: {'max_depth': 3, 'eta': 6.153849540980313e-08, 'min_child_weight': 1, 'subsample': 0.8500706946495117, 'colsample_bytree': 0.9340081012578139, 'lambda': 0.5397043655378005, 'alpha': 1.0566560592580239}. Best is trial 36 with value: 0.6673020995224913.\u001b[0m\n",
      "0it [00:00, ?it/s]"
     ]
    },
    {
     "name": "stdout",
     "output_type": "stream",
     "text": [
      "[0]\ttrain-auc:0.71057\ttrain-amex_metric:0.21566\tvalid-auc:0.68957\tvalid-amex_metric:0.19757\n",
      "[20]\ttrain-auc:0.77085\ttrain-amex_metric:0.27370\tvalid-auc:0.73006\tvalid-amex_metric:0.23490\n"
     ]
    },
    {
     "name": "stderr",
     "output_type": "stream",
     "text": [
      "\r",
      "1it [00:15, 15.37s/it]"
     ]
    },
    {
     "name": "stdout",
     "output_type": "stream",
     "text": [
      "[0]\ttrain-auc:0.70651\ttrain-amex_metric:0.21166\tvalid-auc:0.70750\tvalid-amex_metric:0.21453\n",
      "[20]\ttrain-auc:0.76923\ttrain-amex_metric:0.27131\tvalid-auc:0.74206\tvalid-amex_metric:0.24776\n"
     ]
    },
    {
     "name": "stderr",
     "output_type": "stream",
     "text": [
      "\r",
      "2it [00:29, 14.46s/it]"
     ]
    },
    {
     "name": "stdout",
     "output_type": "stream",
     "text": [
      "[0]\ttrain-auc:0.70437\ttrain-amex_metric:0.21043\tvalid-auc:0.70340\tvalid-amex_metric:0.20659\n",
      "[19]\ttrain-auc:0.76893\ttrain-amex_metric:0.27205\tvalid-auc:0.74280\tvalid-amex_metric:0.24393\n"
     ]
    },
    {
     "name": "stderr",
     "output_type": "stream",
     "text": [
      "\r",
      "3it [00:43, 14.35s/it]"
     ]
    },
    {
     "name": "stdout",
     "output_type": "stream",
     "text": [
      "[0]\ttrain-auc:0.70542\ttrain-amex_metric:0.21166\tvalid-auc:0.70662\tvalid-amex_metric:0.20908\n",
      "[19]\ttrain-auc:0.76945\ttrain-amex_metric:0.27235\tvalid-auc:0.74887\tvalid-amex_metric:0.25269\n"
     ]
    },
    {
     "name": "stderr",
     "output_type": "stream",
     "text": [
      "\r",
      "4it [00:57, 14.07s/it]"
     ]
    },
    {
     "name": "stdout",
     "output_type": "stream",
     "text": [
      "[0]\ttrain-auc:0.70881\ttrain-amex_metric:0.21502\tvalid-auc:0.69003\tvalid-amex_metric:0.19539\n",
      "[19]\ttrain-auc:0.77437\ttrain-amex_metric:0.27703\tvalid-auc:0.73755\tvalid-amex_metric:0.24107\n"
     ]
    },
    {
     "name": "stderr",
     "output_type": "stream",
     "text": [
      "5it [01:11, 14.28s/it]\n",
      "\u001b[32m[I 2023-04-29 12:02:17,004]\u001b[0m Trial 40 finished with value: 0.6661380401597282 and parameters: {'max_depth': 7, 'eta': 0.36786532079847695, 'min_child_weight': 3, 'subsample': 0.9191306012597183, 'colsample_bytree': 0.4877933528712875, 'lambda': 1.4777024704513158, 'alpha': 1.704450309556254e-07}. Best is trial 36 with value: 0.6673020995224913.\u001b[0m\n",
      "0it [00:00, ?it/s]"
     ]
    },
    {
     "name": "stdout",
     "output_type": "stream",
     "text": [
      "[0]\ttrain-auc:0.69295\ttrain-amex_metric:0.19881\tvalid-auc:0.67687\tvalid-amex_metric:0.18964\n",
      "[20]\ttrain-auc:0.75615\ttrain-amex_metric:0.25912\tvalid-auc:0.73484\tvalid-amex_metric:0.23943\n"
     ]
    },
    {
     "name": "stderr",
     "output_type": "stream",
     "text": [
      "\r",
      "1it [00:16, 16.49s/it]"
     ]
    },
    {
     "name": "stdout",
     "output_type": "stream",
     "text": [
      "[0]\ttrain-auc:0.69056\ttrain-amex_metric:0.19514\tvalid-auc:0.69603\tvalid-amex_metric:0.20383\n",
      "[19]\ttrain-auc:0.75418\ttrain-amex_metric:0.25648\tvalid-auc:0.74219\tvalid-amex_metric:0.24760\n"
     ]
    },
    {
     "name": "stderr",
     "output_type": "stream",
     "text": [
      "\r",
      "2it [00:33, 16.81s/it]"
     ]
    },
    {
     "name": "stdout",
     "output_type": "stream",
     "text": [
      "[0]\ttrain-auc:0.69617\ttrain-amex_metric:0.20234\tvalid-auc:0.70103\tvalid-amex_metric:0.20244\n",
      "[20]\ttrain-auc:0.75565\ttrain-amex_metric:0.25914\tvalid-auc:0.74515\tvalid-amex_metric:0.24669\n"
     ]
    },
    {
     "name": "stderr",
     "output_type": "stream",
     "text": [
      "\r",
      "3it [00:50, 16.74s/it]"
     ]
    },
    {
     "name": "stdout",
     "output_type": "stream",
     "text": [
      "[0]\ttrain-auc:0.68757\ttrain-amex_metric:0.19622\tvalid-auc:0.69307\tvalid-amex_metric:0.19817\n",
      "[19]\ttrain-auc:0.75283\ttrain-amex_metric:0.25666\tvalid-auc:0.74776\tvalid-amex_metric:0.25096\n"
     ]
    },
    {
     "name": "stderr",
     "output_type": "stream",
     "text": [
      "\r",
      "4it [01:06, 16.43s/it]"
     ]
    },
    {
     "name": "stdout",
     "output_type": "stream",
     "text": [
      "[0]\ttrain-auc:0.70494\ttrain-amex_metric:0.21024\tvalid-auc:0.68991\tvalid-amex_metric:0.19610\n",
      "[19]\ttrain-auc:0.75472\ttrain-amex_metric:0.25805\tvalid-auc:0.74342\tvalid-amex_metric:0.24761\n"
     ]
    },
    {
     "name": "stderr",
     "output_type": "stream",
     "text": [
      "5it [01:21, 16.32s/it]\n",
      "\u001b[32m[I 2023-04-29 12:03:38,641]\u001b[0m Trial 41 finished with value: 0.6668773999657325 and parameters: {'max_depth': 9, 'eta': 0.4399480638193831, 'min_child_weight': 2, 'subsample': 0.7672191685032497, 'colsample_bytree': 0.8248746331948394, 'lambda': 0.036792565959492686, 'alpha': 9.930246385142485}. Best is trial 36 with value: 0.6673020995224913.\u001b[0m\n",
      "0it [00:00, ?it/s]"
     ]
    },
    {
     "name": "stdout",
     "output_type": "stream",
     "text": [
      "[0]\ttrain-auc:0.70264\ttrain-amex_metric:0.20816\tvalid-auc:0.68402\tvalid-amex_metric:0.19037\n",
      "[20]\ttrain-auc:0.74902\ttrain-amex_metric:0.25246\tvalid-auc:0.73030\tvalid-amex_metric:0.23620\n"
     ]
    },
    {
     "name": "stderr",
     "output_type": "stream",
     "text": [
      "\r",
      "1it [00:15, 15.09s/it]"
     ]
    },
    {
     "name": "stdout",
     "output_type": "stream",
     "text": [
      "[0]\ttrain-auc:0.69303\ttrain-amex_metric:0.19726\tvalid-auc:0.69929\tvalid-amex_metric:0.20672\n",
      "[19]\ttrain-auc:0.74719\ttrain-amex_metric:0.25041\tvalid-auc:0.74029\tvalid-amex_metric:0.24552\n"
     ]
    },
    {
     "name": "stderr",
     "output_type": "stream",
     "text": [
      "\r",
      "2it [00:31, 15.89s/it]"
     ]
    },
    {
     "name": "stdout",
     "output_type": "stream",
     "text": [
      "[0]\ttrain-auc:0.70083\ttrain-amex_metric:0.20868\tvalid-auc:0.70661\tvalid-amex_metric:0.21181\n",
      "[20]\ttrain-auc:0.74740\ttrain-amex_metric:0.25248\tvalid-auc:0.74125\tvalid-amex_metric:0.24615\n"
     ]
    },
    {
     "name": "stderr",
     "output_type": "stream",
     "text": [
      "\r",
      "3it [00:47, 15.94s/it]"
     ]
    },
    {
     "name": "stdout",
     "output_type": "stream",
     "text": [
      "[0]\ttrain-auc:0.68897\ttrain-amex_metric:0.19726\tvalid-auc:0.69407\tvalid-amex_metric:0.20136\n",
      "[20]\ttrain-auc:0.74705\ttrain-amex_metric:0.25116\tvalid-auc:0.74471\tvalid-amex_metric:0.24891\n"
     ]
    },
    {
     "name": "stderr",
     "output_type": "stream",
     "text": [
      "\r",
      "4it [01:03, 15.85s/it]"
     ]
    },
    {
     "name": "stdout",
     "output_type": "stream",
     "text": [
      "[0]\ttrain-auc:0.70385\ttrain-amex_metric:0.20952\tvalid-auc:0.68631\tvalid-amex_metric:0.19201\n",
      "[20]\ttrain-auc:0.74819\ttrain-amex_metric:0.25289\tvalid-auc:0.73849\tvalid-amex_metric:0.24382\n"
     ]
    },
    {
     "name": "stderr",
     "output_type": "stream",
     "text": [
      "5it [01:19, 15.82s/it]\n",
      "\u001b[32m[I 2023-04-29 12:04:57,802]\u001b[0m Trial 42 finished with value: 0.6636428710776667 and parameters: {'max_depth': 9, 'eta': 0.06806120509282551, 'min_child_weight': 2, 'subsample': 0.7822016901628235, 'colsample_bytree': 0.8148442137962706, 'lambda': 0.169787984389737, 'alpha': 8.347131781576493}. Best is trial 36 with value: 0.6673020995224913.\u001b[0m\n",
      "0it [00:00, ?it/s]"
     ]
    },
    {
     "name": "stdout",
     "output_type": "stream",
     "text": [
      "[0]\ttrain-auc:0.69111\ttrain-amex_metric:0.19661\tvalid-auc:0.67599\tvalid-amex_metric:0.18881\n",
      "[20]\ttrain-auc:0.75239\ttrain-amex_metric:0.25599\tvalid-auc:0.73277\tvalid-amex_metric:0.23855\n"
     ]
    },
    {
     "name": "stderr",
     "output_type": "stream",
     "text": [
      "\r",
      "1it [00:13, 13.75s/it]"
     ]
    },
    {
     "name": "stdout",
     "output_type": "stream",
     "text": [
      "[0]\ttrain-auc:0.68649\ttrain-amex_metric:0.19231\tvalid-auc:0.69021\tvalid-amex_metric:0.19428\n",
      "[20]\ttrain-auc:0.75244\ttrain-amex_metric:0.25509\tvalid-auc:0.74655\tvalid-amex_metric:0.25118\n"
     ]
    },
    {
     "name": "stderr",
     "output_type": "stream",
     "text": [
      "\r",
      "2it [00:28, 14.06s/it]"
     ]
    },
    {
     "name": "stdout",
     "output_type": "stream",
     "text": [
      "[0]\ttrain-auc:0.69925\ttrain-amex_metric:0.20579\tvalid-auc:0.70604\tvalid-amex_metric:0.20899\n",
      "[19]\ttrain-auc:0.75225\ttrain-amex_metric:0.25601\tvalid-auc:0.74285\tvalid-amex_metric:0.24445\n"
     ]
    },
    {
     "name": "stderr",
     "output_type": "stream",
     "text": [
      "\r",
      "3it [00:41, 13.99s/it]"
     ]
    },
    {
     "name": "stdout",
     "output_type": "stream",
     "text": [
      "[0]\ttrain-auc:0.68705\ttrain-amex_metric:0.19598\tvalid-auc:0.69310\tvalid-amex_metric:0.19894\n",
      "[19]\ttrain-auc:0.75190\ttrain-amex_metric:0.25605\tvalid-auc:0.74879\tvalid-amex_metric:0.25088\n"
     ]
    },
    {
     "name": "stderr",
     "output_type": "stream",
     "text": [
      "\r",
      "4it [00:55, 13.99s/it]"
     ]
    },
    {
     "name": "stdout",
     "output_type": "stream",
     "text": [
      "[0]\ttrain-auc:0.69757\ttrain-amex_metric:0.20380\tvalid-auc:0.68427\tvalid-amex_metric:0.19286\n",
      "[19]\ttrain-auc:0.75121\ttrain-amex_metric:0.25471\tvalid-auc:0.74145\tvalid-amex_metric:0.24607\n"
     ]
    },
    {
     "name": "stderr",
     "output_type": "stream",
     "text": [
      "5it [01:09, 13.99s/it]\n",
      "\u001b[32m[I 2023-04-29 12:06:07,785]\u001b[0m Trial 43 finished with value: 0.6675469025712538 and parameters: {'max_depth': 10, 'eta': 0.4130182229492159, 'min_child_weight': 3, 'subsample': 0.7065292591880338, 'colsample_bytree': 0.5905462563694863, 'lambda': 0.04852534666620594, 'alpha': 9.64408987408589}. Best is trial 43 with value: 0.6675469025712538.\u001b[0m\n",
      "0it [00:00, ?it/s]"
     ]
    },
    {
     "name": "stdout",
     "output_type": "stream",
     "text": [
      "[0]\ttrain-auc:0.71471\ttrain-amex_metric:0.21974\tvalid-auc:0.68625\tvalid-amex_metric:0.19357\n",
      "[20]\ttrain-auc:0.78514\ttrain-amex_metric:0.28749\tvalid-auc:0.72766\tvalid-amex_metric:0.23280\n"
     ]
    },
    {
     "name": "stderr",
     "output_type": "stream",
     "text": [
      "\r",
      "1it [00:16, 16.13s/it]"
     ]
    },
    {
     "name": "stdout",
     "output_type": "stream",
     "text": [
      "[0]\ttrain-auc:0.70900\ttrain-amex_metric:0.21346\tvalid-auc:0.70561\tvalid-amex_metric:0.21312\n",
      "[20]\ttrain-auc:0.78709\ttrain-amex_metric:0.28860\tvalid-auc:0.73184\tvalid-amex_metric:0.23617\n"
     ]
    },
    {
     "name": "stderr",
     "output_type": "stream",
     "text": [
      "\r",
      "2it [00:31, 15.71s/it]"
     ]
    },
    {
     "name": "stdout",
     "output_type": "stream",
     "text": [
      "[0]\ttrain-auc:0.70958\ttrain-amex_metric:0.21495\tvalid-auc:0.71032\tvalid-amex_metric:0.21328\n",
      "[20]\ttrain-auc:0.78432\ttrain-amex_metric:0.28783\tvalid-auc:0.73672\tvalid-amex_metric:0.23715\n"
     ]
    },
    {
     "name": "stderr",
     "output_type": "stream",
     "text": [
      "\r",
      "3it [00:47, 15.73s/it]"
     ]
    },
    {
     "name": "stdout",
     "output_type": "stream",
     "text": [
      "[0]\ttrain-auc:0.70957\ttrain-amex_metric:0.21437\tvalid-auc:0.70426\tvalid-amex_metric:0.20559\n",
      "[19]\ttrain-auc:0.78366\ttrain-amex_metric:0.28647\tvalid-auc:0.74583\tvalid-amex_metric:0.25033\n"
     ]
    },
    {
     "name": "stderr",
     "output_type": "stream",
     "text": [
      "\r",
      "4it [01:04, 16.12s/it]"
     ]
    },
    {
     "name": "stdout",
     "output_type": "stream",
     "text": [
      "[0]\ttrain-auc:0.71264\ttrain-amex_metric:0.21805\tvalid-auc:0.69300\tvalid-amex_metric:0.19918\n",
      "[20]\ttrain-auc:0.78585\ttrain-amex_metric:0.28856\tvalid-auc:0.73680\tvalid-amex_metric:0.24065\n"
     ]
    },
    {
     "name": "stderr",
     "output_type": "stream",
     "text": [
      "5it [01:20, 16.13s/it]\n",
      "\u001b[32m[I 2023-04-29 12:07:28,499]\u001b[0m Trial 44 finished with value: 0.6635343507470906 and parameters: {'max_depth': 10, 'eta': 0.3611386784172896, 'min_child_weight': 3, 'subsample': 0.6875229642166623, 'colsample_bytree': 0.6036250743815212, 'lambda': 0.0076576205450100765, 'alpha': 0.3312370628352343}. Best is trial 43 with value: 0.6675469025712538.\u001b[0m\n",
      "0it [00:00, ?it/s]"
     ]
    },
    {
     "name": "stdout",
     "output_type": "stream",
     "text": [
      "[0]\ttrain-auc:0.71039\ttrain-amex_metric:0.21552\tvalid-auc:0.68906\tvalid-amex_metric:0.19605\n",
      "[19]\ttrain-auc:0.76195\ttrain-amex_metric:0.26507\tvalid-auc:0.73194\tvalid-amex_metric:0.23735\n"
     ]
    },
    {
     "name": "stderr",
     "output_type": "stream",
     "text": [
      "\r",
      "1it [00:15, 15.46s/it]"
     ]
    },
    {
     "name": "stdout",
     "output_type": "stream",
     "text": [
      "[0]\ttrain-auc:0.70516\ttrain-amex_metric:0.20967\tvalid-auc:0.70808\tvalid-amex_metric:0.21532\n",
      "[20]\ttrain-auc:0.76243\ttrain-amex_metric:0.26471\tvalid-auc:0.74261\tvalid-amex_metric:0.24690\n"
     ]
    },
    {
     "name": "stderr",
     "output_type": "stream",
     "text": [
      "\r",
      "2it [00:31, 15.93s/it]"
     ]
    },
    {
     "name": "stdout",
     "output_type": "stream",
     "text": [
      "[0]\ttrain-auc:0.70397\ttrain-amex_metric:0.21048\tvalid-auc:0.70241\tvalid-amex_metric:0.20648\n",
      "[20]\ttrain-auc:0.76165\ttrain-amex_metric:0.26539\tvalid-auc:0.74386\tvalid-amex_metric:0.24649\n"
     ]
    },
    {
     "name": "stderr",
     "output_type": "stream",
     "text": [
      "\r",
      "3it [00:48, 16.25s/it]"
     ]
    },
    {
     "name": "stdout",
     "output_type": "stream",
     "text": [
      "[0]\ttrain-auc:0.70681\ttrain-amex_metric:0.21359\tvalid-auc:0.71108\tvalid-amex_metric:0.21280\n",
      "[20]\ttrain-auc:0.76030\ttrain-amex_metric:0.26382\tvalid-auc:0.74758\tvalid-amex_metric:0.25020\n"
     ]
    },
    {
     "name": "stderr",
     "output_type": "stream",
     "text": [
      "\r",
      "4it [01:04, 16.32s/it]"
     ]
    },
    {
     "name": "stdout",
     "output_type": "stream",
     "text": [
      "[0]\ttrain-auc:0.70979\ttrain-amex_metric:0.21587\tvalid-auc:0.69183\tvalid-amex_metric:0.19787\n",
      "[20]\ttrain-auc:0.76372\ttrain-amex_metric:0.26677\tvalid-auc:0.74258\tvalid-amex_metric:0.24655\n"
     ]
    },
    {
     "name": "stderr",
     "output_type": "stream",
     "text": [
      "5it [01:20, 16.19s/it]\n",
      "\u001b[32m[I 2023-04-29 12:08:49,476]\u001b[0m Trial 45 finished with value: 0.6657034207750736 and parameters: {'max_depth': 10, 'eta': 0.14353864503116423, 'min_child_weight': 3, 'subsample': 0.6896784190282704, 'colsample_bytree': 0.8161557213972493, 'lambda': 0.0020232261075103265, 'alpha': 2.3306514541058334}. Best is trial 43 with value: 0.6675469025712538.\u001b[0m\n",
      "0it [00:00, ?it/s]"
     ]
    },
    {
     "name": "stdout",
     "output_type": "stream",
     "text": [
      "[0]\ttrain-auc:0.70858\ttrain-amex_metric:0.21467\tvalid-auc:0.68721\tvalid-amex_metric:0.19358\n",
      "[19]\ttrain-auc:0.78123\ttrain-amex_metric:0.28399\tvalid-auc:0.72632\tvalid-amex_metric:0.23221\n"
     ]
    },
    {
     "name": "stderr",
     "output_type": "stream",
     "text": [
      "\r",
      "1it [00:15, 15.34s/it]"
     ]
    },
    {
     "name": "stdout",
     "output_type": "stream",
     "text": [
      "[0]\ttrain-auc:0.70338\ttrain-amex_metric:0.20713\tvalid-auc:0.70601\tvalid-amex_metric:0.21244\n",
      "[20]\ttrain-auc:0.78193\ttrain-amex_metric:0.28498\tvalid-auc:0.72830\tvalid-amex_metric:0.23286\n"
     ]
    },
    {
     "name": "stderr",
     "output_type": "stream",
     "text": [
      "\r",
      "2it [00:31, 16.01s/it]"
     ]
    },
    {
     "name": "stdout",
     "output_type": "stream",
     "text": [
      "[0]\ttrain-auc:0.70417\ttrain-amex_metric:0.21088\tvalid-auc:0.70968\tvalid-amex_metric:0.21455\n",
      "[19]\ttrain-auc:0.77841\ttrain-amex_metric:0.28193\tvalid-auc:0.73370\tvalid-amex_metric:0.23437\n"
     ]
    },
    {
     "name": "stderr",
     "output_type": "stream",
     "text": [
      "\r",
      "3it [00:48, 16.34s/it]"
     ]
    },
    {
     "name": "stdout",
     "output_type": "stream",
     "text": [
      "[0]\ttrain-auc:0.70074\ttrain-amex_metric:0.20639\tvalid-auc:0.70535\tvalid-amex_metric:0.20904\n",
      "[20]\ttrain-auc:0.77988\ttrain-amex_metric:0.28336\tvalid-auc:0.74373\tvalid-amex_metric:0.24708\n"
     ]
    },
    {
     "name": "stderr",
     "output_type": "stream",
     "text": [
      "\r",
      "4it [01:05, 16.61s/it]"
     ]
    },
    {
     "name": "stdout",
     "output_type": "stream",
     "text": [
      "[0]\ttrain-auc:0.70769\ttrain-amex_metric:0.21361\tvalid-auc:0.69157\tvalid-amex_metric:0.19898\n",
      "[20]\ttrain-auc:0.78084\ttrain-amex_metric:0.28402\tvalid-auc:0.73485\tvalid-amex_metric:0.23827\n"
     ]
    },
    {
     "name": "stderr",
     "output_type": "stream",
     "text": [
      "5it [01:22, 16.40s/it]\n",
      "\u001b[32m[I 2023-04-29 12:10:11,539]\u001b[0m Trial 46 finished with value: 0.6616889757445676 and parameters: {'max_depth': 10, 'eta': 0.9975374391097567, 'min_child_weight': 2, 'subsample': 0.8308265155841033, 'colsample_bytree': 0.7383915359085694, 'lambda': 0.05650266577514239, 'alpha': 3.9081584366716124}. Best is trial 43 with value: 0.6675469025712538.\u001b[0m\n",
      "0it [00:00, ?it/s]"
     ]
    },
    {
     "name": "stdout",
     "output_type": "stream",
     "text": [
      "[0]\ttrain-auc:0.72612\ttrain-amex_metric:0.23076\tvalid-auc:0.70093\tvalid-amex_metric:0.20862\n",
      "[19]\ttrain-auc:0.75709\ttrain-amex_metric:0.26073\tvalid-auc:0.73103\tvalid-amex_metric:0.23777\n"
     ]
    },
    {
     "name": "stderr",
     "output_type": "stream",
     "text": [
      "\r",
      "1it [00:15, 15.75s/it]"
     ]
    },
    {
     "name": "stdout",
     "output_type": "stream",
     "text": [
      "[0]\ttrain-auc:0.72225\ttrain-amex_metric:0.22631\tvalid-auc:0.72124\tvalid-amex_metric:0.22850\n",
      "[20]\ttrain-auc:0.75536\ttrain-amex_metric:0.25882\tvalid-auc:0.73923\tvalid-amex_metric:0.24340\n"
     ]
    },
    {
     "name": "stderr",
     "output_type": "stream",
     "text": [
      "\r",
      "2it [00:31, 15.61s/it]"
     ]
    },
    {
     "name": "stdout",
     "output_type": "stream",
     "text": [
      "[0]\ttrain-auc:0.72495\ttrain-amex_metric:0.23141\tvalid-auc:0.72318\tvalid-amex_metric:0.22697\n",
      "[20]\ttrain-auc:0.75502\ttrain-amex_metric:0.25922\tvalid-auc:0.74199\tvalid-amex_metric:0.24387\n"
     ]
    },
    {
     "name": "stderr",
     "output_type": "stream",
     "text": [
      "\r",
      "3it [00:46, 15.65s/it]"
     ]
    },
    {
     "name": "stdout",
     "output_type": "stream",
     "text": [
      "[0]\ttrain-auc:0.71950\ttrain-amex_metric:0.22494\tvalid-auc:0.72101\tvalid-amex_metric:0.22315\n",
      "[20]\ttrain-auc:0.75452\ttrain-amex_metric:0.25885\tvalid-auc:0.74536\tvalid-amex_metric:0.24886\n"
     ]
    },
    {
     "name": "stderr",
     "output_type": "stream",
     "text": [
      "\r",
      "4it [01:02, 15.72s/it]"
     ]
    },
    {
     "name": "stdout",
     "output_type": "stream",
     "text": [
      "[0]\ttrain-auc:0.72373\ttrain-amex_metric:0.22941\tvalid-auc:0.71032\tvalid-amex_metric:0.21553\n",
      "[19]\ttrain-auc:0.75614\ttrain-amex_metric:0.25991\tvalid-auc:0.73919\tvalid-amex_metric:0.24380\n"
     ]
    },
    {
     "name": "stderr",
     "output_type": "stream",
     "text": [
      "5it [01:22, 16.51s/it]\n",
      "\u001b[32m[I 2023-04-29 12:11:34,129]\u001b[0m Trial 47 finished with value: 0.6643603926489159 and parameters: {'max_depth': 9, 'eta': 0.01606135320959699, 'min_child_weight': 3, 'subsample': 0.6567182003541374, 'colsample_bytree': 0.9163570036386509, 'lambda': 2.781383664979813, 'alpha': 1.385245378290048e-08}. Best is trial 43 with value: 0.6675469025712538.\u001b[0m\n",
      "0it [00:00, ?it/s]"
     ]
    },
    {
     "name": "stdout",
     "output_type": "stream",
     "text": [
      "[0]\ttrain-auc:0.63181\ttrain-amex_metric:0.14642\tvalid-auc:0.59995\tvalid-amex_metric:0.11657\n",
      "[20]\ttrain-auc:0.76384\ttrain-amex_metric:0.26735\tvalid-auc:0.71415\tvalid-amex_metric:0.21980\n"
     ]
    },
    {
     "name": "stderr",
     "output_type": "stream",
     "text": [
      "\r",
      "1it [00:16, 16.50s/it]"
     ]
    },
    {
     "name": "stdout",
     "output_type": "stream",
     "text": [
      "[0]\ttrain-auc:0.62878\ttrain-amex_metric:0.14269\tvalid-auc:0.62144\tvalid-amex_metric:0.14301\n",
      "[19]\ttrain-auc:0.76646\ttrain-amex_metric:0.26911\tvalid-auc:0.73168\tvalid-amex_metric:0.23770\n"
     ]
    },
    {
     "name": "stderr",
     "output_type": "stream",
     "text": [
      "\r",
      "2it [00:47, 24.90s/it]"
     ]
    },
    {
     "name": "stdout",
     "output_type": "stream",
     "text": [
      "[0]\ttrain-auc:0.63116\ttrain-amex_metric:0.14520\tvalid-auc:0.61398\tvalid-amex_metric:0.12773\n",
      "[19]\ttrain-auc:0.76627\ttrain-amex_metric:0.27026\tvalid-auc:0.72859\tvalid-amex_metric:0.22975\n"
     ]
    },
    {
     "name": "stderr",
     "output_type": "stream",
     "text": [
      "\r",
      "3it [01:01, 19.90s/it]"
     ]
    },
    {
     "name": "stdout",
     "output_type": "stream",
     "text": [
      "[0]\ttrain-auc:0.62879\ttrain-amex_metric:0.14208\tvalid-auc:0.60786\tvalid-amex_metric:0.12561\n",
      "[20]\ttrain-auc:0.76617\ttrain-amex_metric:0.26965\tvalid-auc:0.73738\tvalid-amex_metric:0.23950\n"
     ]
    },
    {
     "name": "stderr",
     "output_type": "stream",
     "text": [
      "\r",
      "4it [01:14, 17.35s/it]"
     ]
    },
    {
     "name": "stdout",
     "output_type": "stream",
     "text": [
      "[0]\ttrain-auc:0.63270\ttrain-amex_metric:0.14629\tvalid-auc:0.61433\tvalid-amex_metric:0.12955\n",
      "[19]\ttrain-auc:0.76706\ttrain-amex_metric:0.27092\tvalid-auc:0.73629\tvalid-amex_metric:0.24040\n"
     ]
    },
    {
     "name": "stderr",
     "output_type": "stream",
     "text": [
      "5it [01:28, 17.64s/it]\n",
      "\u001b[32m[I 2023-04-29 12:13:02,377]\u001b[0m Trial 48 finished with value: 0.639757394802166 and parameters: {'max_depth': 9, 'eta': 0.0625332993399298, 'min_child_weight': 1, 'subsample': 0.5183951007409212, 'colsample_bytree': 0.3190393071374103, 'lambda': 0.0002623391478143318, 'alpha': 0.007002609493176221}. Best is trial 43 with value: 0.6675469025712538.\u001b[0m\n",
      "0it [00:00, ?it/s]"
     ]
    },
    {
     "name": "stdout",
     "output_type": "stream",
     "text": [
      "[0]\ttrain-auc:0.71103\ttrain-amex_metric:0.21534\tvalid-auc:0.68204\tvalid-amex_metric:0.18776\n",
      "[19]\ttrain-auc:0.75836\ttrain-amex_metric:0.26152\tvalid-auc:0.73072\tvalid-amex_metric:0.23755\n"
     ]
    },
    {
     "name": "stderr",
     "output_type": "stream",
     "text": [
      "\r",
      "1it [00:15, 15.18s/it]"
     ]
    },
    {
     "name": "stdout",
     "output_type": "stream",
     "text": [
      "[0]\ttrain-auc:0.70718\ttrain-amex_metric:0.21275\tvalid-auc:0.70368\tvalid-amex_metric:0.21007\n",
      "[20]\ttrain-auc:0.75888\ttrain-amex_metric:0.26157\tvalid-auc:0.73763\tvalid-amex_metric:0.24318\n"
     ]
    },
    {
     "name": "stderr",
     "output_type": "stream",
     "text": [
      "\r",
      "2it [00:31, 15.68s/it]"
     ]
    },
    {
     "name": "stdout",
     "output_type": "stream",
     "text": [
      "[0]\ttrain-auc:0.70754\ttrain-amex_metric:0.21280\tvalid-auc:0.70526\tvalid-amex_metric:0.20773\n",
      "[20]\ttrain-auc:0.75790\ttrain-amex_metric:0.26222\tvalid-auc:0.74214\tvalid-amex_metric:0.24308\n"
     ]
    },
    {
     "name": "stderr",
     "output_type": "stream",
     "text": [
      "\r",
      "3it [00:46, 15.66s/it]"
     ]
    },
    {
     "name": "stdout",
     "output_type": "stream",
     "text": [
      "[0]\ttrain-auc:0.70556\ttrain-amex_metric:0.21122\tvalid-auc:0.70523\tvalid-amex_metric:0.21106\n",
      "[20]\ttrain-auc:0.75654\ttrain-amex_metric:0.26061\tvalid-auc:0.74465\tvalid-amex_metric:0.24761\n"
     ]
    },
    {
     "name": "stderr",
     "output_type": "stream",
     "text": [
      "\r",
      "4it [01:02, 15.61s/it]"
     ]
    },
    {
     "name": "stdout",
     "output_type": "stream",
     "text": [
      "[0]\ttrain-auc:0.71050\ttrain-amex_metric:0.21568\tvalid-auc:0.69305\tvalid-amex_metric:0.19737\n",
      "[19]\ttrain-auc:0.75810\ttrain-amex_metric:0.26176\tvalid-auc:0.74364\tvalid-amex_metric:0.24880\n"
     ]
    },
    {
     "name": "stderr",
     "output_type": "stream",
     "text": [
      "5it [01:18, 15.65s/it]\n",
      "\u001b[32m[I 2023-04-29 12:14:20,677]\u001b[0m Trial 49 finished with value: 0.6560616361824428 and parameters: {'max_depth': 10, 'eta': 0.0011029071901728304, 'min_child_weight': 4, 'subsample': 0.6085540550732697, 'colsample_bytree': 0.6153740115617252, 'lambda': 2.4427402009711817e-05, 'alpha': 0.22512459531020973}. Best is trial 43 with value: 0.6675469025712538.\u001b[0m\n",
      "0it [00:00, ?it/s]"
     ]
    },
    {
     "name": "stdout",
     "output_type": "stream",
     "text": [
      "[0]\ttrain-auc:0.70870\ttrain-amex_metric:0.21282\tvalid-auc:0.68950\tvalid-amex_metric:0.19578\n",
      "[20]\ttrain-auc:0.75306\ttrain-amex_metric:0.25628\tvalid-auc:0.73188\tvalid-amex_metric:0.23756\n"
     ]
    },
    {
     "name": "stderr",
     "output_type": "stream",
     "text": [
      "\r",
      "1it [00:14, 14.28s/it]"
     ]
    },
    {
     "name": "stdout",
     "output_type": "stream",
     "text": [
      "[0]\ttrain-auc:0.70584\ttrain-amex_metric:0.20837\tvalid-auc:0.71095\tvalid-amex_metric:0.21749\n",
      "[19]\ttrain-auc:0.74987\ttrain-amex_metric:0.25261\tvalid-auc:0.74026\tvalid-amex_metric:0.24503\n"
     ]
    },
    {
     "name": "stderr",
     "output_type": "stream",
     "text": [
      "\r",
      "2it [00:28, 14.30s/it]"
     ]
    },
    {
     "name": "stdout",
     "output_type": "stream",
     "text": [
      "[0]\ttrain-auc:0.70279\ttrain-amex_metric:0.20797\tvalid-auc:0.70169\tvalid-amex_metric:0.20627\n",
      "[19]\ttrain-auc:0.75152\ttrain-amex_metric:0.25557\tvalid-auc:0.74008\tvalid-amex_metric:0.24163\n"
     ]
    },
    {
     "name": "stderr",
     "output_type": "stream",
     "text": [
      "\r",
      "3it [00:43, 14.38s/it]"
     ]
    },
    {
     "name": "stdout",
     "output_type": "stream",
     "text": [
      "[0]\ttrain-auc:0.70377\ttrain-amex_metric:0.20917\tvalid-auc:0.70730\tvalid-amex_metric:0.21084\n",
      "[20]\ttrain-auc:0.74977\ttrain-amex_metric:0.25375\tvalid-auc:0.74590\tvalid-amex_metric:0.24893\n"
     ]
    },
    {
     "name": "stderr",
     "output_type": "stream",
     "text": [
      "\r",
      "4it [00:57, 14.40s/it]"
     ]
    },
    {
     "name": "stdout",
     "output_type": "stream",
     "text": [
      "[0]\ttrain-auc:0.70693\ttrain-amex_metric:0.21146\tvalid-auc:0.69080\tvalid-amex_metric:0.19478\n",
      "[20]\ttrain-auc:0.75048\ttrain-amex_metric:0.25354\tvalid-auc:0.74468\tvalid-amex_metric:0.24986\n"
     ]
    },
    {
     "name": "stderr",
     "output_type": "stream",
     "text": [
      "5it [01:12, 14.43s/it]\n",
      "\u001b[32m[I 2023-04-29 12:15:32,884]\u001b[0m Trial 50 finished with value: 0.6564972098731123 and parameters: {'max_depth': 8, 'eta': 0.007938792428100387, 'min_child_weight': 10, 'subsample': 0.715256265767271, 'colsample_bytree': 0.6645683080774039, 'lambda': 0.0010772118746751312, 'alpha': 0.04778718268567199}. Best is trial 43 with value: 0.6675469025712538.\u001b[0m\n",
      "0it [00:00, ?it/s]"
     ]
    },
    {
     "name": "stdout",
     "output_type": "stream",
     "text": [
      "[0]\ttrain-auc:0.69233\ttrain-amex_metric:0.19806\tvalid-auc:0.67591\tvalid-amex_metric:0.18799\n",
      "[20]\ttrain-auc:0.75524\ttrain-amex_metric:0.25848\tvalid-auc:0.73368\tvalid-amex_metric:0.23770\n"
     ]
    },
    {
     "name": "stderr",
     "output_type": "stream",
     "text": [
      "\r",
      "1it [00:13, 13.99s/it]"
     ]
    },
    {
     "name": "stdout",
     "output_type": "stream",
     "text": [
      "[0]\ttrain-auc:0.69040\ttrain-amex_metric:0.19526\tvalid-auc:0.69598\tvalid-amex_metric:0.20384\n",
      "[20]\ttrain-auc:0.75316\ttrain-amex_metric:0.25585\tvalid-auc:0.74396\tvalid-amex_metric:0.24860\n"
     ]
    },
    {
     "name": "stderr",
     "output_type": "stream",
     "text": [
      "\r",
      "2it [00:28, 14.45s/it]"
     ]
    },
    {
     "name": "stdout",
     "output_type": "stream",
     "text": [
      "[0]\ttrain-auc:0.69547\ttrain-amex_metric:0.20201\tvalid-auc:0.70123\tvalid-amex_metric:0.20237\n",
      "[19]\ttrain-auc:0.75466\ttrain-amex_metric:0.25916\tvalid-auc:0.74354\tvalid-amex_metric:0.24529\n"
     ]
    },
    {
     "name": "stderr",
     "output_type": "stream",
     "text": [
      "\r",
      "3it [00:43, 14.79s/it]"
     ]
    },
    {
     "name": "stdout",
     "output_type": "stream",
     "text": [
      "[0]\ttrain-auc:0.68631\ttrain-amex_metric:0.19434\tvalid-auc:0.69348\tvalid-amex_metric:0.19781\n",
      "[19]\ttrain-auc:0.75127\ttrain-amex_metric:0.25568\tvalid-auc:0.74638\tvalid-amex_metric:0.25015\n"
     ]
    },
    {
     "name": "stderr",
     "output_type": "stream",
     "text": [
      "\r",
      "4it [00:58, 14.76s/it]"
     ]
    },
    {
     "name": "stdout",
     "output_type": "stream",
     "text": [
      "[0]\ttrain-auc:0.70433\ttrain-amex_metric:0.20964\tvalid-auc:0.69039\tvalid-amex_metric:0.19531\n",
      "[19]\ttrain-auc:0.75304\ttrain-amex_metric:0.25707\tvalid-auc:0.74279\tvalid-amex_metric:0.24718\n"
     ]
    },
    {
     "name": "stderr",
     "output_type": "stream",
     "text": [
      "5it [01:13, 14.66s/it]\n",
      "\u001b[32m[I 2023-04-29 12:16:46,227]\u001b[0m Trial 51 finished with value: 0.6680073980131823 and parameters: {'max_depth': 9, 'eta': 0.43358693178027274, 'min_child_weight': 2, 'subsample': 0.7679413015348517, 'colsample_bytree': 0.7271540965536064, 'lambda': 1.3454237446466708e-08, 'alpha': 9.940534534280959}. Best is trial 51 with value: 0.6680073980131823.\u001b[0m\n",
      "0it [00:00, ?it/s]"
     ]
    },
    {
     "name": "stdout",
     "output_type": "stream",
     "text": [
      "[0]\ttrain-auc:0.71484\ttrain-amex_metric:0.22018\tvalid-auc:0.68963\tvalid-amex_metric:0.19780\n",
      "[20]\ttrain-auc:0.78368\ttrain-amex_metric:0.28579\tvalid-auc:0.72905\tvalid-amex_metric:0.23379\n"
     ]
    },
    {
     "name": "stderr",
     "output_type": "stream",
     "text": [
      "\r",
      "1it [00:15, 15.36s/it]"
     ]
    },
    {
     "name": "stdout",
     "output_type": "stream",
     "text": [
      "[0]\ttrain-auc:0.71095\ttrain-amex_metric:0.21715\tvalid-auc:0.70702\tvalid-amex_metric:0.21525\n",
      "[20]\ttrain-auc:0.78454\ttrain-amex_metric:0.28657\tvalid-auc:0.73726\tvalid-amex_metric:0.24148\n"
     ]
    },
    {
     "name": "stderr",
     "output_type": "stream",
     "text": [
      "\r",
      "2it [00:32, 16.24s/it]"
     ]
    },
    {
     "name": "stdout",
     "output_type": "stream",
     "text": [
      "[0]\ttrain-auc:0.70952\ttrain-amex_metric:0.21542\tvalid-auc:0.70937\tvalid-amex_metric:0.21415\n",
      "[20]\ttrain-auc:0.78442\ttrain-amex_metric:0.28799\tvalid-auc:0.73987\tvalid-amex_metric:0.24022\n"
     ]
    },
    {
     "name": "stderr",
     "output_type": "stream",
     "text": [
      "\r",
      "3it [00:50, 17.13s/it]"
     ]
    },
    {
     "name": "stdout",
     "output_type": "stream",
     "text": [
      "[0]\ttrain-auc:0.71029\ttrain-amex_metric:0.21638\tvalid-auc:0.70702\tvalid-amex_metric:0.20933\n",
      "[19]\ttrain-auc:0.78173\ttrain-amex_metric:0.28474\tvalid-auc:0.74400\tvalid-amex_metric:0.24698\n"
     ]
    },
    {
     "name": "stderr",
     "output_type": "stream",
     "text": [
      "\r",
      "4it [01:07, 17.10s/it]"
     ]
    },
    {
     "name": "stdout",
     "output_type": "stream",
     "text": [
      "[0]\ttrain-auc:0.71184\ttrain-amex_metric:0.21686\tvalid-auc:0.69257\tvalid-amex_metric:0.19768\n",
      "[20]\ttrain-auc:0.78654\ttrain-amex_metric:0.28907\tvalid-auc:0.73670\tvalid-amex_metric:0.24080\n"
     ]
    },
    {
     "name": "stderr",
     "output_type": "stream",
     "text": [
      "5it [01:23, 16.68s/it]\n",
      "\u001b[32m[I 2023-04-29 12:18:09,667]\u001b[0m Trial 52 finished with value: 0.6656415415456014 and parameters: {'max_depth': 9, 'eta': 0.3625898399819873, 'min_child_weight': 2, 'subsample': 0.806689396989639, 'colsample_bytree': 0.7412672050433022, 'lambda': 2.871545062246723e-08, 'alpha': 1.0751427827914843}. Best is trial 51 with value: 0.6680073980131823.\u001b[0m\n",
      "0it [00:00, ?it/s]"
     ]
    },
    {
     "name": "stdout",
     "output_type": "stream",
     "text": [
      "[0]\ttrain-auc:0.70804\ttrain-amex_metric:0.21311\tvalid-auc:0.68736\tvalid-amex_metric:0.19445\n",
      "[20]\ttrain-auc:0.75910\ttrain-amex_metric:0.26209\tvalid-auc:0.73238\tvalid-amex_metric:0.23792\n"
     ]
    },
    {
     "name": "stderr",
     "output_type": "stream",
     "text": [
      "\r",
      "1it [00:14, 14.61s/it]"
     ]
    },
    {
     "name": "stdout",
     "output_type": "stream",
     "text": [
      "[0]\ttrain-auc:0.70394\ttrain-amex_metric:0.20759\tvalid-auc:0.70722\tvalid-amex_metric:0.21464\n",
      "[19]\ttrain-auc:0.75772\ttrain-amex_metric:0.26021\tvalid-auc:0.74226\tvalid-amex_metric:0.24676\n"
     ]
    },
    {
     "name": "stderr",
     "output_type": "stream",
     "text": [
      "\r",
      "2it [00:28, 14.46s/it]"
     ]
    },
    {
     "name": "stdout",
     "output_type": "stream",
     "text": [
      "[0]\ttrain-auc:0.70236\ttrain-amex_metric:0.20872\tvalid-auc:0.70645\tvalid-amex_metric:0.21229\n",
      "[19]\ttrain-auc:0.75837\ttrain-amex_metric:0.26187\tvalid-auc:0.74519\tvalid-amex_metric:0.24816\n"
     ]
    },
    {
     "name": "stderr",
     "output_type": "stream",
     "text": [
      "\r",
      "3it [00:43, 14.29s/it]"
     ]
    },
    {
     "name": "stdout",
     "output_type": "stream",
     "text": [
      "[0]\ttrain-auc:0.70279\ttrain-amex_metric:0.20900\tvalid-auc:0.70985\tvalid-amex_metric:0.21365\n",
      "[19]\ttrain-auc:0.75572\ttrain-amex_metric:0.25945\tvalid-auc:0.74926\tvalid-amex_metric:0.25050\n"
     ]
    },
    {
     "name": "stderr",
     "output_type": "stream",
     "text": [
      "\r",
      "4it [00:57, 14.23s/it]"
     ]
    },
    {
     "name": "stdout",
     "output_type": "stream",
     "text": [
      "[0]\ttrain-auc:0.70740\ttrain-amex_metric:0.21260\tvalid-auc:0.69002\tvalid-amex_metric:0.19549\n",
      "[20]\ttrain-auc:0.75863\ttrain-amex_metric:0.26183\tvalid-auc:0.74344\tvalid-amex_metric:0.24741\n"
     ]
    },
    {
     "name": "stderr",
     "output_type": "stream",
     "text": [
      "5it [01:11, 14.25s/it]\n",
      "\u001b[32m[I 2023-04-29 12:19:20,966]\u001b[0m Trial 53 finished with value: 0.666548720271664 and parameters: {'max_depth': 8, 'eta': 0.20826335073080846, 'min_child_weight': 3, 'subsample': 0.7526697960330542, 'colsample_bytree': 0.5624713373508804, 'lambda': 0.004578717071939023, 'alpha': 2.880988544786027}. Best is trial 51 with value: 0.6680073980131823.\u001b[0m\n",
      "0it [00:00, ?it/s]"
     ]
    },
    {
     "name": "stdout",
     "output_type": "stream",
     "text": [
      "[0]\ttrain-auc:0.69189\ttrain-amex_metric:0.19758\tvalid-auc:0.67609\tvalid-amex_metric:0.18825\n",
      "[20]\ttrain-auc:0.74434\ttrain-amex_metric:0.24804\tvalid-auc:0.72850\tvalid-amex_metric:0.23442\n"
     ]
    },
    {
     "name": "stderr",
     "output_type": "stream",
     "text": [
      "\r",
      "1it [00:14, 14.40s/it]"
     ]
    },
    {
     "name": "stdout",
     "output_type": "stream",
     "text": [
      "[0]\ttrain-auc:0.68642\ttrain-amex_metric:0.19208\tvalid-auc:0.69013\tvalid-amex_metric:0.19484\n",
      "[19]\ttrain-auc:0.74335\ttrain-amex_metric:0.24587\tvalid-auc:0.73579\tvalid-amex_metric:0.23964\n"
     ]
    },
    {
     "name": "stderr",
     "output_type": "stream",
     "text": [
      "\r",
      "2it [00:29, 14.81s/it]"
     ]
    },
    {
     "name": "stdout",
     "output_type": "stream",
     "text": [
      "[0]\ttrain-auc:0.70085\ttrain-amex_metric:0.20782\tvalid-auc:0.70791\tvalid-amex_metric:0.21342\n",
      "[20]\ttrain-auc:0.74351\ttrain-amex_metric:0.24830\tvalid-auc:0.73865\tvalid-amex_metric:0.24019\n"
     ]
    },
    {
     "name": "stderr",
     "output_type": "stream",
     "text": [
      "\r",
      "3it [00:44, 14.96s/it]"
     ]
    },
    {
     "name": "stdout",
     "output_type": "stream",
     "text": [
      "[0]\ttrain-auc:0.68685\ttrain-amex_metric:0.19550\tvalid-auc:0.69248\tvalid-amex_metric:0.20074\n",
      "[20]\ttrain-auc:0.74206\ttrain-amex_metric:0.24622\tvalid-auc:0.74083\tvalid-amex_metric:0.24435\n"
     ]
    },
    {
     "name": "stderr",
     "output_type": "stream",
     "text": [
      "\r",
      "4it [01:00, 15.16s/it]"
     ]
    },
    {
     "name": "stdout",
     "output_type": "stream",
     "text": [
      "[0]\ttrain-auc:0.69891\ttrain-amex_metric:0.20524\tvalid-auc:0.68275\tvalid-amex_metric:0.19084\n",
      "[20]\ttrain-auc:0.74373\ttrain-amex_metric:0.24775\tvalid-auc:0.73422\tvalid-amex_metric:0.23836\n"
     ]
    },
    {
     "name": "stderr",
     "output_type": "stream",
     "text": [
      "5it [01:15, 15.09s/it]\n",
      "\u001b[32m[I 2023-04-29 12:20:36,465]\u001b[0m Trial 54 finished with value: 0.6609048846374286 and parameters: {'max_depth': 10, 'eta': 0.024572812384236642, 'min_child_weight': 1, 'subsample': 0.7098406314434272, 'colsample_bytree': 0.835800945578847, 'lambda': 3.3219945192980346e-07, 'alpha': 9.759432037807859}. Best is trial 51 with value: 0.6680073980131823.\u001b[0m\n",
      "0it [00:00, ?it/s]"
     ]
    },
    {
     "name": "stdout",
     "output_type": "stream",
     "text": [
      "[0]\ttrain-auc:0.70675\ttrain-amex_metric:0.21210\tvalid-auc:0.68632\tvalid-amex_metric:0.19474\n",
      "[20]\ttrain-auc:0.75667\ttrain-amex_metric:0.25977\tvalid-auc:0.73265\tvalid-amex_metric:0.23817\n"
     ]
    },
    {
     "name": "stderr",
     "output_type": "stream",
     "text": [
      "\r",
      "1it [00:14, 14.57s/it]"
     ]
    },
    {
     "name": "stdout",
     "output_type": "stream",
     "text": [
      "[0]\ttrain-auc:0.70155\ttrain-amex_metric:0.20560\tvalid-auc:0.70490\tvalid-amex_metric:0.21497\n",
      "[19]\ttrain-auc:0.75606\ttrain-amex_metric:0.25925\tvalid-auc:0.74258\tvalid-amex_metric:0.24738\n"
     ]
    },
    {
     "name": "stderr",
     "output_type": "stream",
     "text": [
      "\r",
      "2it [00:30, 15.14s/it]"
     ]
    },
    {
     "name": "stdout",
     "output_type": "stream",
     "text": [
      "[0]\ttrain-auc:0.70203\ttrain-amex_metric:0.20870\tvalid-auc:0.70635\tvalid-amex_metric:0.21073\n",
      "[20]\ttrain-auc:0.75666\ttrain-amex_metric:0.26000\tvalid-auc:0.74352\tvalid-amex_metric:0.24426\n"
     ]
    },
    {
     "name": "stderr",
     "output_type": "stream",
     "text": [
      "\r",
      "3it [00:45, 15.28s/it]"
     ]
    },
    {
     "name": "stdout",
     "output_type": "stream",
     "text": [
      "[0]\ttrain-auc:0.70268\ttrain-amex_metric:0.20900\tvalid-auc:0.70788\tvalid-amex_metric:0.21081\n",
      "[20]\ttrain-auc:0.75482\ttrain-amex_metric:0.25883\tvalid-auc:0.74980\tvalid-amex_metric:0.25396\n"
     ]
    },
    {
     "name": "stderr",
     "output_type": "stream",
     "text": [
      "\r",
      "4it [01:00, 15.27s/it]"
     ]
    },
    {
     "name": "stdout",
     "output_type": "stream",
     "text": [
      "[0]\ttrain-auc:0.70754\ttrain-amex_metric:0.21328\tvalid-auc:0.69167\tvalid-amex_metric:0.19817\n",
      "[20]\ttrain-auc:0.75701\ttrain-amex_metric:0.26013\tvalid-auc:0.74270\tvalid-amex_metric:0.24672\n"
     ]
    },
    {
     "name": "stderr",
     "output_type": "stream",
     "text": [
      "5it [01:15, 15.17s/it]\n",
      "\u001b[32m[I 2023-04-29 12:21:52,378]\u001b[0m Trial 55 finished with value: 0.6663333900883839 and parameters: {'max_depth': 9, 'eta': 0.13765069203687486, 'min_child_weight': 2, 'subsample': 0.6721807578240772, 'colsample_bytree': 0.6692539068891317, 'lambda': 0.008544394489449634, 'alpha': 3.4035573016322362}. Best is trial 51 with value: 0.6680073980131823.\u001b[0m\n",
      "0it [00:00, ?it/s]"
     ]
    },
    {
     "name": "stdout",
     "output_type": "stream",
     "text": [
      "[0]\ttrain-auc:0.70086\ttrain-amex_metric:0.20581\tvalid-auc:0.68273\tvalid-amex_metric:0.18871\n",
      "[20]\ttrain-auc:0.74398\ttrain-amex_metric:0.24806\tvalid-auc:0.72956\tvalid-amex_metric:0.23539\n"
     ]
    },
    {
     "name": "stderr",
     "output_type": "stream",
     "text": [
      "\r",
      "1it [00:13, 13.74s/it]"
     ]
    },
    {
     "name": "stdout",
     "output_type": "stream",
     "text": [
      "[0]\ttrain-auc:0.69266\ttrain-amex_metric:0.19728\tvalid-auc:0.69522\tvalid-amex_metric:0.20203\n",
      "[19]\ttrain-auc:0.74220\ttrain-amex_metric:0.24719\tvalid-auc:0.73035\tvalid-amex_metric:0.23486\n"
     ]
    },
    {
     "name": "stderr",
     "output_type": "stream",
     "text": [
      "\r",
      "2it [00:28, 14.47s/it]"
     ]
    },
    {
     "name": "stdout",
     "output_type": "stream",
     "text": [
      "[0]\ttrain-auc:0.70014\ttrain-amex_metric:0.20706\tvalid-auc:0.70489\tvalid-amex_metric:0.20853\n",
      "[20]\ttrain-auc:0.74083\ttrain-amex_metric:0.24560\tvalid-auc:0.73584\tvalid-amex_metric:0.23725\n"
     ]
    },
    {
     "name": "stderr",
     "output_type": "stream",
     "text": [
      "\r",
      "3it [00:42, 14.31s/it]"
     ]
    },
    {
     "name": "stdout",
     "output_type": "stream",
     "text": [
      "[0]\ttrain-auc:0.69293\ttrain-amex_metric:0.20013\tvalid-auc:0.69879\tvalid-amex_metric:0.20494\n",
      "[19]\ttrain-auc:0.74073\ttrain-amex_metric:0.24520\tvalid-auc:0.73889\tvalid-amex_metric:0.24137\n"
     ]
    },
    {
     "name": "stderr",
     "output_type": "stream",
     "text": [
      "\r",
      "4it [00:56, 14.13s/it]"
     ]
    },
    {
     "name": "stdout",
     "output_type": "stream",
     "text": [
      "[0]\ttrain-auc:0.70339\ttrain-amex_metric:0.20863\tvalid-auc:0.68644\tvalid-amex_metric:0.19250\n",
      "[19]\ttrain-auc:0.74238\ttrain-amex_metric:0.24642\tvalid-auc:0.73654\tvalid-amex_metric:0.24150\n"
     ]
    },
    {
     "name": "stderr",
     "output_type": "stream",
     "text": [
      "5it [01:10, 14.16s/it]\n",
      "\u001b[32m[I 2023-04-29 12:23:03,239]\u001b[0m Trial 56 finished with value: 0.6479328376293949 and parameters: {'max_depth': 10, 'eta': 5.438908876620673e-06, 'min_child_weight': 3, 'subsample': 0.8478424449582677, 'colsample_bytree': 0.6178803482080973, 'lambda': 0.03916431412488603, 'alpha': 9.417671373865328}. Best is trial 51 with value: 0.6680073980131823.\u001b[0m\n",
      "0it [00:00, ?it/s]"
     ]
    },
    {
     "name": "stdout",
     "output_type": "stream",
     "text": [
      "[0]\ttrain-auc:0.71370\ttrain-amex_metric:0.21915\tvalid-auc:0.68859\tvalid-amex_metric:0.19556\n",
      "[19]\ttrain-auc:0.78823\ttrain-amex_metric:0.29061\tvalid-auc:0.73072\tvalid-amex_metric:0.23582\n"
     ]
    },
    {
     "name": "stderr",
     "output_type": "stream",
     "text": [
      "\r",
      "1it [00:15, 15.16s/it]"
     ]
    },
    {
     "name": "stdout",
     "output_type": "stream",
     "text": [
      "[0]\ttrain-auc:0.70973\ttrain-amex_metric:0.21475\tvalid-auc:0.70353\tvalid-amex_metric:0.21132\n",
      "[20]\ttrain-auc:0.79025\ttrain-amex_metric:0.29190\tvalid-auc:0.73835\tvalid-amex_metric:0.24328\n"
     ]
    },
    {
     "name": "stderr",
     "output_type": "stream",
     "text": [
      "\r",
      "2it [00:30, 15.42s/it]"
     ]
    },
    {
     "name": "stdout",
     "output_type": "stream",
     "text": [
      "[0]\ttrain-auc:0.70893\ttrain-amex_metric:0.21527\tvalid-auc:0.70853\tvalid-amex_metric:0.21222\n",
      "[19]\ttrain-auc:0.78649\ttrain-amex_metric:0.28971\tvalid-auc:0.73519\tvalid-amex_metric:0.23551\n"
     ]
    },
    {
     "name": "stderr",
     "output_type": "stream",
     "text": [
      "\r",
      "3it [00:46, 15.51s/it]"
     ]
    },
    {
     "name": "stdout",
     "output_type": "stream",
     "text": [
      "[0]\ttrain-auc:0.70815\ttrain-amex_metric:0.21434\tvalid-auc:0.70632\tvalid-amex_metric:0.20842\n",
      "[20]\ttrain-auc:0.79003\ttrain-amex_metric:0.29281\tvalid-auc:0.74357\tvalid-amex_metric:0.24547\n"
     ]
    },
    {
     "name": "stderr",
     "output_type": "stream",
     "text": [
      "\r",
      "4it [01:02, 15.64s/it]"
     ]
    },
    {
     "name": "stdout",
     "output_type": "stream",
     "text": [
      "[0]\ttrain-auc:0.71397\ttrain-amex_metric:0.21975\tvalid-auc:0.68867\tvalid-amex_metric:0.19581\n",
      "[20]\ttrain-auc:0.79050\ttrain-amex_metric:0.29297\tvalid-auc:0.73968\tvalid-amex_metric:0.24260\n"
     ]
    },
    {
     "name": "stderr",
     "output_type": "stream",
     "text": [
      "5it [01:18, 15.65s/it]\n",
      "\u001b[32m[I 2023-04-29 12:24:21,532]\u001b[0m Trial 57 finished with value: 0.6634921356346138 and parameters: {'max_depth': 9, 'eta': 0.39275592550821437, 'min_child_weight': 1, 'subsample': 0.7716637208295527, 'colsample_bytree': 0.7376309747458764, 'lambda': 0.002268514095704876, 'alpha': 1.1824568878041704}. Best is trial 51 with value: 0.6680073980131823.\u001b[0m\n",
      "0it [00:00, ?it/s]"
     ]
    },
    {
     "name": "stdout",
     "output_type": "stream",
     "text": [
      "[0]\ttrain-auc:0.71531\ttrain-amex_metric:0.21825\tvalid-auc:0.69300\tvalid-amex_metric:0.20115\n",
      "[20]\ttrain-auc:0.75870\ttrain-amex_metric:0.26112\tvalid-auc:0.73218\tvalid-amex_metric:0.23724\n"
     ]
    },
    {
     "name": "stderr",
     "output_type": "stream",
     "text": [
      "\r",
      "1it [00:14, 14.64s/it]"
     ]
    },
    {
     "name": "stdout",
     "output_type": "stream",
     "text": [
      "[0]\ttrain-auc:0.71232\ttrain-amex_metric:0.21354\tvalid-auc:0.71129\tvalid-amex_metric:0.21959\n",
      "[19]\ttrain-auc:0.75705\ttrain-amex_metric:0.25947\tvalid-auc:0.74225\tvalid-amex_metric:0.24599\n"
     ]
    },
    {
     "name": "stderr",
     "output_type": "stream",
     "text": [
      "\r",
      "2it [00:30, 15.59s/it]"
     ]
    },
    {
     "name": "stdout",
     "output_type": "stream",
     "text": [
      "[0]\ttrain-auc:0.71832\ttrain-amex_metric:0.22261\tvalid-auc:0.71751\tvalid-amex_metric:0.22093\n",
      "[19]\ttrain-auc:0.75656\ttrain-amex_metric:0.25992\tvalid-auc:0.74462\tvalid-amex_metric:0.24522\n"
     ]
    },
    {
     "name": "stderr",
     "output_type": "stream",
     "text": [
      "\r",
      "3it [00:45, 15.36s/it]"
     ]
    },
    {
     "name": "stdout",
     "output_type": "stream",
     "text": [
      "[0]\ttrain-auc:0.71791\ttrain-amex_metric:0.22216\tvalid-auc:0.72025\tvalid-amex_metric:0.22246\n",
      "[20]\ttrain-auc:0.75503\ttrain-amex_metric:0.25810\tvalid-auc:0.74652\tvalid-amex_metric:0.24638\n"
     ]
    },
    {
     "name": "stderr",
     "output_type": "stream",
     "text": [
      "\r",
      "4it [01:01, 15.28s/it]"
     ]
    },
    {
     "name": "stdout",
     "output_type": "stream",
     "text": [
      "[0]\ttrain-auc:0.72226\ttrain-amex_metric:0.22575\tvalid-auc:0.70990\tvalid-amex_metric:0.21324\n",
      "[20]\ttrain-auc:0.75665\ttrain-amex_metric:0.25972\tvalid-auc:0.74017\tvalid-amex_metric:0.24338\n"
     ]
    },
    {
     "name": "stderr",
     "output_type": "stream",
     "text": [
      "5it [01:16, 15.26s/it]\n",
      "\u001b[32m[I 2023-04-29 12:25:37,896]\u001b[0m Trial 58 finished with value: 0.6647031312300659 and parameters: {'max_depth': 8, 'eta': 0.06271848830636728, 'min_child_weight': 6, 'subsample': 0.5973884032146226, 'colsample_bytree': 0.8890758787845235, 'lambda': 2.0011470493708745e-07, 'alpha': 1.3280883323566734e-06}. Best is trial 51 with value: 0.6680073980131823.\u001b[0m\n",
      "0it [00:00, ?it/s]"
     ]
    },
    {
     "name": "stdout",
     "output_type": "stream",
     "text": [
      "[0]\ttrain-auc:0.70181\ttrain-amex_metric:0.20701\tvalid-auc:0.68497\tvalid-amex_metric:0.19163\n",
      "[20]\ttrain-auc:0.74565\ttrain-amex_metric:0.24995\tvalid-auc:0.72804\tvalid-amex_metric:0.23430\n"
     ]
    },
    {
     "name": "stderr",
     "output_type": "stream",
     "text": [
      "\r",
      "1it [00:15, 15.37s/it]"
     ]
    },
    {
     "name": "stdout",
     "output_type": "stream",
     "text": [
      "[0]\ttrain-auc:0.69597\ttrain-amex_metric:0.20045\tvalid-auc:0.69992\tvalid-amex_metric:0.20702\n",
      "[19]\ttrain-auc:0.74415\ttrain-amex_metric:0.24762\tvalid-auc:0.73799\tvalid-amex_metric:0.24365\n"
     ]
    },
    {
     "name": "stderr",
     "output_type": "stream",
     "text": [
      "\r",
      "2it [00:31, 15.70s/it]"
     ]
    },
    {
     "name": "stdout",
     "output_type": "stream",
     "text": [
      "[0]\ttrain-auc:0.69123\ttrain-amex_metric:0.19939\tvalid-auc:0.69402\tvalid-amex_metric:0.20193\n",
      "[19]\ttrain-auc:0.74424\ttrain-amex_metric:0.24963\tvalid-auc:0.73800\tvalid-amex_metric:0.23953\n"
     ]
    },
    {
     "name": "stderr",
     "output_type": "stream",
     "text": [
      "\r",
      "3it [00:47, 16.04s/it]"
     ]
    },
    {
     "name": "stdout",
     "output_type": "stream",
     "text": [
      "[0]\ttrain-auc:0.70160\ttrain-amex_metric:0.20818\tvalid-auc:0.70659\tvalid-amex_metric:0.20998\n",
      "[19]\ttrain-auc:0.74214\ttrain-amex_metric:0.24671\tvalid-auc:0.73922\tvalid-amex_metric:0.24297\n"
     ]
    },
    {
     "name": "stderr",
     "output_type": "stream",
     "text": [
      "\r",
      "4it [01:03, 15.97s/it]"
     ]
    },
    {
     "name": "stdout",
     "output_type": "stream",
     "text": [
      "[0]\ttrain-auc:0.70513\ttrain-amex_metric:0.21052\tvalid-auc:0.68907\tvalid-amex_metric:0.19600\n",
      "[20]\ttrain-auc:0.74483\ttrain-amex_metric:0.24887\tvalid-auc:0.73662\tvalid-amex_metric:0.24109\n"
     ]
    },
    {
     "name": "stderr",
     "output_type": "stream",
     "text": [
      "5it [01:19, 15.96s/it]\n",
      "\u001b[32m[I 2023-04-29 12:26:57,741]\u001b[0m Trial 59 finished with value: 0.6586690880318188 and parameters: {'max_depth': 10, 'eta': 3.672157226520468e-05, 'min_child_weight': 2, 'subsample': 0.947050595700127, 'colsample_bytree': 0.8064832890679582, 'lambda': 0.2447141966145731, 'alpha': 9.687027050867158}. Best is trial 51 with value: 0.6680073980131823.\u001b[0m\n",
      "0it [00:00, ?it/s]"
     ]
    },
    {
     "name": "stdout",
     "output_type": "stream",
     "text": [
      "[0]\ttrain-auc:0.71059\ttrain-amex_metric:0.21635\tvalid-auc:0.69397\tvalid-amex_metric:0.20120\n",
      "[20]\ttrain-auc:0.76986\ttrain-amex_metric:0.27192\tvalid-auc:0.73404\tvalid-amex_metric:0.23889\n"
     ]
    },
    {
     "name": "stderr",
     "output_type": "stream",
     "text": [
      "\r",
      "1it [00:15, 15.09s/it]"
     ]
    },
    {
     "name": "stdout",
     "output_type": "stream",
     "text": [
      "[0]\ttrain-auc:0.70362\ttrain-amex_metric:0.20782\tvalid-auc:0.70580\tvalid-amex_metric:0.21254\n",
      "[20]\ttrain-auc:0.76931\ttrain-amex_metric:0.27167\tvalid-auc:0.73940\tvalid-amex_metric:0.24372\n"
     ]
    },
    {
     "name": "stderr",
     "output_type": "stream",
     "text": [
      "\r",
      "2it [00:31, 15.60s/it]"
     ]
    },
    {
     "name": "stdout",
     "output_type": "stream",
     "text": [
      "[0]\ttrain-auc:0.70428\ttrain-amex_metric:0.21071\tvalid-auc:0.70357\tvalid-amex_metric:0.20781\n",
      "[19]\ttrain-auc:0.76947\ttrain-amex_metric:0.27303\tvalid-auc:0.74560\tvalid-amex_metric:0.24632\n"
     ]
    },
    {
     "name": "stderr",
     "output_type": "stream",
     "text": [
      "\r",
      "3it [00:46, 15.63s/it]"
     ]
    },
    {
     "name": "stdout",
     "output_type": "stream",
     "text": [
      "[0]\ttrain-auc:0.70668\ttrain-amex_metric:0.21253\tvalid-auc:0.70713\tvalid-amex_metric:0.21184\n",
      "[19]\ttrain-auc:0.76722\ttrain-amex_metric:0.27047\tvalid-auc:0.74774\tvalid-amex_metric:0.24957\n"
     ]
    },
    {
     "name": "stderr",
     "output_type": "stream",
     "text": [
      "\r",
      "4it [01:02, 15.77s/it]"
     ]
    },
    {
     "name": "stdout",
     "output_type": "stream",
     "text": [
      "[0]\ttrain-auc:0.70697\ttrain-amex_metric:0.21259\tvalid-auc:0.69222\tvalid-amex_metric:0.19922\n",
      "[20]\ttrain-auc:0.76944\ttrain-amex_metric:0.27231\tvalid-auc:0.73968\tvalid-amex_metric:0.24403\n"
     ]
    },
    {
     "name": "stderr",
     "output_type": "stream",
     "text": [
      "5it [01:19, 15.83s/it]\n",
      "\u001b[32m[I 2023-04-29 12:28:16,924]\u001b[0m Trial 60 finished with value: 0.6658177650498431 and parameters: {'max_depth': 9, 'eta': 0.4951045826901747, 'min_child_weight': 5, 'subsample': 0.8878188589111574, 'colsample_bytree': 0.7645209017780008, 'lambda': 0.6022098854826632, 'alpha': 3.446698571576}. Best is trial 51 with value: 0.6680073980131823.\u001b[0m\n",
      "0it [00:00, ?it/s]"
     ]
    },
    {
     "name": "stdout",
     "output_type": "stream",
     "text": [
      "[0]\ttrain-auc:0.71015\ttrain-amex_metric:0.21551\tvalid-auc:0.68873\tvalid-amex_metric:0.19543\n",
      "[19]\ttrain-auc:0.76024\ttrain-amex_metric:0.26378\tvalid-auc:0.73175\tvalid-amex_metric:0.23767\n"
     ]
    },
    {
     "name": "stderr",
     "output_type": "stream",
     "text": [
      "\r",
      "1it [00:13, 13.92s/it]"
     ]
    },
    {
     "name": "stdout",
     "output_type": "stream",
     "text": [
      "[0]\ttrain-auc:0.70657\ttrain-amex_metric:0.21061\tvalid-auc:0.70810\tvalid-amex_metric:0.21434\n",
      "[20]\ttrain-auc:0.75960\ttrain-amex_metric:0.26276\tvalid-auc:0.74464\tvalid-amex_metric:0.24889\n"
     ]
    },
    {
     "name": "stderr",
     "output_type": "stream",
     "text": [
      "\r",
      "2it [00:28, 14.16s/it]"
     ]
    },
    {
     "name": "stdout",
     "output_type": "stream",
     "text": [
      "[0]\ttrain-auc:0.70540\ttrain-amex_metric:0.21191\tvalid-auc:0.70938\tvalid-amex_metric:0.21323\n",
      "[19]\ttrain-auc:0.75898\ttrain-amex_metric:0.26262\tvalid-auc:0.74426\tvalid-amex_metric:0.24568\n"
     ]
    },
    {
     "name": "stderr",
     "output_type": "stream",
     "text": [
      "\r",
      "3it [00:42, 14.25s/it]"
     ]
    },
    {
     "name": "stdout",
     "output_type": "stream",
     "text": [
      "[0]\ttrain-auc:0.70503\ttrain-amex_metric:0.21170\tvalid-auc:0.71079\tvalid-amex_metric:0.21363\n",
      "[19]\ttrain-auc:0.75858\ttrain-amex_metric:0.26209\tvalid-auc:0.74982\tvalid-amex_metric:0.25194\n"
     ]
    },
    {
     "name": "stderr",
     "output_type": "stream",
     "text": [
      "\r",
      "4it [00:57, 14.43s/it]"
     ]
    },
    {
     "name": "stdout",
     "output_type": "stream",
     "text": [
      "[0]\ttrain-auc:0.70835\ttrain-amex_metric:0.21398\tvalid-auc:0.68674\tvalid-amex_metric:0.19090\n",
      "[20]\ttrain-auc:0.76094\ttrain-amex_metric:0.26443\tvalid-auc:0.74388\tvalid-amex_metric:0.24761\n"
     ]
    },
    {
     "name": "stderr",
     "output_type": "stream",
     "text": [
      "5it [01:11, 14.38s/it]\n",
      "\u001b[32m[I 2023-04-29 12:29:28,853]\u001b[0m Trial 61 finished with value: 0.6652606651906824 and parameters: {'max_depth': 8, 'eta': 0.16624403110554203, 'min_child_weight': 3, 'subsample': 0.7465459381393829, 'colsample_bytree': 0.5595571182104045, 'lambda': 0.004143874574887884, 'alpha': 1.996471260038185}. Best is trial 51 with value: 0.6680073980131823.\u001b[0m\n",
      "0it [00:00, ?it/s]"
     ]
    },
    {
     "name": "stdout",
     "output_type": "stream",
     "text": [
      "[0]\ttrain-auc:0.70486\ttrain-amex_metric:0.21040\tvalid-auc:0.68537\tvalid-amex_metric:0.19125\n",
      "[20]\ttrain-auc:0.74881\ttrain-amex_metric:0.25275\tvalid-auc:0.72927\tvalid-amex_metric:0.23572\n"
     ]
    },
    {
     "name": "stderr",
     "output_type": "stream",
     "text": [
      "\r",
      "1it [00:12, 12.44s/it]"
     ]
    },
    {
     "name": "stdout",
     "output_type": "stream",
     "text": [
      "[0]\ttrain-auc:0.69962\ttrain-amex_metric:0.20394\tvalid-auc:0.70391\tvalid-amex_metric:0.21172\n",
      "[20]\ttrain-auc:0.74616\ttrain-amex_metric:0.24970\tvalid-auc:0.74050\tvalid-amex_metric:0.24583\n"
     ]
    },
    {
     "name": "stderr",
     "output_type": "stream",
     "text": [
      "\r",
      "2it [00:25, 12.82s/it]"
     ]
    },
    {
     "name": "stdout",
     "output_type": "stream",
     "text": [
      "[0]\ttrain-auc:0.69931\ttrain-amex_metric:0.20563\tvalid-auc:0.70443\tvalid-amex_metric:0.20819\n",
      "[20]\ttrain-auc:0.74679\ttrain-amex_metric:0.25161\tvalid-auc:0.73975\tvalid-amex_metric:0.24399\n"
     ]
    },
    {
     "name": "stderr",
     "output_type": "stream",
     "text": [
      "\r",
      "3it [00:39, 13.44s/it]"
     ]
    },
    {
     "name": "stdout",
     "output_type": "stream",
     "text": [
      "[0]\ttrain-auc:0.69390\ttrain-amex_metric:0.20144\tvalid-auc:0.69918\tvalid-amex_metric:0.20495\n",
      "[20]\ttrain-auc:0.74562\ttrain-amex_metric:0.24990\tvalid-auc:0.74434\tvalid-amex_metric:0.24794\n"
     ]
    },
    {
     "name": "stderr",
     "output_type": "stream",
     "text": [
      "\r",
      "4it [00:52, 13.37s/it]"
     ]
    },
    {
     "name": "stdout",
     "output_type": "stream",
     "text": [
      "[0]\ttrain-auc:0.70317\ttrain-amex_metric:0.20858\tvalid-auc:0.68570\tvalid-amex_metric:0.19163\n",
      "[20]\ttrain-auc:0.74636\ttrain-amex_metric:0.25069\tvalid-auc:0.74083\tvalid-amex_metric:0.24452\n"
     ]
    },
    {
     "name": "stderr",
     "output_type": "stream",
     "text": [
      "5it [01:05, 13.16s/it]\n",
      "\u001b[32m[I 2023-04-29 12:30:34,707]\u001b[0m Trial 62 finished with value: 0.6485791490376172 and parameters: {'max_depth': 8, 'eta': 0.04415596506711953, 'min_child_weight': 3, 'subsample': 0.7577489096001304, 'colsample_bytree': 0.42666711924898254, 'lambda': 0.07821434649802503, 'alpha': 4.280959477764284}. Best is trial 51 with value: 0.6680073980131823.\u001b[0m\n",
      "0it [00:00, ?it/s]"
     ]
    },
    {
     "name": "stdout",
     "output_type": "stream",
     "text": [
      "[0]\ttrain-auc:0.71322\ttrain-amex_metric:0.21826\tvalid-auc:0.68124\tvalid-amex_metric:0.18856\n",
      "[20]\ttrain-auc:0.77817\ttrain-amex_metric:0.28080\tvalid-auc:0.72631\tvalid-amex_metric:0.23162\n"
     ]
    },
    {
     "name": "stderr",
     "output_type": "stream",
     "text": [
      "\r",
      "1it [00:14, 14.39s/it]"
     ]
    },
    {
     "name": "stdout",
     "output_type": "stream",
     "text": [
      "[0]\ttrain-auc:0.70987\ttrain-amex_metric:0.21462\tvalid-auc:0.70210\tvalid-amex_metric:0.20995\n",
      "[20]\ttrain-auc:0.78014\ttrain-amex_metric:0.28232\tvalid-auc:0.74012\tvalid-amex_metric:0.24474\n"
     ]
    },
    {
     "name": "stderr",
     "output_type": "stream",
     "text": [
      "\r",
      "2it [00:28, 14.35s/it]"
     ]
    },
    {
     "name": "stdout",
     "output_type": "stream",
     "text": [
      "[0]\ttrain-auc:0.70788\ttrain-amex_metric:0.21445\tvalid-auc:0.70439\tvalid-amex_metric:0.20877\n",
      "[19]\ttrain-auc:0.77748\ttrain-amex_metric:0.28113\tvalid-auc:0.74224\tvalid-amex_metric:0.24433\n"
     ]
    },
    {
     "name": "stderr",
     "output_type": "stream",
     "text": [
      "\r",
      "3it [00:43, 14.39s/it]"
     ]
    },
    {
     "name": "stdout",
     "output_type": "stream",
     "text": [
      "[0]\ttrain-auc:0.70899\ttrain-amex_metric:0.21487\tvalid-auc:0.70438\tvalid-amex_metric:0.20873\n",
      "[19]\ttrain-auc:0.77754\ttrain-amex_metric:0.28063\tvalid-auc:0.74501\tvalid-amex_metric:0.24875\n"
     ]
    },
    {
     "name": "stderr",
     "output_type": "stream",
     "text": [
      "\r",
      "4it [00:57, 14.30s/it]"
     ]
    },
    {
     "name": "stdout",
     "output_type": "stream",
     "text": [
      "[0]\ttrain-auc:0.71088\ttrain-amex_metric:0.21645\tvalid-auc:0.69044\tvalid-amex_metric:0.19610\n",
      "[19]\ttrain-auc:0.78021\ttrain-amex_metric:0.28304\tvalid-auc:0.74004\tvalid-amex_metric:0.24485\n"
     ]
    },
    {
     "name": "stderr",
     "output_type": "stream",
     "text": [
      "5it [01:11, 14.29s/it]\n",
      "\u001b[32m[I 2023-04-29 12:31:46,228]\u001b[0m Trial 63 finished with value: 0.6654720262852003 and parameters: {'max_depth': 9, 'eta': 0.2493977443814026, 'min_child_weight': 2, 'subsample': 0.8006959868022855, 'colsample_bytree': 0.4657150936216206, 'lambda': 0.006843438367209979, 'alpha': 0.6473184550136678}. Best is trial 51 with value: 0.6680073980131823.\u001b[0m\n",
      "0it [00:00, ?it/s]"
     ]
    },
    {
     "name": "stdout",
     "output_type": "stream",
     "text": [
      "[0]\ttrain-auc:0.69323\ttrain-amex_metric:0.19904\tvalid-auc:0.67958\tvalid-amex_metric:0.19046\n",
      "[20]\ttrain-auc:0.74651\ttrain-amex_metric:0.25057\tvalid-auc:0.72859\tvalid-amex_metric:0.23457\n"
     ]
    },
    {
     "name": "stderr",
     "output_type": "stream",
     "text": [
      "\r",
      "1it [00:13, 13.19s/it]"
     ]
    },
    {
     "name": "stdout",
     "output_type": "stream",
     "text": [
      "[0]\ttrain-auc:0.68618\ttrain-amex_metric:0.19171\tvalid-auc:0.69033\tvalid-amex_metric:0.19505\n",
      "[19]\ttrain-auc:0.74553\ttrain-amex_metric:0.25011\tvalid-auc:0.74197\tvalid-amex_metric:0.24817\n"
     ]
    },
    {
     "name": "stderr",
     "output_type": "stream",
     "text": [
      "\r",
      "2it [00:26, 13.37s/it]"
     ]
    },
    {
     "name": "stdout",
     "output_type": "stream",
     "text": [
      "[0]\ttrain-auc:0.68657\ttrain-amex_metric:0.19489\tvalid-auc:0.69262\tvalid-amex_metric:0.19898\n",
      "[19]\ttrain-auc:0.74516\ttrain-amex_metric:0.24986\tvalid-auc:0.74192\tvalid-amex_metric:0.24393\n"
     ]
    },
    {
     "name": "stderr",
     "output_type": "stream",
     "text": [
      "\r",
      "3it [00:40, 13.67s/it]"
     ]
    },
    {
     "name": "stdout",
     "output_type": "stream",
     "text": [
      "[0]\ttrain-auc:0.68632\ttrain-amex_metric:0.19519\tvalid-auc:0.69365\tvalid-amex_metric:0.19848\n",
      "[19]\ttrain-auc:0.74473\ttrain-amex_metric:0.24932\tvalid-auc:0.74242\tvalid-amex_metric:0.24632\n"
     ]
    },
    {
     "name": "stderr",
     "output_type": "stream",
     "text": [
      "\r",
      "4it [00:55, 13.94s/it]"
     ]
    },
    {
     "name": "stdout",
     "output_type": "stream",
     "text": [
      "[0]\ttrain-auc:0.70341\ttrain-amex_metric:0.20890\tvalid-auc:0.69095\tvalid-amex_metric:0.19649\n",
      "[19]\ttrain-auc:0.74538\ttrain-amex_metric:0.24943\tvalid-auc:0.74169\tvalid-amex_metric:0.24713\n"
     ]
    },
    {
     "name": "stderr",
     "output_type": "stream",
     "text": [
      "5it [01:11, 14.31s/it]\n",
      "\u001b[32m[I 2023-04-29 12:32:57,824]\u001b[0m Trial 64 finished with value: 0.6602402373295735 and parameters: {'max_depth': 9, 'eta': 0.0971956781742549, 'min_child_weight': 4, 'subsample': 0.7235506112544353, 'colsample_bytree': 0.5923771659375883, 'lambda': 0.028265134986998588, 'alpha': 9.897127086030538}. Best is trial 51 with value: 0.6680073980131823.\u001b[0m\n",
      "0it [00:00, ?it/s]"
     ]
    },
    {
     "name": "stdout",
     "output_type": "stream",
     "text": [
      "[0]\ttrain-auc:0.71089\ttrain-amex_metric:0.21584\tvalid-auc:0.69197\tvalid-amex_metric:0.19965\n",
      "[19]\ttrain-auc:0.78466\ttrain-amex_metric:0.28704\tvalid-auc:0.72677\tvalid-amex_metric:0.23191\n"
     ]
    },
    {
     "name": "stderr",
     "output_type": "stream",
     "text": [
      "\r",
      "1it [00:15, 15.04s/it]"
     ]
    },
    {
     "name": "stdout",
     "output_type": "stream",
     "text": [
      "[0]\ttrain-auc:0.70522\ttrain-amex_metric:0.20905\tvalid-auc:0.70598\tvalid-amex_metric:0.21268\n",
      "[20]\ttrain-auc:0.78883\ttrain-amex_metric:0.29165\tvalid-auc:0.72872\tvalid-amex_metric:0.23316\n"
     ]
    },
    {
     "name": "stderr",
     "output_type": "stream",
     "text": [
      "\r",
      "2it [00:30, 15.16s/it]"
     ]
    },
    {
     "name": "stdout",
     "output_type": "stream",
     "text": [
      "[0]\ttrain-auc:0.70563\ttrain-amex_metric:0.21232\tvalid-auc:0.70722\tvalid-amex_metric:0.21122\n",
      "[20]\ttrain-auc:0.78694\ttrain-amex_metric:0.29038\tvalid-auc:0.73401\tvalid-amex_metric:0.23462\n"
     ]
    },
    {
     "name": "stderr",
     "output_type": "stream",
     "text": [
      "\r",
      "3it [00:45, 15.11s/it]"
     ]
    },
    {
     "name": "stdout",
     "output_type": "stream",
     "text": [
      "[0]\ttrain-auc:0.70730\ttrain-amex_metric:0.21345\tvalid-auc:0.70855\tvalid-amex_metric:0.21075\n",
      "[19]\ttrain-auc:0.78162\ttrain-amex_metric:0.28475\tvalid-auc:0.73958\tvalid-amex_metric:0.24296\n"
     ]
    },
    {
     "name": "stderr",
     "output_type": "stream",
     "text": [
      "\r",
      "4it [01:00, 15.20s/it]"
     ]
    },
    {
     "name": "stdout",
     "output_type": "stream",
     "text": [
      "[0]\ttrain-auc:0.70915\ttrain-amex_metric:0.21404\tvalid-auc:0.69033\tvalid-amex_metric:0.19635\n",
      "[20]\ttrain-auc:0.78720\ttrain-amex_metric:0.29002\tvalid-auc:0.72991\tvalid-amex_metric:0.23446\n"
     ]
    },
    {
     "name": "stderr",
     "output_type": "stream",
     "text": [
      "5it [01:16, 15.24s/it]\n",
      "\u001b[32m[I 2023-04-29 12:34:14,093]\u001b[0m Trial 65 finished with value: 0.6606925988575153 and parameters: {'max_depth': 8, 'eta': 0.9036107440209113, 'min_child_weight': 3, 'subsample': 0.820639312744574, 'colsample_bytree': 0.683967584673561, 'lambda': 0.13513081469888813, 'alpha': 2.122783275068644}. Best is trial 51 with value: 0.6680073980131823.\u001b[0m\n",
      "0it [00:00, ?it/s]"
     ]
    },
    {
     "name": "stdout",
     "output_type": "stream",
     "text": [
      "[0]\ttrain-auc:0.55561\ttrain-amex_metric:0.07040\tvalid-auc:0.55866\tvalid-amex_metric:0.07303\n",
      "[20]\ttrain-auc:0.68863\ttrain-amex_metric:0.19673\tvalid-auc:0.67034\tvalid-amex_metric:0.18029\n"
     ]
    },
    {
     "name": "stderr",
     "output_type": "stream",
     "text": [
      "\r",
      "1it [00:10, 10.38s/it]"
     ]
    },
    {
     "name": "stdout",
     "output_type": "stream",
     "text": [
      "[0]\ttrain-auc:0.55394\ttrain-amex_metric:0.06770\tvalid-auc:0.57034\tvalid-amex_metric:0.08427\n",
      "[19]\ttrain-auc:0.70465\ttrain-amex_metric:0.21157\tvalid-auc:0.70709\tvalid-amex_metric:0.21366\n"
     ]
    },
    {
     "name": "stderr",
     "output_type": "stream",
     "text": [
      "\r",
      "2it [00:21, 10.57s/it]"
     ]
    },
    {
     "name": "stdout",
     "output_type": "stream",
     "text": [
      "[0]\ttrain-auc:0.55853\ttrain-amex_metric:0.07456\tvalid-auc:0.55114\tvalid-amex_metric:0.05851\n",
      "[20]\ttrain-auc:0.70482\ttrain-amex_metric:0.21148\tvalid-auc:0.69753\tvalid-amex_metric:0.20157\n"
     ]
    },
    {
     "name": "stderr",
     "output_type": "stream",
     "text": [
      "\r",
      "3it [00:31, 10.44s/it]"
     ]
    },
    {
     "name": "stdout",
     "output_type": "stream",
     "text": [
      "[0]\ttrain-auc:0.55817\ttrain-amex_metric:0.07242\tvalid-auc:0.55280\tvalid-amex_metric:0.07141\n",
      "[19]\ttrain-auc:0.70439\ttrain-amex_metric:0.20964\tvalid-auc:0.69994\tvalid-amex_metric:0.20661\n"
     ]
    },
    {
     "name": "stderr",
     "output_type": "stream",
     "text": [
      "\r",
      "4it [00:41, 10.36s/it]"
     ]
    },
    {
     "name": "stdout",
     "output_type": "stream",
     "text": [
      "[0]\ttrain-auc:0.56057\ttrain-amex_metric:0.07624\tvalid-auc:0.54413\tvalid-amex_metric:0.06393\n",
      "[19]\ttrain-auc:0.70430\ttrain-amex_metric:0.21112\tvalid-auc:0.70064\tvalid-amex_metric:0.20514\n"
     ]
    },
    {
     "name": "stderr",
     "output_type": "stream",
     "text": [
      "5it [00:52, 10.43s/it]\n",
      "\u001b[32m[I 2023-04-29 12:35:06,317]\u001b[0m Trial 66 finished with value: 0.563791069168559 and parameters: {'max_depth': 10, 'eta': 0.022219408479682314, 'min_child_weight': 2, 'subsample': 0.6360501255887099, 'colsample_bytree': 0.10427943894153324, 'lambda': 0.03257388614557106, 'alpha': 3.9914665484992216}. Best is trial 51 with value: 0.6680073980131823.\u001b[0m\n",
      "0it [00:00, ?it/s]"
     ]
    },
    {
     "name": "stdout",
     "output_type": "stream",
     "text": [
      "[0]\ttrain-auc:0.71242\ttrain-amex_metric:0.21803\tvalid-auc:0.68593\tvalid-amex_metric:0.19219\n",
      "[19]\ttrain-auc:0.78989\ttrain-amex_metric:0.29232\tvalid-auc:0.72747\tvalid-amex_metric:0.23243\n"
     ]
    },
    {
     "name": "stderr",
     "output_type": "stream",
     "text": [
      "\r",
      "1it [00:14, 14.78s/it]"
     ]
    },
    {
     "name": "stdout",
     "output_type": "stream",
     "text": [
      "[0]\ttrain-auc:0.70627\ttrain-amex_metric:0.21079\tvalid-auc:0.70118\tvalid-amex_metric:0.20936\n",
      "[19]\ttrain-auc:0.79033\ttrain-amex_metric:0.29192\tvalid-auc:0.73100\tvalid-amex_metric:0.23587\n"
     ]
    },
    {
     "name": "stderr",
     "output_type": "stream",
     "text": [
      "\r",
      "2it [00:30, 15.08s/it]"
     ]
    },
    {
     "name": "stdout",
     "output_type": "stream",
     "text": [
      "[0]\ttrain-auc:0.70860\ttrain-amex_metric:0.21510\tvalid-auc:0.70830\tvalid-amex_metric:0.21290\n",
      "[20]\ttrain-auc:0.79454\ttrain-amex_metric:0.29778\tvalid-auc:0.73131\tvalid-amex_metric:0.23252\n"
     ]
    },
    {
     "name": "stderr",
     "output_type": "stream",
     "text": [
      "\r",
      "3it [00:45, 15.12s/it]"
     ]
    },
    {
     "name": "stdout",
     "output_type": "stream",
     "text": [
      "[0]\ttrain-auc:0.70749\ttrain-amex_metric:0.21350\tvalid-auc:0.70620\tvalid-amex_metric:0.21117\n",
      "[20]\ttrain-auc:0.79140\ttrain-amex_metric:0.29434\tvalid-auc:0.73835\tvalid-amex_metric:0.24083\n"
     ]
    },
    {
     "name": "stderr",
     "output_type": "stream",
     "text": [
      "\r",
      "4it [01:00, 15.17s/it]"
     ]
    },
    {
     "name": "stdout",
     "output_type": "stream",
     "text": [
      "[0]\ttrain-auc:0.71230\ttrain-amex_metric:0.21865\tvalid-auc:0.68818\tvalid-amex_metric:0.19428\n",
      "[20]\ttrain-auc:0.79605\ttrain-amex_metric:0.29888\tvalid-auc:0.73858\tvalid-amex_metric:0.24205\n"
     ]
    },
    {
     "name": "stderr",
     "output_type": "stream",
     "text": [
      "5it [01:16, 15.24s/it]\n",
      "\u001b[32m[I 2023-04-29 12:36:22,581]\u001b[0m Trial 67 finished with value: 0.6626186873783247 and parameters: {'max_depth': 9, 'eta': 0.47213788925951544, 'min_child_weight': 1, 'subsample': 0.7382815138886594, 'colsample_bytree': 0.5245154629075109, 'lambda': 0.0005376348556467958, 'alpha': 1.1407864343553296}. Best is trial 51 with value: 0.6680073980131823.\u001b[0m\n",
      "0it [00:00, ?it/s]"
     ]
    },
    {
     "name": "stdout",
     "output_type": "stream",
     "text": [
      "[0]\ttrain-auc:0.71766\ttrain-amex_metric:0.22239\tvalid-auc:0.68559\tvalid-amex_metric:0.19241\n",
      "[19]\ttrain-auc:0.78815\ttrain-amex_metric:0.29042\tvalid-auc:0.72874\tvalid-amex_metric:0.23355\n"
     ]
    },
    {
     "name": "stderr",
     "output_type": "stream",
     "text": [
      "\r",
      "1it [00:16, 16.14s/it]"
     ]
    },
    {
     "name": "stdout",
     "output_type": "stream",
     "text": [
      "[0]\ttrain-auc:0.71375\ttrain-amex_metric:0.21852\tvalid-auc:0.70375\tvalid-amex_metric:0.20975\n",
      "[19]\ttrain-auc:0.78737\ttrain-amex_metric:0.29146\tvalid-auc:0.74007\tvalid-amex_metric:0.24503\n"
     ]
    },
    {
     "name": "stderr",
     "output_type": "stream",
     "text": [
      "\r",
      "2it [00:32, 16.41s/it]"
     ]
    },
    {
     "name": "stdout",
     "output_type": "stream",
     "text": [
      "[0]\ttrain-auc:0.71041\ttrain-amex_metric:0.21653\tvalid-auc:0.70893\tvalid-amex_metric:0.21249\n",
      "[20]\ttrain-auc:0.78786\ttrain-amex_metric:0.29121\tvalid-auc:0.73983\tvalid-amex_metric:0.24018\n"
     ]
    },
    {
     "name": "stderr",
     "output_type": "stream",
     "text": [
      "\r",
      "3it [00:49, 16.76s/it]"
     ]
    },
    {
     "name": "stdout",
     "output_type": "stream",
     "text": [
      "[0]\ttrain-auc:0.71093\ttrain-amex_metric:0.21623\tvalid-auc:0.70474\tvalid-amex_metric:0.20702\n",
      "[19]\ttrain-auc:0.78532\ttrain-amex_metric:0.28814\tvalid-auc:0.74728\tvalid-amex_metric:0.24918\n"
     ]
    },
    {
     "name": "stderr",
     "output_type": "stream",
     "text": [
      "\r",
      "4it [01:06, 16.77s/it]"
     ]
    },
    {
     "name": "stdout",
     "output_type": "stream",
     "text": [
      "[0]\ttrain-auc:0.71611\ttrain-amex_metric:0.22130\tvalid-auc:0.69135\tvalid-amex_metric:0.19664\n",
      "[20]\ttrain-auc:0.78873\ttrain-amex_metric:0.29124\tvalid-auc:0.73959\tvalid-amex_metric:0.24363\n"
     ]
    },
    {
     "name": "stderr",
     "output_type": "stream",
     "text": [
      "5it [01:23, 16.64s/it]\n",
      "\u001b[32m[I 2023-04-29 12:37:45,822]\u001b[0m Trial 68 finished with value: 0.6677212083428133 and parameters: {'max_depth': 10, 'eta': 0.20682395209110224, 'min_child_weight': 2, 'subsample': 0.7713403215697365, 'colsample_bytree': 0.6370284226632551, 'lambda': 0.002856161914598289, 'alpha': 0.34190188131685334}. Best is trial 51 with value: 0.6680073980131823.\u001b[0m\n",
      "0it [00:00, ?it/s]"
     ]
    },
    {
     "name": "stdout",
     "output_type": "stream",
     "text": [
      "[0]\ttrain-auc:0.71191\ttrain-amex_metric:0.21531\tvalid-auc:0.68097\tvalid-amex_metric:0.18731\n",
      "[20]\ttrain-auc:0.76643\ttrain-amex_metric:0.26865\tvalid-auc:0.73338\tvalid-amex_metric:0.23872\n"
     ]
    },
    {
     "name": "stderr",
     "output_type": "stream",
     "text": [
      "\r",
      "1it [00:15, 15.43s/it]"
     ]
    },
    {
     "name": "stdout",
     "output_type": "stream",
     "text": [
      "[0]\ttrain-auc:0.70757\ttrain-amex_metric:0.21172\tvalid-auc:0.70313\tvalid-amex_metric:0.20937\n",
      "[19]\ttrain-auc:0.76602\ttrain-amex_metric:0.26802\tvalid-auc:0.73706\tvalid-amex_metric:0.24240\n"
     ]
    },
    {
     "name": "stderr",
     "output_type": "stream",
     "text": [
      "\r",
      "2it [00:31, 15.81s/it]"
     ]
    },
    {
     "name": "stdout",
     "output_type": "stream",
     "text": [
      "[0]\ttrain-auc:0.70857\ttrain-amex_metric:0.21304\tvalid-auc:0.70001\tvalid-amex_metric:0.20252\n",
      "[19]\ttrain-auc:0.76518\ttrain-amex_metric:0.26903\tvalid-auc:0.74076\tvalid-amex_metric:0.24249\n"
     ]
    },
    {
     "name": "stderr",
     "output_type": "stream",
     "text": [
      "\r",
      "3it [00:47, 15.94s/it]"
     ]
    },
    {
     "name": "stdout",
     "output_type": "stream",
     "text": [
      "[0]\ttrain-auc:0.70515\ttrain-amex_metric:0.20983\tvalid-auc:0.70228\tvalid-amex_metric:0.20431\n",
      "[20]\ttrain-auc:0.76345\ttrain-amex_metric:0.26643\tvalid-auc:0.74413\tvalid-amex_metric:0.24694\n"
     ]
    },
    {
     "name": "stderr",
     "output_type": "stream",
     "text": [
      "\r",
      "4it [01:03, 15.88s/it]"
     ]
    },
    {
     "name": "stdout",
     "output_type": "stream",
     "text": [
      "[0]\ttrain-auc:0.70846\ttrain-amex_metric:0.21302\tvalid-auc:0.69109\tvalid-amex_metric:0.19682\n",
      "[20]\ttrain-auc:0.76568\ttrain-amex_metric:0.26863\tvalid-auc:0.74418\tvalid-amex_metric:0.24828\n"
     ]
    },
    {
     "name": "stderr",
     "output_type": "stream",
     "text": [
      "5it [01:19, 15.84s/it]\n",
      "\u001b[32m[I 2023-04-29 12:39:05,148]\u001b[0m Trial 69 finished with value: 0.6628091352693068 and parameters: {'max_depth': 10, 'eta': 0.005012261386248596, 'min_child_weight': 2, 'subsample': 0.5266158346159836, 'colsample_bytree': 0.7137288233228148, 'lambda': 0.013713882114305511, 'alpha': 2.5625370235665943e-05}. Best is trial 51 with value: 0.6680073980131823.\u001b[0m\n",
      "0it [00:00, ?it/s]"
     ]
    },
    {
     "name": "stdout",
     "output_type": "stream",
     "text": [
      "[0]\ttrain-auc:0.72064\ttrain-amex_metric:0.22400\tvalid-auc:0.68576\tvalid-amex_metric:0.19205\n",
      "[19]\ttrain-auc:0.78057\ttrain-amex_metric:0.28190\tvalid-auc:0.73096\tvalid-amex_metric:0.23385\n"
     ]
    },
    {
     "name": "stderr",
     "output_type": "stream",
     "text": [
      "\r",
      "1it [00:16, 16.05s/it]"
     ]
    },
    {
     "name": "stdout",
     "output_type": "stream",
     "text": [
      "[0]\ttrain-auc:0.71763\ttrain-amex_metric:0.22076\tvalid-auc:0.70214\tvalid-amex_metric:0.20895\n",
      "[20]\ttrain-auc:0.78073\ttrain-amex_metric:0.28247\tvalid-auc:0.73847\tvalid-amex_metric:0.24296\n"
     ]
    },
    {
     "name": "stderr",
     "output_type": "stream",
     "text": [
      "\r",
      "2it [00:32, 16.24s/it]"
     ]
    },
    {
     "name": "stdout",
     "output_type": "stream",
     "text": [
      "[0]\ttrain-auc:0.71605\ttrain-amex_metric:0.22066\tvalid-auc:0.70582\tvalid-amex_metric:0.20750\n",
      "[20]\ttrain-auc:0.77947\ttrain-amex_metric:0.28253\tvalid-auc:0.73984\tvalid-amex_metric:0.24103\n"
     ]
    },
    {
     "name": "stderr",
     "output_type": "stream",
     "text": [
      "\r",
      "3it [00:45, 14.67s/it]"
     ]
    },
    {
     "name": "stdout",
     "output_type": "stream",
     "text": [
      "[0]\ttrain-auc:0.71750\ttrain-amex_metric:0.22226\tvalid-auc:0.70188\tvalid-amex_metric:0.20385\n",
      "[20]\ttrain-auc:0.77900\ttrain-amex_metric:0.28137\tvalid-auc:0.74623\tvalid-amex_metric:0.24948\n"
     ]
    },
    {
     "name": "stderr",
     "output_type": "stream",
     "text": [
      "\r",
      "4it [00:51, 11.48s/it]"
     ]
    },
    {
     "name": "stdout",
     "output_type": "stream",
     "text": [
      "[0]\ttrain-auc:0.72048\ttrain-amex_metric:0.22428\tvalid-auc:0.69008\tvalid-amex_metric:0.19593\n",
      "[20]\ttrain-auc:0.78139\ttrain-amex_metric:0.28376\tvalid-auc:0.74180\tvalid-amex_metric:0.24563\n"
     ]
    },
    {
     "name": "stderr",
     "output_type": "stream",
     "text": [
      "5it [00:57, 11.58s/it]\n",
      "\u001b[32m[I 2023-04-29 12:40:03,083]\u001b[0m Trial 70 finished with value: 0.6625293268500194 and parameters: {'max_depth': 10, 'eta': 8.310838313111044e-07, 'min_child_weight': 1, 'subsample': 0.8514073703490299, 'colsample_bytree': 0.6370530828212186, 'lambda': 0.00027669281027372955, 'alpha': 0.007365057484561666}. Best is trial 51 with value: 0.6680073980131823.\u001b[0m\n",
      "0it [00:00, ?it/s]"
     ]
    },
    {
     "name": "stdout",
     "output_type": "stream",
     "text": [
      "[0]\ttrain-auc:0.70390\ttrain-amex_metric:0.20937\tvalid-auc:0.68590\tvalid-amex_metric:0.19132\n",
      "[19]\ttrain-auc:0.76487\ttrain-amex_metric:0.26739\tvalid-auc:0.73076\tvalid-amex_metric:0.23518\n"
     ]
    },
    {
     "name": "stderr",
     "output_type": "stream",
     "text": [
      "\r",
      "1it [00:05,  5.39s/it]"
     ]
    },
    {
     "name": "stdout",
     "output_type": "stream",
     "text": [
      "[0]\ttrain-auc:0.69935\ttrain-amex_metric:0.20354\tvalid-auc:0.70445\tvalid-amex_metric:0.21270\n",
      "[20]\ttrain-auc:0.76561\ttrain-amex_metric:0.26795\tvalid-auc:0.74103\tvalid-amex_metric:0.24575\n"
     ]
    },
    {
     "name": "stderr",
     "output_type": "stream",
     "text": [
      "\r",
      "2it [00:10,  5.46s/it]"
     ]
    },
    {
     "name": "stdout",
     "output_type": "stream",
     "text": [
      "[0]\ttrain-auc:0.70058\ttrain-amex_metric:0.20689\tvalid-auc:0.70599\tvalid-amex_metric:0.21154\n",
      "[20]\ttrain-auc:0.76647\ttrain-amex_metric:0.27034\tvalid-auc:0.74001\tvalid-amex_metric:0.24187\n"
     ]
    },
    {
     "name": "stderr",
     "output_type": "stream",
     "text": [
      "\r",
      "3it [00:16,  5.52s/it]"
     ]
    },
    {
     "name": "stdout",
     "output_type": "stream",
     "text": [
      "[0]\ttrain-auc:0.69512\ttrain-amex_metric:0.20351\tvalid-auc:0.70083\tvalid-amex_metric:0.20703\n",
      "[19]\ttrain-auc:0.76445\ttrain-amex_metric:0.26824\tvalid-auc:0.74483\tvalid-amex_metric:0.24599\n"
     ]
    },
    {
     "name": "stderr",
     "output_type": "stream",
     "text": [
      "\r",
      "4it [00:22,  5.55s/it]"
     ]
    },
    {
     "name": "stdout",
     "output_type": "stream",
     "text": [
      "[0]\ttrain-auc:0.70519\ttrain-amex_metric:0.21074\tvalid-auc:0.68704\tvalid-amex_metric:0.19317\n",
      "[20]\ttrain-auc:0.76901\ttrain-amex_metric:0.27228\tvalid-auc:0.73623\tvalid-amex_metric:0.23965\n"
     ]
    },
    {
     "name": "stderr",
     "output_type": "stream",
     "text": [
      "5it [00:28,  5.62s/it]\n",
      "\u001b[32m[I 2023-04-29 12:40:31,195]\u001b[0m Trial 71 finished with value: 0.6650401459442963 and parameters: {'max_depth': 9, 'eta': 0.9742596278662528, 'min_child_weight': 2, 'subsample': 0.7709129591914804, 'colsample_bytree': 0.5633625468129024, 'lambda': 0.001792224577805343, 'alpha': 5.239564698120829}. Best is trial 51 with value: 0.6680073980131823.\u001b[0m\n",
      "0it [00:00, ?it/s]"
     ]
    },
    {
     "name": "stdout",
     "output_type": "stream",
     "text": [
      "[0]\ttrain-auc:0.69111\ttrain-amex_metric:0.19661\tvalid-auc:0.67599\tvalid-amex_metric:0.18881\n",
      "[19]\ttrain-auc:0.75121\ttrain-amex_metric:0.25478\tvalid-auc:0.73204\tvalid-amex_metric:0.23823\n"
     ]
    },
    {
     "name": "stderr",
     "output_type": "stream",
     "text": [
      "\r",
      "1it [00:05,  5.45s/it]"
     ]
    },
    {
     "name": "stdout",
     "output_type": "stream",
     "text": [
      "[0]\ttrain-auc:0.68637\ttrain-amex_metric:0.19235\tvalid-auc:0.69021\tvalid-amex_metric:0.19413\n",
      "[20]\ttrain-auc:0.74996\ttrain-amex_metric:0.25263\tvalid-auc:0.74268\tvalid-amex_metric:0.24756\n"
     ]
    },
    {
     "name": "stderr",
     "output_type": "stream",
     "text": [
      "\r",
      "2it [00:10,  5.46s/it]"
     ]
    },
    {
     "name": "stdout",
     "output_type": "stream",
     "text": [
      "[0]\ttrain-auc:0.68670\ttrain-amex_metric:0.19466\tvalid-auc:0.69307\tvalid-amex_metric:0.19942\n",
      "[20]\ttrain-auc:0.75089\ttrain-amex_metric:0.25492\tvalid-auc:0.74626\tvalid-amex_metric:0.24792\n"
     ]
    },
    {
     "name": "stderr",
     "output_type": "stream",
     "text": [
      "\r",
      "3it [00:16,  5.67s/it]"
     ]
    },
    {
     "name": "stdout",
     "output_type": "stream",
     "text": [
      "[0]\ttrain-auc:0.68705\ttrain-amex_metric:0.19590\tvalid-auc:0.69310\tvalid-amex_metric:0.19894\n",
      "[20]\ttrain-auc:0.74806\ttrain-amex_metric:0.25195\tvalid-auc:0.74850\tvalid-amex_metric:0.25271\n"
     ]
    },
    {
     "name": "stderr",
     "output_type": "stream",
     "text": [
      "\r",
      "4it [00:23,  6.21s/it]"
     ]
    },
    {
     "name": "stdout",
     "output_type": "stream",
     "text": [
      "[0]\ttrain-auc:0.69757\ttrain-amex_metric:0.20380\tvalid-auc:0.68427\tvalid-amex_metric:0.19286\n",
      "[20]\ttrain-auc:0.75015\ttrain-amex_metric:0.25418\tvalid-auc:0.74330\tvalid-amex_metric:0.24720\n"
     ]
    },
    {
     "name": "stderr",
     "output_type": "stream",
     "text": [
      "5it [00:31,  6.31s/it]\n",
      "\u001b[32m[I 2023-04-29 12:41:02,797]\u001b[0m Trial 72 finished with value: 0.6659788552978607 and parameters: {'max_depth': 8, 'eta': 0.22290668640906455, 'min_child_weight': 3, 'subsample': 0.7036464106572381, 'colsample_bytree': 0.6303565360204711, 'lambda': 0.003256043867400466, 'alpha': 9.970522824330736}. Best is trial 51 with value: 0.6680073980131823.\u001b[0m\n",
      "0it [00:00, ?it/s]"
     ]
    },
    {
     "name": "stdout",
     "output_type": "stream",
     "text": [
      "[0]\ttrain-auc:0.71362\ttrain-amex_metric:0.21819\tvalid-auc:0.68885\tvalid-amex_metric:0.19353\n",
      "[19]\ttrain-auc:0.76865\ttrain-amex_metric:0.27104\tvalid-auc:0.73108\tvalid-amex_metric:0.23594\n"
     ]
    },
    {
     "name": "stderr",
     "output_type": "stream",
     "text": [
      "\r",
      "1it [00:06,  6.86s/it]"
     ]
    },
    {
     "name": "stdout",
     "output_type": "stream",
     "text": [
      "[0]\ttrain-auc:0.70708\ttrain-amex_metric:0.21187\tvalid-auc:0.70713\tvalid-amex_metric:0.21362\n",
      "[19]\ttrain-auc:0.76818\ttrain-amex_metric:0.26985\tvalid-auc:0.73889\tvalid-amex_metric:0.24267\n"
     ]
    },
    {
     "name": "stderr",
     "output_type": "stream",
     "text": [
      "\r",
      "2it [00:13,  6.55s/it]"
     ]
    },
    {
     "name": "stdout",
     "output_type": "stream",
     "text": [
      "[0]\ttrain-auc:0.71093\ttrain-amex_metric:0.21763\tvalid-auc:0.70628\tvalid-amex_metric:0.21257\n",
      "[19]\ttrain-auc:0.76666\ttrain-amex_metric:0.27001\tvalid-auc:0.74324\tvalid-amex_metric:0.24382\n"
     ]
    },
    {
     "name": "stderr",
     "output_type": "stream",
     "text": [
      "\r",
      "3it [00:20,  6.97s/it]"
     ]
    },
    {
     "name": "stdout",
     "output_type": "stream",
     "text": [
      "[0]\ttrain-auc:0.70757\ttrain-amex_metric:0.21401\tvalid-auc:0.70756\tvalid-amex_metric:0.20949\n",
      "[20]\ttrain-auc:0.76676\ttrain-amex_metric:0.26977\tvalid-auc:0.74908\tvalid-amex_metric:0.25088\n"
     ]
    },
    {
     "name": "stderr",
     "output_type": "stream",
     "text": [
      "\r",
      "4it [00:27,  6.95s/it]"
     ]
    },
    {
     "name": "stdout",
     "output_type": "stream",
     "text": [
      "[0]\ttrain-auc:0.71303\ttrain-amex_metric:0.21879\tvalid-auc:0.69389\tvalid-amex_metric:0.20026\n",
      "[20]\ttrain-auc:0.77037\ttrain-amex_metric:0.27290\tvalid-auc:0.74404\tvalid-amex_metric:0.24795\n"
     ]
    },
    {
     "name": "stderr",
     "output_type": "stream",
     "text": [
      "5it [00:34,  6.87s/it]\n",
      "\u001b[32m[I 2023-04-29 12:41:37,177]\u001b[0m Trial 73 finished with value: 0.6657002557169436 and parameters: {'max_depth': 9, 'eta': 0.10543174025928469, 'min_child_weight': 3, 'subsample': 0.6684894359257038, 'colsample_bytree': 0.8673069869342378, 'lambda': 0.00828109574058086, 'alpha': 0.44558448198541617}. Best is trial 51 with value: 0.6680073980131823.\u001b[0m\n",
      "0it [00:00, ?it/s]"
     ]
    },
    {
     "name": "stdout",
     "output_type": "stream",
     "text": [
      "[0]\ttrain-auc:0.71325\ttrain-amex_metric:0.21850\tvalid-auc:0.68918\tvalid-amex_metric:0.19651\n",
      "[20]\ttrain-auc:0.77104\ttrain-amex_metric:0.27375\tvalid-auc:0.73119\tvalid-amex_metric:0.23620\n"
     ]
    },
    {
     "name": "stderr",
     "output_type": "stream",
     "text": [
      "\r",
      "1it [00:07,  7.40s/it]"
     ]
    },
    {
     "name": "stdout",
     "output_type": "stream",
     "text": [
      "[0]\ttrain-auc:0.70798\ttrain-amex_metric:0.21194\tvalid-auc:0.70705\tvalid-amex_metric:0.21323\n",
      "[20]\ttrain-auc:0.77195\ttrain-amex_metric:0.27396\tvalid-auc:0.74015\tvalid-amex_metric:0.24440\n"
     ]
    },
    {
     "name": "stderr",
     "output_type": "stream",
     "text": [
      "\r",
      "2it [00:15,  7.55s/it]"
     ]
    },
    {
     "name": "stdout",
     "output_type": "stream",
     "text": [
      "[0]\ttrain-auc:0.70668\ttrain-amex_metric:0.21289\tvalid-auc:0.70689\tvalid-amex_metric:0.21101\n",
      "[19]\ttrain-auc:0.77121\ttrain-amex_metric:0.27487\tvalid-auc:0.74327\tvalid-amex_metric:0.24372\n"
     ]
    },
    {
     "name": "stderr",
     "output_type": "stream",
     "text": [
      "\r",
      "3it [00:22,  7.44s/it]"
     ]
    },
    {
     "name": "stdout",
     "output_type": "stream",
     "text": [
      "[0]\ttrain-auc:0.70850\ttrain-amex_metric:0.21468\tvalid-auc:0.70672\tvalid-amex_metric:0.20846\n",
      "[20]\ttrain-auc:0.77090\ttrain-amex_metric:0.27401\tvalid-auc:0.74758\tvalid-amex_metric:0.25090\n"
     ]
    },
    {
     "name": "stderr",
     "output_type": "stream",
     "text": [
      "\r",
      "4it [00:29,  7.39s/it]"
     ]
    },
    {
     "name": "stdout",
     "output_type": "stream",
     "text": [
      "[0]\ttrain-auc:0.70987\ttrain-amex_metric:0.21545\tvalid-auc:0.69146\tvalid-amex_metric:0.19719\n",
      "[19]\ttrain-auc:0.77041\ttrain-amex_metric:0.27286\tvalid-auc:0.74298\tvalid-amex_metric:0.24739\n"
     ]
    },
    {
     "name": "stderr",
     "output_type": "stream",
     "text": [
      "5it [00:37,  7.41s/it]\n",
      "\u001b[32m[I 2023-04-29 12:42:14,275]\u001b[0m Trial 74 finished with value: 0.6671968526232478 and parameters: {'max_depth': 10, 'eta': 0.1981116434647382, 'min_child_weight': 2, 'subsample': 0.7993423016130156, 'colsample_bytree': 0.6762283737607709, 'lambda': 0.07006984322475623, 'alpha': 1.826179805096906}. Best is trial 51 with value: 0.6680073980131823.\u001b[0m\n",
      "0it [00:00, ?it/s]"
     ]
    },
    {
     "name": "stdout",
     "output_type": "stream",
     "text": [
      "[0]\ttrain-auc:0.71820\ttrain-amex_metric:0.22276\tvalid-auc:0.68639\tvalid-amex_metric:0.19360\n",
      "[19]\ttrain-auc:0.80360\ttrain-amex_metric:0.30576\tvalid-auc:0.71972\tvalid-amex_metric:0.22561\n"
     ]
    },
    {
     "name": "stderr",
     "output_type": "stream",
     "text": [
      "\r",
      "1it [00:07,  7.45s/it]"
     ]
    },
    {
     "name": "stdout",
     "output_type": "stream",
     "text": [
      "[0]\ttrain-auc:0.71518\ttrain-amex_metric:0.21919\tvalid-auc:0.69967\tvalid-amex_metric:0.20552\n",
      "[20]\ttrain-auc:0.80795\ttrain-amex_metric:0.31051\tvalid-auc:0.71962\tvalid-amex_metric:0.22380\n"
     ]
    },
    {
     "name": "stderr",
     "output_type": "stream",
     "text": [
      "\r",
      "2it [00:14,  7.36s/it]"
     ]
    },
    {
     "name": "stdout",
     "output_type": "stream",
     "text": [
      "[0]\ttrain-auc:0.71265\ttrain-amex_metric:0.21792\tvalid-auc:0.70679\tvalid-amex_metric:0.21383\n",
      "[19]\ttrain-auc:0.80171\ttrain-amex_metric:0.30504\tvalid-auc:0.72723\tvalid-amex_metric:0.22923\n"
     ]
    },
    {
     "name": "stderr",
     "output_type": "stream",
     "text": [
      "\r",
      "3it [00:22,  7.32s/it]"
     ]
    },
    {
     "name": "stdout",
     "output_type": "stream",
     "text": [
      "[0]\ttrain-auc:0.71372\ttrain-amex_metric:0.21986\tvalid-auc:0.70722\tvalid-amex_metric:0.21444\n",
      "[20]\ttrain-auc:0.80013\ttrain-amex_metric:0.30298\tvalid-auc:0.73611\tvalid-amex_metric:0.23748\n"
     ]
    },
    {
     "name": "stderr",
     "output_type": "stream",
     "text": [
      "\r",
      "4it [00:28,  7.07s/it]"
     ]
    },
    {
     "name": "stdout",
     "output_type": "stream",
     "text": [
      "[0]\ttrain-auc:0.71546\ttrain-amex_metric:0.22014\tvalid-auc:0.69150\tvalid-amex_metric:0.19676\n",
      "[19]\ttrain-auc:0.80402\ttrain-amex_metric:0.30653\tvalid-auc:0.73052\tvalid-amex_metric:0.23523\n"
     ]
    },
    {
     "name": "stderr",
     "output_type": "stream",
     "text": [
      "5it [00:35,  7.15s/it]\n",
      "\u001b[32m[I 2023-04-29 12:42:50,076]\u001b[0m Trial 75 finished with value: 0.657619293020235 and parameters: {'max_depth': 10, 'eta': 0.5744786688928422, 'min_child_weight': 2, 'subsample': 0.8033548198316063, 'colsample_bytree': 0.6897660324481706, 'lambda': 0.09096007719226999, 'alpha': 0.19876839176322986}. Best is trial 51 with value: 0.6680073980131823.\u001b[0m\n",
      "0it [00:00, ?it/s]"
     ]
    },
    {
     "name": "stdout",
     "output_type": "stream",
     "text": [
      "[0]\ttrain-auc:0.72509\ttrain-amex_metric:0.22882\tvalid-auc:0.68224\tvalid-amex_metric:0.18794\n",
      "[19]\ttrain-auc:0.78696\ttrain-amex_metric:0.28924\tvalid-auc:0.73133\tvalid-amex_metric:0.23600\n"
     ]
    },
    {
     "name": "stderr",
     "output_type": "stream",
     "text": [
      "\r",
      "1it [00:06,  6.98s/it]"
     ]
    },
    {
     "name": "stdout",
     "output_type": "stream",
     "text": [
      "[0]\ttrain-auc:0.71988\ttrain-amex_metric:0.22423\tvalid-auc:0.70286\tvalid-amex_metric:0.20947\n",
      "[20]\ttrain-auc:0.78880\ttrain-amex_metric:0.29105\tvalid-auc:0.73793\tvalid-amex_metric:0.24275\n"
     ]
    },
    {
     "name": "stderr",
     "output_type": "stream",
     "text": [
      "\r",
      "2it [00:14,  7.21s/it]"
     ]
    },
    {
     "name": "stdout",
     "output_type": "stream",
     "text": [
      "[0]\ttrain-auc:0.72037\ttrain-amex_metric:0.22508\tvalid-auc:0.70432\tvalid-amex_metric:0.20627\n",
      "[19]\ttrain-auc:0.78709\ttrain-amex_metric:0.28999\tvalid-auc:0.74221\tvalid-amex_metric:0.24339\n"
     ]
    },
    {
     "name": "stderr",
     "output_type": "stream",
     "text": [
      "\r",
      "3it [00:21,  7.06s/it]"
     ]
    },
    {
     "name": "stdout",
     "output_type": "stream",
     "text": [
      "[0]\ttrain-auc:0.71980\ttrain-amex_metric:0.22487\tvalid-auc:0.70069\tvalid-amex_metric:0.20443\n",
      "[20]\ttrain-auc:0.78627\ttrain-amex_metric:0.28887\tvalid-auc:0.74880\tvalid-amex_metric:0.24936\n"
     ]
    },
    {
     "name": "stderr",
     "output_type": "stream",
     "text": [
      "\r",
      "4it [00:28,  7.11s/it]"
     ]
    },
    {
     "name": "stdout",
     "output_type": "stream",
     "text": [
      "[0]\ttrain-auc:0.72400\ttrain-amex_metric:0.22852\tvalid-auc:0.69141\tvalid-amex_metric:0.19552\n",
      "[20]\ttrain-auc:0.78945\ttrain-amex_metric:0.29173\tvalid-auc:0.74121\tvalid-amex_metric:0.24496\n"
     ]
    },
    {
     "name": "stderr",
     "output_type": "stream",
     "text": [
      "5it [00:35,  7.07s/it]\n",
      "\u001b[32m[I 2023-04-29 12:43:25,440]\u001b[0m Trial 76 finished with value: 0.665907390314437 and parameters: {'max_depth': 10, 'eta': 0.04537708384603075, 'min_child_weight': 1, 'subsample': 0.879591310060293, 'colsample_bytree': 0.7630243636448031, 'lambda': 0.018803390981448485, 'alpha': 0.0880103839587925}. Best is trial 51 with value: 0.6680073980131823.\u001b[0m\n",
      "0it [00:00, ?it/s]"
     ]
    },
    {
     "name": "stdout",
     "output_type": "stream",
     "text": [
      "[0]\ttrain-auc:0.71485\ttrain-amex_metric:0.21958\tvalid-auc:0.69386\tvalid-amex_metric:0.20090\n",
      "[19]\ttrain-auc:0.79500\ttrain-amex_metric:0.29787\tvalid-auc:0.72708\tvalid-amex_metric:0.23214\n"
     ]
    },
    {
     "name": "stderr",
     "output_type": "stream",
     "text": [
      "\r",
      "1it [00:06,  6.60s/it]"
     ]
    },
    {
     "name": "stdout",
     "output_type": "stream",
     "text": [
      "[0]\ttrain-auc:0.71076\ttrain-amex_metric:0.21428\tvalid-auc:0.70453\tvalid-amex_metric:0.21165\n",
      "[20]\ttrain-auc:0.79862\ttrain-amex_metric:0.30065\tvalid-auc:0.73196\tvalid-amex_metric:0.23641\n"
     ]
    },
    {
     "name": "stderr",
     "output_type": "stream",
     "text": [
      "\r",
      "2it [00:13,  6.68s/it]"
     ]
    },
    {
     "name": "stdout",
     "output_type": "stream",
     "text": [
      "[0]\ttrain-auc:0.70941\ttrain-amex_metric:0.21527\tvalid-auc:0.70789\tvalid-amex_metric:0.21144\n",
      "[19]\ttrain-auc:0.79384\ttrain-amex_metric:0.29734\tvalid-auc:0.73464\tvalid-amex_metric:0.23599\n"
     ]
    },
    {
     "name": "stderr",
     "output_type": "stream",
     "text": [
      "\r",
      "3it [00:20,  6.92s/it]"
     ]
    },
    {
     "name": "stdout",
     "output_type": "stream",
     "text": [
      "[0]\ttrain-auc:0.70997\ttrain-amex_metric:0.21614\tvalid-auc:0.70990\tvalid-amex_metric:0.21454\n",
      "[19]\ttrain-auc:0.79241\ttrain-amex_metric:0.29538\tvalid-auc:0.74039\tvalid-amex_metric:0.24236\n"
     ]
    },
    {
     "name": "stderr",
     "output_type": "stream",
     "text": [
      "\r",
      "4it [00:28,  7.19s/it]"
     ]
    },
    {
     "name": "stdout",
     "output_type": "stream",
     "text": [
      "[0]\ttrain-auc:0.71298\ttrain-amex_metric:0.21900\tvalid-auc:0.69087\tvalid-amex_metric:0.19675\n",
      "[20]\ttrain-auc:0.79798\ttrain-amex_metric:0.30058\tvalid-auc:0.73395\tvalid-amex_metric:0.23805\n"
     ]
    },
    {
     "name": "stderr",
     "output_type": "stream",
     "text": [
      "5it [00:35,  7.08s/it]\n",
      "\u001b[32m[I 2023-04-29 12:44:00,859]\u001b[0m Trial 77 finished with value: 0.6639229518939405 and parameters: {'max_depth': 10, 'eta': 0.5586201065059249, 'min_child_weight': 2, 'subsample': 0.9166591312281631, 'colsample_bytree': 0.784808243155602, 'lambda': 0.048144278165378904, 'alpha': 1.6930857388183265}. Best is trial 51 with value: 0.6680073980131823.\u001b[0m\n",
      "0it [00:00, ?it/s]"
     ]
    },
    {
     "name": "stdout",
     "output_type": "stream",
     "text": [
      "[0]\ttrain-auc:0.71527\ttrain-amex_metric:0.22060\tvalid-auc:0.68825\tvalid-amex_metric:0.19619\n",
      "[20]\ttrain-auc:0.78353\ttrain-amex_metric:0.28625\tvalid-auc:0.73204\tvalid-amex_metric:0.23710\n"
     ]
    },
    {
     "name": "stderr",
     "output_type": "stream",
     "text": [
      "\r",
      "1it [00:06,  6.07s/it]"
     ]
    },
    {
     "name": "stdout",
     "output_type": "stream",
     "text": [
      "[0]\ttrain-auc:0.71221\ttrain-amex_metric:0.21602\tvalid-auc:0.70545\tvalid-amex_metric:0.21169\n",
      "[19]\ttrain-auc:0.78175\ttrain-amex_metric:0.28335\tvalid-auc:0.73887\tvalid-amex_metric:0.24223\n"
     ]
    },
    {
     "name": "stderr",
     "output_type": "stream",
     "text": [
      "\r",
      "2it [00:11,  5.78s/it]"
     ]
    },
    {
     "name": "stdout",
     "output_type": "stream",
     "text": [
      "[0]\ttrain-auc:0.70904\ttrain-amex_metric:0.21533\tvalid-auc:0.70925\tvalid-amex_metric:0.21498\n",
      "[19]\ttrain-auc:0.78026\ttrain-amex_metric:0.28348\tvalid-auc:0.74341\tvalid-amex_metric:0.24384\n"
     ]
    },
    {
     "name": "stderr",
     "output_type": "stream",
     "text": [
      "\r",
      "3it [00:17,  5.76s/it]"
     ]
    },
    {
     "name": "stdout",
     "output_type": "stream",
     "text": [
      "[0]\ttrain-auc:0.71055\ttrain-amex_metric:0.21697\tvalid-auc:0.70935\tvalid-amex_metric:0.21283\n",
      "[19]\ttrain-auc:0.78026\ttrain-amex_metric:0.28329\tvalid-auc:0.74629\tvalid-amex_metric:0.24936\n"
     ]
    },
    {
     "name": "stderr",
     "output_type": "stream",
     "text": [
      "\r",
      "4it [00:23,  6.00s/it]"
     ]
    },
    {
     "name": "stdout",
     "output_type": "stream",
     "text": [
      "[0]\ttrain-auc:0.71383\ttrain-amex_metric:0.21953\tvalid-auc:0.69510\tvalid-amex_metric:0.20080\n",
      "[20]\ttrain-auc:0.78284\ttrain-amex_metric:0.28521\tvalid-auc:0.73856\tvalid-amex_metric:0.24228\n"
     ]
    },
    {
     "name": "stderr",
     "output_type": "stream",
     "text": [
      "5it [00:30,  6.18s/it]\n",
      "\u001b[32m[I 2023-04-29 12:44:31,784]\u001b[0m Trial 78 finished with value: 0.6662631192324844 and parameters: {'max_depth': 9, 'eta': 0.29957674161454756, 'min_child_weight': 2, 'subsample': 0.8338978444075424, 'colsample_bytree': 0.6755703185394873, 'lambda': 0.08682418008277287, 'alpha': 0.8469143957573507}. Best is trial 51 with value: 0.6680073980131823.\u001b[0m\n",
      "0it [00:00, ?it/s]"
     ]
    },
    {
     "name": "stdout",
     "output_type": "stream",
     "text": [
      "[0]\ttrain-auc:0.70566\ttrain-amex_metric:0.21079\tvalid-auc:0.68701\tvalid-amex_metric:0.19401\n",
      "[19]\ttrain-auc:0.75594\ttrain-amex_metric:0.25944\tvalid-auc:0.72944\tvalid-amex_metric:0.23367\n"
     ]
    },
    {
     "name": "stderr",
     "output_type": "stream",
     "text": [
      "\r",
      "1it [00:06,  6.90s/it]"
     ]
    },
    {
     "name": "stdout",
     "output_type": "stream",
     "text": [
      "[0]\ttrain-auc:0.69394\ttrain-amex_metric:0.19847\tvalid-auc:0.69854\tvalid-amex_metric:0.20709\n",
      "[20]\ttrain-auc:0.75446\ttrain-amex_metric:0.25688\tvalid-auc:0.74177\tvalid-amex_metric:0.24786\n"
     ]
    },
    {
     "name": "stderr",
     "output_type": "stream",
     "text": [
      "\r",
      "2it [00:14,  7.07s/it]"
     ]
    },
    {
     "name": "stdout",
     "output_type": "stream",
     "text": [
      "[0]\ttrain-auc:0.70034\ttrain-amex_metric:0.20680\tvalid-auc:0.70654\tvalid-amex_metric:0.21231\n",
      "[20]\ttrain-auc:0.75491\ttrain-amex_metric:0.25940\tvalid-auc:0.74497\tvalid-amex_metric:0.24669\n"
     ]
    },
    {
     "name": "stderr",
     "output_type": "stream",
     "text": [
      "\r",
      "3it [00:21,  7.02s/it]"
     ]
    },
    {
     "name": "stdout",
     "output_type": "stream",
     "text": [
      "[0]\ttrain-auc:0.70113\ttrain-amex_metric:0.20795\tvalid-auc:0.70853\tvalid-amex_metric:0.21030\n",
      "[19]\ttrain-auc:0.75314\ttrain-amex_metric:0.25712\tvalid-auc:0.74825\tvalid-amex_metric:0.25168\n"
     ]
    },
    {
     "name": "stderr",
     "output_type": "stream",
     "text": [
      "\r",
      "4it [00:28,  7.08s/it]"
     ]
    },
    {
     "name": "stdout",
     "output_type": "stream",
     "text": [
      "[0]\ttrain-auc:0.70542\ttrain-amex_metric:0.21103\tvalid-auc:0.68949\tvalid-amex_metric:0.19613\n",
      "[19]\ttrain-auc:0.75469\ttrain-amex_metric:0.25804\tvalid-auc:0.74400\tvalid-amex_metric:0.24854\n"
     ]
    },
    {
     "name": "stderr",
     "output_type": "stream",
     "text": [
      "5it [00:35,  7.02s/it]\n",
      "\u001b[32m[I 2023-04-29 12:45:06,930]\u001b[0m Trial 79 finished with value: 0.6667721360481409 and parameters: {'max_depth': 10, 'eta': 0.1477292033739169, 'min_child_weight': 1, 'subsample': 0.7258330488152787, 'colsample_bytree': 0.7139536985080401, 'lambda': 0.3436695832262609, 'alpha': 5.289340556328878}. Best is trial 51 with value: 0.6680073980131823.\u001b[0m\n",
      "0it [00:00, ?it/s]"
     ]
    },
    {
     "name": "stdout",
     "output_type": "stream",
     "text": [
      "[0]\ttrain-auc:0.71829\ttrain-amex_metric:0.22371\tvalid-auc:0.68574\tvalid-amex_metric:0.19135\n",
      "[19]\ttrain-auc:0.78453\ttrain-amex_metric:0.28682\tvalid-auc:0.73140\tvalid-amex_metric:0.23609\n"
     ]
    },
    {
     "name": "stderr",
     "output_type": "stream",
     "text": [
      "\r",
      "1it [00:06,  6.89s/it]"
     ]
    },
    {
     "name": "stdout",
     "output_type": "stream",
     "text": [
      "[0]\ttrain-auc:0.71250\ttrain-amex_metric:0.21762\tvalid-auc:0.70380\tvalid-amex_metric:0.21032\n",
      "[19]\ttrain-auc:0.78386\ttrain-amex_metric:0.28634\tvalid-auc:0.74211\tvalid-amex_metric:0.24537\n"
     ]
    },
    {
     "name": "stderr",
     "output_type": "stream",
     "text": [
      "\r",
      "2it [00:13,  6.81s/it]"
     ]
    },
    {
     "name": "stdout",
     "output_type": "stream",
     "text": [
      "[0]\ttrain-auc:0.71645\ttrain-amex_metric:0.22230\tvalid-auc:0.70750\tvalid-amex_metric:0.21165\n",
      "[19]\ttrain-auc:0.78255\ttrain-amex_metric:0.28591\tvalid-auc:0.74286\tvalid-amex_metric:0.24648\n"
     ]
    },
    {
     "name": "stderr",
     "output_type": "stream",
     "text": [
      "\r",
      "3it [00:20,  6.86s/it]"
     ]
    },
    {
     "name": "stdout",
     "output_type": "stream",
     "text": [
      "[0]\ttrain-auc:0.71185\ttrain-amex_metric:0.21850\tvalid-auc:0.70316\tvalid-amex_metric:0.20520\n",
      "[20]\ttrain-auc:0.78151\ttrain-amex_metric:0.28445\tvalid-auc:0.74612\tvalid-amex_metric:0.25033\n"
     ]
    },
    {
     "name": "stderr",
     "output_type": "stream",
     "text": [
      "\r",
      "4it [00:27,  6.77s/it]"
     ]
    },
    {
     "name": "stdout",
     "output_type": "stream",
     "text": [
      "[0]\ttrain-auc:0.71744\ttrain-amex_metric:0.22360\tvalid-auc:0.69228\tvalid-amex_metric:0.19833\n",
      "[20]\ttrain-auc:0.78478\ttrain-amex_metric:0.28730\tvalid-auc:0.73974\tvalid-amex_metric:0.24318\n"
     ]
    },
    {
     "name": "stderr",
     "output_type": "stream",
     "text": [
      "5it [00:34,  6.81s/it]\n",
      "\u001b[32m[I 2023-04-29 12:45:41,032]\u001b[0m Trial 80 finished with value: 0.6668616762516957 and parameters: {'max_depth': 10, 'eta': 0.14599171398042526, 'min_child_weight': 1, 'subsample': 0.6780537559678088, 'colsample_bytree': 0.8347028009805594, 'lambda': 1.1380471103214016, 'alpha': 0.0004008594253717091}. Best is trial 51 with value: 0.6680073980131823.\u001b[0m\n",
      "0it [00:00, ?it/s]"
     ]
    },
    {
     "name": "stdout",
     "output_type": "stream",
     "text": [
      "[0]\ttrain-auc:0.72051\ttrain-amex_metric:0.22522\tvalid-auc:0.68763\tvalid-amex_metric:0.19459\n",
      "[20]\ttrain-auc:0.78497\ttrain-amex_metric:0.28723\tvalid-auc:0.73425\tvalid-amex_metric:0.23901\n"
     ]
    },
    {
     "name": "stderr",
     "output_type": "stream",
     "text": [
      "\r",
      "1it [00:06,  6.77s/it]"
     ]
    },
    {
     "name": "stdout",
     "output_type": "stream",
     "text": [
      "[0]\ttrain-auc:0.71520\ttrain-amex_metric:0.22146\tvalid-auc:0.69910\tvalid-amex_metric:0.20592\n",
      "[20]\ttrain-auc:0.78760\ttrain-amex_metric:0.28969\tvalid-auc:0.73922\tvalid-amex_metric:0.24381\n"
     ]
    },
    {
     "name": "stderr",
     "output_type": "stream",
     "text": [
      "\r",
      "2it [00:13,  6.71s/it]"
     ]
    },
    {
     "name": "stdout",
     "output_type": "stream",
     "text": [
      "[0]\ttrain-auc:0.71513\ttrain-amex_metric:0.22151\tvalid-auc:0.70612\tvalid-amex_metric:0.21000\n",
      "[20]\ttrain-auc:0.78422\ttrain-amex_metric:0.28739\tvalid-auc:0.74299\tvalid-amex_metric:0.24381\n"
     ]
    },
    {
     "name": "stderr",
     "output_type": "stream",
     "text": [
      "\r",
      "3it [00:20,  6.84s/it]"
     ]
    },
    {
     "name": "stdout",
     "output_type": "stream",
     "text": [
      "[0]\ttrain-auc:0.71572\ttrain-amex_metric:0.22159\tvalid-auc:0.70529\tvalid-amex_metric:0.20702\n",
      "[20]\ttrain-auc:0.78300\ttrain-amex_metric:0.28574\tvalid-auc:0.74987\tvalid-amex_metric:0.25278\n"
     ]
    },
    {
     "name": "stderr",
     "output_type": "stream",
     "text": [
      "\r",
      "4it [00:27,  6.84s/it]"
     ]
    },
    {
     "name": "stdout",
     "output_type": "stream",
     "text": [
      "[0]\ttrain-auc:0.71884\ttrain-amex_metric:0.22445\tvalid-auc:0.69421\tvalid-amex_metric:0.20032\n",
      "[20]\ttrain-auc:0.78695\ttrain-amex_metric:0.28970\tvalid-auc:0.73895\tvalid-amex_metric:0.24244\n"
     ]
    },
    {
     "name": "stderr",
     "output_type": "stream",
     "text": [
      "5it [00:34,  6.87s/it]\n",
      "\u001b[32m[I 2023-04-29 12:46:15,419]\u001b[0m Trial 81 finished with value: 0.6670898026358957 and parameters: {'max_depth': 10, 'eta': 0.15850647536099957, 'min_child_weight': 1, 'subsample': 0.7256646010174373, 'colsample_bytree': 0.8383636239313562, 'lambda': 1.1139413015059911, 'alpha': 0.0029838353616273555}. Best is trial 51 with value: 0.6680073980131823.\u001b[0m\n",
      "0it [00:00, ?it/s]"
     ]
    },
    {
     "name": "stdout",
     "output_type": "stream",
     "text": [
      "[0]\ttrain-auc:0.71829\ttrain-amex_metric:0.22358\tvalid-auc:0.68567\tvalid-amex_metric:0.19116\n",
      "[19]\ttrain-auc:0.77867\ttrain-amex_metric:0.28136\tvalid-auc:0.73169\tvalid-amex_metric:0.23670\n"
     ]
    },
    {
     "name": "stderr",
     "output_type": "stream",
     "text": [
      "\r",
      "1it [00:06,  6.51s/it]"
     ]
    },
    {
     "name": "stdout",
     "output_type": "stream",
     "text": [
      "[0]\ttrain-auc:0.71309\ttrain-amex_metric:0.21846\tvalid-auc:0.70226\tvalid-amex_metric:0.20947\n",
      "[20]\ttrain-auc:0.77827\ttrain-amex_metric:0.28002\tvalid-auc:0.73935\tvalid-amex_metric:0.24318\n"
     ]
    },
    {
     "name": "stderr",
     "output_type": "stream",
     "text": [
      "\r",
      "2it [00:13,  6.62s/it]"
     ]
    },
    {
     "name": "stdout",
     "output_type": "stream",
     "text": [
      "[0]\ttrain-auc:0.71665\ttrain-amex_metric:0.22290\tvalid-auc:0.70640\tvalid-amex_metric:0.21008\n",
      "[20]\ttrain-auc:0.77623\ttrain-amex_metric:0.27964\tvalid-auc:0.74294\tvalid-amex_metric:0.24504\n"
     ]
    },
    {
     "name": "stderr",
     "output_type": "stream",
     "text": [
      "\r",
      "3it [00:20,  6.74s/it]"
     ]
    },
    {
     "name": "stdout",
     "output_type": "stream",
     "text": [
      "[0]\ttrain-auc:0.71203\ttrain-amex_metric:0.21809\tvalid-auc:0.70421\tvalid-amex_metric:0.21142\n",
      "[19]\ttrain-auc:0.77683\ttrain-amex_metric:0.27992\tvalid-auc:0.74983\tvalid-amex_metric:0.25044\n"
     ]
    },
    {
     "name": "stderr",
     "output_type": "stream",
     "text": [
      "\r",
      "4it [00:26,  6.78s/it]"
     ]
    },
    {
     "name": "stdout",
     "output_type": "stream",
     "text": [
      "[0]\ttrain-auc:0.71795\ttrain-amex_metric:0.22364\tvalid-auc:0.69077\tvalid-amex_metric:0.19698\n",
      "[20]\ttrain-auc:0.78035\ttrain-amex_metric:0.28275\tvalid-auc:0.74316\tvalid-amex_metric:0.24759\n"
     ]
    },
    {
     "name": "stderr",
     "output_type": "stream",
     "text": [
      "5it [00:33,  6.74s/it]\n",
      "\u001b[32m[I 2023-04-29 12:46:49,146]\u001b[0m Trial 82 finished with value: 0.6669603133512494 and parameters: {'max_depth': 10, 'eta': 0.08329361023316163, 'min_child_weight': 1, 'subsample': 0.6829613222836695, 'colsample_bytree': 0.8539747459380673, 'lambda': 1.0474554415653445, 'alpha': 0.0018097869404343169}. Best is trial 51 with value: 0.6680073980131823.\u001b[0m\n",
      "0it [00:00, ?it/s]"
     ]
    },
    {
     "name": "stdout",
     "output_type": "stream",
     "text": [
      "[0]\ttrain-auc:0.71681\ttrain-amex_metric:0.22201\tvalid-auc:0.68793\tvalid-amex_metric:0.19485\n",
      "[20]\ttrain-auc:0.77307\ttrain-amex_metric:0.27638\tvalid-auc:0.73100\tvalid-amex_metric:0.23687\n"
     ]
    },
    {
     "name": "stderr",
     "output_type": "stream",
     "text": [
      "\r",
      "1it [00:06,  6.56s/it]"
     ]
    },
    {
     "name": "stdout",
     "output_type": "stream",
     "text": [
      "[0]\ttrain-auc:0.71289\ttrain-amex_metric:0.21852\tvalid-auc:0.70742\tvalid-amex_metric:0.21477\n",
      "[20]\ttrain-auc:0.77346\ttrain-amex_metric:0.27489\tvalid-auc:0.73986\tvalid-amex_metric:0.24527\n"
     ]
    },
    {
     "name": "stderr",
     "output_type": "stream",
     "text": [
      "\r",
      "2it [00:13,  6.75s/it]"
     ]
    },
    {
     "name": "stdout",
     "output_type": "stream",
     "text": [
      "[0]\ttrain-auc:0.71364\ttrain-amex_metric:0.21977\tvalid-auc:0.70929\tvalid-amex_metric:0.21416\n",
      "[20]\ttrain-auc:0.77186\ttrain-amex_metric:0.27539\tvalid-auc:0.74179\tvalid-amex_metric:0.24394\n"
     ]
    },
    {
     "name": "stderr",
     "output_type": "stream",
     "text": [
      "\r",
      "3it [00:20,  6.80s/it]"
     ]
    },
    {
     "name": "stdout",
     "output_type": "stream",
     "text": [
      "[0]\ttrain-auc:0.71264\ttrain-amex_metric:0.21853\tvalid-auc:0.70581\tvalid-amex_metric:0.20836\n",
      "[19]\ttrain-auc:0.77129\ttrain-amex_metric:0.27430\tvalid-auc:0.74793\tvalid-amex_metric:0.25011\n"
     ]
    },
    {
     "name": "stderr",
     "output_type": "stream",
     "text": [
      "\r",
      "4it [00:27,  6.80s/it]"
     ]
    },
    {
     "name": "stdout",
     "output_type": "stream",
     "text": [
      "[0]\ttrain-auc:0.71524\ttrain-amex_metric:0.22051\tvalid-auc:0.69202\tvalid-amex_metric:0.19798\n",
      "[20]\ttrain-auc:0.77326\ttrain-amex_metric:0.27599\tvalid-auc:0.74395\tvalid-amex_metric:0.24813\n"
     ]
    },
    {
     "name": "stderr",
     "output_type": "stream",
     "text": [
      "5it [00:33,  6.76s/it]\n",
      "\u001b[32m[I 2023-04-29 12:47:22,954]\u001b[0m Trial 83 finished with value: 0.6659444351238176 and parameters: {'max_depth': 10, 'eta': 0.07153096645896949, 'min_child_weight': 1, 'subsample': 0.7869480686443748, 'colsample_bytree': 0.8560899498809175, 'lambda': 2.5296668426078646, 'alpha': 0.004170625990977957}. Best is trial 51 with value: 0.6680073980131823.\u001b[0m\n",
      "0it [00:00, ?it/s]"
     ]
    },
    {
     "name": "stdout",
     "output_type": "stream",
     "text": [
      "[0]\ttrain-auc:0.70939\ttrain-amex_metric:0.21463\tvalid-auc:0.68802\tvalid-amex_metric:0.19526\n",
      "[20]\ttrain-auc:0.78572\ttrain-amex_metric:0.28846\tvalid-auc:0.72737\tvalid-amex_metric:0.23240\n"
     ]
    },
    {
     "name": "stderr",
     "output_type": "stream",
     "text": [
      "\r",
      "1it [00:05,  5.50s/it]"
     ]
    },
    {
     "name": "stdout",
     "output_type": "stream",
     "text": [
      "[0]\ttrain-auc:0.70503\ttrain-amex_metric:0.20864\tvalid-auc:0.70694\tvalid-amex_metric:0.21466\n",
      "[20]\ttrain-auc:0.78814\ttrain-amex_metric:0.29184\tvalid-auc:0.72866\tvalid-amex_metric:0.23208\n"
     ]
    },
    {
     "name": "stderr",
     "output_type": "stream",
     "text": [
      "\r",
      "2it [00:11,  5.69s/it]"
     ]
    },
    {
     "name": "stdout",
     "output_type": "stream",
     "text": [
      "[0]\ttrain-auc:0.70401\ttrain-amex_metric:0.21048\tvalid-auc:0.70223\tvalid-amex_metric:0.20672\n",
      "[20]\ttrain-auc:0.78359\ttrain-amex_metric:0.28710\tvalid-auc:0.73322\tvalid-amex_metric:0.23366\n"
     ]
    },
    {
     "name": "stderr",
     "output_type": "stream",
     "text": [
      "\r",
      "3it [00:17,  5.86s/it]"
     ]
    },
    {
     "name": "stdout",
     "output_type": "stream",
     "text": [
      "[0]\ttrain-auc:0.70144\ttrain-amex_metric:0.20770\tvalid-auc:0.70349\tvalid-amex_metric:0.20700\n",
      "[20]\ttrain-auc:0.78380\ttrain-amex_metric:0.28684\tvalid-auc:0.74016\tvalid-amex_metric:0.24389\n"
     ]
    },
    {
     "name": "stderr",
     "output_type": "stream",
     "text": [
      "\r",
      "4it [00:23,  6.10s/it]"
     ]
    },
    {
     "name": "stdout",
     "output_type": "stream",
     "text": [
      "[0]\ttrain-auc:0.70806\ttrain-amex_metric:0.21440\tvalid-auc:0.69032\tvalid-amex_metric:0.19711\n",
      "[20]\ttrain-auc:0.78798\ttrain-amex_metric:0.29044\tvalid-auc:0.73571\tvalid-amex_metric:0.24017\n"
     ]
    },
    {
     "name": "stderr",
     "output_type": "stream",
     "text": [
      "5it [00:29,  5.99s/it]\n",
      "\u001b[32m[I 2023-04-29 12:47:52,914]\u001b[0m Trial 84 finished with value: 0.6629958624084977 and parameters: {'max_depth': 10, 'eta': 0.5383717134676937, 'min_child_weight': 2, 'subsample': 0.5926641545265491, 'colsample_bytree': 0.8024640206330814, 'lambda': 4.812658488284785, 'alpha': 0.0005921685834869986}. Best is trial 51 with value: 0.6680073980131823.\u001b[0m\n",
      "0it [00:00, ?it/s]"
     ]
    },
    {
     "name": "stdout",
     "output_type": "stream",
     "text": [
      "[0]\ttrain-auc:0.73444\ttrain-amex_metric:0.23762\tvalid-auc:0.69839\tvalid-amex_metric:0.20226\n",
      "[20]\ttrain-auc:0.82329\ttrain-amex_metric:0.32622\tvalid-auc:0.69738\tvalid-amex_metric:0.20511\n"
     ]
    },
    {
     "name": "stderr",
     "output_type": "stream",
     "text": [
      "\r",
      "1it [00:06,  6.72s/it]"
     ]
    },
    {
     "name": "stdout",
     "output_type": "stream",
     "text": [
      "[0]\ttrain-auc:0.73038\ttrain-amex_metric:0.23384\tvalid-auc:0.71547\tvalid-amex_metric:0.22194\n",
      "[20]\ttrain-auc:0.82841\ttrain-amex_metric:0.32971\tvalid-auc:0.70477\tvalid-amex_metric:0.20976\n",
      "[40]\ttrain-auc:0.50206\ttrain-amex_metric:0.02459\tvalid-auc:0.51558\tvalid-amex_metric:0.04231\n"
     ]
    },
    {
     "name": "stderr",
     "output_type": "stream",
     "text": [
      "\r",
      "2it [00:17,  8.94s/it]"
     ]
    },
    {
     "name": "stdout",
     "output_type": "stream",
     "text": [
      "[0]\ttrain-auc:0.73352\ttrain-amex_metric:0.23758\tvalid-auc:0.71602\tvalid-amex_metric:0.21767\n",
      "[20]\ttrain-auc:0.82437\ttrain-amex_metric:0.32753\tvalid-auc:0.70520\tvalid-amex_metric:0.20819\n",
      "[40]\ttrain-auc:0.50661\ttrain-amex_metric:0.02767\tvalid-auc:0.49745\tvalid-amex_metric:0.03008\n",
      "[41]\ttrain-auc:0.50661\ttrain-amex_metric:0.02767\tvalid-auc:0.49745\tvalid-amex_metric:0.03008\n"
     ]
    },
    {
     "name": "stderr",
     "output_type": "stream",
     "text": [
      "\r",
      "3it [00:28,  9.79s/it]"
     ]
    },
    {
     "name": "stdout",
     "output_type": "stream",
     "text": [
      "[0]\ttrain-auc:0.72928\ttrain-amex_metric:0.23356\tvalid-auc:0.71636\tvalid-amex_metric:0.21824\n",
      "[20]\ttrain-auc:0.50506\ttrain-amex_metric:0.03071\tvalid-auc:0.50390\tvalid-amex_metric:0.02016\n",
      "[37]\ttrain-auc:0.50506\ttrain-amex_metric:0.03071\tvalid-auc:0.50390\tvalid-amex_metric:0.02016\n"
     ]
    },
    {
     "name": "stderr",
     "output_type": "stream",
     "text": [
      "\r",
      "4it [00:37,  9.54s/it]"
     ]
    },
    {
     "name": "stdout",
     "output_type": "stream",
     "text": [
      "[0]\ttrain-auc:0.73172\ttrain-amex_metric:0.23595\tvalid-auc:0.70649\tvalid-amex_metric:0.21069\n",
      "[20]\ttrain-auc:0.82386\ttrain-amex_metric:0.32641\tvalid-auc:0.69914\tvalid-amex_metric:0.20516\n",
      "[40]\ttrain-auc:0.50599\ttrain-amex_metric:0.02918\tvalid-auc:0.50006\tvalid-amex_metric:0.02380\n",
      "[48]\ttrain-auc:0.50599\ttrain-amex_metric:0.02918\tvalid-auc:0.50006\tvalid-amex_metric:0.02380\n"
     ]
    },
    {
     "name": "stderr",
     "output_type": "stream",
     "text": [
      "5it [00:49,  9.92s/it]\n",
      "\u001b[32m[I 2023-04-29 12:48:42,530]\u001b[0m Trial 85 finished with value: 0.5275707219904854 and parameters: {'max_depth': 10, 'eta': 0.9843331936130006, 'min_child_weight': 1, 'subsample': 0.7064726750753428, 'colsample_bytree': 0.9133570448089148, 'lambda': 0.22871932212473872, 'alpha': 0.002016215493502611}. Best is trial 51 with value: 0.6680073980131823.\u001b[0m\n",
      "0it [00:00, ?it/s]"
     ]
    },
    {
     "name": "stdout",
     "output_type": "stream",
     "text": [
      "[0]\ttrain-auc:0.72836\ttrain-amex_metric:0.23214\tvalid-auc:0.69793\tvalid-amex_metric:0.20228\n",
      "[20]\ttrain-auc:0.76697\ttrain-amex_metric:0.26973\tvalid-auc:0.73093\tvalid-amex_metric:0.23604\n"
     ]
    },
    {
     "name": "stderr",
     "output_type": "stream",
     "text": [
      "\r",
      "1it [00:06,  6.52s/it]"
     ]
    },
    {
     "name": "stdout",
     "output_type": "stream",
     "text": [
      "[0]\ttrain-auc:0.72406\ttrain-amex_metric:0.22774\tvalid-auc:0.71293\tvalid-amex_metric:0.21959\n",
      "[19]\ttrain-auc:0.76727\ttrain-amex_metric:0.26904\tvalid-auc:0.74147\tvalid-amex_metric:0.24619\n"
     ]
    },
    {
     "name": "stderr",
     "output_type": "stream",
     "text": [
      "\r",
      "2it [00:13,  6.56s/it]"
     ]
    },
    {
     "name": "stdout",
     "output_type": "stream",
     "text": [
      "[0]\ttrain-auc:0.72538\ttrain-amex_metric:0.23097\tvalid-auc:0.71534\tvalid-amex_metric:0.21820\n",
      "[19]\ttrain-auc:0.76481\ttrain-amex_metric:0.26779\tvalid-auc:0.74238\tvalid-amex_metric:0.24409\n"
     ]
    },
    {
     "name": "stderr",
     "output_type": "stream",
     "text": [
      "\r",
      "3it [00:19,  6.58s/it]"
     ]
    },
    {
     "name": "stdout",
     "output_type": "stream",
     "text": [
      "[0]\ttrain-auc:0.72263\ttrain-amex_metric:0.22706\tvalid-auc:0.71974\tvalid-amex_metric:0.22199\n",
      "[20]\ttrain-auc:0.76439\ttrain-amex_metric:0.26740\tvalid-auc:0.74696\tvalid-amex_metric:0.25019\n"
     ]
    },
    {
     "name": "stderr",
     "output_type": "stream",
     "text": [
      "\r",
      "4it [00:26,  6.51s/it]"
     ]
    },
    {
     "name": "stdout",
     "output_type": "stream",
     "text": [
      "[0]\ttrain-auc:0.72474\ttrain-amex_metric:0.22971\tvalid-auc:0.70987\tvalid-amex_metric:0.21407\n",
      "[20]\ttrain-auc:0.76657\ttrain-amex_metric:0.26964\tvalid-auc:0.74350\tvalid-amex_metric:0.24793\n"
     ]
    },
    {
     "name": "stderr",
     "output_type": "stream",
     "text": [
      "5it [00:30,  6.15s/it]\n",
      "\u001b[32m[I 2023-04-29 12:49:13,315]\u001b[0m Trial 86 finished with value: 0.6647325031544806 and parameters: {'max_depth': 9, 'eta': 0.040688835174534144, 'min_child_weight': 2, 'subsample': 0.6289900936970945, 'colsample_bytree': 0.9410263468298437, 'lambda': 0.5294919630721772, 'alpha': 0.00016866591336277693}. Best is trial 51 with value: 0.6680073980131823.\u001b[0m\n",
      "0it [00:00, ?it/s]"
     ]
    },
    {
     "name": "stdout",
     "output_type": "stream",
     "text": [
      "[0]\ttrain-auc:0.71860\ttrain-amex_metric:0.22351\tvalid-auc:0.68569\tvalid-amex_metric:0.19252\n",
      "[20]\ttrain-auc:0.77806\ttrain-amex_metric:0.28049\tvalid-auc:0.73106\tvalid-amex_metric:0.23620\n"
     ]
    },
    {
     "name": "stderr",
     "output_type": "stream",
     "text": [
      "\r",
      "1it [00:04,  4.79s/it]"
     ]
    },
    {
     "name": "stdout",
     "output_type": "stream",
     "text": [
      "[0]\ttrain-auc:0.71461\ttrain-amex_metric:0.22187\tvalid-auc:0.69780\tvalid-amex_metric:0.20410\n",
      "[20]\ttrain-auc:0.77901\ttrain-amex_metric:0.28050\tvalid-auc:0.74023\tvalid-amex_metric:0.24417\n"
     ]
    },
    {
     "name": "stderr",
     "output_type": "stream",
     "text": [
      "\r",
      "2it [00:10,  5.04s/it]"
     ]
    },
    {
     "name": "stdout",
     "output_type": "stream",
     "text": [
      "[0]\ttrain-auc:0.71390\ttrain-amex_metric:0.21980\tvalid-auc:0.70558\tvalid-amex_metric:0.20922\n",
      "[19]\ttrain-auc:0.77700\ttrain-amex_metric:0.28071\tvalid-auc:0.74283\tvalid-amex_metric:0.24353\n"
     ]
    },
    {
     "name": "stderr",
     "output_type": "stream",
     "text": [
      "\r",
      "3it [00:15,  5.11s/it]"
     ]
    },
    {
     "name": "stdout",
     "output_type": "stream",
     "text": [
      "[0]\ttrain-auc:0.71424\ttrain-amex_metric:0.22004\tvalid-auc:0.70729\tvalid-amex_metric:0.21111\n",
      "[20]\ttrain-auc:0.77701\ttrain-amex_metric:0.27987\tvalid-auc:0.74842\tvalid-amex_metric:0.25095\n"
     ]
    },
    {
     "name": "stderr",
     "output_type": "stream",
     "text": [
      "\r",
      "4it [00:20,  5.14s/it]"
     ]
    },
    {
     "name": "stdout",
     "output_type": "stream",
     "text": [
      "[0]\ttrain-auc:0.71826\ttrain-amex_metric:0.22416\tvalid-auc:0.69413\tvalid-amex_metric:0.20058\n",
      "[20]\ttrain-auc:0.77960\ttrain-amex_metric:0.28225\tvalid-auc:0.74328\tvalid-amex_metric:0.24694\n"
     ]
    },
    {
     "name": "stderr",
     "output_type": "stream",
     "text": [
      "5it [00:25,  5.13s/it]\n",
      "\u001b[32m[I 2023-04-29 12:49:38,979]\u001b[0m Trial 87 finished with value: 0.6676544786189291 and parameters: {'max_depth': 10, 'eta': 0.10073308134314371, 'min_child_weight': 1, 'subsample': 0.7600543453185227, 'colsample_bytree': 0.8297824601770165, 'lambda': 1.73688731088718, 'alpha': 0.0020215535992867766}. Best is trial 51 with value: 0.6680073980131823.\u001b[0m\n",
      "0it [00:00, ?it/s]"
     ]
    },
    {
     "name": "stdout",
     "output_type": "stream",
     "text": [
      "[0]\ttrain-auc:0.70078\ttrain-amex_metric:0.20654\tvalid-auc:0.68278\tvalid-amex_metric:0.18931\n",
      "[20]\ttrain-auc:0.75119\ttrain-amex_metric:0.25476\tvalid-auc:0.73019\tvalid-amex_metric:0.23617\n"
     ]
    },
    {
     "name": "stderr",
     "output_type": "stream",
     "text": [
      "\r",
      "1it [00:04,  4.50s/it]"
     ]
    },
    {
     "name": "stdout",
     "output_type": "stream",
     "text": [
      "[0]\ttrain-auc:0.69549\ttrain-amex_metric:0.20107\tvalid-auc:0.69829\tvalid-amex_metric:0.20709\n",
      "[19]\ttrain-auc:0.74979\ttrain-amex_metric:0.25383\tvalid-auc:0.73819\tvalid-amex_metric:0.24334\n"
     ]
    },
    {
     "name": "stderr",
     "output_type": "stream",
     "text": [
      "\r",
      "2it [00:09,  4.54s/it]"
     ]
    },
    {
     "name": "stdout",
     "output_type": "stream",
     "text": [
      "[0]\ttrain-auc:0.70098\ttrain-amex_metric:0.20753\tvalid-auc:0.70479\tvalid-amex_metric:0.20813\n",
      "[20]\ttrain-auc:0.74949\ttrain-amex_metric:0.25474\tvalid-auc:0.73767\tvalid-amex_metric:0.23980\n"
     ]
    },
    {
     "name": "stderr",
     "output_type": "stream",
     "text": [
      "\r",
      "3it [00:13,  4.56s/it]"
     ]
    },
    {
     "name": "stdout",
     "output_type": "stream",
     "text": [
      "[0]\ttrain-auc:0.69723\ttrain-amex_metric:0.20348\tvalid-auc:0.69899\tvalid-amex_metric:0.20200\n",
      "[20]\ttrain-auc:0.74942\ttrain-amex_metric:0.25346\tvalid-auc:0.74268\tvalid-amex_metric:0.24534\n"
     ]
    },
    {
     "name": "stderr",
     "output_type": "stream",
     "text": [
      "\r",
      "4it [00:18,  4.57s/it]"
     ]
    },
    {
     "name": "stdout",
     "output_type": "stream",
     "text": [
      "[0]\ttrain-auc:0.70283\ttrain-amex_metric:0.20856\tvalid-auc:0.68380\tvalid-amex_metric:0.18991\n",
      "[20]\ttrain-auc:0.75081\ttrain-amex_metric:0.25496\tvalid-auc:0.73859\tvalid-amex_metric:0.24299\n"
     ]
    },
    {
     "name": "stderr",
     "output_type": "stream",
     "text": [
      "5it [00:22,  4.58s/it]\n",
      "\u001b[32m[I 2023-04-29 12:50:01,877]\u001b[0m Trial 88 finished with value: 0.6627284099808661 and parameters: {'max_depth': 10, 'eta': 0.019095690976299384, 'min_child_weight': 1, 'subsample': 0.3312246782043102, 'colsample_bytree': 0.755924943987385, 'lambda': 4.150458466940263, 'alpha': 0.019475920314424133}. Best is trial 51 with value: 0.6680073980131823.\u001b[0m\n",
      "0it [00:00, ?it/s]"
     ]
    },
    {
     "name": "stdout",
     "output_type": "stream",
     "text": [
      "[0]\ttrain-auc:0.72990\ttrain-amex_metric:0.23538\tvalid-auc:0.69951\tvalid-amex_metric:0.20551\n",
      "[19]\ttrain-auc:0.77709\ttrain-amex_metric:0.27961\tvalid-auc:0.73318\tvalid-amex_metric:0.23802\n"
     ]
    },
    {
     "name": "stderr",
     "output_type": "stream",
     "text": [
      "\r",
      "1it [00:05,  5.20s/it]"
     ]
    },
    {
     "name": "stdout",
     "output_type": "stream",
     "text": [
      "[0]\ttrain-auc:0.72693\ttrain-amex_metric:0.23115\tvalid-auc:0.71698\tvalid-amex_metric:0.22389\n",
      "[19]\ttrain-auc:0.77793\ttrain-amex_metric:0.28009\tvalid-auc:0.74163\tvalid-amex_metric:0.24555\n"
     ]
    },
    {
     "name": "stderr",
     "output_type": "stream",
     "text": [
      "\r",
      "2it [00:10,  5.30s/it]"
     ]
    },
    {
     "name": "stdout",
     "output_type": "stream",
     "text": [
      "[0]\ttrain-auc:0.72966\ttrain-amex_metric:0.23477\tvalid-auc:0.71350\tvalid-amex_metric:0.21520\n",
      "[19]\ttrain-auc:0.77605\ttrain-amex_metric:0.27957\tvalid-auc:0.74335\tvalid-amex_metric:0.24722\n"
     ]
    },
    {
     "name": "stderr",
     "output_type": "stream",
     "text": [
      "\r",
      "3it [00:15,  5.35s/it]"
     ]
    },
    {
     "name": "stdout",
     "output_type": "stream",
     "text": [
      "[0]\ttrain-auc:0.72490\ttrain-amex_metric:0.23054\tvalid-auc:0.72035\tvalid-amex_metric:0.22266\n",
      "[20]\ttrain-auc:0.77407\ttrain-amex_metric:0.27707\tvalid-auc:0.74688\tvalid-amex_metric:0.24893\n"
     ]
    },
    {
     "name": "stderr",
     "output_type": "stream",
     "text": [
      "\r",
      "4it [00:21,  5.37s/it]"
     ]
    },
    {
     "name": "stdout",
     "output_type": "stream",
     "text": [
      "[0]\ttrain-auc:0.72967\ttrain-amex_metric:0.23521\tvalid-auc:0.70535\tvalid-amex_metric:0.21068\n",
      "[19]\ttrain-auc:0.77828\ttrain-amex_metric:0.28087\tvalid-auc:0.74100\tvalid-amex_metric:0.24392\n"
     ]
    },
    {
     "name": "stderr",
     "output_type": "stream",
     "text": [
      "5it [00:26,  5.36s/it]\n",
      "\u001b[32m[I 2023-04-29 12:50:28,695]\u001b[0m Trial 89 finished with value: 0.6665935379131293 and parameters: {'max_depth': 10, 'eta': 0.09936499494763924, 'min_child_weight': 1, 'subsample': 0.6542709842988079, 'colsample_bytree': 0.9734891004194326, 'lambda': 1.4825709182424172, 'alpha': 0.0034509870078626515}. Best is trial 51 with value: 0.6680073980131823.\u001b[0m\n",
      "0it [00:00, ?it/s]"
     ]
    },
    {
     "name": "stdout",
     "output_type": "stream",
     "text": [
      "[0]\ttrain-auc:0.71257\ttrain-amex_metric:0.21764\tvalid-auc:0.68996\tvalid-amex_metric:0.19626\n",
      "[19]\ttrain-auc:0.75987\ttrain-amex_metric:0.26353\tvalid-auc:0.73107\tvalid-amex_metric:0.23683\n"
     ]
    },
    {
     "name": "stderr",
     "output_type": "stream",
     "text": [
      "\r",
      "1it [00:05,  5.08s/it]"
     ]
    },
    {
     "name": "stdout",
     "output_type": "stream",
     "text": [
      "[0]\ttrain-auc:0.70632\ttrain-amex_metric:0.21096\tvalid-auc:0.70761\tvalid-amex_metric:0.21557\n",
      "[19]\ttrain-auc:0.75903\ttrain-amex_metric:0.26228\tvalid-auc:0.73818\tvalid-amex_metric:0.24354\n"
     ]
    },
    {
     "name": "stderr",
     "output_type": "stream",
     "text": [
      "\r",
      "2it [00:10,  5.19s/it]"
     ]
    },
    {
     "name": "stdout",
     "output_type": "stream",
     "text": [
      "[0]\ttrain-auc:0.70556\ttrain-amex_metric:0.21221\tvalid-auc:0.70810\tvalid-amex_metric:0.21050\n",
      "[19]\ttrain-auc:0.75896\ttrain-amex_metric:0.26305\tvalid-auc:0.74231\tvalid-amex_metric:0.24417\n"
     ]
    },
    {
     "name": "stderr",
     "output_type": "stream",
     "text": [
      "\r",
      "3it [00:15,  5.20s/it]"
     ]
    },
    {
     "name": "stdout",
     "output_type": "stream",
     "text": [
      "[0]\ttrain-auc:0.70711\ttrain-amex_metric:0.21347\tvalid-auc:0.70459\tvalid-amex_metric:0.20708\n",
      "[19]\ttrain-auc:0.75701\ttrain-amex_metric:0.26161\tvalid-auc:0.74419\tvalid-amex_metric:0.24792\n"
     ]
    },
    {
     "name": "stderr",
     "output_type": "stream",
     "text": [
      "\r",
      "4it [00:20,  5.25s/it]"
     ]
    },
    {
     "name": "stdout",
     "output_type": "stream",
     "text": [
      "[0]\ttrain-auc:0.70916\ttrain-amex_metric:0.21501\tvalid-auc:0.69190\tvalid-amex_metric:0.19727\n",
      "[20]\ttrain-auc:0.75846\ttrain-amex_metric:0.26227\tvalid-auc:0.74265\tvalid-amex_metric:0.24727\n"
     ]
    },
    {
     "name": "stderr",
     "output_type": "stream",
     "text": [
      "5it [00:26,  5.24s/it]\n",
      "\u001b[32m[I 2023-04-29 12:50:54,907]\u001b[0m Trial 90 finished with value: 0.6636714799627736 and parameters: {'max_depth': 10, 'eta': 0.032512737447794086, 'min_child_weight': 1, 'subsample': 0.7945721386528344, 'colsample_bytree': 0.872873694230112, 'lambda': 7.2216473508187615, 'alpha': 0.000731023913276438}. Best is trial 51 with value: 0.6680073980131823.\u001b[0m\n",
      "0it [00:00, ?it/s]"
     ]
    },
    {
     "name": "stdout",
     "output_type": "stream",
     "text": [
      "[0]\ttrain-auc:0.71693\ttrain-amex_metric:0.22281\tvalid-auc:0.68689\tvalid-amex_metric:0.19499\n",
      "[20]\ttrain-auc:0.78016\ttrain-amex_metric:0.28292\tvalid-auc:0.73259\tvalid-amex_metric:0.23610\n"
     ]
    },
    {
     "name": "stderr",
     "output_type": "stream",
     "text": [
      "\r",
      "1it [00:05,  5.09s/it]"
     ]
    },
    {
     "name": "stdout",
     "output_type": "stream",
     "text": [
      "[0]\ttrain-auc:0.71344\ttrain-amex_metric:0.21690\tvalid-auc:0.70628\tvalid-amex_metric:0.21341\n",
      "[19]\ttrain-auc:0.77856\ttrain-amex_metric:0.28086\tvalid-auc:0.74173\tvalid-amex_metric:0.24621\n"
     ]
    },
    {
     "name": "stderr",
     "output_type": "stream",
     "text": [
      "\r",
      "2it [00:10,  5.19s/it]"
     ]
    },
    {
     "name": "stdout",
     "output_type": "stream",
     "text": [
      "[0]\ttrain-auc:0.71180\ttrain-amex_metric:0.21766\tvalid-auc:0.70222\tvalid-amex_metric:0.20631\n",
      "[20]\ttrain-auc:0.77897\ttrain-amex_metric:0.28207\tvalid-auc:0.74397\tvalid-amex_metric:0.24448\n"
     ]
    },
    {
     "name": "stderr",
     "output_type": "stream",
     "text": [
      "\r",
      "3it [00:15,  5.22s/it]"
     ]
    },
    {
     "name": "stdout",
     "output_type": "stream",
     "text": [
      "[0]\ttrain-auc:0.71167\ttrain-amex_metric:0.21819\tvalid-auc:0.70625\tvalid-amex_metric:0.21155\n",
      "[19]\ttrain-auc:0.77934\ttrain-amex_metric:0.28218\tvalid-auc:0.75009\tvalid-amex_metric:0.25269\n"
     ]
    },
    {
     "name": "stderr",
     "output_type": "stream",
     "text": [
      "\r",
      "4it [00:20,  5.25s/it]"
     ]
    },
    {
     "name": "stdout",
     "output_type": "stream",
     "text": [
      "[0]\ttrain-auc:0.71592\ttrain-amex_metric:0.22170\tvalid-auc:0.69350\tvalid-amex_metric:0.20051\n",
      "[20]\ttrain-auc:0.77858\ttrain-amex_metric:0.28083\tvalid-auc:0.73951\tvalid-amex_metric:0.24298\n"
     ]
    },
    {
     "name": "stderr",
     "output_type": "stream",
     "text": [
      "5it [00:26,  5.23s/it]\n",
      "\u001b[32m[I 2023-04-29 12:51:21,080]\u001b[0m Trial 91 finished with value: 0.6663265454262626 and parameters: {'max_depth': 9, 'eta': 0.20886189350592213, 'min_child_weight': 2, 'subsample': 0.7679012505367656, 'colsample_bytree': 0.786386736821443, 'lambda': 0.7319272627487503, 'alpha': 0.011834838920844944}. Best is trial 51 with value: 0.6680073980131823.\u001b[0m\n",
      "0it [00:00, ?it/s]"
     ]
    },
    {
     "name": "stdout",
     "output_type": "stream",
     "text": [
      "[0]\ttrain-auc:0.71536\ttrain-amex_metric:0.22036\tvalid-auc:0.68749\tvalid-amex_metric:0.19329\n",
      "[20]\ttrain-auc:0.78876\ttrain-amex_metric:0.29096\tvalid-auc:0.73064\tvalid-amex_metric:0.23551\n"
     ]
    },
    {
     "name": "stderr",
     "output_type": "stream",
     "text": [
      "\r",
      "1it [00:05,  5.18s/it]"
     ]
    },
    {
     "name": "stdout",
     "output_type": "stream",
     "text": [
      "[0]\ttrain-auc:0.71077\ttrain-amex_metric:0.21439\tvalid-auc:0.70207\tvalid-amex_metric:0.20852\n",
      "[20]\ttrain-auc:0.78935\ttrain-amex_metric:0.29132\tvalid-auc:0.73474\tvalid-amex_metric:0.23878\n"
     ]
    },
    {
     "name": "stderr",
     "output_type": "stream",
     "text": [
      "\r",
      "2it [00:10,  5.28s/it]"
     ]
    },
    {
     "name": "stdout",
     "output_type": "stream",
     "text": [
      "[0]\ttrain-auc:0.71205\ttrain-amex_metric:0.21869\tvalid-auc:0.70878\tvalid-amex_metric:0.21308\n",
      "[19]\ttrain-auc:0.78411\ttrain-amex_metric:0.28744\tvalid-auc:0.74106\tvalid-amex_metric:0.24151\n"
     ]
    },
    {
     "name": "stderr",
     "output_type": "stream",
     "text": [
      "\r",
      "3it [00:15,  5.34s/it]"
     ]
    },
    {
     "name": "stdout",
     "output_type": "stream",
     "text": [
      "[0]\ttrain-auc:0.71090\ttrain-amex_metric:0.21669\tvalid-auc:0.70805\tvalid-amex_metric:0.21088\n",
      "[19]\ttrain-auc:0.78438\ttrain-amex_metric:0.28705\tvalid-auc:0.74296\tvalid-amex_metric:0.24581\n"
     ]
    },
    {
     "name": "stderr",
     "output_type": "stream",
     "text": [
      "\r",
      "4it [00:21,  5.38s/it]"
     ]
    },
    {
     "name": "stdout",
     "output_type": "stream",
     "text": [
      "[0]\ttrain-auc:0.71428\ttrain-amex_metric:0.21993\tvalid-auc:0.69369\tvalid-amex_metric:0.20007\n",
      "[19]\ttrain-auc:0.78464\ttrain-amex_metric:0.28726\tvalid-auc:0.74038\tvalid-amex_metric:0.24463\n"
     ]
    },
    {
     "name": "stderr",
     "output_type": "stream",
     "text": [
      "5it [00:26,  5.36s/it]\n",
      "\u001b[32m[I 2023-04-29 12:51:47,883]\u001b[0m Trial 92 finished with value: 0.6647940703692672 and parameters: {'max_depth': 10, 'eta': 0.33268433021265276, 'min_child_weight': 2, 'subsample': 0.7311343791355163, 'colsample_bytree': 0.8333242612528633, 'lambda': 1.7711926632719637, 'alpha': 9.225735365048792e-05}. Best is trial 51 with value: 0.6680073980131823.\u001b[0m\n",
      "0it [00:00, ?it/s]"
     ]
    },
    {
     "name": "stdout",
     "output_type": "stream",
     "text": [
      "[0]\ttrain-auc:0.71670\ttrain-amex_metric:0.22225\tvalid-auc:0.68515\tvalid-amex_metric:0.19309\n",
      "[19]\ttrain-auc:0.77131\ttrain-amex_metric:0.27380\tvalid-auc:0.73353\tvalid-amex_metric:0.23836\n"
     ]
    },
    {
     "name": "stderr",
     "output_type": "stream",
     "text": [
      "\r",
      "1it [00:05,  5.17s/it]"
     ]
    },
    {
     "name": "stdout",
     "output_type": "stream",
     "text": [
      "[0]\ttrain-auc:0.71296\ttrain-amex_metric:0.21649\tvalid-auc:0.70385\tvalid-amex_metric:0.21002\n",
      "[20]\ttrain-auc:0.77216\ttrain-amex_metric:0.27497\tvalid-auc:0.74154\tvalid-amex_metric:0.24533\n"
     ]
    },
    {
     "name": "stderr",
     "output_type": "stream",
     "text": [
      "\r",
      "2it [00:10,  5.21s/it]"
     ]
    },
    {
     "name": "stdout",
     "output_type": "stream",
     "text": [
      "[0]\ttrain-auc:0.71167\ttrain-amex_metric:0.21747\tvalid-auc:0.70853\tvalid-amex_metric:0.21165\n",
      "[20]\ttrain-auc:0.77200\ttrain-amex_metric:0.27532\tvalid-auc:0.74252\tvalid-amex_metric:0.24308\n"
     ]
    },
    {
     "name": "stderr",
     "output_type": "stream",
     "text": [
      "\r",
      "3it [00:15,  5.24s/it]"
     ]
    },
    {
     "name": "stdout",
     "output_type": "stream",
     "text": [
      "[0]\ttrain-auc:0.71261\ttrain-amex_metric:0.21872\tvalid-auc:0.70873\tvalid-amex_metric:0.21349\n",
      "[19]\ttrain-auc:0.77139\ttrain-amex_metric:0.27409\tvalid-auc:0.74731\tvalid-amex_metric:0.25091\n"
     ]
    },
    {
     "name": "stderr",
     "output_type": "stream",
     "text": [
      "\r",
      "4it [00:20,  5.25s/it]"
     ]
    },
    {
     "name": "stdout",
     "output_type": "stream",
     "text": [
      "[0]\ttrain-auc:0.71485\ttrain-amex_metric:0.22066\tvalid-auc:0.69121\tvalid-amex_metric:0.19743\n",
      "[20]\ttrain-auc:0.77255\ttrain-amex_metric:0.27519\tvalid-auc:0.74344\tvalid-amex_metric:0.24706\n"
     ]
    },
    {
     "name": "stderr",
     "output_type": "stream",
     "text": [
      "5it [00:26,  5.26s/it]\n",
      "\u001b[32m[I 2023-04-29 12:52:14,204]\u001b[0m Trial 93 finished with value: 0.6631386986627079 and parameters: {'max_depth': 9, 'eta': 0.05687425311987315, 'min_child_weight': 2, 'subsample': 0.8213713696466561, 'colsample_bytree': 0.7240341684685737, 'lambda': 0.45337674739021805, 'alpha': 0.0025708959090072116}. Best is trial 51 with value: 0.6680073980131823.\u001b[0m\n",
      "0it [00:00, ?it/s]"
     ]
    },
    {
     "name": "stdout",
     "output_type": "stream",
     "text": [
      "[0]\ttrain-auc:0.72077\ttrain-amex_metric:0.22480\tvalid-auc:0.68382\tvalid-amex_metric:0.18903\n",
      "[19]\ttrain-auc:0.79014\ttrain-amex_metric:0.29204\tvalid-auc:0.72974\tvalid-amex_metric:0.23441\n"
     ]
    },
    {
     "name": "stderr",
     "output_type": "stream",
     "text": [
      "\r",
      "1it [00:05,  5.31s/it]"
     ]
    },
    {
     "name": "stdout",
     "output_type": "stream",
     "text": [
      "[0]\ttrain-auc:0.71566\ttrain-amex_metric:0.21885\tvalid-auc:0.69633\tvalid-amex_metric:0.20257\n",
      "[20]\ttrain-auc:0.79192\ttrain-amex_metric:0.29419\tvalid-auc:0.73626\tvalid-amex_metric:0.24097\n"
     ]
    },
    {
     "name": "stderr",
     "output_type": "stream",
     "text": [
      "\r",
      "2it [00:10,  5.40s/it]"
     ]
    },
    {
     "name": "stdout",
     "output_type": "stream",
     "text": [
      "[0]\ttrain-auc:0.71843\ttrain-amex_metric:0.22289\tvalid-auc:0.70429\tvalid-amex_metric:0.20685\n",
      "[20]\ttrain-auc:0.78883\ttrain-amex_metric:0.29197\tvalid-auc:0.74070\tvalid-amex_metric:0.24193\n"
     ]
    },
    {
     "name": "stderr",
     "output_type": "stream",
     "text": [
      "\r",
      "3it [00:16,  5.46s/it]"
     ]
    },
    {
     "name": "stdout",
     "output_type": "stream",
     "text": [
      "[0]\ttrain-auc:0.71398\ttrain-amex_metric:0.21849\tvalid-auc:0.70392\tvalid-amex_metric:0.20680\n",
      "[20]\ttrain-auc:0.78895\ttrain-amex_metric:0.29177\tvalid-auc:0.74518\tvalid-amex_metric:0.24902\n"
     ]
    },
    {
     "name": "stderr",
     "output_type": "stream",
     "text": [
      "\r",
      "4it [00:21,  5.49s/it]"
     ]
    },
    {
     "name": "stdout",
     "output_type": "stream",
     "text": [
      "[0]\ttrain-auc:0.72028\ttrain-amex_metric:0.22460\tvalid-auc:0.68757\tvalid-amex_metric:0.19262\n",
      "[19]\ttrain-auc:0.79163\ttrain-amex_metric:0.29413\tvalid-auc:0.73582\tvalid-amex_metric:0.23952\n"
     ]
    },
    {
     "name": "stderr",
     "output_type": "stream",
     "text": [
      "5it [00:27,  5.48s/it]\n",
      "\u001b[32m[I 2023-04-29 12:52:41,612]\u001b[0m Trial 94 finished with value: 0.6658554520515275 and parameters: {'max_depth': 10, 'eta': 0.1204186249433966, 'min_child_weight': 1, 'subsample': 0.6937129559249442, 'colsample_bytree': 0.8210593904278086, 'lambda': 0.13818174723328566, 'alpha': 0.00022920265302633062}. Best is trial 51 with value: 0.6680073980131823.\u001b[0m\n",
      "0it [00:00, ?it/s]"
     ]
    },
    {
     "name": "stdout",
     "output_type": "stream",
     "text": [
      "[0]\ttrain-auc:0.72893\ttrain-amex_metric:0.23196\tvalid-auc:0.70171\tvalid-amex_metric:0.20653\n",
      "[20]\ttrain-auc:0.77593\ttrain-amex_metric:0.27847\tvalid-auc:0.73371\tvalid-amex_metric:0.23757\n"
     ]
    },
    {
     "name": "stderr",
     "output_type": "stream",
     "text": [
      "\r",
      "1it [00:05,  5.21s/it]"
     ]
    },
    {
     "name": "stdout",
     "output_type": "stream",
     "text": [
      "[0]\ttrain-auc:0.72076\ttrain-amex_metric:0.22230\tvalid-auc:0.71259\tvalid-amex_metric:0.21886\n",
      "[20]\ttrain-auc:0.77362\ttrain-amex_metric:0.27603\tvalid-auc:0.74072\tvalid-amex_metric:0.24467\n"
     ]
    },
    {
     "name": "stderr",
     "output_type": "stream",
     "text": [
      "\r",
      "2it [00:10,  5.32s/it]"
     ]
    },
    {
     "name": "stdout",
     "output_type": "stream",
     "text": [
      "[0]\ttrain-auc:0.72644\ttrain-amex_metric:0.22988\tvalid-auc:0.71916\tvalid-amex_metric:0.22056\n",
      "[19]\ttrain-auc:0.77390\ttrain-amex_metric:0.27708\tvalid-auc:0.74090\tvalid-amex_metric:0.24201\n"
     ]
    },
    {
     "name": "stderr",
     "output_type": "stream",
     "text": [
      "\r",
      "3it [00:15,  5.32s/it]"
     ]
    },
    {
     "name": "stdout",
     "output_type": "stream",
     "text": [
      "[0]\ttrain-auc:0.72583\ttrain-amex_metric:0.22882\tvalid-auc:0.72091\tvalid-amex_metric:0.22534\n",
      "[19]\ttrain-auc:0.77258\ttrain-amex_metric:0.27550\tvalid-auc:0.74636\tvalid-amex_metric:0.24952\n"
     ]
    },
    {
     "name": "stderr",
     "output_type": "stream",
     "text": [
      "\r",
      "4it [00:21,  5.36s/it]"
     ]
    },
    {
     "name": "stdout",
     "output_type": "stream",
     "text": [
      "[0]\ttrain-auc:0.72899\ttrain-amex_metric:0.23226\tvalid-auc:0.71221\tvalid-amex_metric:0.21580\n",
      "[19]\ttrain-auc:0.77712\ttrain-amex_metric:0.27932\tvalid-auc:0.73913\tvalid-amex_metric:0.24299\n"
     ]
    },
    {
     "name": "stderr",
     "output_type": "stream",
     "text": [
      "5it [00:26,  5.34s/it]\n",
      "\u001b[32m[I 2023-04-29 12:53:08,319]\u001b[0m Trial 95 finished with value: 0.6659729238880701 and parameters: {'max_depth': 9, 'eta': 0.18060335700275693, 'min_child_weight': 3, 'subsample': 0.756688748680016, 'colsample_bytree': 0.9007038949043431, 'lambda': 0.05520904895756572, 'alpha': 0.0012507606520511996}. Best is trial 51 with value: 0.6680073980131823.\u001b[0m\n",
      "0it [00:00, ?it/s]"
     ]
    },
    {
     "name": "stdout",
     "output_type": "stream",
     "text": [
      "[0]\ttrain-auc:0.71327\ttrain-amex_metric:0.21726\tvalid-auc:0.68942\tvalid-amex_metric:0.19482\n",
      "[19]\ttrain-auc:0.77794\ttrain-amex_metric:0.28068\tvalid-auc:0.73145\tvalid-amex_metric:0.23624\n"
     ]
    },
    {
     "name": "stderr",
     "output_type": "stream",
     "text": [
      "\r",
      "1it [00:05,  5.18s/it]"
     ]
    },
    {
     "name": "stdout",
     "output_type": "stream",
     "text": [
      "[0]\ttrain-auc:0.70942\ttrain-amex_metric:0.21410\tvalid-auc:0.70554\tvalid-amex_metric:0.21375\n",
      "[19]\ttrain-auc:0.77661\ttrain-amex_metric:0.27867\tvalid-auc:0.73825\tvalid-amex_metric:0.24248\n"
     ]
    },
    {
     "name": "stderr",
     "output_type": "stream",
     "text": [
      "\r",
      "2it [00:10,  5.24s/it]"
     ]
    },
    {
     "name": "stdout",
     "output_type": "stream",
     "text": [
      "[0]\ttrain-auc:0.70928\ttrain-amex_metric:0.21426\tvalid-auc:0.70993\tvalid-amex_metric:0.21359\n",
      "[20]\ttrain-auc:0.77699\ttrain-amex_metric:0.28044\tvalid-auc:0.74149\tvalid-amex_metric:0.24177\n"
     ]
    },
    {
     "name": "stderr",
     "output_type": "stream",
     "text": [
      "\r",
      "3it [00:15,  5.24s/it]"
     ]
    },
    {
     "name": "stdout",
     "output_type": "stream",
     "text": [
      "[0]\ttrain-auc:0.70745\ttrain-amex_metric:0.21254\tvalid-auc:0.70667\tvalid-amex_metric:0.20886\n",
      "[19]\ttrain-auc:0.77410\ttrain-amex_metric:0.27688\tvalid-auc:0.74767\tvalid-amex_metric:0.24947\n"
     ]
    },
    {
     "name": "stderr",
     "output_type": "stream",
     "text": [
      "\r",
      "4it [00:20,  5.26s/it]"
     ]
    },
    {
     "name": "stdout",
     "output_type": "stream",
     "text": [
      "[0]\ttrain-auc:0.71244\ttrain-amex_metric:0.21688\tvalid-auc:0.69562\tvalid-amex_metric:0.19987\n",
      "[20]\ttrain-auc:0.77709\ttrain-amex_metric:0.27974\tvalid-auc:0.73601\tvalid-amex_metric:0.24073\n"
     ]
    },
    {
     "name": "stderr",
     "output_type": "stream",
     "text": [
      "5it [00:26,  5.26s/it]\n",
      "\u001b[32m[I 2023-04-29 12:53:34,629]\u001b[0m Trial 96 finished with value: 0.66524519610481 and parameters: {'max_depth': 10, 'eta': 0.30237007883024186, 'min_child_weight': 5, 'subsample': 0.7206835315228408, 'colsample_bytree': 0.6621237034557728, 'lambda': 0.18989652296625628, 'alpha': 0.03441189474974973}. Best is trial 51 with value: 0.6680073980131823.\u001b[0m\n",
      "0it [00:00, ?it/s]"
     ]
    },
    {
     "name": "stdout",
     "output_type": "stream",
     "text": [
      "[0]\ttrain-auc:0.71234\ttrain-amex_metric:0.21794\tvalid-auc:0.68891\tvalid-amex_metric:0.19633\n",
      "[19]\ttrain-auc:0.78251\ttrain-amex_metric:0.28495\tvalid-auc:0.72892\tvalid-amex_metric:0.23359\n"
     ]
    },
    {
     "name": "stderr",
     "output_type": "stream",
     "text": [
      "\r",
      "1it [00:05,  5.07s/it]"
     ]
    },
    {
     "name": "stdout",
     "output_type": "stream",
     "text": [
      "[0]\ttrain-auc:0.70928\ttrain-amex_metric:0.21360\tvalid-auc:0.70610\tvalid-amex_metric:0.21300\n",
      "[19]\ttrain-auc:0.78234\ttrain-amex_metric:0.28485\tvalid-auc:0.73436\tvalid-amex_metric:0.23862\n"
     ]
    },
    {
     "name": "stderr",
     "output_type": "stream",
     "text": [
      "\r",
      "2it [00:10,  5.18s/it]"
     ]
    },
    {
     "name": "stdout",
     "output_type": "stream",
     "text": [
      "[0]\ttrain-auc:0.70893\ttrain-amex_metric:0.21533\tvalid-auc:0.70979\tvalid-amex_metric:0.21360\n",
      "[20]\ttrain-auc:0.78542\ttrain-amex_metric:0.28871\tvalid-auc:0.73130\tvalid-amex_metric:0.23122\n"
     ]
    },
    {
     "name": "stderr",
     "output_type": "stream",
     "text": [
      "\r",
      "3it [00:15,  5.20s/it]"
     ]
    },
    {
     "name": "stdout",
     "output_type": "stream",
     "text": [
      "[0]\ttrain-auc:0.70799\ttrain-amex_metric:0.21402\tvalid-auc:0.70509\tvalid-amex_metric:0.20957\n",
      "[20]\ttrain-auc:0.78571\ttrain-amex_metric:0.28865\tvalid-auc:0.73132\tvalid-amex_metric:0.23401\n"
     ]
    },
    {
     "name": "stderr",
     "output_type": "stream",
     "text": [
      "\r",
      "4it [00:20,  5.24s/it]"
     ]
    },
    {
     "name": "stdout",
     "output_type": "stream",
     "text": [
      "[0]\ttrain-auc:0.71216\ttrain-amex_metric:0.21812\tvalid-auc:0.69247\tvalid-amex_metric:0.19817\n",
      "[20]\ttrain-auc:0.78733\ttrain-amex_metric:0.29013\tvalid-auc:0.72768\tvalid-amex_metric:0.23154\n"
     ]
    },
    {
     "name": "stderr",
     "output_type": "stream",
     "text": [
      "5it [00:26,  5.22s/it]\n",
      "\u001b[32m[I 2023-04-29 12:54:00,737]\u001b[0m Trial 97 finished with value: 0.6609445142903452 and parameters: {'max_depth': 9, 'eta': 0.5924926220286065, 'min_child_weight': 4, 'subsample': 0.7829953324826578, 'colsample_bytree': 0.7448305645870361, 'lambda': 0.9726320818178705, 'alpha': 0.0003672016352122904}. Best is trial 51 with value: 0.6680073980131823.\u001b[0m\n",
      "0it [00:00, ?it/s]"
     ]
    },
    {
     "name": "stdout",
     "output_type": "stream",
     "text": [
      "[0]\ttrain-auc:0.72406\ttrain-amex_metric:0.22771\tvalid-auc:0.68382\tvalid-amex_metric:0.19018\n",
      "[19]\ttrain-auc:0.79114\ttrain-amex_metric:0.29291\tvalid-auc:0.73204\tvalid-amex_metric:0.23791\n"
     ]
    },
    {
     "name": "stderr",
     "output_type": "stream",
     "text": [
      "\r",
      "1it [00:05,  5.51s/it]"
     ]
    },
    {
     "name": "stdout",
     "output_type": "stream",
     "text": [
      "[0]\ttrain-auc:0.71989\ttrain-amex_metric:0.22418\tvalid-auc:0.70166\tvalid-amex_metric:0.20860\n",
      "[19]\ttrain-auc:0.79274\ttrain-amex_metric:0.29448\tvalid-auc:0.73579\tvalid-amex_metric:0.24025\n"
     ]
    },
    {
     "name": "stderr",
     "output_type": "stream",
     "text": [
      "\r",
      "2it [00:11,  5.65s/it]"
     ]
    },
    {
     "name": "stdout",
     "output_type": "stream",
     "text": [
      "[0]\ttrain-auc:0.71967\ttrain-amex_metric:0.22382\tvalid-auc:0.70473\tvalid-amex_metric:0.20630\n",
      "[20]\ttrain-auc:0.79058\ttrain-amex_metric:0.29339\tvalid-auc:0.73913\tvalid-amex_metric:0.24063\n"
     ]
    },
    {
     "name": "stderr",
     "output_type": "stream",
     "text": [
      "\r",
      "3it [00:16,  5.69s/it]"
     ]
    },
    {
     "name": "stdout",
     "output_type": "stream",
     "text": [
      "[0]\ttrain-auc:0.71978\ttrain-amex_metric:0.22419\tvalid-auc:0.70203\tvalid-amex_metric:0.20287\n",
      "[19]\ttrain-auc:0.79088\ttrain-amex_metric:0.29302\tvalid-auc:0.74648\tvalid-amex_metric:0.24963\n"
     ]
    },
    {
     "name": "stderr",
     "output_type": "stream",
     "text": [
      "\r",
      "4it [00:22,  5.68s/it]"
     ]
    },
    {
     "name": "stdout",
     "output_type": "stream",
     "text": [
      "[0]\ttrain-auc:0.72435\ttrain-amex_metric:0.22819\tvalid-auc:0.68857\tvalid-amex_metric:0.19267\n",
      "[20]\ttrain-auc:0.79529\ttrain-amex_metric:0.29729\tvalid-auc:0.73877\tvalid-amex_metric:0.24239\n"
     ]
    },
    {
     "name": "stderr",
     "output_type": "stream",
     "text": [
      "5it [00:28,  5.68s/it]\n",
      "\u001b[32m[I 2023-04-29 12:54:29,163]\u001b[0m Trial 98 finished with value: 0.6653697280962558 and parameters: {'max_depth': 10, 'eta': 0.07897775442047524, 'min_child_weight': 1, 'subsample': 0.8609476228112043, 'colsample_bytree': 0.8469740464439167, 'lambda': 0.03128498488749893, 'alpha': 0.0056713254767403205}. Best is trial 51 with value: 0.6680073980131823.\u001b[0m\n",
      "0it [00:00, ?it/s]"
     ]
    },
    {
     "name": "stdout",
     "output_type": "stream",
     "text": [
      "[0]\ttrain-auc:0.71045\ttrain-amex_metric:0.21463\tvalid-auc:0.68611\tvalid-amex_metric:0.19151\n",
      "[20]\ttrain-auc:0.76980\ttrain-amex_metric:0.27289\tvalid-auc:0.72686\tvalid-amex_metric:0.23164\n"
     ]
    },
    {
     "name": "stderr",
     "output_type": "stream",
     "text": [
      "\r",
      "1it [00:04,  4.94s/it]"
     ]
    },
    {
     "name": "stdout",
     "output_type": "stream",
     "text": [
      "[0]\ttrain-auc:0.70609\ttrain-amex_metric:0.20947\tvalid-auc:0.70847\tvalid-amex_metric:0.21501\n",
      "[19]\ttrain-auc:0.77044\ttrain-amex_metric:0.27233\tvalid-auc:0.73450\tvalid-amex_metric:0.23866\n"
     ]
    },
    {
     "name": "stderr",
     "output_type": "stream",
     "text": [
      "\r",
      "2it [00:09,  4.98s/it]"
     ]
    },
    {
     "name": "stdout",
     "output_type": "stream",
     "text": [
      "[0]\ttrain-auc:0.70656\ttrain-amex_metric:0.21135\tvalid-auc:0.70482\tvalid-amex_metric:0.20699\n",
      "[19]\ttrain-auc:0.76956\ttrain-amex_metric:0.27319\tvalid-auc:0.74279\tvalid-amex_metric:0.24322\n"
     ]
    },
    {
     "name": "stderr",
     "output_type": "stream",
     "text": [
      "\r",
      "3it [00:14,  4.99s/it]"
     ]
    },
    {
     "name": "stdout",
     "output_type": "stream",
     "text": [
      "[0]\ttrain-auc:0.70671\ttrain-amex_metric:0.21122\tvalid-auc:0.70885\tvalid-amex_metric:0.21410\n",
      "[19]\ttrain-auc:0.76686\ttrain-amex_metric:0.27025\tvalid-auc:0.74034\tvalid-amex_metric:0.24455\n"
     ]
    },
    {
     "name": "stderr",
     "output_type": "stream",
     "text": [
      "\r",
      "4it [00:19,  4.98s/it]"
     ]
    },
    {
     "name": "stdout",
     "output_type": "stream",
     "text": [
      "[0]\ttrain-auc:0.70738\ttrain-amex_metric:0.21132\tvalid-auc:0.69052\tvalid-amex_metric:0.19508\n",
      "[19]\ttrain-auc:0.76932\ttrain-amex_metric:0.27194\tvalid-auc:0.73500\tvalid-amex_metric:0.23899\n"
     ]
    },
    {
     "name": "stderr",
     "output_type": "stream",
     "text": [
      "5it [00:25,  5.01s/it]\n",
      "\u001b[32m[I 2023-04-29 12:54:54,218]\u001b[0m Trial 99 finished with value: 0.6632557083225308 and parameters: {'max_depth': 9, 'eta': 0.42997563871704597, 'min_child_weight': 8, 'subsample': 0.6769881853233153, 'colsample_bytree': 0.5919407628840639, 'lambda': 0.013573493568602175, 'alpha': 4.220027701833466e-05}. Best is trial 51 with value: 0.6680073980131823.\u001b[0m\n"
     ]
    },
    {
     "name": "stdout",
     "output_type": "stream",
     "text": [
      "Best hyperparameters:  {'max_depth': 9, 'eta': 0.43358693178027274, 'min_child_weight': 2, 'subsample': 0.7679413015348517, 'colsample_bytree': 0.7271540965536064, 'lambda': 1.3454237446466708e-08, 'alpha': 9.940534534280959}\n",
      "Best auc score:  0.6680073980131823\n"
     ]
    }
   ],
   "source": [
    "import optuna\n",
    "\n",
    "\n",
    "# Define the objective function for Optuna\n",
    "def objective(trial):\n",
    "    # Define the hyperparameters to optimize\n",
    "    params = {\n",
    "#         'objective': 'binary:logistic',\n",
    "        'eval_metric': 'auc',\n",
    "        'max_depth': trial.suggest_int('max_depth', 2, 10),\n",
    "        'eta': trial.suggest_loguniform('eta', 1e-8, 1.0),\n",
    "#         'gamma': trial.suggest_loguniform('gamma', 1e-8, 1.0),\n",
    "        'min_child_weight': trial.suggest_int('min_child_weight', 1, 10),\n",
    "        'subsample': trial.suggest_uniform('subsample', 0.1, 1.0),\n",
    "        'colsample_bytree': trial.suggest_uniform('colsample_bytree', 0.1, 1.0),\n",
    "        'lambda': trial.suggest_loguniform('lambda', 1e-8, 10.0),\n",
    "        'alpha': trial.suggest_loguniform('alpha', 1e-8, 10.0),\n",
    "        'random_state': 42,\n",
    "#         'eval_metric':['auc', amex_metric]\n",
    "    }\n",
    "    kf = KFold(n_splits=5, shuffle=True, random_state=42)\n",
    "    \n",
    "    kf_iter = 0 \n",
    "    auc_score = 0\n",
    "    for train_idx, valid_idx in tqdm(kf.split(train_val_x)):\n",
    "        kf_iter += 1\n",
    "        X_train, X_valid = train_val_x[train_idx], train_val_x[valid_idx]\n",
    "        y_train, y_valid = train_val_y[train_idx], train_val_y[valid_idx]\n",
    "        dtrain = xgb.DMatrix(data=X_train,label=y_train)\n",
    "        dval = xgb.DMatrix(data=X_valid,label=y_valid)\n",
    "\n",
    "        watch_list = [(dtrain, 'train'), (dval, 'valid')]\n",
    "\n",
    "        xgb_model = xgb.train(params=params, \n",
    "                              dtrain=dtrain, \n",
    "                              num_boost_round=100, \n",
    "                              early_stopping_rounds=20,\n",
    "                              verbose_eval=20,\n",
    "                              evals=watch_list,\n",
    "                              obj = focal_loss,\n",
    "                              feval = amex_metric\n",
    "                             )\n",
    "#         if kf_iter>=1:\n",
    "#             break\n",
    "            \n",
    "        prob_pred_xgb = xgb_model.predict(dval) # pred probability\n",
    "        y_pred_xgb = np.array([1 if x > 0.5 else 0 for x in prob_pred_xgb]) # pred value 0,1\n",
    "    \n",
    "        # Compute the AUC score\n",
    "        auc_score += roc_auc_score(y_valid, y_pred_xgb) / 5\n",
    "    \n",
    "        amex_score = amex_metric_mod(y_valid,prob_pred_xgb)\n",
    "    \n",
    "#         loss = focal_loss(prob_pred_xgb,dval)/5\n",
    "    \n",
    "    # Return the AUC score as the objective value for Optuna\n",
    "    return auc_score\n",
    "\n",
    "# Define the study for Optuna\n",
    "study = optuna.create_study(direction='maximize')\n",
    "\n",
    "# Optimize the hyperparameters with Optuna\n",
    "study.optimize(objective, n_trials=100)\n",
    "\n",
    "# Print the best hyperparameters and the corresponding AUC score\n",
    "print('Best hyperparameters: ', study.best_params)\n",
    "print('Best auc score: ', study.best_value)"
   ]
  },
  {
   "cell_type": "markdown",
   "id": "9afed104",
   "metadata": {},
   "source": [
    "### Training 5-folds"
   ]
  },
  {
   "cell_type": "code",
   "execution_count": 67,
   "id": "89614ad5",
   "metadata": {
    "ExecuteTime": {
     "end_time": "2023-04-29T14:11:38.202028Z",
     "start_time": "2023-04-29T14:11:38.195028Z"
    }
   },
   "outputs": [],
   "source": [
    "\n",
    "\n",
    "params2 = {\n",
    "          'objective': 'binary:logistic',\n",
    "          'eval_metric': 'auc',\n",
    "          'max_depth': 9, \n",
    "          'eta': 0.43358693178027274, \n",
    "          'min_child_weight': 2, \n",
    "          'subsample': 0.7679413015348517, \n",
    "          'colsample_bytree': 0.7271540965536064, \n",
    "          'lambda': 1.3454237446466708e-08, \n",
    "#           'alpha': 9.940534534280959\n",
    "            \n",
    "}\n"
   ]
  },
  {
   "cell_type": "code",
   "execution_count": 68,
   "id": "5070db00",
   "metadata": {
    "ExecuteTime": {
     "end_time": "2023-04-29T14:11:39.005530Z",
     "start_time": "2023-04-29T14:11:38.994528Z"
    }
   },
   "outputs": [],
   "source": [
    "def train_xgb_model2(params2):\n",
    "    # 5 folds\n",
    "    kf = KFold(n_splits=5, shuffle=True, random_state=42)\n",
    "#     acc_lgb, precision_lgb, recall_lgb, f1_lgb, ap_lgb, auc_lgb = [], [], [], [], [], []\n",
    "    acc_xgb, precision_xgb, recall_xgb, f1_xgb, ap_xgb, auc_xgb = [], [], [], [], [], []\n",
    "    model_list = []\n",
    "    lgbm_test_result = pd.DataFrame({'true':test_y})\n",
    "    xgb_test_result = pd.DataFrame({'true':test_y})\n",
    "    threshold = 0.5\n",
    "    kf_iter = 0\n",
    "\n",
    "    for train_idx, valid_idx in tqdm(kf.split(train_val_x)):\n",
    "        kf_iter += 1\n",
    "        X_train, X_valid = train_val_x[train_idx], train_val_x[valid_idx]\n",
    "        y_train, y_valid = train_val_y[train_idx], train_val_y[valid_idx]\n",
    "        dtrain = xgb.DMatrix(data=X_train,label=y_train)\n",
    "        dval = xgb.DMatrix(data=X_valid,label=y_valid)\n",
    "\n",
    "        watch_list = [(dtrain, 'train'), (dval, 'valid')]\n",
    "\n",
    "        xgb_model = xgb.train(params=params2, \n",
    "                              dtrain=dtrain, \n",
    "                              num_boost_round=100, \n",
    "                              early_stopping_rounds=20,\n",
    "                              verbose_eval=20,\n",
    "                              evals=watch_list,\n",
    "                              obj = focal_loss,\n",
    "                              feval = amex_metric\n",
    "                             )\n",
    "        \n",
    "        model_list.append(xgb_model)\n",
    "\n",
    "        prob_pred_xgb = xgb_model.predict(dval) # pred probability\n",
    "        y_pred_xgb = np.array([1 if x > 0.5 else 0 for x in prob_pred_xgb]) # pred value 0,1\n",
    "\n",
    "        acc_xgb.append(accuracy_score(y_valid, y_pred_xgb))\n",
    "        precision_xgb.append(precision_score(y_valid, y_pred_xgb))\n",
    "        recall_xgb.append(recall_score(y_valid, y_pred_xgb))\n",
    "        f1_xgb.append(f1_score(y_valid, y_pred_xgb))\n",
    "        ap_xgb.append(average_precision_score(y_valid, y_pred_xgb))\n",
    "        auc_xgb.append(roc_auc_score(y_valid, y_pred_xgb))\n",
    "\n",
    "\n",
    "    #     xgb_test_result[kf_iter] = xgb_model.predict(d_test)\n",
    "\n",
    "\n",
    "    print(\"XGBoost Accuracy: {:.4f}\".format(np.mean(acc_xgb)))\n",
    "    print(\"XGBoost Precision: {:.4f}\".format(np.mean(precision_xgb)))\n",
    "    print(\"XGBoost Recall: {:.4f}\".format(np.mean(recall_xgb)))\n",
    "    print(\"XGBoost F1 Score: {:.4f}\".format(np.mean(f1_xgb)))\n",
    "    print(\"XGBoost Avg Precision: {:.4f}\".format(np.mean(ap_xgb)))\n",
    "    print(\"XGBoost AUC: {:.4f}\".format(np.mean(auc_xgb)))\n",
    "    \n",
    "    return model_list"
   ]
  },
  {
   "cell_type": "code",
   "execution_count": 69,
   "id": "924f19e9",
   "metadata": {
    "ExecuteTime": {
     "end_time": "2023-04-29T14:12:03.546148Z",
     "start_time": "2023-04-29T14:11:39.948651Z"
    }
   },
   "outputs": [
    {
     "name": "stderr",
     "output_type": "stream",
     "text": [
      "\r",
      "0it [00:00, ?it/s]"
     ]
    },
    {
     "name": "stdout",
     "output_type": "stream",
     "text": [
      "[0]\ttrain-auc:0.72774\ttrain-amex_metric:0.23159\tvalid-auc:0.70548\tvalid-amex_metric:0.21421\n",
      "[20]\ttrain-auc:0.79210\ttrain-amex_metric:0.29436\tvalid-auc:0.72064\tvalid-amex_metric:0.22539\n",
      "[21]\ttrain-auc:0.79443\ttrain-amex_metric:0.29640\tvalid-auc:0.71942\tvalid-amex_metric:0.22421\n"
     ]
    },
    {
     "name": "stderr",
     "output_type": "stream",
     "text": [
      "\r",
      "1it [00:04,  4.88s/it]"
     ]
    },
    {
     "name": "stdout",
     "output_type": "stream",
     "text": [
      "[0]\ttrain-auc:0.72492\ttrain-amex_metric:0.22668\tvalid-auc:0.70212\tvalid-amex_metric:0.20930\n",
      "[20]\ttrain-auc:0.79201\ttrain-amex_metric:0.29439\tvalid-auc:0.73211\tvalid-amex_metric:0.23638\n"
     ]
    },
    {
     "name": "stderr",
     "output_type": "stream",
     "text": [
      "\r",
      "2it [00:09,  4.74s/it]"
     ]
    },
    {
     "name": "stdout",
     "output_type": "stream",
     "text": [
      "[0]\ttrain-auc:0.72406\ttrain-amex_metric:0.23126\tvalid-auc:0.70208\tvalid-amex_metric:0.20473\n",
      "[20]\ttrain-auc:0.79244\ttrain-amex_metric:0.29566\tvalid-auc:0.72856\tvalid-amex_metric:0.22968\n"
     ]
    },
    {
     "name": "stderr",
     "output_type": "stream",
     "text": [
      "\r",
      "3it [00:14,  4.68s/it]"
     ]
    },
    {
     "name": "stdout",
     "output_type": "stream",
     "text": [
      "[0]\ttrain-auc:0.72357\ttrain-amex_metric:0.22988\tvalid-auc:0.71378\tvalid-amex_metric:0.21699\n",
      "[19]\ttrain-auc:0.78534\ttrain-amex_metric:0.28806\tvalid-auc:0.74109\tvalid-amex_metric:0.24592\n"
     ]
    },
    {
     "name": "stderr",
     "output_type": "stream",
     "text": [
      "\r",
      "4it [00:18,  4.68s/it]"
     ]
    },
    {
     "name": "stdout",
     "output_type": "stream",
     "text": [
      "[0]\ttrain-auc:0.72766\ttrain-amex_metric:0.23249\tvalid-auc:0.71318\tvalid-amex_metric:0.22119\n",
      "[20]\ttrain-auc:0.79413\ttrain-amex_metric:0.29645\tvalid-auc:0.73251\tvalid-amex_metric:0.23645\n"
     ]
    },
    {
     "name": "stderr",
     "output_type": "stream",
     "text": [
      "5it [00:23,  4.72s/it]"
     ]
    },
    {
     "name": "stdout",
     "output_type": "stream",
     "text": [
      "XGBoost Accuracy: 0.7485\n",
      "XGBoost Precision: 0.9848\n",
      "XGBoost Recall: 0.7543\n",
      "XGBoost F1 Score: 0.8422\n",
      "XGBoost Avg Precision: 0.9817\n",
      "XGBoost AUC: 0.6405\n"
     ]
    },
    {
     "name": "stderr",
     "output_type": "stream",
     "text": [
      "\n"
     ]
    }
   ],
   "source": [
    "model_list2 = train_xgb_model2(params2)"
   ]
  },
  {
   "cell_type": "markdown",
   "id": "4c16d053",
   "metadata": {},
   "source": [
    "### Prediction"
   ]
  },
  {
   "cell_type": "code",
   "execution_count": 71,
   "id": "d846c9bf",
   "metadata": {
    "ExecuteTime": {
     "end_time": "2023-04-29T14:12:12.855389Z",
     "start_time": "2023-04-29T14:12:12.552650Z"
    }
   },
   "outputs": [
    {
     "name": "stdout",
     "output_type": "stream",
     "text": [
      "XGBoost Accuracy: 0.8885\n",
      "XGBoost Precision: 0.9025\n",
      "XGBoost Recall: 0.9817\n",
      "XGBoost F1 Score: 0.9404\n",
      "XGBoost avg Precision: 0.9024\n",
      "XGBoost AUC: 0.5321\n",
      "Recall rate for Negative sample:0.3423\n"
     ]
    }
   ],
   "source": [
    "xgb_test_result2 = test_xgb_model(model_list2)"
   ]
  },
  {
   "cell_type": "code",
   "execution_count": 72,
   "id": "fe673a48",
   "metadata": {
    "ExecuteTime": {
     "end_time": "2023-04-29T14:12:14.414741Z",
     "start_time": "2023-04-29T14:12:14.285023Z"
    },
    "scrolled": false
   },
   "outputs": [
    {
     "data": {
      "image/png": "[encoded data removed]",
      "text/plain": [
       "<Figure size 576x576 with 2 Axes>"
      ]
     },
     "metadata": {},
     "output_type": "display_data"
    }
   ],
   "source": [
    "plot_confusion_matrix(xgb_test_result2)"
   ]
  },
  {
   "cell_type": "markdown",
   "id": "7b739a7d",
   "metadata": {},
   "source": [
    "Compared with the model1, model2's AUC has decreased a lot but its recall rate for the 0 label has increased."
   ]
  },
  {
   "cell_type": "markdown",
   "id": "57aa235b",
   "metadata": {},
   "source": [
    "### Feature Importance"
   ]
  },
  {
   "cell_type": "code",
   "execution_count": 73,
   "id": "2ff52db4",
   "metadata": {
    "ExecuteTime": {
     "end_time": "2023-04-29T15:21:18.234257Z",
     "start_time": "2023-04-29T15:21:18.137688Z"
    }
   },
   "outputs": [
    {
     "data": {
      "text/plain": [
       "<AxesSubplot:title={'center':'Feature importance'}, xlabel='F score', ylabel='Features'>"
      ]
     },
     "execution_count": 73,
     "metadata": {},
     "output_type": "execute_result"
    },
    {
     "data": {
      "image/png": "[encoded data removed]",
      "text/plain": [
       "<Figure size 576x576 with 1 Axes>"
      ]
     },
     "metadata": {},
     "output_type": "display_data"
    }
   ],
   "source": [
    "fig, ax = plt.subplots(figsize=(8,8))\n",
    "xgb.plot_importance(model_list2[0],ax=ax)"
   ]
  },
  {
   "cell_type": "markdown",
   "id": "69ef167f",
   "metadata": {},
   "source": [
    "## Version3"
   ]
  },
  {
   "cell_type": "markdown",
   "id": "68c88d0c",
   "metadata": {},
   "source": [
    "We try to use deep learning model to predict"
   ]
  },
  {
   "cell_type": "code",
   "execution_count": 1,
   "id": "8db01914",
   "metadata": {},
   "outputs": [
    {
     "name": "stderr",
     "output_type": "stream",
     "text": [
      "/home/szxie/anaconda3/envs/nerftorch/lib/python3.8/site-packages/tqdm/auto.py:21: TqdmWarning: IProgress not found. Please update jupyter and ipywidgets. See https://ipywidgets.readthedocs.io/en/stable/user_install.html\n",
      "  from .autonotebook import tqdm as notebook_tqdm\n"
     ]
    }
   ],
   "source": [
    "import numpy as np\n",
    "import pandas as pd\n",
    "import matplotlib.pyplot as plt\n",
    "import seaborn as sns\n",
    "from sklearn.metrics import accuracy_score, precision_score, recall_score, f1_score, average_precision_score, roc_auc_score\n",
    "from sklearn.model_selection import KFold, train_test_split\n",
    "from imblearn.over_sampling import RandomOverSampler\n",
    "import lightgbm as lgb\n",
    "import xgboost as xgb\n",
    "from collections import Counter\n",
    "from sklearn.metrics import confusion_matrix\n",
    "import warnings \n",
    "import torch\n",
    "import torch.nn as nn\n",
    "\n",
    "from pytorch_widedeep import Trainer\n",
    "from pytorch_widedeep.preprocessing import WidePreprocessor, TabPreprocessor\n",
    "from pytorch_widedeep.dataloaders import DataLoaderImbalanced, DataLoaderDefault\n",
    "from pytorch_widedeep.models import Wide, TabMlp, WideDeep\n",
    "from pytorch_widedeep.metrics import Accuracy, F1Score, Precision, Recall\n",
    "from pytorch_widedeep.datasets import load_adult\n",
    "from sklearn.preprocessing import StandardScaler\n",
    "import torch.nn.functional as F\n",
    "\n",
    "\n",
    "warnings.filterwarnings('ignore')\n"
   ]
  },
  {
   "cell_type": "code",
   "execution_count": 2,
   "id": "e7f36e93",
   "metadata": {},
   "outputs": [],
   "source": [
    "def load_data():\n",
    "    df_train = pd.read_csv(f'./data/training.csv',index_col='id')\n",
    "    df_test = pd.read_csv(f'./data/test.csv',index_col='id')\n",
    "\n",
    "    return df_train, df_test"
   ]
  },
  {
   "cell_type": "markdown",
   "id": "9e790132",
   "metadata": {},
   "source": [
    "For neural network, we need to fill NA and standardized"
   ]
  },
  {
   "cell_type": "markdown",
   "id": "8dd8899b",
   "metadata": {},
   "source": [
    "### Fill NA and standardization"
   ]
  },
  {
   "cell_type": "code",
   "execution_count": 3,
   "id": "e972b915",
   "metadata": {},
   "outputs": [
    {
     "name": "stdout",
     "output_type": "stream",
     "text": [
      "var1\n",
      "-120.0\n",
      "121.0\n",
      "105800 133036 76\n",
      "var2\n",
      "-2817427941.438\n",
      "2817427941.438\n",
      "121800 117036 93826\n",
      "var3\n",
      "-10175.48156420513\n",
      "10175.48156420513\n",
      "192199 46637 46116\n",
      "var4\n",
      "-12.0\n",
      "13.0\n",
      "160649 78187 14\n",
      "var5\n",
      "-334283.5571428572\n",
      "334283.5571428572\n",
      "230549 8287 8176\n",
      "var6\n",
      "-167427.56397849464\n",
      "164300.40000000002\n",
      "232897 5939 5926\n",
      "var7\n",
      "-22.0\n",
      "24.0\n",
      "211294 27542 24\n",
      "var8\n",
      "-94.25000000000001\n",
      "118.66666666666669\n",
      "137689 101147 5720\n",
      "var1\n",
      "-110.0\n",
      "111.0\n",
      "26290 33419 62\n",
      "var2\n",
      "-1590072360.074\n",
      "1590072360.074\n",
      "30310 29399 26616\n",
      "var3\n",
      "-8615.982449561667\n",
      "8615.982449561667\n",
      "48178 11531 11406\n",
      "var4\n",
      "-12.0\n",
      "13.0\n",
      "40351 19358 14\n",
      "var5\n",
      "-116654.45\n",
      "116654.45\n",
      "57604 2105 2085\n",
      "var6\n",
      "-19876.064142671574\n",
      "19484.277852348994\n",
      "58187 1522 1523\n",
      "var7\n",
      "-22.0\n",
      "24.0\n",
      "52886 6823 24\n",
      "var8\n",
      "-82.91666666666669\n",
      "107.41666666666669\n",
      "34458 25251 3240\n"
     ]
    }
   ],
   "source": [
    "df_train_val, df_test = load_data()\n",
    "features =[ 'var1', 'var2', 'var3', 'var4', 'var5', 'var6', 'var7', 'var8']\n",
    "label = 'event'\n",
    "\n",
    "scaler = StandardScaler()\n",
    "\n",
    "for ds in [df_train_val, df_test]:\n",
    "    tmp = ds.isna().sum()\n",
    "    for fe in features:\n",
    "        print(fe)\n",
    "        set_values = ds[fe].unique()\n",
    "        na_value = ds[fe].min() - ds[fe].max() # out of distribution value\n",
    "        ds[fe].fillna(value=na_value, inplace=True)\n",
    "        # df_train_val.iloc[fe][0:-1] = scaler.fit_transform(df_train_val[fe][0:-1].to_numpy())\n",
    "        print(ds[fe].min())\n",
    "        print(ds[fe].max())\n",
    "        print(tmp[fe], len(ds[fe]) - tmp[fe], len(set_values))\n",
    "\n",
    "\n",
    "# \n",
    "# df_train_val.iloc[:,0:-1] = scaler.fit_transform(df_train_val.iloc[:,0:-1].to_numpy())\n",
    "# df_test.iloc[:,0:-1] = scaler.fit_transform(df_test.iloc[:,0:-1].to_numpy())"
   ]
  },
  {
   "cell_type": "code",
   "execution_count": 4,
   "id": "07e9e0ce",
   "metadata": {},
   "outputs": [
    {
     "data": {
      "text/html": [
       "<div>\n",
       "<style scoped>\n",
       "    .dataframe tbody tr th:only-of-type {\n",
       "        vertical-align: middle;\n",
       "    }\n",
       "\n",
       "    .dataframe tbody tr th {\n",
       "        vertical-align: top;\n",
       "    }\n",
       "\n",
       "    .dataframe thead th {\n",
       "        text-align: right;\n",
       "    }\n",
       "</style>\n",
       "<table border=\"1\" class=\"dataframe\">\n",
       "  <thead>\n",
       "    <tr style=\"text-align: right;\">\n",
       "      <th></th>\n",
       "      <th>event</th>\n",
       "      <th>var1</th>\n",
       "      <th>var2</th>\n",
       "      <th>var3</th>\n",
       "      <th>var4</th>\n",
       "      <th>var5</th>\n",
       "      <th>var6</th>\n",
       "      <th>var7</th>\n",
       "      <th>var8</th>\n",
       "      <th>split</th>\n",
       "    </tr>\n",
       "    <tr>\n",
       "      <th>id</th>\n",
       "      <th></th>\n",
       "      <th></th>\n",
       "      <th></th>\n",
       "      <th></th>\n",
       "      <th></th>\n",
       "      <th></th>\n",
       "      <th></th>\n",
       "      <th></th>\n",
       "      <th></th>\n",
       "      <th></th>\n",
       "    </tr>\n",
       "  </thead>\n",
       "  <tbody>\n",
       "    <tr>\n",
       "      <th>0</th>\n",
       "      <td>1</td>\n",
       "      <td>-120.0</td>\n",
       "      <td>-2.817428e+09</td>\n",
       "      <td>-10175.481564</td>\n",
       "      <td>-12.0</td>\n",
       "      <td>-334283.557143</td>\n",
       "      <td>-167427.563978</td>\n",
       "      <td>-22.0</td>\n",
       "      <td>-94.25</td>\n",
       "      <td>dev</td>\n",
       "    </tr>\n",
       "    <tr>\n",
       "      <th>1</th>\n",
       "      <td>1</td>\n",
       "      <td>-120.0</td>\n",
       "      <td>-2.817428e+09</td>\n",
       "      <td>-10175.481564</td>\n",
       "      <td>-12.0</td>\n",
       "      <td>-334283.557143</td>\n",
       "      <td>-167427.563978</td>\n",
       "      <td>-22.0</td>\n",
       "      <td>-94.25</td>\n",
       "      <td>dev</td>\n",
       "    </tr>\n",
       "    <tr>\n",
       "      <th>2</th>\n",
       "      <td>1</td>\n",
       "      <td>-120.0</td>\n",
       "      <td>-2.817428e+09</td>\n",
       "      <td>-10175.481564</td>\n",
       "      <td>-12.0</td>\n",
       "      <td>-334283.557143</td>\n",
       "      <td>-167427.563978</td>\n",
       "      <td>-22.0</td>\n",
       "      <td>-94.25</td>\n",
       "      <td>dev</td>\n",
       "    </tr>\n",
       "    <tr>\n",
       "      <th>3</th>\n",
       "      <td>1</td>\n",
       "      <td>1.0</td>\n",
       "      <td>2.096510e+07</td>\n",
       "      <td>-10175.481564</td>\n",
       "      <td>-12.0</td>\n",
       "      <td>-334283.557143</td>\n",
       "      <td>-167427.563978</td>\n",
       "      <td>-22.0</td>\n",
       "      <td>62.75</td>\n",
       "      <td>dev</td>\n",
       "    </tr>\n",
       "    <tr>\n",
       "      <th>4</th>\n",
       "      <td>1</td>\n",
       "      <td>-120.0</td>\n",
       "      <td>-2.817428e+09</td>\n",
       "      <td>-10175.481564</td>\n",
       "      <td>-12.0</td>\n",
       "      <td>-334283.557143</td>\n",
       "      <td>-167427.563978</td>\n",
       "      <td>-22.0</td>\n",
       "      <td>-94.25</td>\n",
       "      <td>dev</td>\n",
       "    </tr>\n",
       "  </tbody>\n",
       "</table>\n",
       "</div>"
      ],
      "text/plain": [
       "    event   var1          var2          var3  var4           var5   \n",
       "id                                                                  \n",
       "0       1 -120.0 -2.817428e+09 -10175.481564 -12.0 -334283.557143  \\\n",
       "1       1 -120.0 -2.817428e+09 -10175.481564 -12.0 -334283.557143   \n",
       "2       1 -120.0 -2.817428e+09 -10175.481564 -12.0 -334283.557143   \n",
       "3       1    1.0  2.096510e+07 -10175.481564 -12.0 -334283.557143   \n",
       "4       1 -120.0 -2.817428e+09 -10175.481564 -12.0 -334283.557143   \n",
       "\n",
       "             var6  var7   var8 split  \n",
       "id                                    \n",
       "0  -167427.563978 -22.0 -94.25   dev  \n",
       "1  -167427.563978 -22.0 -94.25   dev  \n",
       "2  -167427.563978 -22.0 -94.25   dev  \n",
       "3  -167427.563978 -22.0  62.75   dev  \n",
       "4  -167427.563978 -22.0 -94.25   dev  "
      ]
     },
     "execution_count": 4,
     "metadata": {},
     "output_type": "execute_result"
    }
   ],
   "source": [
    "\n",
    "df_train_val.head()"
   ]
  },
  {
   "cell_type": "markdown",
   "id": "13a64652",
   "metadata": {},
   "source": [
    "**cat embed:**\n",
    "var1, var4, var7\n",
    "\n",
    "**continual:**\n",
    "var2, var3, var5, var6, var8"
   ]
  },
  {
   "cell_type": "markdown",
   "id": "3cbef7f9",
   "metadata": {},
   "source": [
    "### Loss Function"
   ]
  },
  {
   "cell_type": "markdown",
   "id": "8748ad07",
   "metadata": {
    "ExecuteTime": {
     "end_time": "2023-04-29T15:26:10.677976Z",
     "start_time": "2023-04-29T15:26:10.659062Z"
    }
   },
   "source": [
    "Use this loss function to adjust imbalanced sample weight"
   ]
  },
  {
   "cell_type": "code",
   "execution_count": 76,
   "id": "55a9962e",
   "metadata": {
    "ExecuteTime": {
     "end_time": "2023-04-29T15:26:19.249379Z",
     "start_time": "2023-04-29T15:26:18.447567Z"
    }
   },
   "outputs": [
    {
     "ename": "NameError",
     "evalue": "name 'nn' is not defined",
     "output_type": "error",
     "traceback": [
      "\u001b[1;31m---------------------------------------------------------------------------\u001b[0m",
      "\u001b[1;31mNameError\u001b[0m                                 Traceback (most recent call last)",
      "\u001b[1;32m~\\AppData\\Local\\Temp\\ipykernel_18272\\1858934859.py\u001b[0m in \u001b[0;36m<module>\u001b[1;34m\u001b[0m\n\u001b[0;32m      1\u001b[0m \u001b[1;32mfrom\u001b[0m \u001b[0mtorch\u001b[0m \u001b[1;32mimport\u001b[0m \u001b[0mTensor\u001b[0m\u001b[1;33m\u001b[0m\u001b[1;33m\u001b[0m\u001b[0m\n\u001b[0;32m      2\u001b[0m \u001b[1;33m\u001b[0m\u001b[0m\n\u001b[1;32m----> 3\u001b[1;33m \u001b[1;32mclass\u001b[0m \u001b[0mCustomBCELoss\u001b[0m\u001b[1;33m(\u001b[0m\u001b[0mnn\u001b[0m\u001b[1;33m.\u001b[0m\u001b[0mModule\u001b[0m\u001b[1;33m)\u001b[0m\u001b[1;33m:\u001b[0m\u001b[1;33m\u001b[0m\u001b[1;33m\u001b[0m\u001b[0m\n\u001b[0m\u001b[0;32m      4\u001b[0m     \u001b[1;32mdef\u001b[0m \u001b[0m__init__\u001b[0m\u001b[1;33m(\u001b[0m\u001b[0mself\u001b[0m\u001b[1;33m,\u001b[0m \u001b[0mclass_weight\u001b[0m\u001b[1;33m=\u001b[0m\u001b[1;36m0.97\u001b[0m\u001b[1;33m)\u001b[0m \u001b[1;33m->\u001b[0m \u001b[1;32mNone\u001b[0m\u001b[1;33m:\u001b[0m\u001b[1;33m\u001b[0m\u001b[1;33m\u001b[0m\u001b[0m\n\u001b[0;32m      5\u001b[0m         \u001b[0msuper\u001b[0m\u001b[1;33m(\u001b[0m\u001b[1;33m)\u001b[0m\u001b[1;33m.\u001b[0m\u001b[0m__init__\u001b[0m\u001b[1;33m(\u001b[0m\u001b[1;33m)\u001b[0m\u001b[1;33m\u001b[0m\u001b[1;33m\u001b[0m\u001b[0m\n",
      "\u001b[1;31mNameError\u001b[0m: name 'nn' is not defined"
     ]
    }
   ],
   "source": [
    "from torch import Tensor\n",
    "\n",
    "class CustomBCELoss(nn.Module):\n",
    "    def __init__(self, class_weight=0.97) -> None:\n",
    "        super().__init__()\n",
    "        self.class_weight = class_weight\n",
    "\n",
    "    def forward(self, input: Tensor, target: Tensor) -> Tensor:\n",
    "\n",
    "        input = torch.sigmoid(input)\n",
    "        loss = (1-self.class_weight) * target * torch.log(input) + self.class_weight * (1 - target) * torch.log(1 - input)\n",
    "\n",
    "        return torch.neg(torch.mean(loss))\n"
   ]
  },
  {
   "cell_type": "markdown",
   "id": "dcf7bed4",
   "metadata": {},
   "source": [
    "### Neural Netwrok and model training"
   ]
  },
  {
   "cell_type": "code",
   "execution_count": 6,
   "id": "8a527ad7",
   "metadata": {},
   "outputs": [],
   "source": [
    "def stats(gts, preds):\n",
    "    for fn in [accuracy_score, precision_score, recall_score, f1_score, average_precision_score, roc_auc_score]:\n",
    "        print(fn.__name__, fn(gts, preds))\n",
    "    cm = confusion_matrix(gts, preds)\n",
    "\n",
    "    per_cls_acc = cm.astype(\n",
    "            'float') / (cm.sum(axis=1)[:, np.newaxis] + 1e-7)\n",
    "\n",
    "    # 可视化混淆矩阵\n",
    "    fig = plt.figure(figsize=(4, 4))\n",
    "    sns.heatmap(per_cls_acc, annot=True, cmap='Blues')\n",
    "    plt.xlabel('Predicted Label')\n",
    "    plt.ylabel('True Label')\n",
    "    plt.show()"
   ]
  },
  {
   "cell_type": "code",
   "execution_count": 7,
   "id": "3e4c6c74",
   "metadata": {},
   "outputs": [],
   "source": [
    "wide_cols = [\n",
    "    \"var1\",\n",
    "    \"var2\",\n",
    "    \"var8\",\n",
    "    \"var4\"\n",
    "]\n",
    "crossed_cols = [(\"var2\", \"var8\"), (\"var1\", \"var4\")]\n",
    "\n",
    "cat_embed_cols = [\n",
    "    \"var1\",\n",
    "    \"var4\",\n",
    "]\n",
    "continuous_cols = [\"var2\", \"var3\", \"var8\"]\n",
    "\n",
    "target = \"event\"\n",
    "target = df_train_val[target].values\n",
    "\n",
    "# prepare the data\n",
    "wide_preprocessor = WidePreprocessor(wide_cols=wide_cols, crossed_cols=crossed_cols)\n",
    "X_wide = wide_preprocessor.fit_transform(df_train_val)\n",
    "\n",
    "tab_preprocessor = TabPreprocessor(\n",
    "    cat_embed_cols=cat_embed_cols, continuous_cols=continuous_cols  # type: ignore[arg-type]\n",
    ")\n",
    "X_tab = tab_preprocessor.fit_transform(df_train_val)\n",
    "\n",
    "# build the model\n",
    "wide = Wide(input_dim=np.unique(X_wide).shape[0], pred_dim=1)\n",
    "tab_mlp = TabMlp(\n",
    "    column_idx=tab_preprocessor.column_idx,\n",
    "    cat_embed_input=tab_preprocessor.cat_embed_input,\n",
    "    continuous_cols=continuous_cols,\n",
    "    mlp_hidden_dims=[100],\n",
    "    mlp_dropout=0.5,\n",
    "    mlp_activation=\"leaky_relu\",\n",
    ")\n",
    "model = WideDeep(wide=wide, deeptabular=tab_mlp)"
   ]
  },
  {
   "cell_type": "code",
   "execution_count": 17,
   "id": "ed072ca5",
   "metadata": {},
   "outputs": [
    {
     "name": "stderr",
     "output_type": "stream",
     "text": [
      "epoch 1: 100%|██████████| 747/747 [00:14<00:00, 49.97it/s, loss=0.0379, metrics={'acc': 0.6265, 'f1': 0.7665, 'prec': 0.981, 'rec': 0.629}]  \n",
      "valid: 100%|██████████| 187/187 [00:06<00:00, 28.71it/s, loss=0.0369, metrics={'acc': 0.434, 'f1': 0.5943, 'prec': 0.9863, 'rec': 0.4253}]  \n",
      "epoch 2: 100%|██████████| 747/747 [00:14<00:00, 49.90it/s, loss=0.0346, metrics={'acc': 0.6782, 'f1': 0.8051, 'prec': 0.9827, 'rec': 0.6819}] \n",
      "valid: 100%|██████████| 187/187 [00:05<00:00, 33.72it/s, loss=0.0355, metrics={'acc': 0.4833, 'f1': 0.6426, 'prec': 0.9865, 'rec': 0.4764}] \n",
      "epoch 3: 100%|██████████| 747/747 [00:14<00:00, 50.15it/s, loss=0.0329, metrics={'acc': 0.7055, 'f1': 0.8245, 'prec': 0.9837, 'rec': 0.7097}] \n",
      "valid: 100%|██████████| 187/187 [00:06<00:00, 26.92it/s, loss=0.0352, metrics={'acc': 0.4925, 'f1': 0.651, 'prec': 0.9875, 'rec': 0.4855}] \n",
      "epoch 4: 100%|██████████| 747/747 [00:14<00:00, 50.66it/s, loss=0.0316, metrics={'acc': 0.7222, 'f1': 0.8359, 'prec': 0.9848, 'rec': 0.7261}]\n",
      "valid: 100%|██████████| 187/187 [00:05<00:00, 33.07it/s, loss=0.035, metrics={'acc': 0.511, 'f1': 0.6681, 'prec': 0.9872, 'rec': 0.5049}]  \n",
      "epoch 5: 100%|██████████| 747/747 [00:14<00:00, 51.26it/s, loss=0.0305, metrics={'acc': 0.7351, 'f1': 0.8447, 'prec': 0.9856, 'rec': 0.7391}]\n",
      "valid: 100%|██████████| 187/187 [00:05<00:00, 33.56it/s, loss=0.035, metrics={'acc': 0.5103, 'f1': 0.6674, 'prec': 0.9872, 'rec': 0.5041}]  \n",
      "epoch 6: 100%|██████████| 747/747 [00:15<00:00, 48.69it/s, loss=0.0295, metrics={'acc': 0.7442, 'f1': 0.8507, 'prec': 0.9863, 'rec': 0.7479}]\n",
      "valid: 100%|██████████| 187/187 [00:05<00:00, 33.58it/s, loss=0.035, metrics={'acc': 0.5111, 'f1': 0.6682, 'prec': 0.9871, 'rec': 0.505}]   \n",
      "epoch 7: 100%|██████████| 747/747 [00:15<00:00, 47.93it/s, loss=0.0286, metrics={'acc': 0.7494, 'f1': 0.8542, 'prec': 0.9868, 'rec': 0.753}] \n",
      "valid: 100%|██████████| 187/187 [00:06<00:00, 27.89it/s, loss=0.0351, metrics={'acc': 0.5136, 'f1': 0.6705, 'prec': 0.9869, 'rec': 0.5077}]\n",
      "epoch 8: 100%|██████████| 747/747 [00:14<00:00, 51.27it/s, loss=0.0279, metrics={'acc': 0.7583, 'f1': 0.8601, 'prec': 0.9872, 'rec': 0.762}] \n",
      "valid: 100%|██████████| 187/187 [00:06<00:00, 27.48it/s, loss=0.0352, metrics={'acc': 0.8537, 'f1': 0.9204, 'prec': 0.9802, 'rec': 0.8674}]\n",
      "epoch 9: 100%|██████████| 747/747 [00:16<00:00, 45.45it/s, loss=0.0272, metrics={'acc': 0.7695, 'f1': 0.8673, 'prec': 0.9878, 'rec': 0.7731}]\n",
      "valid: 100%|██████████| 187/187 [00:07<00:00, 25.66it/s, loss=0.0353, metrics={'acc': 0.8527, 'f1': 0.9198, 'prec': 0.9801, 'rec': 0.8665}]\n",
      "epoch 10: 100%|██████████| 747/747 [00:16<00:00, 45.79it/s, loss=0.0266, metrics={'acc': 0.7764, 'f1': 0.8718, 'prec': 0.9881, 'rec': 0.78}]   \n",
      "valid: 100%|██████████| 187/187 [00:06<00:00, 30.09it/s, loss=0.0354, metrics={'acc': 0.8547, 'f1': 0.921, 'prec': 0.9801, 'rec': 0.8686}]  \n",
      "epoch 11: 100%|██████████| 747/747 [00:15<00:00, 48.38it/s, loss=0.026, metrics={'acc': 0.7804, 'f1': 0.8743, 'prec': 0.9886, 'rec': 0.7837}]  \n",
      "valid: 100%|██████████| 187/187 [00:06<00:00, 28.21it/s, loss=0.0355, metrics={'acc': 0.8555, 'f1': 0.9215, 'prec': 0.9801, 'rec': 0.8694}] \n",
      "epoch 12: 100%|██████████| 747/747 [00:16<00:00, 46.00it/s, loss=0.0255, metrics={'acc': 0.7809, 'f1': 0.8746, 'prec': 0.9891, 'rec': 0.7839}]\n",
      "valid: 100%|██████████| 187/187 [00:06<00:00, 29.07it/s, loss=0.0357, metrics={'acc': 0.8551, 'f1': 0.9212, 'prec': 0.9799, 'rec': 0.8692}]\n",
      "epoch 13: 100%|██████████| 747/747 [00:17<00:00, 43.89it/s, loss=0.025, metrics={'acc': 0.7943, 'f1': 0.8832, 'prec': 0.9892, 'rec': 0.7977}] \n",
      "valid: 100%|██████████| 187/187 [00:06<00:00, 29.37it/s, loss=0.0359, metrics={'acc': 0.5134, 'f1': 0.6705, 'prec': 0.9864, 'rec': 0.5078}] \n",
      "epoch 14: 100%|██████████| 747/747 [00:16<00:00, 46.12it/s, loss=0.0246, metrics={'acc': 0.7795, 'f1': 0.8736, 'prec': 0.99, 'rec': 0.7817}]  \n",
      "valid: 100%|██████████| 187/187 [00:06<00:00, 28.22it/s, loss=0.0361, metrics={'acc': 0.8539, 'f1': 0.9205, 'prec': 0.9799, 'rec': 0.868}]  \n",
      "epoch 15: 100%|██████████| 747/747 [00:16<00:00, 44.96it/s, loss=0.0242, metrics={'acc': 0.7843, 'f1': 0.8767, 'prec': 0.9903, 'rec': 0.7865}]\n",
      "valid: 100%|██████████| 187/187 [00:06<00:00, 27.73it/s, loss=0.0363, metrics={'acc': 0.8557, 'f1': 0.9216, 'prec': 0.9798, 'rec': 0.87}]   \n",
      "predict: 100%|██████████| 234/234 [00:05<00:00, 44.17it/s] \n"
     ]
    },
    {
     "name": "stdout",
     "output_type": "stream",
     "text": [
      "0 class weights: {ratio}\n",
      "accuracy_score 0.5639685809509454\n",
      "precision_score 0.9839102583380951\n",
      "recall_score 0.5619760890476845\n",
      "f1_score 0.7153618244831469\n",
      "average_precision_score 0.9800053347392947\n",
      "roc_auc_score 0.6018185870556573\n"
     ]
    },
    {
     "data": {
      "image/png": "[encoded data removed]",
      "text/plain": [
       "<Figure size 400x400 with 2 Axes>"
      ]
     },
     "metadata": {},
     "output_type": "display_data"
    }
   ],
   "source": [
    "# train and validate\n",
    "ratio = 0.97 # 0 class weights 0.97, 1 class weights 0.03\n",
    "trainer = Trainer(\n",
    "    model, \n",
    "    objective=\"binary\", \n",
    "    # custom_loss_function=weighted_binary_cross_entropy,\n",
    "    custom_loss_function=CustomBCELoss(ratio),\n",
    "    optimizers=torch.optim.AdamW(model.parameters(), lr=0.002),\n",
    "    custom_dataloader=DataLoaderImbalanced,\n",
    "    metrics=[Accuracy, F1Score, Precision, Recall]\n",
    ")\n",
    "\n",
    "# binary lr=0.05\n",
    "\n",
    "trainer.fit(\n",
    "    X_wide=X_wide,\n",
    "    X_tab=X_tab,\n",
    "    target=target,\n",
    "    n_epochs=15,\n",
    "    batch_size=256,\n",
    "    val_split=0.2\n",
    ")\n",
    "\n",
    "# predict on test\n",
    "X_wide_te = wide_preprocessor.transform(df_test)\n",
    "X_tab_te = tab_preprocessor.transform(df_test)\n",
    "gts = df_test[label].values\n",
    "\n",
    "preds = trainer.predict(X_wide=X_wide_te, X_tab=X_tab_te)\n",
    "\n",
    "print('0 class weights: {ratio}')\n",
    "stats(gts, preds)\n",
    "\n",
    "torch.save(model.state_dict(), f\"model_weights/wd_custom{ratio}_model.pt\")"
   ]
  },
  {
   "cell_type": "markdown",
   "id": "a2731b21",
   "metadata": {},
   "source": [
    "Model3 has balance AUC and 0 label recall rate, which may have better performance"
   ]
  },
  {
   "cell_type": "code",
   "execution_count": null,
   "id": "096a25ec",
   "metadata": {},
   "outputs": [],
   "source": []
  }
 ],
 "metadata": {
  "hide_input": false,
  "kernelspec": {
   "display_name": "Python 3",
   "language": "python",
   "name": "python3"
  },
  "language_info": {
   "codemirror_mode": {
    "name": "ipython",
    "version": 3
   },
   "file_extension": ".py",
   "mimetype": "text/x-python",
   "name": "python",
   "nbconvert_exporter": "python",
   "pygments_lexer": "ipython3",
   "version": "3.8.8"
  },
  "toc": {
   "base_numbering": 1,
   "nav_menu": {},
   "number_sections": true,
   "sideBar": true,
   "skip_h1_title": false,
   "title_cell": "Table of Contents",
   "title_sidebar": "Contents",
   "toc_cell": false,
   "toc_position": {
    "height": "calc(100% - 180px)",
    "left": "10px",
    "top": "150px",
    "width": "222.406px"
   },
   "toc_section_display": true,
   "toc_window_display": true
  },
  "varInspector": {
   "cols": {
    "lenName": 16,
    "lenType": 16,
    "lenVar": 40
   },
   "kernels_config": {
    "python": {
     "delete_cmd_postfix": "",
     "delete_cmd_prefix": "del ",
     "library": "var_list.py",
     "varRefreshCmd": "print(var_dic_list())"
    },
    "r": {
     "delete_cmd_postfix": ") ",
     "delete_cmd_prefix": "rm(",
     "library": "var_list.r",
     "varRefreshCmd": "cat(var_dic_list()) "
    }
   },
   "types_to_exclude": [
    "module",
    "function",
    "builtin_function_or_method",
    "instance",
    "_Feature"
   ],
   "window_display": false
  }
 },
 "nbformat": 4,
 "nbformat_minor": 5
}
